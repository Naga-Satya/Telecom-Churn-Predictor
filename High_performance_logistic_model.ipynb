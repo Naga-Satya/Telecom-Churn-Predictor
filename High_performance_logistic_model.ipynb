{
 "cells": [
  {
   "cell_type": "code",
   "execution_count": 1,
   "metadata": {},
   "outputs": [],
   "source": [
    "import pandas as pd, numpy as np\n",
    "import matplotlib.pyplot as plt, seaborn as sns"
   ]
  },
  {
   "cell_type": "code",
   "execution_count": 2,
   "metadata": {},
   "outputs": [],
   "source": [
    "from sklearn.decomposition import PCA\n",
    "from sklearn.model_selection import train_test_split\n",
    "import statsmodels.api as sm\n",
    "from sklearn.preprocessing import StandardScaler"
   ]
  },
  {
   "cell_type": "code",
   "execution_count": 3,
   "metadata": {},
   "outputs": [
    {
     "data": {
      "text/html": [
       "<div>\n",
       "<style scoped>\n",
       "    .dataframe tbody tr th:only-of-type {\n",
       "        vertical-align: middle;\n",
       "    }\n",
       "\n",
       "    .dataframe tbody tr th {\n",
       "        vertical-align: top;\n",
       "    }\n",
       "\n",
       "    .dataframe thead th {\n",
       "        text-align: right;\n",
       "    }\n",
       "</style>\n",
       "<table border=\"1\" class=\"dataframe\">\n",
       "  <thead>\n",
       "    <tr style=\"text-align: right;\">\n",
       "      <th></th>\n",
       "      <th>loc_og_t2o_mou</th>\n",
       "      <th>std_og_t2o_mou</th>\n",
       "      <th>loc_ic_t2o_mou</th>\n",
       "      <th>arpu_6</th>\n",
       "      <th>arpu_7</th>\n",
       "      <th>arpu_8</th>\n",
       "      <th>onnet_mou_6</th>\n",
       "      <th>onnet_mou_7</th>\n",
       "      <th>onnet_mou_8</th>\n",
       "      <th>offnet_mou_6</th>\n",
       "      <th>...</th>\n",
       "      <th>fb_user_7</th>\n",
       "      <th>fb_user_8</th>\n",
       "      <th>aon</th>\n",
       "      <th>aug_vbc_3g</th>\n",
       "      <th>jul_vbc_3g</th>\n",
       "      <th>jun_vbc_3g</th>\n",
       "      <th>tot_monthly_recharge_6</th>\n",
       "      <th>tot_monthly_recharge_7</th>\n",
       "      <th>average_recharge_6_7</th>\n",
       "      <th>churn</th>\n",
       "    </tr>\n",
       "  </thead>\n",
       "  <tbody>\n",
       "    <tr>\n",
       "      <th>0</th>\n",
       "      <td>0.0</td>\n",
       "      <td>0.0</td>\n",
       "      <td>0.0</td>\n",
       "      <td>1069.180</td>\n",
       "      <td>1349.850</td>\n",
       "      <td>1519.213488</td>\n",
       "      <td>57.84</td>\n",
       "      <td>54.68</td>\n",
       "      <td>52.29</td>\n",
       "      <td>453.43</td>\n",
       "      <td>...</td>\n",
       "      <td>-1.0</td>\n",
       "      <td>-1.0</td>\n",
       "      <td>802.0</td>\n",
       "      <td>57.74</td>\n",
       "      <td>19.38</td>\n",
       "      <td>18.74</td>\n",
       "      <td>1580.0</td>\n",
       "      <td>790.0</td>\n",
       "      <td>1185.0</td>\n",
       "      <td>1</td>\n",
       "    </tr>\n",
       "    <tr>\n",
       "      <th>1</th>\n",
       "      <td>0.0</td>\n",
       "      <td>0.0</td>\n",
       "      <td>0.0</td>\n",
       "      <td>378.721</td>\n",
       "      <td>492.223</td>\n",
       "      <td>137.362000</td>\n",
       "      <td>413.69</td>\n",
       "      <td>351.03</td>\n",
       "      <td>35.08</td>\n",
       "      <td>94.66</td>\n",
       "      <td>...</td>\n",
       "      <td>1.0</td>\n",
       "      <td>1.0</td>\n",
       "      <td>315.0</td>\n",
       "      <td>21.03</td>\n",
       "      <td>910.65</td>\n",
       "      <td>122.16</td>\n",
       "      <td>437.0</td>\n",
       "      <td>603.0</td>\n",
       "      <td>520.0</td>\n",
       "      <td>0</td>\n",
       "    </tr>\n",
       "    <tr>\n",
       "      <th>2</th>\n",
       "      <td>0.0</td>\n",
       "      <td>0.0</td>\n",
       "      <td>0.0</td>\n",
       "      <td>492.846</td>\n",
       "      <td>205.671</td>\n",
       "      <td>593.260000</td>\n",
       "      <td>501.76</td>\n",
       "      <td>108.39</td>\n",
       "      <td>534.24</td>\n",
       "      <td>413.31</td>\n",
       "      <td>...</td>\n",
       "      <td>-1.0</td>\n",
       "      <td>1.0</td>\n",
       "      <td>2607.0</td>\n",
       "      <td>0.00</td>\n",
       "      <td>0.00</td>\n",
       "      <td>0.00</td>\n",
       "      <td>507.0</td>\n",
       "      <td>253.0</td>\n",
       "      <td>380.0</td>\n",
       "      <td>0</td>\n",
       "    </tr>\n",
       "    <tr>\n",
       "      <th>3</th>\n",
       "      <td>0.0</td>\n",
       "      <td>0.0</td>\n",
       "      <td>0.0</td>\n",
       "      <td>430.975</td>\n",
       "      <td>299.869</td>\n",
       "      <td>187.894000</td>\n",
       "      <td>50.51</td>\n",
       "      <td>74.01</td>\n",
       "      <td>70.61</td>\n",
       "      <td>296.29</td>\n",
       "      <td>...</td>\n",
       "      <td>-1.0</td>\n",
       "      <td>-1.0</td>\n",
       "      <td>511.0</td>\n",
       "      <td>0.00</td>\n",
       "      <td>2.45</td>\n",
       "      <td>21.89</td>\n",
       "      <td>570.0</td>\n",
       "      <td>348.0</td>\n",
       "      <td>459.0</td>\n",
       "      <td>0</td>\n",
       "    </tr>\n",
       "    <tr>\n",
       "      <th>4</th>\n",
       "      <td>0.0</td>\n",
       "      <td>0.0</td>\n",
       "      <td>0.0</td>\n",
       "      <td>690.008</td>\n",
       "      <td>18.980</td>\n",
       "      <td>25.499000</td>\n",
       "      <td>1185.91</td>\n",
       "      <td>9.28</td>\n",
       "      <td>7.79</td>\n",
       "      <td>61.64</td>\n",
       "      <td>...</td>\n",
       "      <td>-1.0</td>\n",
       "      <td>-1.0</td>\n",
       "      <td>667.0</td>\n",
       "      <td>0.00</td>\n",
       "      <td>0.00</td>\n",
       "      <td>0.00</td>\n",
       "      <td>816.0</td>\n",
       "      <td>0.0</td>\n",
       "      <td>408.0</td>\n",
       "      <td>0</td>\n",
       "    </tr>\n",
       "  </tbody>\n",
       "</table>\n",
       "<p>5 rows × 158 columns</p>\n",
       "</div>"
      ],
      "text/plain": [
       "   loc_og_t2o_mou  std_og_t2o_mou  loc_ic_t2o_mou    arpu_6    arpu_7  \\\n",
       "0             0.0             0.0             0.0  1069.180  1349.850   \n",
       "1             0.0             0.0             0.0   378.721   492.223   \n",
       "2             0.0             0.0             0.0   492.846   205.671   \n",
       "3             0.0             0.0             0.0   430.975   299.869   \n",
       "4             0.0             0.0             0.0   690.008    18.980   \n",
       "\n",
       "        arpu_8  onnet_mou_6  onnet_mou_7  onnet_mou_8  offnet_mou_6  ...  \\\n",
       "0  1519.213488        57.84        54.68        52.29        453.43  ...   \n",
       "1   137.362000       413.69       351.03        35.08         94.66  ...   \n",
       "2   593.260000       501.76       108.39       534.24        413.31  ...   \n",
       "3   187.894000        50.51        74.01        70.61        296.29  ...   \n",
       "4    25.499000      1185.91         9.28         7.79         61.64  ...   \n",
       "\n",
       "   fb_user_7  fb_user_8     aon  aug_vbc_3g  jul_vbc_3g  jun_vbc_3g  \\\n",
       "0       -1.0       -1.0   802.0       57.74       19.38       18.74   \n",
       "1        1.0        1.0   315.0       21.03      910.65      122.16   \n",
       "2       -1.0        1.0  2607.0        0.00        0.00        0.00   \n",
       "3       -1.0       -1.0   511.0        0.00        2.45       21.89   \n",
       "4       -1.0       -1.0   667.0        0.00        0.00        0.00   \n",
       "\n",
       "   tot_monthly_recharge_6  tot_monthly_recharge_7  average_recharge_6_7  churn  \n",
       "0                  1580.0                   790.0                1185.0      1  \n",
       "1                   437.0                   603.0                 520.0      0  \n",
       "2                   507.0                   253.0                 380.0      0  \n",
       "3                   570.0                   348.0                 459.0      0  \n",
       "4                   816.0                     0.0                 408.0      0  \n",
       "\n",
       "[5 rows x 158 columns]"
      ]
     },
     "execution_count": 3,
     "metadata": {},
     "output_type": "execute_result"
    }
   ],
   "source": [
    "df_log = pd.read_csv(\"data_for_logistic_high_performance_model.csv\")\n",
    "df_log.head()"
   ]
  },
  {
   "cell_type": "code",
   "execution_count": 4,
   "metadata": {},
   "outputs": [
    {
     "name": "stdout",
     "output_type": "stream",
     "text": [
      "<class 'pandas.core.frame.DataFrame'>\n",
      "RangeIndex: 30019 entries, 0 to 30018\n",
      "Data columns (total 158 columns):\n",
      " #   Column                  Dtype  \n",
      "---  ------                  -----  \n",
      " 0   loc_og_t2o_mou          float64\n",
      " 1   std_og_t2o_mou          float64\n",
      " 2   loc_ic_t2o_mou          float64\n",
      " 3   arpu_6                  float64\n",
      " 4   arpu_7                  float64\n",
      " 5   arpu_8                  float64\n",
      " 6   onnet_mou_6             float64\n",
      " 7   onnet_mou_7             float64\n",
      " 8   onnet_mou_8             float64\n",
      " 9   offnet_mou_6            float64\n",
      " 10  offnet_mou_7            float64\n",
      " 11  offnet_mou_8            float64\n",
      " 12  roam_ic_mou_6           float64\n",
      " 13  roam_ic_mou_7           float64\n",
      " 14  roam_ic_mou_8           float64\n",
      " 15  roam_og_mou_6           float64\n",
      " 16  roam_og_mou_7           float64\n",
      " 17  roam_og_mou_8           float64\n",
      " 18  loc_og_t2t_mou_6        float64\n",
      " 19  loc_og_t2t_mou_7        float64\n",
      " 20  loc_og_t2t_mou_8        float64\n",
      " 21  loc_og_t2m_mou_6        float64\n",
      " 22  loc_og_t2m_mou_7        float64\n",
      " 23  loc_og_t2m_mou_8        float64\n",
      " 24  loc_og_t2f_mou_6        float64\n",
      " 25  loc_og_t2f_mou_7        float64\n",
      " 26  loc_og_t2f_mou_8        float64\n",
      " 27  loc_og_t2c_mou_6        float64\n",
      " 28  loc_og_t2c_mou_7        float64\n",
      " 29  loc_og_t2c_mou_8        float64\n",
      " 30  loc_og_mou_6            float64\n",
      " 31  loc_og_mou_7            float64\n",
      " 32  loc_og_mou_8            float64\n",
      " 33  std_og_t2t_mou_6        float64\n",
      " 34  std_og_t2t_mou_7        float64\n",
      " 35  std_og_t2t_mou_8        float64\n",
      " 36  std_og_t2m_mou_6        float64\n",
      " 37  std_og_t2m_mou_7        float64\n",
      " 38  std_og_t2m_mou_8        float64\n",
      " 39  std_og_t2f_mou_6        float64\n",
      " 40  std_og_t2f_mou_7        float64\n",
      " 41  std_og_t2f_mou_8        float64\n",
      " 42  std_og_t2c_mou_6        float64\n",
      " 43  std_og_t2c_mou_7        float64\n",
      " 44  std_og_t2c_mou_8        float64\n",
      " 45  std_og_mou_6            float64\n",
      " 46  std_og_mou_7            float64\n",
      " 47  std_og_mou_8            float64\n",
      " 48  isd_og_mou_6            float64\n",
      " 49  isd_og_mou_7            float64\n",
      " 50  isd_og_mou_8            float64\n",
      " 51  spl_og_mou_6            float64\n",
      " 52  spl_og_mou_7            float64\n",
      " 53  spl_og_mou_8            float64\n",
      " 54  og_others_6             float64\n",
      " 55  og_others_7             float64\n",
      " 56  og_others_8             float64\n",
      " 57  total_og_mou_6          float64\n",
      " 58  total_og_mou_7          float64\n",
      " 59  total_og_mou_8          float64\n",
      " 60  loc_ic_t2t_mou_6        float64\n",
      " 61  loc_ic_t2t_mou_7        float64\n",
      " 62  loc_ic_t2t_mou_8        float64\n",
      " 63  loc_ic_t2m_mou_6        float64\n",
      " 64  loc_ic_t2m_mou_7        float64\n",
      " 65  loc_ic_t2m_mou_8        float64\n",
      " 66  loc_ic_t2f_mou_6        float64\n",
      " 67  loc_ic_t2f_mou_7        float64\n",
      " 68  loc_ic_t2f_mou_8        float64\n",
      " 69  loc_ic_mou_6            float64\n",
      " 70  loc_ic_mou_7            float64\n",
      " 71  loc_ic_mou_8            float64\n",
      " 72  std_ic_t2t_mou_6        float64\n",
      " 73  std_ic_t2t_mou_7        float64\n",
      " 74  std_ic_t2t_mou_8        float64\n",
      " 75  std_ic_t2m_mou_6        float64\n",
      " 76  std_ic_t2m_mou_7        float64\n",
      " 77  std_ic_t2m_mou_8        float64\n",
      " 78  std_ic_t2f_mou_6        float64\n",
      " 79  std_ic_t2f_mou_7        float64\n",
      " 80  std_ic_t2f_mou_8        float64\n",
      " 81  std_ic_t2o_mou_6        float64\n",
      " 82  std_ic_t2o_mou_7        float64\n",
      " 83  std_ic_t2o_mou_8        float64\n",
      " 84  std_ic_mou_6            float64\n",
      " 85  std_ic_mou_7            float64\n",
      " 86  std_ic_mou_8            float64\n",
      " 87  total_ic_mou_6          float64\n",
      " 88  total_ic_mou_7          float64\n",
      " 89  total_ic_mou_8          float64\n",
      " 90  spl_ic_mou_6            float64\n",
      " 91  spl_ic_mou_7            float64\n",
      " 92  spl_ic_mou_8            float64\n",
      " 93  isd_ic_mou_6            float64\n",
      " 94  isd_ic_mou_7            float64\n",
      " 95  isd_ic_mou_8            float64\n",
      " 96  ic_others_6             float64\n",
      " 97  ic_others_7             float64\n",
      " 98  ic_others_8             float64\n",
      " 99  total_rech_num_6        float64\n",
      " 100 total_rech_num_7        float64\n",
      " 101 total_rech_num_8        float64\n",
      " 102 total_rech_amt_6        float64\n",
      " 103 total_rech_amt_7        float64\n",
      " 104 total_rech_amt_8        float64\n",
      " 105 max_rech_amt_6          float64\n",
      " 106 max_rech_amt_7          float64\n",
      " 107 max_rech_amt_8          float64\n",
      " 108 last_day_rch_amt_6      float64\n",
      " 109 last_day_rch_amt_7      float64\n",
      " 110 last_day_rch_amt_8      float64\n",
      " 111 total_rech_data_6       float64\n",
      " 112 total_rech_data_7       float64\n",
      " 113 total_rech_data_8       float64\n",
      " 114 max_rech_data_6         float64\n",
      " 115 max_rech_data_7         float64\n",
      " 116 max_rech_data_8         float64\n",
      " 117 count_rech_2g_6         float64\n",
      " 118 count_rech_2g_7         float64\n",
      " 119 count_rech_2g_8         float64\n",
      " 120 count_rech_3g_6         float64\n",
      " 121 count_rech_3g_7         float64\n",
      " 122 count_rech_3g_8         float64\n",
      " 123 av_rech_amt_data_6      float64\n",
      " 124 av_rech_amt_data_7      float64\n",
      " 125 av_rech_amt_data_8      float64\n",
      " 126 vol_2g_mb_6             float64\n",
      " 127 vol_2g_mb_7             float64\n",
      " 128 vol_2g_mb_8             float64\n",
      " 129 vol_3g_mb_6             float64\n",
      " 130 vol_3g_mb_7             float64\n",
      " 131 vol_3g_mb_8             float64\n",
      " 132 night_pck_user_6        float64\n",
      " 133 night_pck_user_7        float64\n",
      " 134 night_pck_user_8        float64\n",
      " 135 monthly_2g_6            float64\n",
      " 136 monthly_2g_7            float64\n",
      " 137 monthly_2g_8            float64\n",
      " 138 sachet_2g_6             float64\n",
      " 139 sachet_2g_7             float64\n",
      " 140 sachet_2g_8             float64\n",
      " 141 monthly_3g_6            float64\n",
      " 142 monthly_3g_7            float64\n",
      " 143 monthly_3g_8            float64\n",
      " 144 sachet_3g_6             float64\n",
      " 145 sachet_3g_7             float64\n",
      " 146 sachet_3g_8             float64\n",
      " 147 fb_user_6               float64\n",
      " 148 fb_user_7               float64\n",
      " 149 fb_user_8               float64\n",
      " 150 aon                     float64\n",
      " 151 aug_vbc_3g              float64\n",
      " 152 jul_vbc_3g              float64\n",
      " 153 jun_vbc_3g              float64\n",
      " 154 tot_monthly_recharge_6  float64\n",
      " 155 tot_monthly_recharge_7  float64\n",
      " 156 average_recharge_6_7    float64\n",
      " 157 churn                   int64  \n",
      "dtypes: float64(157), int64(1)\n",
      "memory usage: 36.2 MB\n"
     ]
    }
   ],
   "source": [
    "df_log.info(verbose = 1)"
   ]
  },
  {
   "cell_type": "code",
   "execution_count": 5,
   "metadata": {},
   "outputs": [
    {
     "name": "stdout",
     "output_type": "stream",
     "text": [
      "<class 'pandas.core.frame.DataFrame'>\n",
      "RangeIndex: 30019 entries, 0 to 30018\n",
      "Data columns (total 6 columns):\n",
      " #   Column            Non-Null Count  Dtype \n",
      "---  ------            --------------  ----- \n",
      " 0   fb_user_6         30019 non-null  object\n",
      " 1   fb_user_7         30019 non-null  object\n",
      " 2   fb_user_8         30019 non-null  object\n",
      " 3   night_pck_user_6  30019 non-null  object\n",
      " 4   night_pck_user_7  30019 non-null  object\n",
      " 5   night_pck_user_8  30019 non-null  object\n",
      "dtypes: object(6)\n",
      "memory usage: 1.4+ MB\n"
     ]
    }
   ],
   "source": [
    "obj_cols = ['fb_user_6', 'fb_user_7', 'fb_user_8',\n",
    "                            'night_pck_user_6', 'night_pck_user_7', 'night_pck_user_8'\n",
    "                           ]\n",
    "df_log[obj_cols] = df_log[obj_cols].astype('object')\n",
    "df_log[obj_cols].info()"
   ]
  },
  {
   "cell_type": "markdown",
   "metadata": {},
   "source": [
    "## train test split"
   ]
  },
  {
   "cell_type": "code",
   "execution_count": 6,
   "metadata": {},
   "outputs": [],
   "source": [
    "X_log = df_log.drop('churn', axis = 1)\n",
    "y_log = df_log['churn']"
   ]
  },
  {
   "cell_type": "markdown",
   "metadata": {},
   "source": [
    "## Scaling"
   ]
  },
  {
   "cell_type": "code",
   "execution_count": 7,
   "metadata": {},
   "outputs": [
    {
     "name": "stdout",
     "output_type": "stream",
     "text": [
      "Total count of numerical columns: 151\n"
     ]
    }
   ],
   "source": [
    "num_cols = X_log.select_dtypes(include = ['int64','float64']).columns\n",
    "print(\"Total count of numerical columns: {}\".format(len(num_cols)))"
   ]
  },
  {
   "cell_type": "code",
   "execution_count": 8,
   "metadata": {},
   "outputs": [],
   "source": [
    "scaler = StandardScaler()\n",
    "X_log[num_cols] = scaler.fit_transform(X_log[num_cols])"
   ]
  },
  {
   "cell_type": "code",
   "execution_count": 9,
   "metadata": {},
   "outputs": [
    {
     "data": {
      "text/html": [
       "<div>\n",
       "<style scoped>\n",
       "    .dataframe tbody tr th:only-of-type {\n",
       "        vertical-align: middle;\n",
       "    }\n",
       "\n",
       "    .dataframe tbody tr th {\n",
       "        vertical-align: top;\n",
       "    }\n",
       "\n",
       "    .dataframe thead th {\n",
       "        text-align: right;\n",
       "    }\n",
       "</style>\n",
       "<table border=\"1\" class=\"dataframe\">\n",
       "  <thead>\n",
       "    <tr style=\"text-align: right;\">\n",
       "      <th></th>\n",
       "      <th>loc_og_t2o_mou</th>\n",
       "      <th>std_og_t2o_mou</th>\n",
       "      <th>loc_ic_t2o_mou</th>\n",
       "      <th>arpu_6</th>\n",
       "      <th>arpu_7</th>\n",
       "      <th>arpu_8</th>\n",
       "      <th>onnet_mou_6</th>\n",
       "      <th>onnet_mou_7</th>\n",
       "      <th>onnet_mou_8</th>\n",
       "      <th>offnet_mou_6</th>\n",
       "      <th>...</th>\n",
       "      <th>fb_user_6</th>\n",
       "      <th>fb_user_7</th>\n",
       "      <th>fb_user_8</th>\n",
       "      <th>aon</th>\n",
       "      <th>aug_vbc_3g</th>\n",
       "      <th>jul_vbc_3g</th>\n",
       "      <th>jun_vbc_3g</th>\n",
       "      <th>tot_monthly_recharge_6</th>\n",
       "      <th>tot_monthly_recharge_7</th>\n",
       "      <th>average_recharge_6_7</th>\n",
       "    </tr>\n",
       "  </thead>\n",
       "  <tbody>\n",
       "    <tr>\n",
       "      <th>0</th>\n",
       "      <td>0.0</td>\n",
       "      <td>0.0</td>\n",
       "      <td>0.0</td>\n",
       "      <td>1.636538</td>\n",
       "      <td>2.510202</td>\n",
       "      <td>2.917916</td>\n",
       "      <td>-0.632765</td>\n",
       "      <td>-0.638199</td>\n",
       "      <td>-0.582044</td>\n",
       "      <td>0.183719</td>\n",
       "      <td>...</td>\n",
       "      <td>-1</td>\n",
       "      <td>-1</td>\n",
       "      <td>-1</td>\n",
       "      <td>-0.474119</td>\n",
       "      <td>-0.182020</td>\n",
       "      <td>-0.345100</td>\n",
       "      <td>-0.325309</td>\n",
       "      <td>2.459186</td>\n",
       "      <td>0.303607</td>\n",
       "      <td>1.619414</td>\n",
       "    </tr>\n",
       "    <tr>\n",
       "      <th>1</th>\n",
       "      <td>0.0</td>\n",
       "      <td>0.0</td>\n",
       "      <td>0.0</td>\n",
       "      <td>-0.621115</td>\n",
       "      <td>-0.254252</td>\n",
       "      <td>-1.102039</td>\n",
       "      <td>0.447605</td>\n",
       "      <td>0.226780</td>\n",
       "      <td>-0.636276</td>\n",
       "      <td>-0.848816</td>\n",
       "      <td>...</td>\n",
       "      <td>-1</td>\n",
       "      <td>1</td>\n",
       "      <td>1</td>\n",
       "      <td>-0.990277</td>\n",
       "      <td>-0.336839</td>\n",
       "      <td>3.261082</td>\n",
       "      <td>0.130323</td>\n",
       "      <td>-0.647940</td>\n",
       "      <td>-0.188103</td>\n",
       "      <td>-0.502097</td>\n",
       "    </tr>\n",
       "    <tr>\n",
       "      <th>2</th>\n",
       "      <td>0.0</td>\n",
       "      <td>0.0</td>\n",
       "      <td>0.0</td>\n",
       "      <td>-0.247950</td>\n",
       "      <td>-1.177916</td>\n",
       "      <td>0.224218</td>\n",
       "      <td>0.714988</td>\n",
       "      <td>-0.481432</td>\n",
       "      <td>0.936688</td>\n",
       "      <td>0.068254</td>\n",
       "      <td>...</td>\n",
       "      <td>-1</td>\n",
       "      <td>-1</td>\n",
       "      <td>1</td>\n",
       "      <td>1.438951</td>\n",
       "      <td>-0.425530</td>\n",
       "      <td>-0.423514</td>\n",
       "      <td>-0.407870</td>\n",
       "      <td>-0.457652</td>\n",
       "      <td>-1.108415</td>\n",
       "      <td>-0.948731</td>\n",
       "    </tr>\n",
       "    <tr>\n",
       "      <th>3</th>\n",
       "      <td>0.0</td>\n",
       "      <td>0.0</td>\n",
       "      <td>0.0</td>\n",
       "      <td>-0.450255</td>\n",
       "      <td>-0.874281</td>\n",
       "      <td>-0.955036</td>\n",
       "      <td>-0.655019</td>\n",
       "      <td>-0.581779</td>\n",
       "      <td>-0.524313</td>\n",
       "      <td>-0.268528</td>\n",
       "      <td>...</td>\n",
       "      <td>-1</td>\n",
       "      <td>-1</td>\n",
       "      <td>-1</td>\n",
       "      <td>-0.782542</td>\n",
       "      <td>-0.425530</td>\n",
       "      <td>-0.413601</td>\n",
       "      <td>-0.311431</td>\n",
       "      <td>-0.286393</td>\n",
       "      <td>-0.858616</td>\n",
       "      <td>-0.696702</td>\n",
       "    </tr>\n",
       "    <tr>\n",
       "      <th>4</th>\n",
       "      <td>0.0</td>\n",
       "      <td>0.0</td>\n",
       "      <td>0.0</td>\n",
       "      <td>0.396727</td>\n",
       "      <td>-1.779691</td>\n",
       "      <td>-1.427460</td>\n",
       "      <td>2.792086</td>\n",
       "      <td>-0.770712</td>\n",
       "      <td>-0.722273</td>\n",
       "      <td>-0.943847</td>\n",
       "      <td>...</td>\n",
       "      <td>-1</td>\n",
       "      <td>-1</td>\n",
       "      <td>-1</td>\n",
       "      <td>-0.617202</td>\n",
       "      <td>-0.425530</td>\n",
       "      <td>-0.423514</td>\n",
       "      <td>-0.407870</td>\n",
       "      <td>0.382332</td>\n",
       "      <td>-1.773670</td>\n",
       "      <td>-0.859404</td>\n",
       "    </tr>\n",
       "  </tbody>\n",
       "</table>\n",
       "<p>5 rows × 157 columns</p>\n",
       "</div>"
      ],
      "text/plain": [
       "   loc_og_t2o_mou  std_og_t2o_mou  loc_ic_t2o_mou    arpu_6    arpu_7  \\\n",
       "0             0.0             0.0             0.0  1.636538  2.510202   \n",
       "1             0.0             0.0             0.0 -0.621115 -0.254252   \n",
       "2             0.0             0.0             0.0 -0.247950 -1.177916   \n",
       "3             0.0             0.0             0.0 -0.450255 -0.874281   \n",
       "4             0.0             0.0             0.0  0.396727 -1.779691   \n",
       "\n",
       "     arpu_8  onnet_mou_6  onnet_mou_7  onnet_mou_8  offnet_mou_6  ...  \\\n",
       "0  2.917916    -0.632765    -0.638199    -0.582044      0.183719  ...   \n",
       "1 -1.102039     0.447605     0.226780    -0.636276     -0.848816  ...   \n",
       "2  0.224218     0.714988    -0.481432     0.936688      0.068254  ...   \n",
       "3 -0.955036    -0.655019    -0.581779    -0.524313     -0.268528  ...   \n",
       "4 -1.427460     2.792086    -0.770712    -0.722273     -0.943847  ...   \n",
       "\n",
       "   fb_user_6  fb_user_7  fb_user_8       aon  aug_vbc_3g  jul_vbc_3g  \\\n",
       "0         -1         -1         -1 -0.474119   -0.182020   -0.345100   \n",
       "1         -1          1          1 -0.990277   -0.336839    3.261082   \n",
       "2         -1         -1          1  1.438951   -0.425530   -0.423514   \n",
       "3         -1         -1         -1 -0.782542   -0.425530   -0.413601   \n",
       "4         -1         -1         -1 -0.617202   -0.425530   -0.423514   \n",
       "\n",
       "   jun_vbc_3g  tot_monthly_recharge_6  tot_monthly_recharge_7  \\\n",
       "0   -0.325309                2.459186                0.303607   \n",
       "1    0.130323               -0.647940               -0.188103   \n",
       "2   -0.407870               -0.457652               -1.108415   \n",
       "3   -0.311431               -0.286393               -0.858616   \n",
       "4   -0.407870                0.382332               -1.773670   \n",
       "\n",
       "   average_recharge_6_7  \n",
       "0              1.619414  \n",
       "1             -0.502097  \n",
       "2             -0.948731  \n",
       "3             -0.696702  \n",
       "4             -0.859404  \n",
       "\n",
       "[5 rows x 157 columns]"
      ]
     },
     "execution_count": 9,
     "metadata": {},
     "output_type": "execute_result"
    }
   ],
   "source": [
    "X_log.head()"
   ]
  },
  {
   "cell_type": "markdown",
   "metadata": {},
   "source": [
    "## PCA"
   ]
  },
  {
   "cell_type": "code",
   "execution_count": 10,
   "metadata": {},
   "outputs": [],
   "source": [
    "pca = PCA(random_state = 100)\n",
    "pca_data = pca.fit(X_log)"
   ]
  },
  {
   "cell_type": "code",
   "execution_count": 12,
   "metadata": {},
   "outputs": [],
   "source": [
    "var_cumu = np.cumsum(pca.explained_variance_ratio_)"
   ]
  },
  {
   "cell_type": "code",
   "execution_count": 13,
   "metadata": {
    "scrolled": true
   },
   "outputs": [
    {
     "data": {
      "text/plain": [
       "[<matplotlib.lines.Line2D at 0x17da8ef0400>]"
      ]
     },
     "execution_count": 13,
     "metadata": {},
     "output_type": "execute_result"
    },
    {
     "data": {
      "image/png": "[encoded data removed]",
      "text/plain": [
       "<Figure size 432x288 with 1 Axes>"
      ]
     },
     "metadata": {
      "needs_background": "light"
     },
     "output_type": "display_data"
    }
   ],
   "source": [
    "plt.plot(range(1, len(var_cumu)+1), var_cumu)"
   ]
  },
  {
   "cell_type": "code",
   "execution_count": 21,
   "metadata": {},
   "outputs": [],
   "source": [
    "pca2 = PCA(0.90)\n",
    "pca2_data = pca2.fit_transform(X_log)"
   ]
  },
  {
   "cell_type": "code",
   "execution_count": 23,
   "metadata": {},
   "outputs": [
    {
     "data": {
      "text/plain": [
       "(30019, 52)"
      ]
     },
     "execution_count": 23,
     "metadata": {},
     "output_type": "execute_result"
    }
   ],
   "source": [
    "pca2_data.shape"
   ]
  },
  {
   "cell_type": "code",
   "execution_count": 24,
   "metadata": {},
   "outputs": [],
   "source": [
    "pca3 = PCA(0.95)\n",
    "pca3_data = pca3.fit_transform(X_log)"
   ]
  },
  {
   "cell_type": "code",
   "execution_count": 25,
   "metadata": {
    "scrolled": true
   },
   "outputs": [
    {
     "data": {
      "text/plain": [
       "(30019, 70)"
      ]
     },
     "execution_count": 25,
     "metadata": {},
     "output_type": "execute_result"
    }
   ],
   "source": [
    "pca3_data.shape"
   ]
  },
  {
   "cell_type": "markdown",
   "metadata": {},
   "source": [
    "#### Assigning X_log with pca data"
   ]
  },
  {
   "cell_type": "code",
   "execution_count": 26,
   "metadata": {},
   "outputs": [
    {
     "data": {
      "text/plain": [
       "(30019, 70)"
      ]
     },
     "execution_count": 26,
     "metadata": {},
     "output_type": "execute_result"
    }
   ],
   "source": [
    "X_log = pd.DataFrame(pca3_data)\n",
    "X_log.shape"
   ]
  },
  {
   "cell_type": "code",
   "execution_count": 27,
   "metadata": {},
   "outputs": [
    {
     "data": {
      "text/html": [
       "<div>\n",
       "<style scoped>\n",
       "    .dataframe tbody tr th:only-of-type {\n",
       "        vertical-align: middle;\n",
       "    }\n",
       "\n",
       "    .dataframe tbody tr th {\n",
       "        vertical-align: top;\n",
       "    }\n",
       "\n",
       "    .dataframe thead th {\n",
       "        text-align: right;\n",
       "    }\n",
       "</style>\n",
       "<table border=\"1\" class=\"dataframe\">\n",
       "  <thead>\n",
       "    <tr style=\"text-align: right;\">\n",
       "      <th></th>\n",
       "      <th>0</th>\n",
       "      <th>1</th>\n",
       "      <th>2</th>\n",
       "      <th>3</th>\n",
       "      <th>4</th>\n",
       "      <th>5</th>\n",
       "      <th>6</th>\n",
       "      <th>7</th>\n",
       "      <th>8</th>\n",
       "      <th>9</th>\n",
       "      <th>...</th>\n",
       "      <th>60</th>\n",
       "      <th>61</th>\n",
       "      <th>62</th>\n",
       "      <th>63</th>\n",
       "      <th>64</th>\n",
       "      <th>65</th>\n",
       "      <th>66</th>\n",
       "      <th>67</th>\n",
       "      <th>68</th>\n",
       "      <th>69</th>\n",
       "    </tr>\n",
       "  </thead>\n",
       "  <tbody>\n",
       "    <tr>\n",
       "      <th>0</th>\n",
       "      <td>4.848884</td>\n",
       "      <td>7.708640</td>\n",
       "      <td>-1.538871</td>\n",
       "      <td>-6.138307</td>\n",
       "      <td>6.707642</td>\n",
       "      <td>-1.895321</td>\n",
       "      <td>-0.071635</td>\n",
       "      <td>3.484130</td>\n",
       "      <td>5.652522</td>\n",
       "      <td>1.378470</td>\n",
       "      <td>...</td>\n",
       "      <td>0.658475</td>\n",
       "      <td>0.114465</td>\n",
       "      <td>-1.261185</td>\n",
       "      <td>1.489114</td>\n",
       "      <td>-2.227306</td>\n",
       "      <td>-0.524190</td>\n",
       "      <td>-0.609610</td>\n",
       "      <td>-1.789933</td>\n",
       "      <td>0.039509</td>\n",
       "      <td>-0.953834</td>\n",
       "    </tr>\n",
       "    <tr>\n",
       "      <th>1</th>\n",
       "      <td>-0.868207</td>\n",
       "      <td>-4.029816</td>\n",
       "      <td>-0.130091</td>\n",
       "      <td>2.924715</td>\n",
       "      <td>-0.761529</td>\n",
       "      <td>0.643027</td>\n",
       "      <td>-0.488949</td>\n",
       "      <td>0.806977</td>\n",
       "      <td>0.020100</td>\n",
       "      <td>-0.423299</td>\n",
       "      <td>...</td>\n",
       "      <td>0.002142</td>\n",
       "      <td>1.076416</td>\n",
       "      <td>-0.405117</td>\n",
       "      <td>-0.108846</td>\n",
       "      <td>-0.012564</td>\n",
       "      <td>-0.158647</td>\n",
       "      <td>0.761103</td>\n",
       "      <td>0.661591</td>\n",
       "      <td>-0.888201</td>\n",
       "      <td>0.177578</td>\n",
       "    </tr>\n",
       "    <tr>\n",
       "      <th>2</th>\n",
       "      <td>-0.570567</td>\n",
       "      <td>2.941774</td>\n",
       "      <td>0.835671</td>\n",
       "      <td>-1.163843</td>\n",
       "      <td>10.624948</td>\n",
       "      <td>2.129281</td>\n",
       "      <td>1.349088</td>\n",
       "      <td>0.884376</td>\n",
       "      <td>0.572773</td>\n",
       "      <td>5.167166</td>\n",
       "      <td>...</td>\n",
       "      <td>0.682076</td>\n",
       "      <td>0.240198</td>\n",
       "      <td>-2.027697</td>\n",
       "      <td>-0.859467</td>\n",
       "      <td>-0.838989</td>\n",
       "      <td>-0.378317</td>\n",
       "      <td>-0.929591</td>\n",
       "      <td>0.974327</td>\n",
       "      <td>-0.073767</td>\n",
       "      <td>0.610870</td>\n",
       "    </tr>\n",
       "    <tr>\n",
       "      <th>3</th>\n",
       "      <td>-1.879399</td>\n",
       "      <td>0.264488</td>\n",
       "      <td>-3.440286</td>\n",
       "      <td>-1.124842</td>\n",
       "      <td>2.480123</td>\n",
       "      <td>0.628095</td>\n",
       "      <td>0.785440</td>\n",
       "      <td>-0.915207</td>\n",
       "      <td>-1.127319</td>\n",
       "      <td>-0.134863</td>\n",
       "      <td>...</td>\n",
       "      <td>-0.336662</td>\n",
       "      <td>-0.065181</td>\n",
       "      <td>0.532011</td>\n",
       "      <td>0.042286</td>\n",
       "      <td>-0.234792</td>\n",
       "      <td>0.531532</td>\n",
       "      <td>0.917273</td>\n",
       "      <td>-0.934947</td>\n",
       "      <td>1.114756</td>\n",
       "      <td>0.856654</td>\n",
       "    </tr>\n",
       "    <tr>\n",
       "      <th>4</th>\n",
       "      <td>-5.538939</td>\n",
       "      <td>-3.094460</td>\n",
       "      <td>-2.044200</td>\n",
       "      <td>-0.396908</td>\n",
       "      <td>-1.086869</td>\n",
       "      <td>1.447875</td>\n",
       "      <td>3.892854</td>\n",
       "      <td>0.096753</td>\n",
       "      <td>0.682211</td>\n",
       "      <td>-0.711671</td>\n",
       "      <td>...</td>\n",
       "      <td>0.268118</td>\n",
       "      <td>-0.072747</td>\n",
       "      <td>0.201801</td>\n",
       "      <td>0.282398</td>\n",
       "      <td>0.234505</td>\n",
       "      <td>-0.324621</td>\n",
       "      <td>-0.294928</td>\n",
       "      <td>-0.013934</td>\n",
       "      <td>0.098471</td>\n",
       "      <td>0.034367</td>\n",
       "    </tr>\n",
       "  </tbody>\n",
       "</table>\n",
       "<p>5 rows × 70 columns</p>\n",
       "</div>"
      ],
      "text/plain": [
       "         0         1         2         3          4         5         6   \\\n",
       "0  4.848884  7.708640 -1.538871 -6.138307   6.707642 -1.895321 -0.071635   \n",
       "1 -0.868207 -4.029816 -0.130091  2.924715  -0.761529  0.643027 -0.488949   \n",
       "2 -0.570567  2.941774  0.835671 -1.163843  10.624948  2.129281  1.349088   \n",
       "3 -1.879399  0.264488 -3.440286 -1.124842   2.480123  0.628095  0.785440   \n",
       "4 -5.538939 -3.094460 -2.044200 -0.396908  -1.086869  1.447875  3.892854   \n",
       "\n",
       "         7         8         9   ...        60        61        62        63  \\\n",
       "0  3.484130  5.652522  1.378470  ...  0.658475  0.114465 -1.261185  1.489114   \n",
       "1  0.806977  0.020100 -0.423299  ...  0.002142  1.076416 -0.405117 -0.108846   \n",
       "2  0.884376  0.572773  5.167166  ...  0.682076  0.240198 -2.027697 -0.859467   \n",
       "3 -0.915207 -1.127319 -0.134863  ... -0.336662 -0.065181  0.532011  0.042286   \n",
       "4  0.096753  0.682211 -0.711671  ...  0.268118 -0.072747  0.201801  0.282398   \n",
       "\n",
       "         64        65        66        67        68        69  \n",
       "0 -2.227306 -0.524190 -0.609610 -1.789933  0.039509 -0.953834  \n",
       "1 -0.012564 -0.158647  0.761103  0.661591 -0.888201  0.177578  \n",
       "2 -0.838989 -0.378317 -0.929591  0.974327 -0.073767  0.610870  \n",
       "3 -0.234792  0.531532  0.917273 -0.934947  1.114756  0.856654  \n",
       "4  0.234505 -0.324621 -0.294928 -0.013934  0.098471  0.034367  \n",
       "\n",
       "[5 rows x 70 columns]"
      ]
     },
     "execution_count": 27,
     "metadata": {},
     "output_type": "execute_result"
    }
   ],
   "source": [
    "X_log.head()"
   ]
  },
  {
   "cell_type": "code",
   "execution_count": 28,
   "metadata": {},
   "outputs": [
    {
     "name": "stdout",
     "output_type": "stream",
     "text": [
      "(21013, 70)\n",
      "(21013,)\n",
      "(9006, 70)\n",
      "(9006,)\n"
     ]
    }
   ],
   "source": [
    "X_train_log, X_test_log, y_train_log, y_test_log = train_test_split(X_log, y_log, train_size=0.7, random_state=100)\n",
    "print(X_train_log.shape)\n",
    "print(y_train_log.shape)\n",
    "print(X_test_log.shape)\n",
    "print(y_test_log.shape)"
   ]
  },
  {
   "cell_type": "code",
   "execution_count": 82,
   "metadata": {},
   "outputs": [
    {
     "data": {
      "text/plain": [
       "pandas.core.series.Series"
      ]
     },
     "execution_count": 82,
     "metadata": {},
     "output_type": "execute_result"
    }
   ],
   "source": [
    "type(y_train_log)"
   ]
  },
  {
   "cell_type": "code",
   "execution_count": 30,
   "metadata": {},
   "outputs": [
    {
     "data": {
      "text/html": [
       "<table class=\"simpletable\">\n",
       "<caption>Generalized Linear Model Regression Results</caption>\n",
       "<tr>\n",
       "  <th>Dep. Variable:</th>         <td>churn</td>      <th>  No. Observations:  </th>  <td> 21013</td> \n",
       "</tr>\n",
       "<tr>\n",
       "  <th>Model:</th>                  <td>GLM</td>       <th>  Df Residuals:      </th>  <td> 20942</td> \n",
       "</tr>\n",
       "<tr>\n",
       "  <th>Model Family:</th>        <td>Binomial</td>     <th>  Df Model:          </th>  <td>    70</td> \n",
       "</tr>\n",
       "<tr>\n",
       "  <th>Link Function:</th>         <td>logit</td>      <th>  Scale:             </th> <td>  1.0000</td>\n",
       "</tr>\n",
       "<tr>\n",
       "  <th>Method:</th>                <td>IRLS</td>       <th>  Log-Likelihood:    </th> <td> -3975.3</td>\n",
       "</tr>\n",
       "<tr>\n",
       "  <th>Date:</th>            <td>Sun, 30 Aug 2020</td> <th>  Deviance:          </th> <td>  7950.7</td>\n",
       "</tr>\n",
       "<tr>\n",
       "  <th>Time:</th>                <td>12:38:44</td>     <th>  Pearson chi2:      </th> <td>1.90e+05</td>\n",
       "</tr>\n",
       "<tr>\n",
       "  <th>No. Iterations:</th>         <td>12</td>        <th>                     </th>     <td> </td>   \n",
       "</tr>\n",
       "<tr>\n",
       "  <th>Covariance Type:</th>     <td>nonrobust</td>    <th>                     </th>     <td> </td>   \n",
       "</tr>\n",
       "</table>\n",
       "<table class=\"simpletable\">\n",
       "<tr>\n",
       "    <td></td>       <th>coef</th>     <th>std err</th>      <th>z</th>      <th>P>|z|</th>  <th>[0.025</th>    <th>0.975]</th>  \n",
       "</tr>\n",
       "<tr>\n",
       "  <th>const</th> <td>   -4.0909</td> <td>    0.140</td> <td>  -29.282</td> <td> 0.000</td> <td>   -4.365</td> <td>   -3.817</td>\n",
       "</tr>\n",
       "<tr>\n",
       "  <th>0</th>     <td>   -0.3148</td> <td>    0.018</td> <td>  -17.850</td> <td> 0.000</td> <td>   -0.349</td> <td>   -0.280</td>\n",
       "</tr>\n",
       "<tr>\n",
       "  <th>1</th>     <td>   -0.2165</td> <td>    0.017</td> <td>  -12.579</td> <td> 0.000</td> <td>   -0.250</td> <td>   -0.183</td>\n",
       "</tr>\n",
       "<tr>\n",
       "  <th>2</th>     <td>   -0.0288</td> <td>    0.013</td> <td>   -2.234</td> <td> 0.025</td> <td>   -0.054</td> <td>   -0.004</td>\n",
       "</tr>\n",
       "<tr>\n",
       "  <th>3</th>     <td>   -0.1236</td> <td>    0.022</td> <td>   -5.547</td> <td> 0.000</td> <td>   -0.167</td> <td>   -0.080</td>\n",
       "</tr>\n",
       "<tr>\n",
       "  <th>4</th>     <td>   -0.1000</td> <td>    0.025</td> <td>   -3.988</td> <td> 0.000</td> <td>   -0.149</td> <td>   -0.051</td>\n",
       "</tr>\n",
       "<tr>\n",
       "  <th>5</th>     <td>   -0.0824</td> <td>    0.019</td> <td>   -4.333</td> <td> 0.000</td> <td>   -0.120</td> <td>   -0.045</td>\n",
       "</tr>\n",
       "<tr>\n",
       "  <th>6</th>     <td>    0.5470</td> <td>    0.017</td> <td>   31.324</td> <td> 0.000</td> <td>    0.513</td> <td>    0.581</td>\n",
       "</tr>\n",
       "<tr>\n",
       "  <th>7</th>     <td>    0.0813</td> <td>    0.018</td> <td>    4.450</td> <td> 0.000</td> <td>    0.046</td> <td>    0.117</td>\n",
       "</tr>\n",
       "<tr>\n",
       "  <th>8</th>     <td>   -0.1254</td> <td>    0.037</td> <td>   -3.364</td> <td> 0.001</td> <td>   -0.198</td> <td>   -0.052</td>\n",
       "</tr>\n",
       "<tr>\n",
       "  <th>9</th>     <td>   -0.0334</td> <td>    0.052</td> <td>   -0.647</td> <td> 0.518</td> <td>   -0.135</td> <td>    0.068</td>\n",
       "</tr>\n",
       "<tr>\n",
       "  <th>10</th>    <td>   -0.0125</td> <td>    0.029</td> <td>   -0.433</td> <td> 0.665</td> <td>   -0.069</td> <td>    0.044</td>\n",
       "</tr>\n",
       "<tr>\n",
       "  <th>11</th>    <td>   -0.0493</td> <td>    0.036</td> <td>   -1.385</td> <td> 0.166</td> <td>   -0.119</td> <td>    0.020</td>\n",
       "</tr>\n",
       "<tr>\n",
       "  <th>12</th>    <td>   -0.1690</td> <td>    0.071</td> <td>   -2.393</td> <td> 0.017</td> <td>   -0.307</td> <td>   -0.031</td>\n",
       "</tr>\n",
       "<tr>\n",
       "  <th>13</th>    <td>   -0.1992</td> <td>    0.082</td> <td>   -2.425</td> <td> 0.015</td> <td>   -0.360</td> <td>   -0.038</td>\n",
       "</tr>\n",
       "<tr>\n",
       "  <th>14</th>    <td>   -0.4675</td> <td>    0.039</td> <td>  -11.879</td> <td> 0.000</td> <td>   -0.545</td> <td>   -0.390</td>\n",
       "</tr>\n",
       "<tr>\n",
       "  <th>15</th>    <td>   -0.2121</td> <td>    0.037</td> <td>   -5.753</td> <td> 0.000</td> <td>   -0.284</td> <td>   -0.140</td>\n",
       "</tr>\n",
       "<tr>\n",
       "  <th>16</th>    <td>   -0.1020</td> <td>    0.073</td> <td>   -1.389</td> <td> 0.165</td> <td>   -0.246</td> <td>    0.042</td>\n",
       "</tr>\n",
       "<tr>\n",
       "  <th>17</th>    <td>   -0.1875</td> <td>    0.037</td> <td>   -5.022</td> <td> 0.000</td> <td>   -0.261</td> <td>   -0.114</td>\n",
       "</tr>\n",
       "<tr>\n",
       "  <th>18</th>    <td>   -0.1836</td> <td>    0.078</td> <td>   -2.347</td> <td> 0.019</td> <td>   -0.337</td> <td>   -0.030</td>\n",
       "</tr>\n",
       "<tr>\n",
       "  <th>19</th>    <td>   -0.0132</td> <td>    0.033</td> <td>   -0.402</td> <td> 0.688</td> <td>   -0.078</td> <td>    0.051</td>\n",
       "</tr>\n",
       "<tr>\n",
       "  <th>20</th>    <td>   -1.0164</td> <td>    0.410</td> <td>   -2.480</td> <td> 0.013</td> <td>   -1.819</td> <td>   -0.213</td>\n",
       "</tr>\n",
       "<tr>\n",
       "  <th>21</th>    <td>   -2.9055</td> <td>    1.294</td> <td>   -2.245</td> <td> 0.025</td> <td>   -5.442</td> <td>   -0.369</td>\n",
       "</tr>\n",
       "<tr>\n",
       "  <th>22</th>    <td>   -1.1376</td> <td>    0.609</td> <td>   -1.867</td> <td> 0.062</td> <td>   -2.332</td> <td>    0.057</td>\n",
       "</tr>\n",
       "<tr>\n",
       "  <th>23</th>    <td>    0.1879</td> <td>    0.101</td> <td>    1.856</td> <td> 0.063</td> <td>   -0.011</td> <td>    0.386</td>\n",
       "</tr>\n",
       "<tr>\n",
       "  <th>24</th>    <td>   -0.8281</td> <td>    0.429</td> <td>   -1.930</td> <td> 0.054</td> <td>   -1.669</td> <td>    0.013</td>\n",
       "</tr>\n",
       "<tr>\n",
       "  <th>25</th>    <td>    0.3085</td> <td>    0.065</td> <td>    4.773</td> <td> 0.000</td> <td>    0.182</td> <td>    0.435</td>\n",
       "</tr>\n",
       "<tr>\n",
       "  <th>26</th>    <td>   -0.0711</td> <td>    0.070</td> <td>   -1.010</td> <td> 0.313</td> <td>   -0.209</td> <td>    0.067</td>\n",
       "</tr>\n",
       "<tr>\n",
       "  <th>27</th>    <td>   -0.3118</td> <td>    0.174</td> <td>   -1.796</td> <td> 0.072</td> <td>   -0.652</td> <td>    0.028</td>\n",
       "</tr>\n",
       "<tr>\n",
       "  <th>28</th>    <td>    0.6020</td> <td>    0.243</td> <td>    2.479</td> <td> 0.013</td> <td>    0.126</td> <td>    1.078</td>\n",
       "</tr>\n",
       "<tr>\n",
       "  <th>29</th>    <td>    0.1453</td> <td>    0.087</td> <td>    1.662</td> <td> 0.097</td> <td>   -0.026</td> <td>    0.317</td>\n",
       "</tr>\n",
       "<tr>\n",
       "  <th>30</th>    <td>    0.0302</td> <td>    0.075</td> <td>    0.403</td> <td> 0.687</td> <td>   -0.117</td> <td>    0.177</td>\n",
       "</tr>\n",
       "<tr>\n",
       "  <th>31</th>    <td>    0.0708</td> <td>    0.044</td> <td>    1.613</td> <td> 0.107</td> <td>   -0.015</td> <td>    0.157</td>\n",
       "</tr>\n",
       "<tr>\n",
       "  <th>32</th>    <td>    0.0241</td> <td>    0.058</td> <td>    0.416</td> <td> 0.678</td> <td>   -0.090</td> <td>    0.138</td>\n",
       "</tr>\n",
       "<tr>\n",
       "  <th>33</th>    <td>   -0.0004</td> <td>    0.042</td> <td>   -0.011</td> <td> 0.992</td> <td>   -0.083</td> <td>    0.082</td>\n",
       "</tr>\n",
       "<tr>\n",
       "  <th>34</th>    <td>    0.0455</td> <td>    0.090</td> <td>    0.503</td> <td> 0.615</td> <td>   -0.132</td> <td>    0.223</td>\n",
       "</tr>\n",
       "<tr>\n",
       "  <th>35</th>    <td>   -0.3763</td> <td>    0.129</td> <td>   -2.928</td> <td> 0.003</td> <td>   -0.628</td> <td>   -0.124</td>\n",
       "</tr>\n",
       "<tr>\n",
       "  <th>36</th>    <td>   -0.1998</td> <td>    0.044</td> <td>   -4.549</td> <td> 0.000</td> <td>   -0.286</td> <td>   -0.114</td>\n",
       "</tr>\n",
       "<tr>\n",
       "  <th>37</th>    <td>   -0.1751</td> <td>    0.044</td> <td>   -3.943</td> <td> 0.000</td> <td>   -0.262</td> <td>   -0.088</td>\n",
       "</tr>\n",
       "<tr>\n",
       "  <th>38</th>    <td>   -0.1958</td> <td>    0.043</td> <td>   -4.540</td> <td> 0.000</td> <td>   -0.280</td> <td>   -0.111</td>\n",
       "</tr>\n",
       "<tr>\n",
       "  <th>39</th>    <td>   -0.0242</td> <td>    0.045</td> <td>   -0.534</td> <td> 0.593</td> <td>   -0.113</td> <td>    0.065</td>\n",
       "</tr>\n",
       "<tr>\n",
       "  <th>40</th>    <td>    0.1639</td> <td>    0.040</td> <td>    4.063</td> <td> 0.000</td> <td>    0.085</td> <td>    0.243</td>\n",
       "</tr>\n",
       "<tr>\n",
       "  <th>41</th>    <td>    0.1554</td> <td>    0.123</td> <td>    1.260</td> <td> 0.208</td> <td>   -0.086</td> <td>    0.397</td>\n",
       "</tr>\n",
       "<tr>\n",
       "  <th>42</th>    <td>    0.0141</td> <td>    0.042</td> <td>    0.340</td> <td> 0.734</td> <td>   -0.067</td> <td>    0.096</td>\n",
       "</tr>\n",
       "<tr>\n",
       "  <th>43</th>    <td>    0.1424</td> <td>    0.051</td> <td>    2.791</td> <td> 0.005</td> <td>    0.042</td> <td>    0.242</td>\n",
       "</tr>\n",
       "<tr>\n",
       "  <th>44</th>    <td>    0.0305</td> <td>    0.048</td> <td>    0.641</td> <td> 0.521</td> <td>   -0.063</td> <td>    0.124</td>\n",
       "</tr>\n",
       "<tr>\n",
       "  <th>45</th>    <td>    0.1317</td> <td>    0.069</td> <td>    1.920</td> <td> 0.055</td> <td>   -0.003</td> <td>    0.266</td>\n",
       "</tr>\n",
       "<tr>\n",
       "  <th>46</th>    <td>    0.4639</td> <td>    0.281</td> <td>    1.649</td> <td> 0.099</td> <td>   -0.087</td> <td>    1.015</td>\n",
       "</tr>\n",
       "<tr>\n",
       "  <th>47</th>    <td>   -2.1499</td> <td>    0.977</td> <td>   -2.200</td> <td> 0.028</td> <td>   -4.066</td> <td>   -0.234</td>\n",
       "</tr>\n",
       "<tr>\n",
       "  <th>48</th>    <td>    2.3717</td> <td>    1.107</td> <td>    2.142</td> <td> 0.032</td> <td>    0.202</td> <td>    4.542</td>\n",
       "</tr>\n",
       "<tr>\n",
       "  <th>49</th>    <td>    0.1181</td> <td>    0.039</td> <td>    3.018</td> <td> 0.003</td> <td>    0.041</td> <td>    0.195</td>\n",
       "</tr>\n",
       "<tr>\n",
       "  <th>50</th>    <td>   -0.5376</td> <td>    0.128</td> <td>   -4.208</td> <td> 0.000</td> <td>   -0.788</td> <td>   -0.287</td>\n",
       "</tr>\n",
       "<tr>\n",
       "  <th>51</th>    <td>   -0.2792</td> <td>    0.238</td> <td>   -1.174</td> <td> 0.240</td> <td>   -0.745</td> <td>    0.187</td>\n",
       "</tr>\n",
       "<tr>\n",
       "  <th>52</th>    <td>    1.0703</td> <td>    0.451</td> <td>    2.375</td> <td> 0.018</td> <td>    0.187</td> <td>    1.954</td>\n",
       "</tr>\n",
       "<tr>\n",
       "  <th>53</th>    <td>    0.1171</td> <td>    0.071</td> <td>    1.648</td> <td> 0.099</td> <td>   -0.022</td> <td>    0.256</td>\n",
       "</tr>\n",
       "<tr>\n",
       "  <th>54</th>    <td>   -0.0525</td> <td>    0.081</td> <td>   -0.648</td> <td> 0.517</td> <td>   -0.212</td> <td>    0.106</td>\n",
       "</tr>\n",
       "<tr>\n",
       "  <th>55</th>    <td>    0.0052</td> <td>    0.058</td> <td>    0.089</td> <td> 0.929</td> <td>   -0.109</td> <td>    0.119</td>\n",
       "</tr>\n",
       "<tr>\n",
       "  <th>56</th>    <td>   -0.3219</td> <td>    0.109</td> <td>   -2.963</td> <td> 0.003</td> <td>   -0.535</td> <td>   -0.109</td>\n",
       "</tr>\n",
       "<tr>\n",
       "  <th>57</th>    <td>    0.2077</td> <td>    0.067</td> <td>    3.096</td> <td> 0.002</td> <td>    0.076</td> <td>    0.339</td>\n",
       "</tr>\n",
       "<tr>\n",
       "  <th>58</th>    <td>   -0.1041</td> <td>    0.056</td> <td>   -1.857</td> <td> 0.063</td> <td>   -0.214</td> <td>    0.006</td>\n",
       "</tr>\n",
       "<tr>\n",
       "  <th>59</th>    <td>    0.0649</td> <td>    0.055</td> <td>    1.170</td> <td> 0.242</td> <td>   -0.044</td> <td>    0.173</td>\n",
       "</tr>\n",
       "<tr>\n",
       "  <th>60</th>    <td>   -0.0297</td> <td>    0.063</td> <td>   -0.469</td> <td> 0.639</td> <td>   -0.154</td> <td>    0.094</td>\n",
       "</tr>\n",
       "<tr>\n",
       "  <th>61</th>    <td>    0.0934</td> <td>    0.057</td> <td>    1.631</td> <td> 0.103</td> <td>   -0.019</td> <td>    0.206</td>\n",
       "</tr>\n",
       "<tr>\n",
       "  <th>62</th>    <td>    0.0789</td> <td>    0.063</td> <td>    1.256</td> <td> 0.209</td> <td>   -0.044</td> <td>    0.202</td>\n",
       "</tr>\n",
       "<tr>\n",
       "  <th>63</th>    <td>    0.0536</td> <td>    0.072</td> <td>    0.742</td> <td> 0.458</td> <td>   -0.088</td> <td>    0.195</td>\n",
       "</tr>\n",
       "<tr>\n",
       "  <th>64</th>    <td>   -0.0284</td> <td>    0.054</td> <td>   -0.524</td> <td> 0.600</td> <td>   -0.134</td> <td>    0.078</td>\n",
       "</tr>\n",
       "<tr>\n",
       "  <th>65</th>    <td>   -0.0455</td> <td>    0.070</td> <td>   -0.655</td> <td> 0.512</td> <td>   -0.182</td> <td>    0.091</td>\n",
       "</tr>\n",
       "<tr>\n",
       "  <th>66</th>    <td>   -0.2018</td> <td>    0.058</td> <td>   -3.465</td> <td> 0.001</td> <td>   -0.316</td> <td>   -0.088</td>\n",
       "</tr>\n",
       "<tr>\n",
       "  <th>67</th>    <td>   -0.1265</td> <td>    0.064</td> <td>   -1.969</td> <td> 0.049</td> <td>   -0.252</td> <td>   -0.001</td>\n",
       "</tr>\n",
       "<tr>\n",
       "  <th>68</th>    <td>   -0.1442</td> <td>    0.061</td> <td>   -2.368</td> <td> 0.018</td> <td>   -0.264</td> <td>   -0.025</td>\n",
       "</tr>\n",
       "<tr>\n",
       "  <th>69</th>    <td>    0.0543</td> <td>    0.069</td> <td>    0.788</td> <td> 0.431</td> <td>   -0.081</td> <td>    0.189</td>\n",
       "</tr>\n",
       "</table>"
      ],
      "text/plain": [
       "<class 'statsmodels.iolib.summary.Summary'>\n",
       "\"\"\"\n",
       "                 Generalized Linear Model Regression Results                  \n",
       "==============================================================================\n",
       "Dep. Variable:                  churn   No. Observations:                21013\n",
       "Model:                            GLM   Df Residuals:                    20942\n",
       "Model Family:                Binomial   Df Model:                           70\n",
       "Link Function:                  logit   Scale:                          1.0000\n",
       "Method:                          IRLS   Log-Likelihood:                -3975.3\n",
       "Date:                Sun, 30 Aug 2020   Deviance:                       7950.7\n",
       "Time:                        12:38:44   Pearson chi2:                 1.90e+05\n",
       "No. Iterations:                    12                                         \n",
       "Covariance Type:            nonrobust                                         \n",
       "==============================================================================\n",
       "                 coef    std err          z      P>|z|      [0.025      0.975]\n",
       "------------------------------------------------------------------------------\n",
       "const         -4.0909      0.140    -29.282      0.000      -4.365      -3.817\n",
       "0             -0.3148      0.018    -17.850      0.000      -0.349      -0.280\n",
       "1             -0.2165      0.017    -12.579      0.000      -0.250      -0.183\n",
       "2             -0.0288      0.013     -2.234      0.025      -0.054      -0.004\n",
       "3             -0.1236      0.022     -5.547      0.000      -0.167      -0.080\n",
       "4             -0.1000      0.025     -3.988      0.000      -0.149      -0.051\n",
       "5             -0.0824      0.019     -4.333      0.000      -0.120      -0.045\n",
       "6              0.5470      0.017     31.324      0.000       0.513       0.581\n",
       "7              0.0813      0.018      4.450      0.000       0.046       0.117\n",
       "8             -0.1254      0.037     -3.364      0.001      -0.198      -0.052\n",
       "9             -0.0334      0.052     -0.647      0.518      -0.135       0.068\n",
       "10            -0.0125      0.029     -0.433      0.665      -0.069       0.044\n",
       "11            -0.0493      0.036     -1.385      0.166      -0.119       0.020\n",
       "12            -0.1690      0.071     -2.393      0.017      -0.307      -0.031\n",
       "13            -0.1992      0.082     -2.425      0.015      -0.360      -0.038\n",
       "14            -0.4675      0.039    -11.879      0.000      -0.545      -0.390\n",
       "15            -0.2121      0.037     -5.753      0.000      -0.284      -0.140\n",
       "16            -0.1020      0.073     -1.389      0.165      -0.246       0.042\n",
       "17            -0.1875      0.037     -5.022      0.000      -0.261      -0.114\n",
       "18            -0.1836      0.078     -2.347      0.019      -0.337      -0.030\n",
       "19            -0.0132      0.033     -0.402      0.688      -0.078       0.051\n",
       "20            -1.0164      0.410     -2.480      0.013      -1.819      -0.213\n",
       "21            -2.9055      1.294     -2.245      0.025      -5.442      -0.369\n",
       "22            -1.1376      0.609     -1.867      0.062      -2.332       0.057\n",
       "23             0.1879      0.101      1.856      0.063      -0.011       0.386\n",
       "24            -0.8281      0.429     -1.930      0.054      -1.669       0.013\n",
       "25             0.3085      0.065      4.773      0.000       0.182       0.435\n",
       "26            -0.0711      0.070     -1.010      0.313      -0.209       0.067\n",
       "27            -0.3118      0.174     -1.796      0.072      -0.652       0.028\n",
       "28             0.6020      0.243      2.479      0.013       0.126       1.078\n",
       "29             0.1453      0.087      1.662      0.097      -0.026       0.317\n",
       "30             0.0302      0.075      0.403      0.687      -0.117       0.177\n",
       "31             0.0708      0.044      1.613      0.107      -0.015       0.157\n",
       "32             0.0241      0.058      0.416      0.678      -0.090       0.138\n",
       "33            -0.0004      0.042     -0.011      0.992      -0.083       0.082\n",
       "34             0.0455      0.090      0.503      0.615      -0.132       0.223\n",
       "35            -0.3763      0.129     -2.928      0.003      -0.628      -0.124\n",
       "36            -0.1998      0.044     -4.549      0.000      -0.286      -0.114\n",
       "37            -0.1751      0.044     -3.943      0.000      -0.262      -0.088\n",
       "38            -0.1958      0.043     -4.540      0.000      -0.280      -0.111\n",
       "39            -0.0242      0.045     -0.534      0.593      -0.113       0.065\n",
       "40             0.1639      0.040      4.063      0.000       0.085       0.243\n",
       "41             0.1554      0.123      1.260      0.208      -0.086       0.397\n",
       "42             0.0141      0.042      0.340      0.734      -0.067       0.096\n",
       "43             0.1424      0.051      2.791      0.005       0.042       0.242\n",
       "44             0.0305      0.048      0.641      0.521      -0.063       0.124\n",
       "45             0.1317      0.069      1.920      0.055      -0.003       0.266\n",
       "46             0.4639      0.281      1.649      0.099      -0.087       1.015\n",
       "47            -2.1499      0.977     -2.200      0.028      -4.066      -0.234\n",
       "48             2.3717      1.107      2.142      0.032       0.202       4.542\n",
       "49             0.1181      0.039      3.018      0.003       0.041       0.195\n",
       "50            -0.5376      0.128     -4.208      0.000      -0.788      -0.287\n",
       "51            -0.2792      0.238     -1.174      0.240      -0.745       0.187\n",
       "52             1.0703      0.451      2.375      0.018       0.187       1.954\n",
       "53             0.1171      0.071      1.648      0.099      -0.022       0.256\n",
       "54            -0.0525      0.081     -0.648      0.517      -0.212       0.106\n",
       "55             0.0052      0.058      0.089      0.929      -0.109       0.119\n",
       "56            -0.3219      0.109     -2.963      0.003      -0.535      -0.109\n",
       "57             0.2077      0.067      3.096      0.002       0.076       0.339\n",
       "58            -0.1041      0.056     -1.857      0.063      -0.214       0.006\n",
       "59             0.0649      0.055      1.170      0.242      -0.044       0.173\n",
       "60            -0.0297      0.063     -0.469      0.639      -0.154       0.094\n",
       "61             0.0934      0.057      1.631      0.103      -0.019       0.206\n",
       "62             0.0789      0.063      1.256      0.209      -0.044       0.202\n",
       "63             0.0536      0.072      0.742      0.458      -0.088       0.195\n",
       "64            -0.0284      0.054     -0.524      0.600      -0.134       0.078\n",
       "65            -0.0455      0.070     -0.655      0.512      -0.182       0.091\n",
       "66            -0.2018      0.058     -3.465      0.001      -0.316      -0.088\n",
       "67            -0.1265      0.064     -1.969      0.049      -0.252      -0.001\n",
       "68            -0.1442      0.061     -2.368      0.018      -0.264      -0.025\n",
       "69             0.0543      0.069      0.788      0.431      -0.081       0.189\n",
       "==============================================================================\n",
       "\"\"\""
      ]
     },
     "execution_count": 30,
     "metadata": {},
     "output_type": "execute_result"
    }
   ],
   "source": [
    "# Logistic regression model\n",
    "logm1 = sm.GLM(y_train_log,(sm.add_constant(X_train_log)), family = sm.families.Binomial())\n",
    "logm1.fit().summary()"
   ]
  },
  {
   "cell_type": "code",
   "execution_count": 32,
   "metadata": {},
   "outputs": [],
   "source": [
    "from sklearn.linear_model import LogisticRegression\n",
    "from sklearn.feature_selection import RFE"
   ]
  },
  {
   "cell_type": "code",
   "execution_count": 33,
   "metadata": {},
   "outputs": [
    {
     "name": "stderr",
     "output_type": "stream",
     "text": [
      "C:\\Users\\Naga Satya\\Anaconda3\\lib\\site-packages\\sklearn\\utils\\validation.py:71: FutureWarning: Pass n_features_to_select=25 as keyword args. From version 0.25 passing these as positional arguments will result in an error\n",
      "  FutureWarning)\n"
     ]
    }
   ],
   "source": [
    "log = LogisticRegression()\n",
    "rfe = RFE(log, 25)\n",
    "rfe = rfe.fit(X_train_log, y_train_log)"
   ]
  },
  {
   "cell_type": "code",
   "execution_count": 36,
   "metadata": {},
   "outputs": [
    {
     "name": "stdout",
     "output_type": "stream",
     "text": [
      "Int64Index([ 0,  1,  6, 14, 15, 16, 17, 20, 21, 25, 28, 34, 37, 38, 43, 47, 48,\n",
      "            50, 51, 52, 54, 56, 57, 58, 66],\n",
      "           dtype='int64')\n"
     ]
    }
   ],
   "source": [
    "cols = X_train_log.columns[rfe.support_]\n",
    "print(cols)"
   ]
  },
  {
   "cell_type": "code",
   "execution_count": 37,
   "metadata": {
    "scrolled": true
   },
   "outputs": [
    {
     "data": {
      "text/html": [
       "<table class=\"simpletable\">\n",
       "<caption>Generalized Linear Model Regression Results</caption>\n",
       "<tr>\n",
       "  <th>Dep. Variable:</th>         <td>churn</td>      <th>  No. Observations:  </th>  <td> 21013</td> \n",
       "</tr>\n",
       "<tr>\n",
       "  <th>Model:</th>                  <td>GLM</td>       <th>  Df Residuals:      </th>  <td> 20987</td> \n",
       "</tr>\n",
       "<tr>\n",
       "  <th>Model Family:</th>        <td>Binomial</td>     <th>  Df Model:          </th>  <td>    25</td> \n",
       "</tr>\n",
       "<tr>\n",
       "  <th>Link Function:</th>         <td>logit</td>      <th>  Scale:             </th> <td>  1.0000</td>\n",
       "</tr>\n",
       "<tr>\n",
       "  <th>Method:</th>                <td>IRLS</td>       <th>  Log-Likelihood:    </th> <td> -4118.9</td>\n",
       "</tr>\n",
       "<tr>\n",
       "  <th>Date:</th>            <td>Sun, 30 Aug 2020</td> <th>  Deviance:          </th> <td>  8237.8</td>\n",
       "</tr>\n",
       "<tr>\n",
       "  <th>Time:</th>                <td>12:46:28</td>     <th>  Pearson chi2:      </th> <td>6.73e+04</td>\n",
       "</tr>\n",
       "<tr>\n",
       "  <th>No. Iterations:</th>          <td>8</td>        <th>                     </th>     <td> </td>   \n",
       "</tr>\n",
       "<tr>\n",
       "  <th>Covariance Type:</th>     <td>nonrobust</td>    <th>                     </th>     <td> </td>   \n",
       "</tr>\n",
       "</table>\n",
       "<table class=\"simpletable\">\n",
       "<tr>\n",
       "    <td></td>       <th>coef</th>     <th>std err</th>      <th>z</th>      <th>P>|z|</th>  <th>[0.025</th>    <th>0.975]</th>  \n",
       "</tr>\n",
       "<tr>\n",
       "  <th>const</th> <td>   -3.7330</td> <td>    0.057</td> <td>  -65.591</td> <td> 0.000</td> <td>   -3.845</td> <td>   -3.621</td>\n",
       "</tr>\n",
       "<tr>\n",
       "  <th>0</th>     <td>   -0.2893</td> <td>    0.011</td> <td>  -26.444</td> <td> 0.000</td> <td>   -0.311</td> <td>   -0.268</td>\n",
       "</tr>\n",
       "<tr>\n",
       "  <th>1</th>     <td>   -0.2043</td> <td>    0.012</td> <td>  -17.689</td> <td> 0.000</td> <td>   -0.227</td> <td>   -0.182</td>\n",
       "</tr>\n",
       "<tr>\n",
       "  <th>6</th>     <td>    0.5315</td> <td>    0.014</td> <td>   38.490</td> <td> 0.000</td> <td>    0.504</td> <td>    0.559</td>\n",
       "</tr>\n",
       "<tr>\n",
       "  <th>14</th>    <td>   -0.4265</td> <td>    0.023</td> <td>  -18.897</td> <td> 0.000</td> <td>   -0.471</td> <td>   -0.382</td>\n",
       "</tr>\n",
       "<tr>\n",
       "  <th>15</th>    <td>   -0.1289</td> <td>    0.025</td> <td>   -5.187</td> <td> 0.000</td> <td>   -0.178</td> <td>   -0.080</td>\n",
       "</tr>\n",
       "<tr>\n",
       "  <th>16</th>    <td>   -0.1880</td> <td>    0.024</td> <td>   -7.981</td> <td> 0.000</td> <td>   -0.234</td> <td>   -0.142</td>\n",
       "</tr>\n",
       "<tr>\n",
       "  <th>17</th>    <td>   -0.1435</td> <td>    0.022</td> <td>   -6.550</td> <td> 0.000</td> <td>   -0.186</td> <td>   -0.101</td>\n",
       "</tr>\n",
       "<tr>\n",
       "  <th>20</th>    <td>   -0.2249</td> <td>    0.033</td> <td>   -6.770</td> <td> 0.000</td> <td>   -0.290</td> <td>   -0.160</td>\n",
       "</tr>\n",
       "<tr>\n",
       "  <th>21</th>    <td>   -0.3959</td> <td>    0.056</td> <td>   -7.083</td> <td> 0.000</td> <td>   -0.505</td> <td>   -0.286</td>\n",
       "</tr>\n",
       "<tr>\n",
       "  <th>25</th>    <td>    0.2298</td> <td>    0.025</td> <td>    9.024</td> <td> 0.000</td> <td>    0.180</td> <td>    0.280</td>\n",
       "</tr>\n",
       "<tr>\n",
       "  <th>28</th>    <td>    0.1442</td> <td>    0.034</td> <td>    4.272</td> <td> 0.000</td> <td>    0.078</td> <td>    0.210</td>\n",
       "</tr>\n",
       "<tr>\n",
       "  <th>34</th>    <td>    0.1534</td> <td>    0.033</td> <td>    4.677</td> <td> 0.000</td> <td>    0.089</td> <td>    0.218</td>\n",
       "</tr>\n",
       "<tr>\n",
       "  <th>37</th>    <td>   -0.2252</td> <td>    0.033</td> <td>   -6.910</td> <td> 0.000</td> <td>   -0.289</td> <td>   -0.161</td>\n",
       "</tr>\n",
       "<tr>\n",
       "  <th>38</th>    <td>   -0.2209</td> <td>    0.037</td> <td>   -5.973</td> <td> 0.000</td> <td>   -0.293</td> <td>   -0.148</td>\n",
       "</tr>\n",
       "<tr>\n",
       "  <th>43</th>    <td>    0.1488</td> <td>    0.046</td> <td>    3.238</td> <td> 0.001</td> <td>    0.059</td> <td>    0.239</td>\n",
       "</tr>\n",
       "<tr>\n",
       "  <th>47</th>    <td>   -0.3106</td> <td>    0.055</td> <td>   -5.635</td> <td> 0.000</td> <td>   -0.419</td> <td>   -0.203</td>\n",
       "</tr>\n",
       "<tr>\n",
       "  <th>48</th>    <td>    0.2717</td> <td>    0.060</td> <td>    4.500</td> <td> 0.000</td> <td>    0.153</td> <td>    0.390</td>\n",
       "</tr>\n",
       "<tr>\n",
       "  <th>50</th>    <td>   -0.3485</td> <td>    0.044</td> <td>   -7.924</td> <td> 0.000</td> <td>   -0.435</td> <td>   -0.262</td>\n",
       "</tr>\n",
       "<tr>\n",
       "  <th>51</th>    <td>    0.1697</td> <td>    0.045</td> <td>    3.771</td> <td> 0.000</td> <td>    0.082</td> <td>    0.258</td>\n",
       "</tr>\n",
       "<tr>\n",
       "  <th>52</th>    <td>    0.2225</td> <td>    0.043</td> <td>    5.234</td> <td> 0.000</td> <td>    0.139</td> <td>    0.306</td>\n",
       "</tr>\n",
       "<tr>\n",
       "  <th>54</th>    <td>   -0.2369</td> <td>    0.047</td> <td>   -5.018</td> <td> 0.000</td> <td>   -0.329</td> <td>   -0.144</td>\n",
       "</tr>\n",
       "<tr>\n",
       "  <th>56</th>    <td>   -0.1708</td> <td>    0.045</td> <td>   -3.790</td> <td> 0.000</td> <td>   -0.259</td> <td>   -0.082</td>\n",
       "</tr>\n",
       "<tr>\n",
       "  <th>57</th>    <td>    0.1477</td> <td>    0.050</td> <td>    2.974</td> <td> 0.003</td> <td>    0.050</td> <td>    0.245</td>\n",
       "</tr>\n",
       "<tr>\n",
       "  <th>58</th>    <td>   -0.1339</td> <td>    0.052</td> <td>   -2.592</td> <td> 0.010</td> <td>   -0.235</td> <td>   -0.033</td>\n",
       "</tr>\n",
       "<tr>\n",
       "  <th>66</th>    <td>   -0.1710</td> <td>    0.054</td> <td>   -3.168</td> <td> 0.002</td> <td>   -0.277</td> <td>   -0.065</td>\n",
       "</tr>\n",
       "</table>"
      ],
      "text/plain": [
       "<class 'statsmodels.iolib.summary.Summary'>\n",
       "\"\"\"\n",
       "                 Generalized Linear Model Regression Results                  \n",
       "==============================================================================\n",
       "Dep. Variable:                  churn   No. Observations:                21013\n",
       "Model:                            GLM   Df Residuals:                    20987\n",
       "Model Family:                Binomial   Df Model:                           25\n",
       "Link Function:                  logit   Scale:                          1.0000\n",
       "Method:                          IRLS   Log-Likelihood:                -4118.9\n",
       "Date:                Sun, 30 Aug 2020   Deviance:                       8237.8\n",
       "Time:                        12:46:28   Pearson chi2:                 6.73e+04\n",
       "No. Iterations:                     8                                         \n",
       "Covariance Type:            nonrobust                                         \n",
       "==============================================================================\n",
       "                 coef    std err          z      P>|z|      [0.025      0.975]\n",
       "------------------------------------------------------------------------------\n",
       "const         -3.7330      0.057    -65.591      0.000      -3.845      -3.621\n",
       "0             -0.2893      0.011    -26.444      0.000      -0.311      -0.268\n",
       "1             -0.2043      0.012    -17.689      0.000      -0.227      -0.182\n",
       "6              0.5315      0.014     38.490      0.000       0.504       0.559\n",
       "14            -0.4265      0.023    -18.897      0.000      -0.471      -0.382\n",
       "15            -0.1289      0.025     -5.187      0.000      -0.178      -0.080\n",
       "16            -0.1880      0.024     -7.981      0.000      -0.234      -0.142\n",
       "17            -0.1435      0.022     -6.550      0.000      -0.186      -0.101\n",
       "20            -0.2249      0.033     -6.770      0.000      -0.290      -0.160\n",
       "21            -0.3959      0.056     -7.083      0.000      -0.505      -0.286\n",
       "25             0.2298      0.025      9.024      0.000       0.180       0.280\n",
       "28             0.1442      0.034      4.272      0.000       0.078       0.210\n",
       "34             0.1534      0.033      4.677      0.000       0.089       0.218\n",
       "37            -0.2252      0.033     -6.910      0.000      -0.289      -0.161\n",
       "38            -0.2209      0.037     -5.973      0.000      -0.293      -0.148\n",
       "43             0.1488      0.046      3.238      0.001       0.059       0.239\n",
       "47            -0.3106      0.055     -5.635      0.000      -0.419      -0.203\n",
       "48             0.2717      0.060      4.500      0.000       0.153       0.390\n",
       "50            -0.3485      0.044     -7.924      0.000      -0.435      -0.262\n",
       "51             0.1697      0.045      3.771      0.000       0.082       0.258\n",
       "52             0.2225      0.043      5.234      0.000       0.139       0.306\n",
       "54            -0.2369      0.047     -5.018      0.000      -0.329      -0.144\n",
       "56            -0.1708      0.045     -3.790      0.000      -0.259      -0.082\n",
       "57             0.1477      0.050      2.974      0.003       0.050       0.245\n",
       "58            -0.1339      0.052     -2.592      0.010      -0.235      -0.033\n",
       "66            -0.1710      0.054     -3.168      0.002      -0.277      -0.065\n",
       "==============================================================================\n",
       "\"\"\""
      ]
     },
     "execution_count": 37,
     "metadata": {},
     "output_type": "execute_result"
    }
   ],
   "source": [
    "X_train_log_sm = sm.add_constant(X_train_log[cols])\n",
    "log2 = sm.GLM(y_train_log, X_train_log_sm, family = sm.families.Binomial())\n",
    "model2 = log2.fit()\n",
    "model2.summary()"
   ]
  },
  {
   "cell_type": "code",
   "execution_count": 39,
   "metadata": {},
   "outputs": [
    {
     "data": {
      "text/plain": [
       "12122    0.011996\n",
       "18659    0.058432\n",
       "5658     0.167903\n",
       "1434     0.420265\n",
       "4636     0.549646\n",
       "16841    0.008602\n",
       "29995    0.012482\n",
       "dtype: float64"
      ]
     },
     "execution_count": 39,
     "metadata": {},
     "output_type": "execute_result"
    }
   ],
   "source": [
    "# Getting the predicted probabilities\n",
    "y_train_log_pred = model2.predict(X_train_log_sm)\n",
    "y_train_log_pred[:7]"
   ]
  },
  {
   "cell_type": "code",
   "execution_count": 40,
   "metadata": {},
   "outputs": [
    {
     "data": {
      "text/plain": [
       "array([0.0119962 , 0.05843186, 0.16790275, 0.42026527, 0.54964605,\n",
       "       0.00860176, 0.01248236])"
      ]
     },
     "execution_count": 40,
     "metadata": {},
     "output_type": "execute_result"
    }
   ],
   "source": [
    "y_train_log_pred = y_train_log_pred.values.reshape(-1)\n",
    "y_train_log_pred[:7]"
   ]
  },
  {
   "cell_type": "code",
   "execution_count": 41,
   "metadata": {},
   "outputs": [
    {
     "data": {
      "text/html": [
       "<div>\n",
       "<style scoped>\n",
       "    .dataframe tbody tr th:only-of-type {\n",
       "        vertical-align: middle;\n",
       "    }\n",
       "\n",
       "    .dataframe tbody tr th {\n",
       "        vertical-align: top;\n",
       "    }\n",
       "\n",
       "    .dataframe thead th {\n",
       "        text-align: right;\n",
       "    }\n",
       "</style>\n",
       "<table border=\"1\" class=\"dataframe\">\n",
       "  <thead>\n",
       "    <tr style=\"text-align: right;\">\n",
       "      <th></th>\n",
       "      <th>Churn</th>\n",
       "      <th>Churn_probability</th>\n",
       "    </tr>\n",
       "  </thead>\n",
       "  <tbody>\n",
       "    <tr>\n",
       "      <th>0</th>\n",
       "      <td>0</td>\n",
       "      <td>0.011996</td>\n",
       "    </tr>\n",
       "    <tr>\n",
       "      <th>1</th>\n",
       "      <td>0</td>\n",
       "      <td>0.058432</td>\n",
       "    </tr>\n",
       "    <tr>\n",
       "      <th>2</th>\n",
       "      <td>0</td>\n",
       "      <td>0.167903</td>\n",
       "    </tr>\n",
       "    <tr>\n",
       "      <th>3</th>\n",
       "      <td>1</td>\n",
       "      <td>0.420265</td>\n",
       "    </tr>\n",
       "    <tr>\n",
       "      <th>4</th>\n",
       "      <td>1</td>\n",
       "      <td>0.549646</td>\n",
       "    </tr>\n",
       "  </tbody>\n",
       "</table>\n",
       "</div>"
      ],
      "text/plain": [
       "   Churn  Churn_probability\n",
       "0      0           0.011996\n",
       "1      0           0.058432\n",
       "2      0           0.167903\n",
       "3      1           0.420265\n",
       "4      1           0.549646"
      ]
     },
     "execution_count": 41,
     "metadata": {},
     "output_type": "execute_result"
    }
   ],
   "source": [
    "y_train_log_df = pd.DataFrame({'Churn': y_train_log.values, 'Churn_probability':y_train_log_pred})\n",
    "y_train_log_df.head()"
   ]
  },
  {
   "cell_type": "markdown",
   "metadata": {},
   "source": [
    "#### Generating the new churn column based on threshold limit"
   ]
  },
  {
   "cell_type": "code",
   "execution_count": 43,
   "metadata": {},
   "outputs": [
    {
     "data": {
      "text/html": [
       "<div>\n",
       "<style scoped>\n",
       "    .dataframe tbody tr th:only-of-type {\n",
       "        vertical-align: middle;\n",
       "    }\n",
       "\n",
       "    .dataframe tbody tr th {\n",
       "        vertical-align: top;\n",
       "    }\n",
       "\n",
       "    .dataframe thead th {\n",
       "        text-align: right;\n",
       "    }\n",
       "</style>\n",
       "<table border=\"1\" class=\"dataframe\">\n",
       "  <thead>\n",
       "    <tr style=\"text-align: right;\">\n",
       "      <th></th>\n",
       "      <th>Churn</th>\n",
       "      <th>Churn_probability</th>\n",
       "      <th>Predicted</th>\n",
       "    </tr>\n",
       "  </thead>\n",
       "  <tbody>\n",
       "    <tr>\n",
       "      <th>0</th>\n",
       "      <td>0</td>\n",
       "      <td>0.011996</td>\n",
       "      <td>0</td>\n",
       "    </tr>\n",
       "    <tr>\n",
       "      <th>1</th>\n",
       "      <td>0</td>\n",
       "      <td>0.058432</td>\n",
       "      <td>0</td>\n",
       "    </tr>\n",
       "    <tr>\n",
       "      <th>2</th>\n",
       "      <td>0</td>\n",
       "      <td>0.167903</td>\n",
       "      <td>0</td>\n",
       "    </tr>\n",
       "    <tr>\n",
       "      <th>3</th>\n",
       "      <td>1</td>\n",
       "      <td>0.420265</td>\n",
       "      <td>0</td>\n",
       "    </tr>\n",
       "    <tr>\n",
       "      <th>4</th>\n",
       "      <td>1</td>\n",
       "      <td>0.549646</td>\n",
       "      <td>1</td>\n",
       "    </tr>\n",
       "  </tbody>\n",
       "</table>\n",
       "</div>"
      ],
      "text/plain": [
       "   Churn  Churn_probability  Predicted\n",
       "0      0           0.011996          0\n",
       "1      0           0.058432          0\n",
       "2      0           0.167903          0\n",
       "3      1           0.420265          0\n",
       "4      1           0.549646          1"
      ]
     },
     "execution_count": 43,
     "metadata": {},
     "output_type": "execute_result"
    }
   ],
   "source": [
    "y_train_log_df['Predicted'] = y_train_log_df['Churn_probability'].map(lambda x: 1 if x > 0.5 else 0)\n",
    "y_train_log_df.head()"
   ]
  },
  {
   "cell_type": "code",
   "execution_count": 44,
   "metadata": {},
   "outputs": [
    {
     "data": {
      "text/plain": [
       "array([[18937,   285],\n",
       "       [ 1320,   471]], dtype=int64)"
      ]
     },
     "execution_count": 44,
     "metadata": {},
     "output_type": "execute_result"
    }
   ],
   "source": [
    "from sklearn import metrics\n",
    "\n",
    "confusion_matrix = metrics.confusion_matrix(y_train_log_df['Churn'], y_train_log_df['Predicted'])\n",
    "confusion_matrix"
   ]
  },
  {
   "cell_type": "code",
   "execution_count": 45,
   "metadata": {},
   "outputs": [
    {
     "name": "stdout",
     "output_type": "stream",
     "text": [
      "0.923618712225765\n"
     ]
    }
   ],
   "source": [
    "# Let's check the overall accuracy.\n",
    "print(metrics.accuracy_score(y_train_log_df['Churn'], y_train_log_df['Predicted']))"
   ]
  },
  {
   "cell_type": "code",
   "execution_count": 46,
   "metadata": {},
   "outputs": [],
   "source": [
    "# Check for the VIF values of the feature variables. \n",
    "from statsmodels.stats.outliers_influence import variance_inflation_factor"
   ]
  },
  {
   "cell_type": "code",
   "execution_count": 47,
   "metadata": {
    "scrolled": true
   },
   "outputs": [
    {
     "data": {
      "text/html": [
       "<div>\n",
       "<style scoped>\n",
       "    .dataframe tbody tr th:only-of-type {\n",
       "        vertical-align: middle;\n",
       "    }\n",
       "\n",
       "    .dataframe tbody tr th {\n",
       "        vertical-align: top;\n",
       "    }\n",
       "\n",
       "    .dataframe thead th {\n",
       "        text-align: right;\n",
       "    }\n",
       "</style>\n",
       "<table border=\"1\" class=\"dataframe\">\n",
       "  <thead>\n",
       "    <tr style=\"text-align: right;\">\n",
       "      <th></th>\n",
       "      <th>Features</th>\n",
       "      <th>VIF</th>\n",
       "    </tr>\n",
       "  </thead>\n",
       "  <tbody>\n",
       "    <tr>\n",
       "      <th>0</th>\n",
       "      <td>0</td>\n",
       "      <td>1.0</td>\n",
       "    </tr>\n",
       "    <tr>\n",
       "      <th>13</th>\n",
       "      <td>38</td>\n",
       "      <td>1.0</td>\n",
       "    </tr>\n",
       "    <tr>\n",
       "      <th>23</th>\n",
       "      <td>58</td>\n",
       "      <td>1.0</td>\n",
       "    </tr>\n",
       "    <tr>\n",
       "      <th>22</th>\n",
       "      <td>57</td>\n",
       "      <td>1.0</td>\n",
       "    </tr>\n",
       "    <tr>\n",
       "      <th>21</th>\n",
       "      <td>56</td>\n",
       "      <td>1.0</td>\n",
       "    </tr>\n",
       "    <tr>\n",
       "      <th>20</th>\n",
       "      <td>54</td>\n",
       "      <td>1.0</td>\n",
       "    </tr>\n",
       "    <tr>\n",
       "      <th>19</th>\n",
       "      <td>52</td>\n",
       "      <td>1.0</td>\n",
       "    </tr>\n",
       "    <tr>\n",
       "      <th>18</th>\n",
       "      <td>51</td>\n",
       "      <td>1.0</td>\n",
       "    </tr>\n",
       "    <tr>\n",
       "      <th>17</th>\n",
       "      <td>50</td>\n",
       "      <td>1.0</td>\n",
       "    </tr>\n",
       "    <tr>\n",
       "      <th>16</th>\n",
       "      <td>48</td>\n",
       "      <td>1.0</td>\n",
       "    </tr>\n",
       "    <tr>\n",
       "      <th>15</th>\n",
       "      <td>47</td>\n",
       "      <td>1.0</td>\n",
       "    </tr>\n",
       "    <tr>\n",
       "      <th>14</th>\n",
       "      <td>43</td>\n",
       "      <td>1.0</td>\n",
       "    </tr>\n",
       "    <tr>\n",
       "      <th>12</th>\n",
       "      <td>37</td>\n",
       "      <td>1.0</td>\n",
       "    </tr>\n",
       "    <tr>\n",
       "      <th>1</th>\n",
       "      <td>1</td>\n",
       "      <td>1.0</td>\n",
       "    </tr>\n",
       "    <tr>\n",
       "      <th>11</th>\n",
       "      <td>34</td>\n",
       "      <td>1.0</td>\n",
       "    </tr>\n",
       "    <tr>\n",
       "      <th>10</th>\n",
       "      <td>28</td>\n",
       "      <td>1.0</td>\n",
       "    </tr>\n",
       "    <tr>\n",
       "      <th>9</th>\n",
       "      <td>25</td>\n",
       "      <td>1.0</td>\n",
       "    </tr>\n",
       "    <tr>\n",
       "      <th>8</th>\n",
       "      <td>21</td>\n",
       "      <td>1.0</td>\n",
       "    </tr>\n",
       "    <tr>\n",
       "      <th>7</th>\n",
       "      <td>20</td>\n",
       "      <td>1.0</td>\n",
       "    </tr>\n",
       "    <tr>\n",
       "      <th>6</th>\n",
       "      <td>17</td>\n",
       "      <td>1.0</td>\n",
       "    </tr>\n",
       "    <tr>\n",
       "      <th>5</th>\n",
       "      <td>16</td>\n",
       "      <td>1.0</td>\n",
       "    </tr>\n",
       "    <tr>\n",
       "      <th>4</th>\n",
       "      <td>15</td>\n",
       "      <td>1.0</td>\n",
       "    </tr>\n",
       "    <tr>\n",
       "      <th>3</th>\n",
       "      <td>14</td>\n",
       "      <td>1.0</td>\n",
       "    </tr>\n",
       "    <tr>\n",
       "      <th>2</th>\n",
       "      <td>6</td>\n",
       "      <td>1.0</td>\n",
       "    </tr>\n",
       "    <tr>\n",
       "      <th>24</th>\n",
       "      <td>66</td>\n",
       "      <td>1.0</td>\n",
       "    </tr>\n",
       "  </tbody>\n",
       "</table>\n",
       "</div>"
      ],
      "text/plain": [
       "    Features  VIF\n",
       "0          0  1.0\n",
       "13        38  1.0\n",
       "23        58  1.0\n",
       "22        57  1.0\n",
       "21        56  1.0\n",
       "20        54  1.0\n",
       "19        52  1.0\n",
       "18        51  1.0\n",
       "17        50  1.0\n",
       "16        48  1.0\n",
       "15        47  1.0\n",
       "14        43  1.0\n",
       "12        37  1.0\n",
       "1          1  1.0\n",
       "11        34  1.0\n",
       "10        28  1.0\n",
       "9         25  1.0\n",
       "8         21  1.0\n",
       "7         20  1.0\n",
       "6         17  1.0\n",
       "5         16  1.0\n",
       "4         15  1.0\n",
       "3         14  1.0\n",
       "2          6  1.0\n",
       "24        66  1.0"
      ]
     },
     "execution_count": 47,
     "metadata": {},
     "output_type": "execute_result"
    }
   ],
   "source": [
    "# Create a dataframe that will contain the names of all the feature variables and their respective VIFs\n",
    "vif = pd.DataFrame()\n",
    "vif['Features'] = X_train_log[cols].columns\n",
    "vif['VIF'] = [variance_inflation_factor(X_train_log[cols].values, i) for i in range(X_train_log[cols].shape[1])]\n",
    "vif['VIF'] = round(vif['VIF'], 2)\n",
    "vif = vif.sort_values(by = \"VIF\", ascending = False)\n",
    "vif"
   ]
  },
  {
   "cell_type": "markdown",
   "metadata": {},
   "source": [
    "- VIF values are good to go along with the p values in the summary"
   ]
  },
  {
   "cell_type": "code",
   "execution_count": 48,
   "metadata": {},
   "outputs": [],
   "source": [
    "# metrics beyond accuracy\n",
    "TP = confusion_matrix[1,1] # true positive \n",
    "TN = confusion_matrix[0,0] # true negatives\n",
    "FP = confusion_matrix[0,1] # false positives\n",
    "FN = confusion_matrix[1,0] # false negatives"
   ]
  },
  {
   "cell_type": "code",
   "execution_count": 49,
   "metadata": {},
   "outputs": [
    {
     "data": {
      "text/plain": [
       "0.2629815745393635"
      ]
     },
     "execution_count": 49,
     "metadata": {},
     "output_type": "execute_result"
    }
   ],
   "source": [
    "# Let's see the sensitivity of our logistic regression model\n",
    "TP / float(TP+FN)"
   ]
  },
  {
   "cell_type": "code",
   "execution_count": 50,
   "metadata": {},
   "outputs": [
    {
     "data": {
      "text/plain": [
       "0.9851732389969826"
      ]
     },
     "execution_count": 50,
     "metadata": {},
     "output_type": "execute_result"
    }
   ],
   "source": [
    "# Let us calculate specificity\n",
    "TN / float(TN+FP)"
   ]
  },
  {
   "cell_type": "code",
   "execution_count": 51,
   "metadata": {},
   "outputs": [
    {
     "name": "stdout",
     "output_type": "stream",
     "text": [
      "0.014826761003017375\n"
     ]
    }
   ],
   "source": [
    "# Calculate false postive rate - predicting churn when customer does not have churned\n",
    "print(FP/ float(TN+FP))"
   ]
  },
  {
   "cell_type": "code",
   "execution_count": 52,
   "metadata": {},
   "outputs": [
    {
     "name": "stdout",
     "output_type": "stream",
     "text": [
      "0.623015873015873\n"
     ]
    }
   ],
   "source": [
    "# positive predictive value \n",
    "print (TP / float(TP+FP))"
   ]
  },
  {
   "cell_type": "markdown",
   "metadata": {},
   "source": [
    "## Finding the optimal cut-off point"
   ]
  },
  {
   "cell_type": "markdown",
   "metadata": {},
   "source": [
    "#### Based on the tradeoff between the sensitivity, specificity"
   ]
  },
  {
   "cell_type": "code",
   "execution_count": 55,
   "metadata": {
    "scrolled": true
   },
   "outputs": [
    {
     "data": {
      "text/html": [
       "<div>\n",
       "<style scoped>\n",
       "    .dataframe tbody tr th:only-of-type {\n",
       "        vertical-align: middle;\n",
       "    }\n",
       "\n",
       "    .dataframe tbody tr th {\n",
       "        vertical-align: top;\n",
       "    }\n",
       "\n",
       "    .dataframe thead th {\n",
       "        text-align: right;\n",
       "    }\n",
       "</style>\n",
       "<table border=\"1\" class=\"dataframe\">\n",
       "  <thead>\n",
       "    <tr style=\"text-align: right;\">\n",
       "      <th></th>\n",
       "      <th>Churn</th>\n",
       "      <th>Churn_probability</th>\n",
       "      <th>Predicted</th>\n",
       "      <th>0.0</th>\n",
       "      <th>0.1</th>\n",
       "      <th>0.2</th>\n",
       "      <th>0.3</th>\n",
       "      <th>0.4</th>\n",
       "      <th>0.5</th>\n",
       "      <th>0.6</th>\n",
       "      <th>0.7</th>\n",
       "      <th>0.8</th>\n",
       "      <th>0.9</th>\n",
       "    </tr>\n",
       "  </thead>\n",
       "  <tbody>\n",
       "    <tr>\n",
       "      <th>0</th>\n",
       "      <td>0</td>\n",
       "      <td>0.011996</td>\n",
       "      <td>0</td>\n",
       "      <td>1</td>\n",
       "      <td>0</td>\n",
       "      <td>0</td>\n",
       "      <td>0</td>\n",
       "      <td>0</td>\n",
       "      <td>0</td>\n",
       "      <td>0</td>\n",
       "      <td>0</td>\n",
       "      <td>0</td>\n",
       "      <td>0</td>\n",
       "    </tr>\n",
       "    <tr>\n",
       "      <th>1</th>\n",
       "      <td>0</td>\n",
       "      <td>0.058432</td>\n",
       "      <td>0</td>\n",
       "      <td>1</td>\n",
       "      <td>0</td>\n",
       "      <td>0</td>\n",
       "      <td>0</td>\n",
       "      <td>0</td>\n",
       "      <td>0</td>\n",
       "      <td>0</td>\n",
       "      <td>0</td>\n",
       "      <td>0</td>\n",
       "      <td>0</td>\n",
       "    </tr>\n",
       "    <tr>\n",
       "      <th>2</th>\n",
       "      <td>0</td>\n",
       "      <td>0.167903</td>\n",
       "      <td>0</td>\n",
       "      <td>1</td>\n",
       "      <td>1</td>\n",
       "      <td>0</td>\n",
       "      <td>0</td>\n",
       "      <td>0</td>\n",
       "      <td>0</td>\n",
       "      <td>0</td>\n",
       "      <td>0</td>\n",
       "      <td>0</td>\n",
       "      <td>0</td>\n",
       "    </tr>\n",
       "    <tr>\n",
       "      <th>3</th>\n",
       "      <td>1</td>\n",
       "      <td>0.420265</td>\n",
       "      <td>0</td>\n",
       "      <td>1</td>\n",
       "      <td>1</td>\n",
       "      <td>1</td>\n",
       "      <td>1</td>\n",
       "      <td>1</td>\n",
       "      <td>0</td>\n",
       "      <td>0</td>\n",
       "      <td>0</td>\n",
       "      <td>0</td>\n",
       "      <td>0</td>\n",
       "    </tr>\n",
       "    <tr>\n",
       "      <th>4</th>\n",
       "      <td>1</td>\n",
       "      <td>0.549646</td>\n",
       "      <td>1</td>\n",
       "      <td>1</td>\n",
       "      <td>1</td>\n",
       "      <td>1</td>\n",
       "      <td>1</td>\n",
       "      <td>1</td>\n",
       "      <td>1</td>\n",
       "      <td>0</td>\n",
       "      <td>0</td>\n",
       "      <td>0</td>\n",
       "      <td>0</td>\n",
       "    </tr>\n",
       "  </tbody>\n",
       "</table>\n",
       "</div>"
      ],
      "text/plain": [
       "   Churn  Churn_probability  Predicted  0.0  0.1  0.2  0.3  0.4  0.5  0.6  \\\n",
       "0      0           0.011996          0    1    0    0    0    0    0    0   \n",
       "1      0           0.058432          0    1    0    0    0    0    0    0   \n",
       "2      0           0.167903          0    1    1    0    0    0    0    0   \n",
       "3      1           0.420265          0    1    1    1    1    1    0    0   \n",
       "4      1           0.549646          1    1    1    1    1    1    1    0   \n",
       "\n",
       "   0.7  0.8  0.9  \n",
       "0    0    0    0  \n",
       "1    0    0    0  \n",
       "2    0    0    0  \n",
       "3    0    0    0  \n",
       "4    0    0    0  "
      ]
     },
     "execution_count": 55,
     "metadata": {},
     "output_type": "execute_result"
    }
   ],
   "source": [
    "# Let's create columns with different probability cutoffs \n",
    "numbers = [float(x)/10 for x in range(10)]\n",
    "for i in numbers:\n",
    "    y_train_log_df[i]= y_train_log_df['Churn_probability'].map(lambda x: 1 if x > i else 0)\n",
    "y_train_log_df.head()"
   ]
  },
  {
   "cell_type": "code",
   "execution_count": 56,
   "metadata": {},
   "outputs": [
    {
     "name": "stdout",
     "output_type": "stream",
     "text": [
      "     prob  accuracy     sensi     speci\n",
      "0.0   0.0  0.085233  1.000000  0.000000\n",
      "0.1   0.1  0.833056  0.797320  0.836385\n",
      "0.2   0.2  0.904630  0.686767  0.924930\n",
      "0.3   0.3  0.921905  0.568398  0.954843\n",
      "0.4   0.4  0.926522  0.427694  0.973000\n",
      "0.5   0.5  0.923619  0.262982  0.985173\n",
      "0.6   0.6  0.920716  0.144612  0.993029\n",
      "0.7   0.7  0.918193  0.074819  0.996775\n",
      "0.8   0.8  0.916385  0.030709  0.998908\n",
      "0.9   0.9  0.915100  0.005025  0.999896\n"
     ]
    }
   ],
   "source": [
    "# Now let's calculate accuracy sensitivity and specificity for various probability cutoffs.\n",
    "cutoff_df = pd.DataFrame( columns = ['prob','accuracy','sensi','speci'])\n",
    "from sklearn.metrics import confusion_matrix\n",
    "\n",
    "# TP = confusion[1,1] # true positive \n",
    "# TN = confusion[0,0] # true negatives\n",
    "# FP = confusion[0,1] # false positives\n",
    "# FN = confusion[1,0] # false negatives\n",
    "\n",
    "num = [0.0,0.1,0.2,0.3,0.4,0.5,0.6,0.7,0.8,0.9]\n",
    "for i in num:\n",
    "    cm1 = metrics.confusion_matrix(y_train_log_df.Churn, y_train_log_df[i] )\n",
    "    total1=sum(sum(cm1))\n",
    "    accuracy = (cm1[0,0]+cm1[1,1])/total1\n",
    "    \n",
    "    speci = cm1[0,0]/(cm1[0,0]+cm1[0,1])\n",
    "    sensi = cm1[1,1]/(cm1[1,0]+cm1[1,1])\n",
    "    cutoff_df.loc[i] =[ i ,accuracy,sensi,speci]\n",
    "print(cutoff_df)"
   ]
  },
  {
   "cell_type": "code",
   "execution_count": 57,
   "metadata": {},
   "outputs": [
    {
     "data": {
      "image/png": "[encoded data removed]",
      "text/plain": [
       "<Figure size 432x288 with 1 Axes>"
      ]
     },
     "metadata": {
      "needs_background": "light"
     },
     "output_type": "display_data"
    }
   ],
   "source": [
    "# Let's plot accuracy sensitivity and specificity for various probabilities.\n",
    "cutoff_df.plot.line(x='prob', y=['accuracy','sensi','speci'])\n",
    "plt.show()"
   ]
  },
  {
   "cell_type": "code",
   "execution_count": 59,
   "metadata": {},
   "outputs": [
    {
     "data": {
      "text/html": [
       "<div>\n",
       "<style scoped>\n",
       "    .dataframe tbody tr th:only-of-type {\n",
       "        vertical-align: middle;\n",
       "    }\n",
       "\n",
       "    .dataframe tbody tr th {\n",
       "        vertical-align: top;\n",
       "    }\n",
       "\n",
       "    .dataframe thead th {\n",
       "        text-align: right;\n",
       "    }\n",
       "</style>\n",
       "<table border=\"1\" class=\"dataframe\">\n",
       "  <thead>\n",
       "    <tr style=\"text-align: right;\">\n",
       "      <th></th>\n",
       "      <th>Churn</th>\n",
       "      <th>Churn_probability</th>\n",
       "      <th>Predicted</th>\n",
       "      <th>0.0</th>\n",
       "      <th>0.1</th>\n",
       "      <th>0.2</th>\n",
       "      <th>0.3</th>\n",
       "      <th>0.4</th>\n",
       "      <th>0.5</th>\n",
       "      <th>0.6</th>\n",
       "      <th>0.7</th>\n",
       "      <th>0.8</th>\n",
       "      <th>0.9</th>\n",
       "      <th>final_predicted</th>\n",
       "    </tr>\n",
       "  </thead>\n",
       "  <tbody>\n",
       "    <tr>\n",
       "      <th>0</th>\n",
       "      <td>0</td>\n",
       "      <td>0.011996</td>\n",
       "      <td>0</td>\n",
       "      <td>1</td>\n",
       "      <td>0</td>\n",
       "      <td>0</td>\n",
       "      <td>0</td>\n",
       "      <td>0</td>\n",
       "      <td>0</td>\n",
       "      <td>0</td>\n",
       "      <td>0</td>\n",
       "      <td>0</td>\n",
       "      <td>0</td>\n",
       "      <td>0</td>\n",
       "    </tr>\n",
       "    <tr>\n",
       "      <th>1</th>\n",
       "      <td>0</td>\n",
       "      <td>0.058432</td>\n",
       "      <td>0</td>\n",
       "      <td>1</td>\n",
       "      <td>0</td>\n",
       "      <td>0</td>\n",
       "      <td>0</td>\n",
       "      <td>0</td>\n",
       "      <td>0</td>\n",
       "      <td>0</td>\n",
       "      <td>0</td>\n",
       "      <td>0</td>\n",
       "      <td>0</td>\n",
       "      <td>0</td>\n",
       "    </tr>\n",
       "    <tr>\n",
       "      <th>2</th>\n",
       "      <td>0</td>\n",
       "      <td>0.167903</td>\n",
       "      <td>0</td>\n",
       "      <td>1</td>\n",
       "      <td>1</td>\n",
       "      <td>0</td>\n",
       "      <td>0</td>\n",
       "      <td>0</td>\n",
       "      <td>0</td>\n",
       "      <td>0</td>\n",
       "      <td>0</td>\n",
       "      <td>0</td>\n",
       "      <td>0</td>\n",
       "      <td>1</td>\n",
       "    </tr>\n",
       "    <tr>\n",
       "      <th>3</th>\n",
       "      <td>1</td>\n",
       "      <td>0.420265</td>\n",
       "      <td>0</td>\n",
       "      <td>1</td>\n",
       "      <td>1</td>\n",
       "      <td>1</td>\n",
       "      <td>1</td>\n",
       "      <td>1</td>\n",
       "      <td>0</td>\n",
       "      <td>0</td>\n",
       "      <td>0</td>\n",
       "      <td>0</td>\n",
       "      <td>0</td>\n",
       "      <td>1</td>\n",
       "    </tr>\n",
       "    <tr>\n",
       "      <th>4</th>\n",
       "      <td>1</td>\n",
       "      <td>0.549646</td>\n",
       "      <td>1</td>\n",
       "      <td>1</td>\n",
       "      <td>1</td>\n",
       "      <td>1</td>\n",
       "      <td>1</td>\n",
       "      <td>1</td>\n",
       "      <td>1</td>\n",
       "      <td>0</td>\n",
       "      <td>0</td>\n",
       "      <td>0</td>\n",
       "      <td>0</td>\n",
       "      <td>1</td>\n",
       "    </tr>\n",
       "  </tbody>\n",
       "</table>\n",
       "</div>"
      ],
      "text/plain": [
       "   Churn  Churn_probability  Predicted  0.0  0.1  0.2  0.3  0.4  0.5  0.6  \\\n",
       "0      0           0.011996          0    1    0    0    0    0    0    0   \n",
       "1      0           0.058432          0    1    0    0    0    0    0    0   \n",
       "2      0           0.167903          0    1    1    0    0    0    0    0   \n",
       "3      1           0.420265          0    1    1    1    1    1    0    0   \n",
       "4      1           0.549646          1    1    1    1    1    1    1    0   \n",
       "\n",
       "   0.7  0.8  0.9  final_predicted  \n",
       "0    0    0    0                0  \n",
       "1    0    0    0                0  \n",
       "2    0    0    0                1  \n",
       "3    0    0    0                1  \n",
       "4    0    0    0                1  "
      ]
     },
     "execution_count": 59,
     "metadata": {},
     "output_type": "execute_result"
    }
   ],
   "source": [
    "y_train_log_df['final_predicted'] = y_train_log_df.Churn_probability.map( lambda x: 1 if x > 0.1 else 0)\n",
    "\n",
    "y_train_log_df.head()"
   ]
  },
  {
   "cell_type": "code",
   "execution_count": 60,
   "metadata": {},
   "outputs": [
    {
     "data": {
      "text/plain": [
       "0.8330557274068434"
      ]
     },
     "execution_count": 60,
     "metadata": {},
     "output_type": "execute_result"
    }
   ],
   "source": [
    "# Let's check the overall accuracy.\n",
    "metrics.accuracy_score(y_train_log_df.Churn, y_train_log_df.final_predicted)"
   ]
  },
  {
   "cell_type": "code",
   "execution_count": 61,
   "metadata": {},
   "outputs": [
    {
     "data": {
      "text/plain": [
       "array([[16077,  3145],\n",
       "       [  363,  1428]], dtype=int64)"
      ]
     },
     "execution_count": 61,
     "metadata": {},
     "output_type": "execute_result"
    }
   ],
   "source": [
    "confusion_matrix_2 = metrics.confusion_matrix(y_train_log_df.Churn, y_train_log_df.final_predicted )\n",
    "confusion_matrix_2"
   ]
  },
  {
   "cell_type": "code",
   "execution_count": 63,
   "metadata": {},
   "outputs": [],
   "source": [
    "TP = confusion_matrix_2[1,1] # true positive \n",
    "TN = confusion_matrix_2[0,0] # true negatives\n",
    "FP = confusion_matrix_2[0,1] # false positives\n",
    "FN = confusion_matrix_2[1,0] # false negatives"
   ]
  },
  {
   "cell_type": "code",
   "execution_count": 64,
   "metadata": {},
   "outputs": [
    {
     "data": {
      "text/plain": [
       "0.7973199329983249"
      ]
     },
     "execution_count": 64,
     "metadata": {},
     "output_type": "execute_result"
    }
   ],
   "source": [
    "# Let's see the sensitivity of our logistic regression model\n",
    "TP / float(TP+FN)"
   ]
  },
  {
   "cell_type": "code",
   "execution_count": 65,
   "metadata": {},
   "outputs": [
    {
     "data": {
      "text/plain": [
       "0.8363853917386328"
      ]
     },
     "execution_count": 65,
     "metadata": {},
     "output_type": "execute_result"
    }
   ],
   "source": [
    "# Let us calculate specificity\n",
    "TN / float(TN+FP)"
   ]
  },
  {
   "cell_type": "markdown",
   "metadata": {},
   "source": [
    "### Precision and recall for the model"
   ]
  },
  {
   "cell_type": "code",
   "execution_count": 68,
   "metadata": {
    "scrolled": true
   },
   "outputs": [
    {
     "data": {
      "text/plain": [
       "array([[18937,   285],\n",
       "       [ 1320,   471]], dtype=int64)"
      ]
     },
     "execution_count": 68,
     "metadata": {},
     "output_type": "execute_result"
    }
   ],
   "source": [
    "confusion = metrics.confusion_matrix(y_train_log_df.Churn, y_train_log_df.Predicted )\n",
    "confusion"
   ]
  },
  {
   "cell_type": "markdown",
   "metadata": {},
   "source": [
    "#### Precision"
   ]
  },
  {
   "cell_type": "code",
   "execution_count": 69,
   "metadata": {},
   "outputs": [
    {
     "data": {
      "text/plain": [
       "0.623015873015873"
      ]
     },
     "execution_count": 69,
     "metadata": {},
     "output_type": "execute_result"
    }
   ],
   "source": [
    "confusion[1,1]/(confusion[0,1]+confusion[1,1])"
   ]
  },
  {
   "cell_type": "markdown",
   "metadata": {},
   "source": [
    "#### Recall"
   ]
  },
  {
   "cell_type": "code",
   "execution_count": 70,
   "metadata": {},
   "outputs": [
    {
     "data": {
      "text/plain": [
       "0.2629815745393635"
      ]
     },
     "execution_count": 70,
     "metadata": {},
     "output_type": "execute_result"
    }
   ],
   "source": [
    "confusion[1,1]/(confusion[1,0]+confusion[1,1])"
   ]
  },
  {
   "cell_type": "markdown",
   "metadata": {},
   "source": [
    "### Precision & recall tradeoff"
   ]
  },
  {
   "cell_type": "code",
   "execution_count": 71,
   "metadata": {},
   "outputs": [],
   "source": [
    "from sklearn.metrics import precision_recall_curve"
   ]
  },
  {
   "cell_type": "code",
   "execution_count": 72,
   "metadata": {
    "scrolled": true
   },
   "outputs": [
    {
     "data": {
      "text/plain": [
       "(0        0\n",
       " 1        0\n",
       " 2        0\n",
       " 3        1\n",
       " 4        1\n",
       "         ..\n",
       " 21008    0\n",
       " 21009    0\n",
       " 21010    1\n",
       " 21011    0\n",
       " 21012    0\n",
       " Name: Churn, Length: 21013, dtype: int64,\n",
       " 0        0\n",
       " 1        0\n",
       " 2        0\n",
       " 3        0\n",
       " 4        1\n",
       "         ..\n",
       " 21008    0\n",
       " 21009    0\n",
       " 21010    0\n",
       " 21011    0\n",
       " 21012    0\n",
       " Name: Predicted, Length: 21013, dtype: int64)"
      ]
     },
     "execution_count": 72,
     "metadata": {},
     "output_type": "execute_result"
    }
   ],
   "source": [
    "y_train_log_df.Churn, y_train_log_df.Predicted"
   ]
  },
  {
   "cell_type": "code",
   "execution_count": 74,
   "metadata": {},
   "outputs": [],
   "source": [
    "p, r, thresholds = precision_recall_curve(y_train_log_df.Churn, y_train_log_df.Churn_probability)"
   ]
  },
  {
   "cell_type": "code",
   "execution_count": 75,
   "metadata": {},
   "outputs": [
    {
     "data": {
      "image/png": "[encoded data removed]",
      "text/plain": [
       "<Figure size 432x288 with 1 Axes>"
      ]
     },
     "metadata": {
      "needs_background": "light"
     },
     "output_type": "display_data"
    }
   ],
   "source": [
    "plt.plot(thresholds, p[:-1], \"g-\")\n",
    "plt.plot(thresholds, r[:-1], \"r-\")\n",
    "plt.show()"
   ]
  },
  {
   "cell_type": "markdown",
   "metadata": {},
   "source": [
    "### Predictions on the test set"
   ]
  },
  {
   "cell_type": "code",
   "execution_count": 78,
   "metadata": {},
   "outputs": [],
   "source": [
    "X_test_log_sm = sm.add_constant(X_test_log)"
   ]
  },
  {
   "cell_type": "code",
   "execution_count": null,
   "metadata": {},
   "outputs": [],
   "source": []
  }
 ],
 "metadata": {
  "kernelspec": {
   "display_name": "Python 3",
   "language": "python",
   "name": "python3"
  },
  "language_info": {
   "codemirror_mode": {
    "name": "ipython",
    "version": 3
   },
   "file_extension": ".py",
   "mimetype": "text/x-python",
   "name": "python",
   "nbconvert_exporter": "python",
   "pygments_lexer": "ipython3",
   "version": "3.6.5"
  }
 },
 "nbformat": 4,
 "nbformat_minor": 4
}
