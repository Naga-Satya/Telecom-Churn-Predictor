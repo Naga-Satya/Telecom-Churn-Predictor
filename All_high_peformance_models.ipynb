{
 "cells": [
  {
   "cell_type": "code",
   "execution_count": 1,
   "metadata": {},
   "outputs": [],
   "source": [
    "import pandas as pd, numpy as np\n",
    "import matplotlib.pyplot as plt, seaborn as sns"
   ]
  },
  {
   "cell_type": "markdown",
   "metadata": {},
   "source": [
    "#### Reading the data for high performance models"
   ]
  },
  {
   "cell_type": "code",
   "execution_count": 2,
   "metadata": {},
   "outputs": [
    {
     "data": {
      "text/html": [
       "<div>\n",
       "<style scoped>\n",
       "    .dataframe tbody tr th:only-of-type {\n",
       "        vertical-align: middle;\n",
       "    }\n",
       "\n",
       "    .dataframe tbody tr th {\n",
       "        vertical-align: top;\n",
       "    }\n",
       "\n",
       "    .dataframe thead th {\n",
       "        text-align: right;\n",
       "    }\n",
       "</style>\n",
       "<table border=\"1\" class=\"dataframe\">\n",
       "  <thead>\n",
       "    <tr style=\"text-align: right;\">\n",
       "      <th></th>\n",
       "      <th>loc_og_t2o_mou</th>\n",
       "      <th>std_og_t2o_mou</th>\n",
       "      <th>loc_ic_t2o_mou</th>\n",
       "      <th>arpu_6</th>\n",
       "      <th>arpu_7</th>\n",
       "      <th>arpu_8</th>\n",
       "      <th>onnet_mou_6</th>\n",
       "      <th>onnet_mou_7</th>\n",
       "      <th>onnet_mou_8</th>\n",
       "      <th>offnet_mou_6</th>\n",
       "      <th>...</th>\n",
       "      <th>fb_user_7</th>\n",
       "      <th>fb_user_8</th>\n",
       "      <th>aon</th>\n",
       "      <th>aug_vbc_3g</th>\n",
       "      <th>jul_vbc_3g</th>\n",
       "      <th>jun_vbc_3g</th>\n",
       "      <th>tot_monthly_recharge_6</th>\n",
       "      <th>tot_monthly_recharge_7</th>\n",
       "      <th>average_recharge_6_7</th>\n",
       "      <th>churn</th>\n",
       "    </tr>\n",
       "  </thead>\n",
       "  <tbody>\n",
       "    <tr>\n",
       "      <th>0</th>\n",
       "      <td>0.0</td>\n",
       "      <td>0.0</td>\n",
       "      <td>0.0</td>\n",
       "      <td>1069.180</td>\n",
       "      <td>1349.850</td>\n",
       "      <td>1519.213488</td>\n",
       "      <td>57.84</td>\n",
       "      <td>54.68</td>\n",
       "      <td>52.29</td>\n",
       "      <td>453.43</td>\n",
       "      <td>...</td>\n",
       "      <td>-1.0</td>\n",
       "      <td>-1.0</td>\n",
       "      <td>802.0</td>\n",
       "      <td>57.74</td>\n",
       "      <td>19.38</td>\n",
       "      <td>18.74</td>\n",
       "      <td>1580.0</td>\n",
       "      <td>790.0</td>\n",
       "      <td>1185.0</td>\n",
       "      <td>1</td>\n",
       "    </tr>\n",
       "    <tr>\n",
       "      <th>1</th>\n",
       "      <td>0.0</td>\n",
       "      <td>0.0</td>\n",
       "      <td>0.0</td>\n",
       "      <td>378.721</td>\n",
       "      <td>492.223</td>\n",
       "      <td>137.362000</td>\n",
       "      <td>413.69</td>\n",
       "      <td>351.03</td>\n",
       "      <td>35.08</td>\n",
       "      <td>94.66</td>\n",
       "      <td>...</td>\n",
       "      <td>1.0</td>\n",
       "      <td>1.0</td>\n",
       "      <td>315.0</td>\n",
       "      <td>21.03</td>\n",
       "      <td>910.65</td>\n",
       "      <td>122.16</td>\n",
       "      <td>437.0</td>\n",
       "      <td>603.0</td>\n",
       "      <td>520.0</td>\n",
       "      <td>0</td>\n",
       "    </tr>\n",
       "    <tr>\n",
       "      <th>2</th>\n",
       "      <td>0.0</td>\n",
       "      <td>0.0</td>\n",
       "      <td>0.0</td>\n",
       "      <td>492.846</td>\n",
       "      <td>205.671</td>\n",
       "      <td>593.260000</td>\n",
       "      <td>501.76</td>\n",
       "      <td>108.39</td>\n",
       "      <td>534.24</td>\n",
       "      <td>413.31</td>\n",
       "      <td>...</td>\n",
       "      <td>-1.0</td>\n",
       "      <td>1.0</td>\n",
       "      <td>2607.0</td>\n",
       "      <td>0.00</td>\n",
       "      <td>0.00</td>\n",
       "      <td>0.00</td>\n",
       "      <td>507.0</td>\n",
       "      <td>253.0</td>\n",
       "      <td>380.0</td>\n",
       "      <td>0</td>\n",
       "    </tr>\n",
       "    <tr>\n",
       "      <th>3</th>\n",
       "      <td>0.0</td>\n",
       "      <td>0.0</td>\n",
       "      <td>0.0</td>\n",
       "      <td>430.975</td>\n",
       "      <td>299.869</td>\n",
       "      <td>187.894000</td>\n",
       "      <td>50.51</td>\n",
       "      <td>74.01</td>\n",
       "      <td>70.61</td>\n",
       "      <td>296.29</td>\n",
       "      <td>...</td>\n",
       "      <td>-1.0</td>\n",
       "      <td>-1.0</td>\n",
       "      <td>511.0</td>\n",
       "      <td>0.00</td>\n",
       "      <td>2.45</td>\n",
       "      <td>21.89</td>\n",
       "      <td>570.0</td>\n",
       "      <td>348.0</td>\n",
       "      <td>459.0</td>\n",
       "      <td>0</td>\n",
       "    </tr>\n",
       "    <tr>\n",
       "      <th>4</th>\n",
       "      <td>0.0</td>\n",
       "      <td>0.0</td>\n",
       "      <td>0.0</td>\n",
       "      <td>690.008</td>\n",
       "      <td>18.980</td>\n",
       "      <td>25.499000</td>\n",
       "      <td>1185.91</td>\n",
       "      <td>9.28</td>\n",
       "      <td>7.79</td>\n",
       "      <td>61.64</td>\n",
       "      <td>...</td>\n",
       "      <td>-1.0</td>\n",
       "      <td>-1.0</td>\n",
       "      <td>667.0</td>\n",
       "      <td>0.00</td>\n",
       "      <td>0.00</td>\n",
       "      <td>0.00</td>\n",
       "      <td>816.0</td>\n",
       "      <td>0.0</td>\n",
       "      <td>408.0</td>\n",
       "      <td>0</td>\n",
       "    </tr>\n",
       "  </tbody>\n",
       "</table>\n",
       "<p>5 rows × 158 columns</p>\n",
       "</div>"
      ],
      "text/plain": [
       "   loc_og_t2o_mou  std_og_t2o_mou  loc_ic_t2o_mou    arpu_6    arpu_7  \\\n",
       "0             0.0             0.0             0.0  1069.180  1349.850   \n",
       "1             0.0             0.0             0.0   378.721   492.223   \n",
       "2             0.0             0.0             0.0   492.846   205.671   \n",
       "3             0.0             0.0             0.0   430.975   299.869   \n",
       "4             0.0             0.0             0.0   690.008    18.980   \n",
       "\n",
       "        arpu_8  onnet_mou_6  onnet_mou_7  onnet_mou_8  offnet_mou_6  ...  \\\n",
       "0  1519.213488        57.84        54.68        52.29        453.43  ...   \n",
       "1   137.362000       413.69       351.03        35.08         94.66  ...   \n",
       "2   593.260000       501.76       108.39       534.24        413.31  ...   \n",
       "3   187.894000        50.51        74.01        70.61        296.29  ...   \n",
       "4    25.499000      1185.91         9.28         7.79         61.64  ...   \n",
       "\n",
       "   fb_user_7  fb_user_8     aon  aug_vbc_3g  jul_vbc_3g  jun_vbc_3g  \\\n",
       "0       -1.0       -1.0   802.0       57.74       19.38       18.74   \n",
       "1        1.0        1.0   315.0       21.03      910.65      122.16   \n",
       "2       -1.0        1.0  2607.0        0.00        0.00        0.00   \n",
       "3       -1.0       -1.0   511.0        0.00        2.45       21.89   \n",
       "4       -1.0       -1.0   667.0        0.00        0.00        0.00   \n",
       "\n",
       "   tot_monthly_recharge_6  tot_monthly_recharge_7  average_recharge_6_7  churn  \n",
       "0                  1580.0                   790.0                1185.0      1  \n",
       "1                   437.0                   603.0                 520.0      0  \n",
       "2                   507.0                   253.0                 380.0      0  \n",
       "3                   570.0                   348.0                 459.0      0  \n",
       "4                   816.0                     0.0                 408.0      0  \n",
       "\n",
       "[5 rows x 158 columns]"
      ]
     },
     "execution_count": 2,
     "metadata": {},
     "output_type": "execute_result"
    }
   ],
   "source": [
    "high_perf_df = pd.read_csv(\"data_for_high_performance_models.csv\")\n",
    "high_perf_df.head()"
   ]
  },
  {
   "cell_type": "code",
   "execution_count": 3,
   "metadata": {},
   "outputs": [
    {
     "data": {
      "text/plain": [
       "(30019, 158)"
      ]
     },
     "execution_count": 3,
     "metadata": {},
     "output_type": "execute_result"
    }
   ],
   "source": [
    "high_perf_df.shape"
   ]
  },
  {
   "cell_type": "markdown",
   "metadata": {},
   "source": [
    "##### Storing the target varible in the target_var"
   ]
  },
  {
   "cell_type": "code",
   "execution_count": 4,
   "metadata": {},
   "outputs": [],
   "source": [
    "target_var = high_perf_df['churn']"
   ]
  },
  {
   "cell_type": "code",
   "execution_count": 5,
   "metadata": {},
   "outputs": [
    {
     "data": {
      "text/plain": [
       "(30019, 157)"
      ]
     },
     "execution_count": 5,
     "metadata": {},
     "output_type": "execute_result"
    }
   ],
   "source": [
    "high_perf_df.drop('churn', axis = 1, inplace = True)\n",
    "high_perf_df.shape"
   ]
  },
  {
   "cell_type": "code",
   "execution_count": 6,
   "metadata": {},
   "outputs": [],
   "source": [
    "from sklearn.preprocessing import StandardScaler"
   ]
  },
  {
   "cell_type": "markdown",
   "metadata": {},
   "source": [
    "#### Scaling before performing the PCA"
   ]
  },
  {
   "cell_type": "code",
   "execution_count": 7,
   "metadata": {
    "scrolled": false
   },
   "outputs": [
    {
     "data": {
      "text/html": [
       "<div>\n",
       "<style scoped>\n",
       "    .dataframe tbody tr th:only-of-type {\n",
       "        vertical-align: middle;\n",
       "    }\n",
       "\n",
       "    .dataframe tbody tr th {\n",
       "        vertical-align: top;\n",
       "    }\n",
       "\n",
       "    .dataframe thead th {\n",
       "        text-align: right;\n",
       "    }\n",
       "</style>\n",
       "<table border=\"1\" class=\"dataframe\">\n",
       "  <thead>\n",
       "    <tr style=\"text-align: right;\">\n",
       "      <th></th>\n",
       "      <th>loc_og_t2o_mou</th>\n",
       "      <th>std_og_t2o_mou</th>\n",
       "      <th>loc_ic_t2o_mou</th>\n",
       "      <th>arpu_6</th>\n",
       "      <th>arpu_7</th>\n",
       "      <th>arpu_8</th>\n",
       "      <th>onnet_mou_6</th>\n",
       "      <th>onnet_mou_7</th>\n",
       "      <th>onnet_mou_8</th>\n",
       "      <th>offnet_mou_6</th>\n",
       "      <th>...</th>\n",
       "      <th>fb_user_6</th>\n",
       "      <th>fb_user_7</th>\n",
       "      <th>fb_user_8</th>\n",
       "      <th>aon</th>\n",
       "      <th>aug_vbc_3g</th>\n",
       "      <th>jul_vbc_3g</th>\n",
       "      <th>jun_vbc_3g</th>\n",
       "      <th>tot_monthly_recharge_6</th>\n",
       "      <th>tot_monthly_recharge_7</th>\n",
       "      <th>average_recharge_6_7</th>\n",
       "    </tr>\n",
       "  </thead>\n",
       "  <tbody>\n",
       "    <tr>\n",
       "      <th>0</th>\n",
       "      <td>0.0</td>\n",
       "      <td>0.0</td>\n",
       "      <td>0.0</td>\n",
       "      <td>1.636538</td>\n",
       "      <td>2.510202</td>\n",
       "      <td>2.917916</td>\n",
       "      <td>-0.632765</td>\n",
       "      <td>-0.638199</td>\n",
       "      <td>-0.582044</td>\n",
       "      <td>0.183719</td>\n",
       "      <td>...</td>\n",
       "      <td>-0.769198</td>\n",
       "      <td>-0.782245</td>\n",
       "      <td>-0.778856</td>\n",
       "      <td>-0.474119</td>\n",
       "      <td>-0.182020</td>\n",
       "      <td>-0.345100</td>\n",
       "      <td>-0.325309</td>\n",
       "      <td>2.459186</td>\n",
       "      <td>0.303607</td>\n",
       "      <td>1.619414</td>\n",
       "    </tr>\n",
       "    <tr>\n",
       "      <th>1</th>\n",
       "      <td>0.0</td>\n",
       "      <td>0.0</td>\n",
       "      <td>0.0</td>\n",
       "      <td>-0.621115</td>\n",
       "      <td>-0.254252</td>\n",
       "      <td>-1.102039</td>\n",
       "      <td>0.447605</td>\n",
       "      <td>0.226780</td>\n",
       "      <td>-0.636276</td>\n",
       "      <td>-0.848816</td>\n",
       "      <td>...</td>\n",
       "      <td>-0.769198</td>\n",
       "      <td>1.340344</td>\n",
       "      <td>1.379308</td>\n",
       "      <td>-0.990277</td>\n",
       "      <td>-0.336839</td>\n",
       "      <td>3.261082</td>\n",
       "      <td>0.130323</td>\n",
       "      <td>-0.647940</td>\n",
       "      <td>-0.188103</td>\n",
       "      <td>-0.502097</td>\n",
       "    </tr>\n",
       "    <tr>\n",
       "      <th>2</th>\n",
       "      <td>0.0</td>\n",
       "      <td>0.0</td>\n",
       "      <td>0.0</td>\n",
       "      <td>-0.247950</td>\n",
       "      <td>-1.177916</td>\n",
       "      <td>0.224218</td>\n",
       "      <td>0.714988</td>\n",
       "      <td>-0.481432</td>\n",
       "      <td>0.936688</td>\n",
       "      <td>0.068254</td>\n",
       "      <td>...</td>\n",
       "      <td>-0.769198</td>\n",
       "      <td>-0.782245</td>\n",
       "      <td>1.379308</td>\n",
       "      <td>1.438951</td>\n",
       "      <td>-0.425530</td>\n",
       "      <td>-0.423514</td>\n",
       "      <td>-0.407870</td>\n",
       "      <td>-0.457652</td>\n",
       "      <td>-1.108415</td>\n",
       "      <td>-0.948731</td>\n",
       "    </tr>\n",
       "    <tr>\n",
       "      <th>3</th>\n",
       "      <td>0.0</td>\n",
       "      <td>0.0</td>\n",
       "      <td>0.0</td>\n",
       "      <td>-0.450255</td>\n",
       "      <td>-0.874281</td>\n",
       "      <td>-0.955036</td>\n",
       "      <td>-0.655019</td>\n",
       "      <td>-0.581779</td>\n",
       "      <td>-0.524313</td>\n",
       "      <td>-0.268528</td>\n",
       "      <td>...</td>\n",
       "      <td>-0.769198</td>\n",
       "      <td>-0.782245</td>\n",
       "      <td>-0.778856</td>\n",
       "      <td>-0.782542</td>\n",
       "      <td>-0.425530</td>\n",
       "      <td>-0.413601</td>\n",
       "      <td>-0.311431</td>\n",
       "      <td>-0.286393</td>\n",
       "      <td>-0.858616</td>\n",
       "      <td>-0.696702</td>\n",
       "    </tr>\n",
       "    <tr>\n",
       "      <th>4</th>\n",
       "      <td>0.0</td>\n",
       "      <td>0.0</td>\n",
       "      <td>0.0</td>\n",
       "      <td>0.396727</td>\n",
       "      <td>-1.779691</td>\n",
       "      <td>-1.427460</td>\n",
       "      <td>2.792086</td>\n",
       "      <td>-0.770712</td>\n",
       "      <td>-0.722273</td>\n",
       "      <td>-0.943847</td>\n",
       "      <td>...</td>\n",
       "      <td>-0.769198</td>\n",
       "      <td>-0.782245</td>\n",
       "      <td>-0.778856</td>\n",
       "      <td>-0.617202</td>\n",
       "      <td>-0.425530</td>\n",
       "      <td>-0.423514</td>\n",
       "      <td>-0.407870</td>\n",
       "      <td>0.382332</td>\n",
       "      <td>-1.773670</td>\n",
       "      <td>-0.859404</td>\n",
       "    </tr>\n",
       "  </tbody>\n",
       "</table>\n",
       "<p>5 rows × 157 columns</p>\n",
       "</div>"
      ],
      "text/plain": [
       "   loc_og_t2o_mou  std_og_t2o_mou  loc_ic_t2o_mou    arpu_6    arpu_7  \\\n",
       "0             0.0             0.0             0.0  1.636538  2.510202   \n",
       "1             0.0             0.0             0.0 -0.621115 -0.254252   \n",
       "2             0.0             0.0             0.0 -0.247950 -1.177916   \n",
       "3             0.0             0.0             0.0 -0.450255 -0.874281   \n",
       "4             0.0             0.0             0.0  0.396727 -1.779691   \n",
       "\n",
       "     arpu_8  onnet_mou_6  onnet_mou_7  onnet_mou_8  offnet_mou_6  ...  \\\n",
       "0  2.917916    -0.632765    -0.638199    -0.582044      0.183719  ...   \n",
       "1 -1.102039     0.447605     0.226780    -0.636276     -0.848816  ...   \n",
       "2  0.224218     0.714988    -0.481432     0.936688      0.068254  ...   \n",
       "3 -0.955036    -0.655019    -0.581779    -0.524313     -0.268528  ...   \n",
       "4 -1.427460     2.792086    -0.770712    -0.722273     -0.943847  ...   \n",
       "\n",
       "   fb_user_6  fb_user_7  fb_user_8       aon  aug_vbc_3g  jul_vbc_3g  \\\n",
       "0  -0.769198  -0.782245  -0.778856 -0.474119   -0.182020   -0.345100   \n",
       "1  -0.769198   1.340344   1.379308 -0.990277   -0.336839    3.261082   \n",
       "2  -0.769198  -0.782245   1.379308  1.438951   -0.425530   -0.423514   \n",
       "3  -0.769198  -0.782245  -0.778856 -0.782542   -0.425530   -0.413601   \n",
       "4  -0.769198  -0.782245  -0.778856 -0.617202   -0.425530   -0.423514   \n",
       "\n",
       "   jun_vbc_3g  tot_monthly_recharge_6  tot_monthly_recharge_7  \\\n",
       "0   -0.325309                2.459186                0.303607   \n",
       "1    0.130323               -0.647940               -0.188103   \n",
       "2   -0.407870               -0.457652               -1.108415   \n",
       "3   -0.311431               -0.286393               -0.858616   \n",
       "4   -0.407870                0.382332               -1.773670   \n",
       "\n",
       "   average_recharge_6_7  \n",
       "0              1.619414  \n",
       "1             -0.502097  \n",
       "2             -0.948731  \n",
       "3             -0.696702  \n",
       "4             -0.859404  \n",
       "\n",
       "[5 rows x 157 columns]"
      ]
     },
     "execution_count": 7,
     "metadata": {},
     "output_type": "execute_result"
    }
   ],
   "source": [
    "num_cols = high_perf_df.select_dtypes(include = ['int64', 'float64']).columns\n",
    "\n",
    "scaler = StandardScaler()\n",
    "high_perf_df[num_cols] = scaler.fit_transform(high_perf_df[num_cols])\n",
    "high_perf_df.head()"
   ]
  },
  {
   "cell_type": "code",
   "execution_count": 8,
   "metadata": {},
   "outputs": [],
   "source": [
    "X_train = high_perf_df"
   ]
  },
  {
   "cell_type": "code",
   "execution_count": 9,
   "metadata": {},
   "outputs": [],
   "source": [
    "y = target_var"
   ]
  },
  {
   "cell_type": "code",
   "execution_count": 10,
   "metadata": {},
   "outputs": [
    {
     "data": {
      "text/plain": [
       "2590"
      ]
     },
     "execution_count": 10,
     "metadata": {},
     "output_type": "execute_result"
    }
   ],
   "source": [
    "y.value_counts()[1]"
   ]
  },
  {
   "cell_type": "markdown",
   "metadata": {},
   "source": [
    "## Class Imbalance handling using SMOTE "
   ]
  },
  {
   "cell_type": "code",
   "execution_count": 11,
   "metadata": {
    "scrolled": true
   },
   "outputs": [
    {
     "name": "stdout",
     "output_type": "stream",
     "text": [
      "Dimenstions of churn data before SMOTE\n",
      "Before OverSampling, counts of label '1': 2590\n",
      "Before OverSampling, counts of label '0': 27429\n",
      "After OverSampling, counts of label '1': 27429\n",
      "After OverSampling, counts of label '0': 27429\n"
     ]
    }
   ],
   "source": [
    "from imblearn.over_sampling import SMOTE\n",
    "\n",
    "print(\"Dimenstions of churn data before SMOTE\")\n",
    "print(\"Before OverSampling, counts of label '1': {}\".format(y.value_counts()[1]))\n",
    "print(\"Before OverSampling, counts of label '0': {}\".format(y.value_counts()[0]))\n",
    "sm = SMOTE(random_state=2)\n",
    "X_train_res, y_res = sm.fit_sample(X_train, y.ravel())\n",
    "print(\"After OverSampling, counts of label '1': {}\".format(sum(y_res==1)))\n",
    "print(\"After OverSampling, counts of label '0': {}\".format(sum(y_res==0)))"
   ]
  },
  {
   "cell_type": "markdown",
   "metadata": {},
   "source": [
    "#### y is stored in y_res & X in X_train_res"
   ]
  },
  {
   "cell_type": "code",
   "execution_count": 12,
   "metadata": {},
   "outputs": [],
   "source": [
    "high_perf_df = X_train_res"
   ]
  },
  {
   "cell_type": "markdown",
   "metadata": {},
   "source": [
    "### PCA"
   ]
  },
  {
   "cell_type": "code",
   "execution_count": 13,
   "metadata": {},
   "outputs": [],
   "source": [
    "from sklearn.decomposition import PCA"
   ]
  },
  {
   "cell_type": "markdown",
   "metadata": {},
   "source": [
    "##### PCA for variables explaining 90% variance"
   ]
  },
  {
   "cell_type": "code",
   "execution_count": 14,
   "metadata": {},
   "outputs": [
    {
     "data": {
      "text/plain": [
       "(54858, 51)"
      ]
     },
     "execution_count": 14,
     "metadata": {},
     "output_type": "execute_result"
    }
   ],
   "source": [
    "pca = PCA(0.90)\n",
    "pca_data = pca.fit_transform(high_perf_df)\n",
    "pca_data.shape"
   ]
  },
  {
   "cell_type": "code",
   "execution_count": 15,
   "metadata": {},
   "outputs": [],
   "source": [
    "# Calculating the cumulative scores of all features\n",
    "var_cumu = np.cumsum(pca.explained_variance_ratio_)"
   ]
  },
  {
   "cell_type": "code",
   "execution_count": 16,
   "metadata": {},
   "outputs": [
    {
     "data": {
      "text/plain": [
       "[<matplotlib.lines.Line2D at 0x212edac9eb8>]"
      ]
     },
     "execution_count": 16,
     "metadata": {},
     "output_type": "execute_result"
    },
    {
     "data": {
      "image/png": "[encoded data removed]",
      "text/plain": [
       "<Figure size 432x288 with 1 Axes>"
      ]
     },
     "metadata": {
      "needs_background": "light"
     },
     "output_type": "display_data"
    }
   ],
   "source": [
    "plt.plot(range(1, len(var_cumu)+1), var_cumu)"
   ]
  },
  {
   "cell_type": "markdown",
   "metadata": {},
   "source": [
    "#### PCA for variables explaining 95% variance"
   ]
  },
  {
   "cell_type": "code",
   "execution_count": 17,
   "metadata": {},
   "outputs": [
    {
     "data": {
      "text/plain": [
       "(54858, 69)"
      ]
     },
     "execution_count": 17,
     "metadata": {},
     "output_type": "execute_result"
    }
   ],
   "source": [
    "pca1 = PCA(0.95)\n",
    "pca_data1 = pca1.fit_transform(high_perf_df)\n",
    "pca_data1.shape"
   ]
  },
  {
   "cell_type": "code",
   "execution_count": 18,
   "metadata": {},
   "outputs": [
    {
     "data": {
      "text/plain": [
       "(54858,)"
      ]
     },
     "execution_count": 18,
     "metadata": {},
     "output_type": "execute_result"
    }
   ],
   "source": [
    "y_res.shape"
   ]
  },
  {
   "cell_type": "markdown",
   "metadata": {},
   "source": [
    "#### Converting the 90% explaining variables into a dataframe named df_pca"
   ]
  },
  {
   "cell_type": "code",
   "execution_count": 19,
   "metadata": {
    "scrolled": false
   },
   "outputs": [
    {
     "data": {
      "text/html": [
       "<div>\n",
       "<style scoped>\n",
       "    .dataframe tbody tr th:only-of-type {\n",
       "        vertical-align: middle;\n",
       "    }\n",
       "\n",
       "    .dataframe tbody tr th {\n",
       "        vertical-align: top;\n",
       "    }\n",
       "\n",
       "    .dataframe thead th {\n",
       "        text-align: right;\n",
       "    }\n",
       "</style>\n",
       "<table border=\"1\" class=\"dataframe\">\n",
       "  <thead>\n",
       "    <tr style=\"text-align: right;\">\n",
       "      <th></th>\n",
       "      <th>0</th>\n",
       "      <th>1</th>\n",
       "      <th>2</th>\n",
       "      <th>3</th>\n",
       "      <th>4</th>\n",
       "      <th>5</th>\n",
       "      <th>6</th>\n",
       "      <th>7</th>\n",
       "      <th>8</th>\n",
       "      <th>9</th>\n",
       "      <th>...</th>\n",
       "      <th>41</th>\n",
       "      <th>42</th>\n",
       "      <th>43</th>\n",
       "      <th>44</th>\n",
       "      <th>45</th>\n",
       "      <th>46</th>\n",
       "      <th>47</th>\n",
       "      <th>48</th>\n",
       "      <th>49</th>\n",
       "      <th>50</th>\n",
       "    </tr>\n",
       "  </thead>\n",
       "  <tbody>\n",
       "    <tr>\n",
       "      <th>0</th>\n",
       "      <td>6.100124</td>\n",
       "      <td>6.940462</td>\n",
       "      <td>-5.042636</td>\n",
       "      <td>5.570421</td>\n",
       "      <td>-0.415971</td>\n",
       "      <td>3.992336</td>\n",
       "      <td>3.533481</td>\n",
       "      <td>3.527090</td>\n",
       "      <td>2.756972</td>\n",
       "      <td>-2.835635</td>\n",
       "      <td>...</td>\n",
       "      <td>-1.053495</td>\n",
       "      <td>1.986230</td>\n",
       "      <td>0.141430</td>\n",
       "      <td>-0.845111</td>\n",
       "      <td>-1.572229</td>\n",
       "      <td>-1.591986</td>\n",
       "      <td>-1.886321</td>\n",
       "      <td>-0.435356</td>\n",
       "      <td>2.303196</td>\n",
       "      <td>1.152844</td>\n",
       "    </tr>\n",
       "    <tr>\n",
       "      <th>1</th>\n",
       "      <td>0.779068</td>\n",
       "      <td>-2.939521</td>\n",
       "      <td>1.333554</td>\n",
       "      <td>-2.846521</td>\n",
       "      <td>-1.393756</td>\n",
       "      <td>-0.315421</td>\n",
       "      <td>-1.386249</td>\n",
       "      <td>-0.474549</td>\n",
       "      <td>0.249651</td>\n",
       "      <td>-0.066193</td>\n",
       "      <td>...</td>\n",
       "      <td>0.428911</td>\n",
       "      <td>0.671149</td>\n",
       "      <td>-0.410348</td>\n",
       "      <td>0.132940</td>\n",
       "      <td>-0.100489</td>\n",
       "      <td>-0.678914</td>\n",
       "      <td>-0.307184</td>\n",
       "      <td>1.581666</td>\n",
       "      <td>0.702894</td>\n",
       "      <td>-1.493484</td>\n",
       "    </tr>\n",
       "    <tr>\n",
       "      <th>2</th>\n",
       "      <td>1.385466</td>\n",
       "      <td>3.417318</td>\n",
       "      <td>-1.399256</td>\n",
       "      <td>1.038634</td>\n",
       "      <td>-2.511640</td>\n",
       "      <td>7.418871</td>\n",
       "      <td>3.312090</td>\n",
       "      <td>7.673043</td>\n",
       "      <td>1.857023</td>\n",
       "      <td>-2.532117</td>\n",
       "      <td>...</td>\n",
       "      <td>-0.851799</td>\n",
       "      <td>-2.071557</td>\n",
       "      <td>-0.760559</td>\n",
       "      <td>0.282627</td>\n",
       "      <td>-1.804087</td>\n",
       "      <td>-0.202911</td>\n",
       "      <td>-1.209008</td>\n",
       "      <td>-1.311449</td>\n",
       "      <td>-1.334448</td>\n",
       "      <td>-0.035679</td>\n",
       "    </tr>\n",
       "    <tr>\n",
       "      <th>3</th>\n",
       "      <td>-0.842204</td>\n",
       "      <td>-0.244071</td>\n",
       "      <td>-3.673945</td>\n",
       "      <td>0.177725</td>\n",
       "      <td>-0.878501</td>\n",
       "      <td>1.003283</td>\n",
       "      <td>1.665118</td>\n",
       "      <td>1.951179</td>\n",
       "      <td>-0.646478</td>\n",
       "      <td>0.518702</td>\n",
       "      <td>...</td>\n",
       "      <td>0.142733</td>\n",
       "      <td>0.842493</td>\n",
       "      <td>-0.468020</td>\n",
       "      <td>-0.107110</td>\n",
       "      <td>-0.313202</td>\n",
       "      <td>-0.364883</td>\n",
       "      <td>-0.107818</td>\n",
       "      <td>-0.191168</td>\n",
       "      <td>-0.163325</td>\n",
       "      <td>-0.540525</td>\n",
       "    </tr>\n",
       "    <tr>\n",
       "      <th>4</th>\n",
       "      <td>-5.029901</td>\n",
       "      <td>-2.681081</td>\n",
       "      <td>-0.693899</td>\n",
       "      <td>-0.611770</td>\n",
       "      <td>2.240781</td>\n",
       "      <td>-1.313320</td>\n",
       "      <td>-1.158906</td>\n",
       "      <td>2.034719</td>\n",
       "      <td>-0.505274</td>\n",
       "      <td>-1.332094</td>\n",
       "      <td>...</td>\n",
       "      <td>-0.295636</td>\n",
       "      <td>0.189776</td>\n",
       "      <td>-0.344005</td>\n",
       "      <td>-0.274224</td>\n",
       "      <td>-0.038747</td>\n",
       "      <td>0.070401</td>\n",
       "      <td>0.117535</td>\n",
       "      <td>0.157665</td>\n",
       "      <td>0.379329</td>\n",
       "      <td>0.097534</td>\n",
       "    </tr>\n",
       "  </tbody>\n",
       "</table>\n",
       "<p>5 rows × 51 columns</p>\n",
       "</div>"
      ],
      "text/plain": [
       "         0         1         2         3         4         5         6   \\\n",
       "0  6.100124  6.940462 -5.042636  5.570421 -0.415971  3.992336  3.533481   \n",
       "1  0.779068 -2.939521  1.333554 -2.846521 -1.393756 -0.315421 -1.386249   \n",
       "2  1.385466  3.417318 -1.399256  1.038634 -2.511640  7.418871  3.312090   \n",
       "3 -0.842204 -0.244071 -3.673945  0.177725 -0.878501  1.003283  1.665118   \n",
       "4 -5.029901 -2.681081 -0.693899 -0.611770  2.240781 -1.313320 -1.158906   \n",
       "\n",
       "         7         8         9   ...        41        42        43        44  \\\n",
       "0  3.527090  2.756972 -2.835635  ... -1.053495  1.986230  0.141430 -0.845111   \n",
       "1 -0.474549  0.249651 -0.066193  ...  0.428911  0.671149 -0.410348  0.132940   \n",
       "2  7.673043  1.857023 -2.532117  ... -0.851799 -2.071557 -0.760559  0.282627   \n",
       "3  1.951179 -0.646478  0.518702  ...  0.142733  0.842493 -0.468020 -0.107110   \n",
       "4  2.034719 -0.505274 -1.332094  ... -0.295636  0.189776 -0.344005 -0.274224   \n",
       "\n",
       "         45        46        47        48        49        50  \n",
       "0 -1.572229 -1.591986 -1.886321 -0.435356  2.303196  1.152844  \n",
       "1 -0.100489 -0.678914 -0.307184  1.581666  0.702894 -1.493484  \n",
       "2 -1.804087 -0.202911 -1.209008 -1.311449 -1.334448 -0.035679  \n",
       "3 -0.313202 -0.364883 -0.107818 -0.191168 -0.163325 -0.540525  \n",
       "4 -0.038747  0.070401  0.117535  0.157665  0.379329  0.097534  \n",
       "\n",
       "[5 rows x 51 columns]"
      ]
     },
     "execution_count": 19,
     "metadata": {},
     "output_type": "execute_result"
    }
   ],
   "source": [
    "df_pca = pd.DataFrame(pca_data)\n",
    "df_pca.head()"
   ]
  },
  {
   "cell_type": "markdown",
   "metadata": {},
   "source": [
    "## Random Forest Model ( high performace model 1 )"
   ]
  },
  {
   "cell_type": "markdown",
   "metadata": {},
   "source": [
    "#### Creating a copy of dataframe for the random forest model named as df_rf"
   ]
  },
  {
   "cell_type": "code",
   "execution_count": 20,
   "metadata": {},
   "outputs": [],
   "source": [
    "df_rf = df_pca.copy()"
   ]
  },
  {
   "cell_type": "code",
   "execution_count": 21,
   "metadata": {},
   "outputs": [
    {
     "name": "stdout",
     "output_type": "stream",
     "text": [
      "(54858, 51)\n"
     ]
    }
   ],
   "source": [
    "print(df_rf.shape)"
   ]
  },
  {
   "cell_type": "markdown",
   "metadata": {},
   "source": [
    "##### Train Test Split"
   ]
  },
  {
   "cell_type": "code",
   "execution_count": 22,
   "metadata": {},
   "outputs": [
    {
     "name": "stdout",
     "output_type": "stream",
     "text": [
      "(54858, 51)\n",
      "(54858,)\n"
     ]
    }
   ],
   "source": [
    "X_rf = df_rf\n",
    "y_rf = y_res\n",
    "# y_rf = np.asarray(y_rf, dtype=\"|S6\")\n",
    "print(X_rf.shape)\n",
    "print(y_rf.shape)"
   ]
  },
  {
   "cell_type": "code",
   "execution_count": 23,
   "metadata": {},
   "outputs": [
    {
     "name": "stdout",
     "output_type": "stream",
     "text": [
      "(38400, 51)\n",
      "(38400,)\n",
      "(16458, 51)\n",
      "(16458,)\n"
     ]
    }
   ],
   "source": [
    "from sklearn.model_selection import train_test_split\n",
    "\n",
    "X_train_rf, X_test_rf, y_train_rf, y_test_rf = train_test_split(X_rf, y_rf, train_size=0.7, random_state=100)\n",
    "print(X_train_rf.shape)\n",
    "print(y_train_rf.shape)\n",
    "print(X_test_rf.shape)\n",
    "print(y_test_rf.shape)"
   ]
  },
  {
   "cell_type": "code",
   "execution_count": 24,
   "metadata": {},
   "outputs": [],
   "source": [
    "from sklearn.ensemble import RandomForestClassifier"
   ]
  },
  {
   "cell_type": "code",
   "execution_count": 25,
   "metadata": {},
   "outputs": [],
   "source": [
    "rf = RandomForestClassifier(random_state = 100, n_jobs = -1)"
   ]
  },
  {
   "cell_type": "code",
   "execution_count": 26,
   "metadata": {},
   "outputs": [],
   "source": [
    "# Creating a parameters grid for GridSearchCV\n",
    "params = {\n",
    "    'max_depth': [2, 4, 8, 10, 12],\n",
    "    'min_samples_leaf': range(100, 400, 200),\n",
    "    'max_features': [2, 3, 6],\n",
    "    'min_samples_split': range(200, 500, 100),\n",
    "    'n_estimators': [100, 150, 200, 30]\n",
    "}"
   ]
  },
  {
   "cell_type": "code",
   "execution_count": 27,
   "metadata": {},
   "outputs": [],
   "source": [
    "from sklearn.model_selection import RandomizedSearchCV\n",
    "\n",
    "# Instantiate the grid search model\n",
    "grid_search = RandomizedSearchCV(estimator=rf, param_distributions=params, \n",
    "                          cv=4, n_jobs=-1, verbose=1, scoring = \"recall\")"
   ]
  },
  {
   "cell_type": "code",
   "execution_count": 28,
   "metadata": {},
   "outputs": [
    {
     "name": "stdout",
     "output_type": "stream",
     "text": [
      "Fitting 4 folds for each of 10 candidates, totalling 40 fits\n"
     ]
    },
    {
     "name": "stderr",
     "output_type": "stream",
     "text": [
      "[Parallel(n_jobs=-1)]: Using backend LokyBackend with 4 concurrent workers.\n",
      "[Parallel(n_jobs=-1)]: Done  40 out of  40 | elapsed:  1.7min finished\n"
     ]
    },
    {
     "name": "stdout",
     "output_type": "stream",
     "text": [
      "Wall time: 1min 48s\n"
     ]
    },
    {
     "data": {
      "text/plain": [
       "RandomizedSearchCV(cv=4,\n",
       "                   estimator=RandomForestClassifier(n_jobs=-1,\n",
       "                                                    random_state=100),\n",
       "                   n_jobs=-1,\n",
       "                   param_distributions={'max_depth': [2, 4, 8, 10, 12],\n",
       "                                        'max_features': [2, 3, 6],\n",
       "                                        'min_samples_leaf': range(100, 400, 200),\n",
       "                                        'min_samples_split': range(200, 500, 100),\n",
       "                                        'n_estimators': [100, 150, 200, 30]},\n",
       "                   scoring='recall', verbose=1)"
      ]
     },
     "execution_count": 28,
     "metadata": {},
     "output_type": "execute_result"
    }
   ],
   "source": [
    "%%time\n",
    "grid_search.fit(X_train_rf,y_train_rf)"
   ]
  },
  {
   "cell_type": "code",
   "execution_count": 29,
   "metadata": {},
   "outputs": [],
   "source": [
    "rf_best = grid_search.best_estimator_"
   ]
  },
  {
   "cell_type": "code",
   "execution_count": 30,
   "metadata": {},
   "outputs": [
    {
     "data": {
      "text/plain": [
       "RandomForestClassifier(max_depth=8, max_features=2, min_samples_leaf=100,\n",
       "                       min_samples_split=300, n_estimators=150, n_jobs=-1,\n",
       "                       random_state=100)"
      ]
     },
     "execution_count": 30,
     "metadata": {},
     "output_type": "execute_result"
    }
   ],
   "source": [
    "rf_best"
   ]
  },
  {
   "cell_type": "markdown",
   "metadata": {},
   "source": [
    "#### Results for the high performance model 1 ( Random Forest )"
   ]
  },
  {
   "cell_type": "code",
   "execution_count": 31,
   "metadata": {},
   "outputs": [
    {
     "name": "stdout",
     "output_type": "stream",
     "text": [
      "Train Accuracy : 0.84296875\n",
      "Train Confusion Matrix:\n",
      "[[16309  2857]\n",
      " [ 3173 16061]]\n",
      "--------------------------------------------------\n",
      "Test Accuracy : 0.8388625592417062\n",
      "Test Confusion Matrix:\n",
      "[[7010 1253]\n",
      " [1399 6796]]\n"
     ]
    }
   ],
   "source": [
    "from sklearn.metrics import confusion_matrix, accuracy_score\n",
    "\n",
    "print(\"Train Accuracy :\", accuracy_score(y_train_rf, rf_best.predict(X_train_rf)))\n",
    "print(\"Train Confusion Matrix:\")\n",
    "print(confusion_matrix(y_train_rf, rf_best.predict(X_train_rf)))\n",
    "print(\"-\"*50)\n",
    "print(\"Test Accuracy :\", accuracy_score(y_test_rf, rf_best.predict(X_test_rf)))\n",
    "print(\"Test Confusion Matrix:\")\n",
    "print(confusion_matrix(y_test_rf, rf_best.predict(X_test_rf)))"
   ]
  },
  {
   "cell_type": "markdown",
   "metadata": {},
   "source": [
    "# Results for Random Forest"
   ]
  },
  {
   "cell_type": "code",
   "execution_count": 32,
   "metadata": {},
   "outputs": [
    {
     "name": "stdout",
     "output_type": "stream",
     "text": [
      "              precision    recall  f1-score   support\n",
      "\n",
      "           0       0.83      0.85      0.84      8263\n",
      "           1       0.84      0.83      0.84      8195\n",
      "\n",
      "    accuracy                           0.84     16458\n",
      "   macro avg       0.84      0.84      0.84     16458\n",
      "weighted avg       0.84      0.84      0.84     16458\n",
      "\n"
     ]
    }
   ],
   "source": [
    "from sklearn.metrics import classification_report\n",
    "\n",
    "print(classification_report(y_test_rf, rf_best.predict(X_test_rf)))"
   ]
  },
  {
   "cell_type": "markdown",
   "metadata": {},
   "source": [
    "- We attained a recall of 84% i.e we are able to predict 84 out of 100 persons who are going to predict"
   ]
  },
  {
   "cell_type": "code",
   "execution_count": 33,
   "metadata": {},
   "outputs": [],
   "source": [
    "recall_rf = 0.83\n",
    "accuracy_rf = 0.84"
   ]
  },
  {
   "cell_type": "markdown",
   "metadata": {},
   "source": [
    "## Decision Treee Model ( high performance model 2)"
   ]
  },
  {
   "cell_type": "markdown",
   "metadata": {},
   "source": [
    "#### Creating a copy of dataframe for the random forest named as df_dt"
   ]
  },
  {
   "cell_type": "code",
   "execution_count": 34,
   "metadata": {},
   "outputs": [],
   "source": [
    "df_dt = df_pca.copy()"
   ]
  },
  {
   "cell_type": "code",
   "execution_count": 35,
   "metadata": {},
   "outputs": [
    {
     "name": "stdout",
     "output_type": "stream",
     "text": [
      "(54858, 51)\n"
     ]
    }
   ],
   "source": [
    "print(df_dt.shape)"
   ]
  },
  {
   "cell_type": "markdown",
   "metadata": {},
   "source": [
    "#### Train Test Split"
   ]
  },
  {
   "cell_type": "code",
   "execution_count": 36,
   "metadata": {},
   "outputs": [
    {
     "name": "stdout",
     "output_type": "stream",
     "text": [
      "(54858, 51)\n",
      "(54858,)\n"
     ]
    }
   ],
   "source": [
    "X_dt = df_dt\n",
    "y_dt = y_res\n",
    "# y_dt = np.asarray(y_dt, dtype=\"|S6\")\n",
    "print(X_dt.shape)\n",
    "print(y_dt.shape)"
   ]
  },
  {
   "cell_type": "code",
   "execution_count": 37,
   "metadata": {},
   "outputs": [
    {
     "name": "stdout",
     "output_type": "stream",
     "text": [
      "(38400, 51)\n",
      "(38400,)\n",
      "(16458, 51)\n",
      "(16458,)\n"
     ]
    }
   ],
   "source": [
    "X_train_dt, X_test_dt, y_train_dt, y_test_dt = train_test_split(X_dt, y_dt, train_size = 0.7, random_state = 100)\n",
    "print(X_train_dt.shape)\n",
    "print(y_train_dt.shape)\n",
    "print(X_test_dt.shape)\n",
    "print(y_test_dt.shape)"
   ]
  },
  {
   "cell_type": "code",
   "execution_count": 38,
   "metadata": {},
   "outputs": [],
   "source": [
    "from sklearn.tree import DecisionTreeClassifier\n",
    "\n",
    "dt = DecisionTreeClassifier(random_state = 100)"
   ]
  },
  {
   "cell_type": "code",
   "execution_count": 39,
   "metadata": {},
   "outputs": [],
   "source": [
    "# Creating a parameters grid for GridSearchCV\n",
    "params = {\n",
    "    'max_depth': [2, 4, 8, 10, 12],\n",
    "    'min_samples_leaf': range(100, 400, 200),\n",
    "    'max_features': [2, 3, 6],\n",
    "    'min_samples_split': range(200, 500, 100),\n",
    "    'criterion': [\"gini\", \"entropy\"]\n",
    "}"
   ]
  },
  {
   "cell_type": "code",
   "execution_count": 40,
   "metadata": {},
   "outputs": [],
   "source": [
    "from sklearn.model_selection import RandomizedSearchCV\n",
    "\n",
    "# Instantiate the grid search model\n",
    "grid_search = RandomizedSearchCV(estimator=dt, param_distributions=params, \n",
    "                          cv=5, n_jobs=-1, verbose=1, scoring = \"recall\")"
   ]
  },
  {
   "cell_type": "code",
   "execution_count": 41,
   "metadata": {},
   "outputs": [
    {
     "name": "stdout",
     "output_type": "stream",
     "text": [
      "Fitting 5 folds for each of 10 candidates, totalling 50 fits\n"
     ]
    },
    {
     "name": "stderr",
     "output_type": "stream",
     "text": [
      "[Parallel(n_jobs=-1)]: Using backend LokyBackend with 4 concurrent workers.\n",
      "[Parallel(n_jobs=-1)]: Done  42 tasks      | elapsed:    3.5s\n",
      "[Parallel(n_jobs=-1)]: Done  50 out of  50 | elapsed:    4.1s finished\n"
     ]
    },
    {
     "name": "stdout",
     "output_type": "stream",
     "text": [
      "Wall time: 4.55 s\n"
     ]
    },
    {
     "data": {
      "text/plain": [
       "RandomizedSearchCV(cv=5, estimator=DecisionTreeClassifier(random_state=100),\n",
       "                   n_jobs=-1,\n",
       "                   param_distributions={'criterion': ['gini', 'entropy'],\n",
       "                                        'max_depth': [2, 4, 8, 10, 12],\n",
       "                                        'max_features': [2, 3, 6],\n",
       "                                        'min_samples_leaf': range(100, 400, 200),\n",
       "                                        'min_samples_split': range(200, 500, 100)},\n",
       "                   scoring='recall', verbose=1)"
      ]
     },
     "execution_count": 41,
     "metadata": {},
     "output_type": "execute_result"
    }
   ],
   "source": [
    "%%time\n",
    "grid_search.fit(X_train_dt, y_train_dt)"
   ]
  },
  {
   "cell_type": "code",
   "execution_count": 42,
   "metadata": {},
   "outputs": [
    {
     "data": {
      "text/plain": [
       "DecisionTreeClassifier(criterion='entropy', max_depth=8, max_features=3,\n",
       "                       min_samples_leaf=300, min_samples_split=400,\n",
       "                       random_state=100)"
      ]
     },
     "execution_count": 42,
     "metadata": {},
     "output_type": "execute_result"
    }
   ],
   "source": [
    "grid_search.best_estimator_"
   ]
  },
  {
   "cell_type": "code",
   "execution_count": 43,
   "metadata": {},
   "outputs": [],
   "source": [
    "dt_best = grid_search.best_estimator_"
   ]
  },
  {
   "cell_type": "code",
   "execution_count": 44,
   "metadata": {},
   "outputs": [
    {
     "name": "stdout",
     "output_type": "stream",
     "text": [
      "              precision    recall  f1-score   support\n",
      "\n",
      "           0       0.72      0.72      0.72      8263\n",
      "           1       0.72      0.72      0.72      8195\n",
      "\n",
      "    accuracy                           0.72     16458\n",
      "   macro avg       0.72      0.72      0.72     16458\n",
      "weighted avg       0.72      0.72      0.72     16458\n",
      "\n"
     ]
    }
   ],
   "source": [
    "print(classification_report(y_test_dt, dt_best.predict(X_test_dt)))"
   ]
  },
  {
   "cell_type": "markdown",
   "metadata": {},
   "source": [
    "- We attained a good recall of 88% i.e We are able to predict 88 persons out of 100 who are actually going to predict\n",
    "- The accuracy score seems a little low, but the business solution needs a recall to fulfil our problem"
   ]
  },
  {
   "cell_type": "code",
   "execution_count": 45,
   "metadata": {},
   "outputs": [],
   "source": [
    "recall_dt = 0.87\n",
    "accuracy_dt = 0.83"
   ]
  },
  {
   "cell_type": "markdown",
   "metadata": {},
   "source": [
    "## Logistic Regression Model ( high performance model 3 )"
   ]
  },
  {
   "cell_type": "code",
   "execution_count": 46,
   "metadata": {},
   "outputs": [],
   "source": [
    "df_log = df_pca.copy()"
   ]
  },
  {
   "cell_type": "code",
   "execution_count": 47,
   "metadata": {},
   "outputs": [
    {
     "data": {
      "text/html": [
       "<div>\n",
       "<style scoped>\n",
       "    .dataframe tbody tr th:only-of-type {\n",
       "        vertical-align: middle;\n",
       "    }\n",
       "\n",
       "    .dataframe tbody tr th {\n",
       "        vertical-align: top;\n",
       "    }\n",
       "\n",
       "    .dataframe thead th {\n",
       "        text-align: right;\n",
       "    }\n",
       "</style>\n",
       "<table border=\"1\" class=\"dataframe\">\n",
       "  <thead>\n",
       "    <tr style=\"text-align: right;\">\n",
       "      <th></th>\n",
       "      <th>0</th>\n",
       "      <th>1</th>\n",
       "      <th>2</th>\n",
       "      <th>3</th>\n",
       "      <th>4</th>\n",
       "      <th>5</th>\n",
       "      <th>6</th>\n",
       "      <th>7</th>\n",
       "      <th>8</th>\n",
       "      <th>9</th>\n",
       "      <th>...</th>\n",
       "      <th>41</th>\n",
       "      <th>42</th>\n",
       "      <th>43</th>\n",
       "      <th>44</th>\n",
       "      <th>45</th>\n",
       "      <th>46</th>\n",
       "      <th>47</th>\n",
       "      <th>48</th>\n",
       "      <th>49</th>\n",
       "      <th>50</th>\n",
       "    </tr>\n",
       "  </thead>\n",
       "  <tbody>\n",
       "    <tr>\n",
       "      <th>0</th>\n",
       "      <td>6.100124</td>\n",
       "      <td>6.940462</td>\n",
       "      <td>-5.042636</td>\n",
       "      <td>5.570421</td>\n",
       "      <td>-0.415971</td>\n",
       "      <td>3.992336</td>\n",
       "      <td>3.533481</td>\n",
       "      <td>3.527090</td>\n",
       "      <td>2.756972</td>\n",
       "      <td>-2.835635</td>\n",
       "      <td>...</td>\n",
       "      <td>-1.053495</td>\n",
       "      <td>1.986230</td>\n",
       "      <td>0.141430</td>\n",
       "      <td>-0.845111</td>\n",
       "      <td>-1.572229</td>\n",
       "      <td>-1.591986</td>\n",
       "      <td>-1.886321</td>\n",
       "      <td>-0.435356</td>\n",
       "      <td>2.303196</td>\n",
       "      <td>1.152844</td>\n",
       "    </tr>\n",
       "    <tr>\n",
       "      <th>1</th>\n",
       "      <td>0.779068</td>\n",
       "      <td>-2.939521</td>\n",
       "      <td>1.333554</td>\n",
       "      <td>-2.846521</td>\n",
       "      <td>-1.393756</td>\n",
       "      <td>-0.315421</td>\n",
       "      <td>-1.386249</td>\n",
       "      <td>-0.474549</td>\n",
       "      <td>0.249651</td>\n",
       "      <td>-0.066193</td>\n",
       "      <td>...</td>\n",
       "      <td>0.428911</td>\n",
       "      <td>0.671149</td>\n",
       "      <td>-0.410348</td>\n",
       "      <td>0.132940</td>\n",
       "      <td>-0.100489</td>\n",
       "      <td>-0.678914</td>\n",
       "      <td>-0.307184</td>\n",
       "      <td>1.581666</td>\n",
       "      <td>0.702894</td>\n",
       "      <td>-1.493484</td>\n",
       "    </tr>\n",
       "    <tr>\n",
       "      <th>2</th>\n",
       "      <td>1.385466</td>\n",
       "      <td>3.417318</td>\n",
       "      <td>-1.399256</td>\n",
       "      <td>1.038634</td>\n",
       "      <td>-2.511640</td>\n",
       "      <td>7.418871</td>\n",
       "      <td>3.312090</td>\n",
       "      <td>7.673043</td>\n",
       "      <td>1.857023</td>\n",
       "      <td>-2.532117</td>\n",
       "      <td>...</td>\n",
       "      <td>-0.851799</td>\n",
       "      <td>-2.071557</td>\n",
       "      <td>-0.760559</td>\n",
       "      <td>0.282627</td>\n",
       "      <td>-1.804087</td>\n",
       "      <td>-0.202911</td>\n",
       "      <td>-1.209008</td>\n",
       "      <td>-1.311449</td>\n",
       "      <td>-1.334448</td>\n",
       "      <td>-0.035679</td>\n",
       "    </tr>\n",
       "    <tr>\n",
       "      <th>3</th>\n",
       "      <td>-0.842204</td>\n",
       "      <td>-0.244071</td>\n",
       "      <td>-3.673945</td>\n",
       "      <td>0.177725</td>\n",
       "      <td>-0.878501</td>\n",
       "      <td>1.003283</td>\n",
       "      <td>1.665118</td>\n",
       "      <td>1.951179</td>\n",
       "      <td>-0.646478</td>\n",
       "      <td>0.518702</td>\n",
       "      <td>...</td>\n",
       "      <td>0.142733</td>\n",
       "      <td>0.842493</td>\n",
       "      <td>-0.468020</td>\n",
       "      <td>-0.107110</td>\n",
       "      <td>-0.313202</td>\n",
       "      <td>-0.364883</td>\n",
       "      <td>-0.107818</td>\n",
       "      <td>-0.191168</td>\n",
       "      <td>-0.163325</td>\n",
       "      <td>-0.540525</td>\n",
       "    </tr>\n",
       "    <tr>\n",
       "      <th>4</th>\n",
       "      <td>-5.029901</td>\n",
       "      <td>-2.681081</td>\n",
       "      <td>-0.693899</td>\n",
       "      <td>-0.611770</td>\n",
       "      <td>2.240781</td>\n",
       "      <td>-1.313320</td>\n",
       "      <td>-1.158906</td>\n",
       "      <td>2.034719</td>\n",
       "      <td>-0.505274</td>\n",
       "      <td>-1.332094</td>\n",
       "      <td>...</td>\n",
       "      <td>-0.295636</td>\n",
       "      <td>0.189776</td>\n",
       "      <td>-0.344005</td>\n",
       "      <td>-0.274224</td>\n",
       "      <td>-0.038747</td>\n",
       "      <td>0.070401</td>\n",
       "      <td>0.117535</td>\n",
       "      <td>0.157665</td>\n",
       "      <td>0.379329</td>\n",
       "      <td>0.097534</td>\n",
       "    </tr>\n",
       "  </tbody>\n",
       "</table>\n",
       "<p>5 rows × 51 columns</p>\n",
       "</div>"
      ],
      "text/plain": [
       "         0         1         2         3         4         5         6   \\\n",
       "0  6.100124  6.940462 -5.042636  5.570421 -0.415971  3.992336  3.533481   \n",
       "1  0.779068 -2.939521  1.333554 -2.846521 -1.393756 -0.315421 -1.386249   \n",
       "2  1.385466  3.417318 -1.399256  1.038634 -2.511640  7.418871  3.312090   \n",
       "3 -0.842204 -0.244071 -3.673945  0.177725 -0.878501  1.003283  1.665118   \n",
       "4 -5.029901 -2.681081 -0.693899 -0.611770  2.240781 -1.313320 -1.158906   \n",
       "\n",
       "         7         8         9   ...        41        42        43        44  \\\n",
       "0  3.527090  2.756972 -2.835635  ... -1.053495  1.986230  0.141430 -0.845111   \n",
       "1 -0.474549  0.249651 -0.066193  ...  0.428911  0.671149 -0.410348  0.132940   \n",
       "2  7.673043  1.857023 -2.532117  ... -0.851799 -2.071557 -0.760559  0.282627   \n",
       "3  1.951179 -0.646478  0.518702  ...  0.142733  0.842493 -0.468020 -0.107110   \n",
       "4  2.034719 -0.505274 -1.332094  ... -0.295636  0.189776 -0.344005 -0.274224   \n",
       "\n",
       "         45        46        47        48        49        50  \n",
       "0 -1.572229 -1.591986 -1.886321 -0.435356  2.303196  1.152844  \n",
       "1 -0.100489 -0.678914 -0.307184  1.581666  0.702894 -1.493484  \n",
       "2 -1.804087 -0.202911 -1.209008 -1.311449 -1.334448 -0.035679  \n",
       "3 -0.313202 -0.364883 -0.107818 -0.191168 -0.163325 -0.540525  \n",
       "4 -0.038747  0.070401  0.117535  0.157665  0.379329  0.097534  \n",
       "\n",
       "[5 rows x 51 columns]"
      ]
     },
     "execution_count": 47,
     "metadata": {},
     "output_type": "execute_result"
    }
   ],
   "source": [
    "df_log.head()"
   ]
  },
  {
   "cell_type": "markdown",
   "metadata": {},
   "source": [
    "### Train Test Split"
   ]
  },
  {
   "cell_type": "code",
   "execution_count": 48,
   "metadata": {
    "scrolled": true
   },
   "outputs": [
    {
     "data": {
      "text/html": [
       "<div>\n",
       "<style scoped>\n",
       "    .dataframe tbody tr th:only-of-type {\n",
       "        vertical-align: middle;\n",
       "    }\n",
       "\n",
       "    .dataframe tbody tr th {\n",
       "        vertical-align: top;\n",
       "    }\n",
       "\n",
       "    .dataframe thead th {\n",
       "        text-align: right;\n",
       "    }\n",
       "</style>\n",
       "<table border=\"1\" class=\"dataframe\">\n",
       "  <thead>\n",
       "    <tr style=\"text-align: right;\">\n",
       "      <th></th>\n",
       "      <th>0</th>\n",
       "      <th>1</th>\n",
       "      <th>2</th>\n",
       "      <th>3</th>\n",
       "      <th>4</th>\n",
       "      <th>5</th>\n",
       "      <th>6</th>\n",
       "      <th>7</th>\n",
       "      <th>8</th>\n",
       "      <th>9</th>\n",
       "      <th>...</th>\n",
       "      <th>42</th>\n",
       "      <th>43</th>\n",
       "      <th>44</th>\n",
       "      <th>45</th>\n",
       "      <th>46</th>\n",
       "      <th>47</th>\n",
       "      <th>48</th>\n",
       "      <th>49</th>\n",
       "      <th>50</th>\n",
       "      <th>churn</th>\n",
       "    </tr>\n",
       "  </thead>\n",
       "  <tbody>\n",
       "    <tr>\n",
       "      <th>0</th>\n",
       "      <td>6.100124</td>\n",
       "      <td>6.940462</td>\n",
       "      <td>-5.042636</td>\n",
       "      <td>5.570421</td>\n",
       "      <td>-0.415971</td>\n",
       "      <td>3.992336</td>\n",
       "      <td>3.533481</td>\n",
       "      <td>3.527090</td>\n",
       "      <td>2.756972</td>\n",
       "      <td>-2.835635</td>\n",
       "      <td>...</td>\n",
       "      <td>1.986230</td>\n",
       "      <td>0.141430</td>\n",
       "      <td>-0.845111</td>\n",
       "      <td>-1.572229</td>\n",
       "      <td>-1.591986</td>\n",
       "      <td>-1.886321</td>\n",
       "      <td>-0.435356</td>\n",
       "      <td>2.303196</td>\n",
       "      <td>1.152844</td>\n",
       "      <td>1</td>\n",
       "    </tr>\n",
       "    <tr>\n",
       "      <th>1</th>\n",
       "      <td>0.779068</td>\n",
       "      <td>-2.939521</td>\n",
       "      <td>1.333554</td>\n",
       "      <td>-2.846521</td>\n",
       "      <td>-1.393756</td>\n",
       "      <td>-0.315421</td>\n",
       "      <td>-1.386249</td>\n",
       "      <td>-0.474549</td>\n",
       "      <td>0.249651</td>\n",
       "      <td>-0.066193</td>\n",
       "      <td>...</td>\n",
       "      <td>0.671149</td>\n",
       "      <td>-0.410348</td>\n",
       "      <td>0.132940</td>\n",
       "      <td>-0.100489</td>\n",
       "      <td>-0.678914</td>\n",
       "      <td>-0.307184</td>\n",
       "      <td>1.581666</td>\n",
       "      <td>0.702894</td>\n",
       "      <td>-1.493484</td>\n",
       "      <td>0</td>\n",
       "    </tr>\n",
       "    <tr>\n",
       "      <th>2</th>\n",
       "      <td>1.385466</td>\n",
       "      <td>3.417318</td>\n",
       "      <td>-1.399256</td>\n",
       "      <td>1.038634</td>\n",
       "      <td>-2.511640</td>\n",
       "      <td>7.418871</td>\n",
       "      <td>3.312090</td>\n",
       "      <td>7.673043</td>\n",
       "      <td>1.857023</td>\n",
       "      <td>-2.532117</td>\n",
       "      <td>...</td>\n",
       "      <td>-2.071557</td>\n",
       "      <td>-0.760559</td>\n",
       "      <td>0.282627</td>\n",
       "      <td>-1.804087</td>\n",
       "      <td>-0.202911</td>\n",
       "      <td>-1.209008</td>\n",
       "      <td>-1.311449</td>\n",
       "      <td>-1.334448</td>\n",
       "      <td>-0.035679</td>\n",
       "      <td>0</td>\n",
       "    </tr>\n",
       "    <tr>\n",
       "      <th>3</th>\n",
       "      <td>-0.842204</td>\n",
       "      <td>-0.244071</td>\n",
       "      <td>-3.673945</td>\n",
       "      <td>0.177725</td>\n",
       "      <td>-0.878501</td>\n",
       "      <td>1.003283</td>\n",
       "      <td>1.665118</td>\n",
       "      <td>1.951179</td>\n",
       "      <td>-0.646478</td>\n",
       "      <td>0.518702</td>\n",
       "      <td>...</td>\n",
       "      <td>0.842493</td>\n",
       "      <td>-0.468020</td>\n",
       "      <td>-0.107110</td>\n",
       "      <td>-0.313202</td>\n",
       "      <td>-0.364883</td>\n",
       "      <td>-0.107818</td>\n",
       "      <td>-0.191168</td>\n",
       "      <td>-0.163325</td>\n",
       "      <td>-0.540525</td>\n",
       "      <td>0</td>\n",
       "    </tr>\n",
       "    <tr>\n",
       "      <th>4</th>\n",
       "      <td>-5.029901</td>\n",
       "      <td>-2.681081</td>\n",
       "      <td>-0.693899</td>\n",
       "      <td>-0.611770</td>\n",
       "      <td>2.240781</td>\n",
       "      <td>-1.313320</td>\n",
       "      <td>-1.158906</td>\n",
       "      <td>2.034719</td>\n",
       "      <td>-0.505274</td>\n",
       "      <td>-1.332094</td>\n",
       "      <td>...</td>\n",
       "      <td>0.189776</td>\n",
       "      <td>-0.344005</td>\n",
       "      <td>-0.274224</td>\n",
       "      <td>-0.038747</td>\n",
       "      <td>0.070401</td>\n",
       "      <td>0.117535</td>\n",
       "      <td>0.157665</td>\n",
       "      <td>0.379329</td>\n",
       "      <td>0.097534</td>\n",
       "      <td>0</td>\n",
       "    </tr>\n",
       "  </tbody>\n",
       "</table>\n",
       "<p>5 rows × 52 columns</p>\n",
       "</div>"
      ],
      "text/plain": [
       "          0         1         2         3         4         5         6  \\\n",
       "0  6.100124  6.940462 -5.042636  5.570421 -0.415971  3.992336  3.533481   \n",
       "1  0.779068 -2.939521  1.333554 -2.846521 -1.393756 -0.315421 -1.386249   \n",
       "2  1.385466  3.417318 -1.399256  1.038634 -2.511640  7.418871  3.312090   \n",
       "3 -0.842204 -0.244071 -3.673945  0.177725 -0.878501  1.003283  1.665118   \n",
       "4 -5.029901 -2.681081 -0.693899 -0.611770  2.240781 -1.313320 -1.158906   \n",
       "\n",
       "          7         8         9  ...        42        43        44        45  \\\n",
       "0  3.527090  2.756972 -2.835635  ...  1.986230  0.141430 -0.845111 -1.572229   \n",
       "1 -0.474549  0.249651 -0.066193  ...  0.671149 -0.410348  0.132940 -0.100489   \n",
       "2  7.673043  1.857023 -2.532117  ... -2.071557 -0.760559  0.282627 -1.804087   \n",
       "3  1.951179 -0.646478  0.518702  ...  0.842493 -0.468020 -0.107110 -0.313202   \n",
       "4  2.034719 -0.505274 -1.332094  ...  0.189776 -0.344005 -0.274224 -0.038747   \n",
       "\n",
       "         46        47        48        49        50  churn  \n",
       "0 -1.591986 -1.886321 -0.435356  2.303196  1.152844      1  \n",
       "1 -0.678914 -0.307184  1.581666  0.702894 -1.493484      0  \n",
       "2 -0.202911 -1.209008 -1.311449 -1.334448 -0.035679      0  \n",
       "3 -0.364883 -0.107818 -0.191168 -0.163325 -0.540525      0  \n",
       "4  0.070401  0.117535  0.157665  0.379329  0.097534      0  \n",
       "\n",
       "[5 rows x 52 columns]"
      ]
     },
     "execution_count": 48,
     "metadata": {},
     "output_type": "execute_result"
    }
   ],
   "source": [
    "df_log['churn'] = y_res\n",
    "df_log.head()"
   ]
  },
  {
   "cell_type": "code",
   "execution_count": 49,
   "metadata": {},
   "outputs": [],
   "source": [
    "X_log = df_log.drop('churn', axis = 1)\n",
    "y_log = df_log['churn']"
   ]
  },
  {
   "cell_type": "code",
   "execution_count": 50,
   "metadata": {},
   "outputs": [
    {
     "name": "stdout",
     "output_type": "stream",
     "text": [
      "(38400, 51)\n",
      "(38400,)\n",
      "(16458, 51)\n",
      "(16458,)\n"
     ]
    }
   ],
   "source": [
    "X_train, X_test, y_train, y_test = train_test_split(X_log, y_log, train_size=0.7, random_state=100)\n",
    "print(X_train.shape)\n",
    "print(y_train.shape)\n",
    "print(X_test.shape)\n",
    "print(y_test.shape)"
   ]
  },
  {
   "cell_type": "code",
   "execution_count": 51,
   "metadata": {},
   "outputs": [
    {
     "name": "stdout",
     "output_type": "stream",
     "text": [
      "<class 'pandas.core.series.Series'>\n"
     ]
    }
   ],
   "source": [
    "# Checking he type of variable of y_train\n",
    "print(type(y_train))"
   ]
  },
  {
   "cell_type": "code",
   "execution_count": 52,
   "metadata": {},
   "outputs": [],
   "source": [
    "from sklearn.linear_model import LogisticRegression\n",
    "import statsmodels.api as sm\n",
    "from sklearn.feature_selection import RFE"
   ]
  },
  {
   "cell_type": "code",
   "execution_count": 53,
   "metadata": {
    "scrolled": true
   },
   "outputs": [
    {
     "data": {
      "text/html": [
       "<table class=\"simpletable\">\n",
       "<caption>Generalized Linear Model Regression Results</caption>\n",
       "<tr>\n",
       "  <th>Dep. Variable:</th>         <td>churn</td>      <th>  No. Observations:  </th>  <td> 38400</td> \n",
       "</tr>\n",
       "<tr>\n",
       "  <th>Model:</th>                  <td>GLM</td>       <th>  Df Residuals:      </th>  <td> 38348</td> \n",
       "</tr>\n",
       "<tr>\n",
       "  <th>Model Family:</th>        <td>Binomial</td>     <th>  Df Model:          </th>  <td>    51</td> \n",
       "</tr>\n",
       "<tr>\n",
       "  <th>Link Function:</th>         <td>logit</td>      <th>  Scale:             </th> <td>  1.0000</td>\n",
       "</tr>\n",
       "<tr>\n",
       "  <th>Method:</th>                <td>IRLS</td>       <th>  Log-Likelihood:    </th> <td> -14582.</td>\n",
       "</tr>\n",
       "<tr>\n",
       "  <th>Date:</th>            <td>Tue, 01 Sep 2020</td> <th>  Deviance:          </th> <td>  29163.</td>\n",
       "</tr>\n",
       "<tr>\n",
       "  <th>Time:</th>                <td>10:31:20</td>     <th>  Pearson chi2:      </th> <td>7.42e+04</td>\n",
       "</tr>\n",
       "<tr>\n",
       "  <th>No. Iterations:</th>          <td>6</td>        <th>                     </th>     <td> </td>   \n",
       "</tr>\n",
       "<tr>\n",
       "  <th>Covariance Type:</th>     <td>nonrobust</td>    <th>                     </th>     <td> </td>   \n",
       "</tr>\n",
       "</table>\n",
       "<table class=\"simpletable\">\n",
       "<tr>\n",
       "    <td></td>       <th>coef</th>     <th>std err</th>      <th>z</th>      <th>P>|z|</th>  <th>[0.025</th>    <th>0.975]</th>  \n",
       "</tr>\n",
       "<tr>\n",
       "  <th>const</th> <td>   -0.2312</td> <td>    0.017</td> <td>  -13.876</td> <td> 0.000</td> <td>   -0.264</td> <td>   -0.199</td>\n",
       "</tr>\n",
       "<tr>\n",
       "  <th>0</th>     <td>   -0.3965</td> <td>    0.005</td> <td>  -79.479</td> <td> 0.000</td> <td>   -0.406</td> <td>   -0.387</td>\n",
       "</tr>\n",
       "<tr>\n",
       "  <th>1</th>     <td>   -0.2113</td> <td>    0.005</td> <td>  -43.534</td> <td> 0.000</td> <td>   -0.221</td> <td>   -0.202</td>\n",
       "</tr>\n",
       "<tr>\n",
       "  <th>2</th>     <td>    0.1285</td> <td>    0.005</td> <td>   23.363</td> <td> 0.000</td> <td>    0.118</td> <td>    0.139</td>\n",
       "</tr>\n",
       "<tr>\n",
       "  <th>3</th>     <td>    0.1525</td> <td>    0.006</td> <td>   25.425</td> <td> 0.000</td> <td>    0.141</td> <td>    0.164</td>\n",
       "</tr>\n",
       "<tr>\n",
       "  <th>4</th>     <td>    0.4534</td> <td>    0.007</td> <td>   62.993</td> <td> 0.000</td> <td>    0.439</td> <td>    0.467</td>\n",
       "</tr>\n",
       "<tr>\n",
       "  <th>5</th>     <td>    0.0546</td> <td>    0.007</td> <td>    7.922</td> <td> 0.000</td> <td>    0.041</td> <td>    0.068</td>\n",
       "</tr>\n",
       "<tr>\n",
       "  <th>6</th>     <td>   -0.0201</td> <td>    0.007</td> <td>   -2.776</td> <td> 0.005</td> <td>   -0.034</td> <td>   -0.006</td>\n",
       "</tr>\n",
       "<tr>\n",
       "  <th>7</th>     <td>   -0.0014</td> <td>    0.007</td> <td>   -0.195</td> <td> 0.846</td> <td>   -0.016</td> <td>    0.013</td>\n",
       "</tr>\n",
       "<tr>\n",
       "  <th>8</th>     <td>    0.1410</td> <td>    0.009</td> <td>   15.664</td> <td> 0.000</td> <td>    0.123</td> <td>    0.159</td>\n",
       "</tr>\n",
       "<tr>\n",
       "  <th>9</th>     <td>    0.5575</td> <td>    0.011</td> <td>   52.779</td> <td> 0.000</td> <td>    0.537</td> <td>    0.578</td>\n",
       "</tr>\n",
       "<tr>\n",
       "  <th>10</th>    <td>   -0.3932</td> <td>    0.011</td> <td>  -36.225</td> <td> 0.000</td> <td>   -0.414</td> <td>   -0.372</td>\n",
       "</tr>\n",
       "<tr>\n",
       "  <th>11</th>    <td>   -0.0772</td> <td>    0.012</td> <td>   -6.610</td> <td> 0.000</td> <td>   -0.100</td> <td>   -0.054</td>\n",
       "</tr>\n",
       "<tr>\n",
       "  <th>12</th>    <td>   -0.1455</td> <td>    0.011</td> <td>  -12.701</td> <td> 0.000</td> <td>   -0.168</td> <td>   -0.123</td>\n",
       "</tr>\n",
       "<tr>\n",
       "  <th>13</th>    <td>   -0.0911</td> <td>    0.011</td> <td>   -8.173</td> <td> 0.000</td> <td>   -0.113</td> <td>   -0.069</td>\n",
       "</tr>\n",
       "<tr>\n",
       "  <th>14</th>    <td>   -0.0131</td> <td>    0.012</td> <td>   -1.063</td> <td> 0.288</td> <td>   -0.037</td> <td>    0.011</td>\n",
       "</tr>\n",
       "<tr>\n",
       "  <th>15</th>    <td>    0.0002</td> <td>    0.012</td> <td>    0.017</td> <td> 0.986</td> <td>   -0.024</td> <td>    0.025</td>\n",
       "</tr>\n",
       "<tr>\n",
       "  <th>16</th>    <td>   -0.0145</td> <td>    0.014</td> <td>   -1.059</td> <td> 0.290</td> <td>   -0.041</td> <td>    0.012</td>\n",
       "</tr>\n",
       "<tr>\n",
       "  <th>17</th>    <td>    0.0835</td> <td>    0.013</td> <td>    6.191</td> <td> 0.000</td> <td>    0.057</td> <td>    0.110</td>\n",
       "</tr>\n",
       "<tr>\n",
       "  <th>18</th>    <td>    0.0452</td> <td>    0.013</td> <td>    3.422</td> <td> 0.001</td> <td>    0.019</td> <td>    0.071</td>\n",
       "</tr>\n",
       "<tr>\n",
       "  <th>19</th>    <td>   -0.1773</td> <td>    0.013</td> <td>  -13.134</td> <td> 0.000</td> <td>   -0.204</td> <td>   -0.151</td>\n",
       "</tr>\n",
       "<tr>\n",
       "  <th>20</th>    <td>   -0.0516</td> <td>    0.014</td> <td>   -3.612</td> <td> 0.000</td> <td>   -0.080</td> <td>   -0.024</td>\n",
       "</tr>\n",
       "<tr>\n",
       "  <th>21</th>    <td>    0.1259</td> <td>    0.016</td> <td>    7.739</td> <td> 0.000</td> <td>    0.094</td> <td>    0.158</td>\n",
       "</tr>\n",
       "<tr>\n",
       "  <th>22</th>    <td>    0.1158</td> <td>    0.015</td> <td>    7.556</td> <td> 0.000</td> <td>    0.086</td> <td>    0.146</td>\n",
       "</tr>\n",
       "<tr>\n",
       "  <th>23</th>    <td>    0.1789</td> <td>    0.016</td> <td>   11.095</td> <td> 0.000</td> <td>    0.147</td> <td>    0.211</td>\n",
       "</tr>\n",
       "<tr>\n",
       "  <th>24</th>    <td>   -0.1378</td> <td>    0.016</td> <td>   -8.591</td> <td> 0.000</td> <td>   -0.169</td> <td>   -0.106</td>\n",
       "</tr>\n",
       "<tr>\n",
       "  <th>25</th>    <td>    0.1136</td> <td>    0.017</td> <td>    6.792</td> <td> 0.000</td> <td>    0.081</td> <td>    0.146</td>\n",
       "</tr>\n",
       "<tr>\n",
       "  <th>26</th>    <td>   -0.0380</td> <td>    0.016</td> <td>   -2.387</td> <td> 0.017</td> <td>   -0.069</td> <td>   -0.007</td>\n",
       "</tr>\n",
       "<tr>\n",
       "  <th>27</th>    <td>   -0.0612</td> <td>    0.017</td> <td>   -3.691</td> <td> 0.000</td> <td>   -0.094</td> <td>   -0.029</td>\n",
       "</tr>\n",
       "<tr>\n",
       "  <th>28</th>    <td>   -0.0488</td> <td>    0.020</td> <td>   -2.470</td> <td> 0.014</td> <td>   -0.088</td> <td>   -0.010</td>\n",
       "</tr>\n",
       "<tr>\n",
       "  <th>29</th>    <td>    0.1160</td> <td>    0.018</td> <td>    6.416</td> <td> 0.000</td> <td>    0.081</td> <td>    0.151</td>\n",
       "</tr>\n",
       "<tr>\n",
       "  <th>30</th>    <td>    0.0844</td> <td>    0.018</td> <td>    4.620</td> <td> 0.000</td> <td>    0.049</td> <td>    0.120</td>\n",
       "</tr>\n",
       "<tr>\n",
       "  <th>31</th>    <td>   -0.0107</td> <td>    0.017</td> <td>   -0.619</td> <td> 0.536</td> <td>   -0.045</td> <td>    0.023</td>\n",
       "</tr>\n",
       "<tr>\n",
       "  <th>32</th>    <td>   -0.0692</td> <td>    0.019</td> <td>   -3.601</td> <td> 0.000</td> <td>   -0.107</td> <td>   -0.032</td>\n",
       "</tr>\n",
       "<tr>\n",
       "  <th>33</th>    <td>   -0.0308</td> <td>    0.018</td> <td>   -1.710</td> <td> 0.087</td> <td>   -0.066</td> <td>    0.005</td>\n",
       "</tr>\n",
       "<tr>\n",
       "  <th>34</th>    <td>   -0.0687</td> <td>    0.019</td> <td>   -3.554</td> <td> 0.000</td> <td>   -0.107</td> <td>   -0.031</td>\n",
       "</tr>\n",
       "<tr>\n",
       "  <th>35</th>    <td>    0.0902</td> <td>    0.018</td> <td>    4.898</td> <td> 0.000</td> <td>    0.054</td> <td>    0.126</td>\n",
       "</tr>\n",
       "<tr>\n",
       "  <th>36</th>    <td>    0.1117</td> <td>    0.018</td> <td>    6.069</td> <td> 0.000</td> <td>    0.076</td> <td>    0.148</td>\n",
       "</tr>\n",
       "<tr>\n",
       "  <th>37</th>    <td>    0.0614</td> <td>    0.020</td> <td>    3.107</td> <td> 0.002</td> <td>    0.023</td> <td>    0.100</td>\n",
       "</tr>\n",
       "<tr>\n",
       "  <th>38</th>    <td>    0.0031</td> <td>    0.020</td> <td>    0.160</td> <td> 0.873</td> <td>   -0.035</td> <td>    0.042</td>\n",
       "</tr>\n",
       "<tr>\n",
       "  <th>39</th>    <td>   -0.1015</td> <td>    0.020</td> <td>   -4.964</td> <td> 0.000</td> <td>   -0.142</td> <td>   -0.061</td>\n",
       "</tr>\n",
       "<tr>\n",
       "  <th>40</th>    <td>   -0.0003</td> <td>    0.021</td> <td>   -0.014</td> <td> 0.989</td> <td>   -0.042</td> <td>    0.041</td>\n",
       "</tr>\n",
       "<tr>\n",
       "  <th>41</th>    <td>   -0.2189</td> <td>    0.022</td> <td>  -10.077</td> <td> 0.000</td> <td>   -0.261</td> <td>   -0.176</td>\n",
       "</tr>\n",
       "<tr>\n",
       "  <th>42</th>    <td>    0.2516</td> <td>    0.021</td> <td>   12.237</td> <td> 0.000</td> <td>    0.211</td> <td>    0.292</td>\n",
       "</tr>\n",
       "<tr>\n",
       "  <th>43</th>    <td>   -0.1462</td> <td>    0.022</td> <td>   -6.664</td> <td> 0.000</td> <td>   -0.189</td> <td>   -0.103</td>\n",
       "</tr>\n",
       "<tr>\n",
       "  <th>44</th>    <td>    0.0570</td> <td>    0.022</td> <td>    2.552</td> <td> 0.011</td> <td>    0.013</td> <td>    0.101</td>\n",
       "</tr>\n",
       "<tr>\n",
       "  <th>45</th>    <td>   -0.5212</td> <td>    0.026</td> <td>  -19.699</td> <td> 0.000</td> <td>   -0.573</td> <td>   -0.469</td>\n",
       "</tr>\n",
       "<tr>\n",
       "  <th>46</th>    <td>    0.1040</td> <td>    0.023</td> <td>    4.582</td> <td> 0.000</td> <td>    0.060</td> <td>    0.149</td>\n",
       "</tr>\n",
       "<tr>\n",
       "  <th>47</th>    <td>   -0.0648</td> <td>    0.024</td> <td>   -2.742</td> <td> 0.006</td> <td>   -0.111</td> <td>   -0.018</td>\n",
       "</tr>\n",
       "<tr>\n",
       "  <th>48</th>    <td>    0.0694</td> <td>    0.024</td> <td>    2.838</td> <td> 0.005</td> <td>    0.021</td> <td>    0.117</td>\n",
       "</tr>\n",
       "<tr>\n",
       "  <th>49</th>    <td>    0.2333</td> <td>    0.024</td> <td>    9.746</td> <td> 0.000</td> <td>    0.186</td> <td>    0.280</td>\n",
       "</tr>\n",
       "<tr>\n",
       "  <th>50</th>    <td>    0.2197</td> <td>    0.024</td> <td>    9.093</td> <td> 0.000</td> <td>    0.172</td> <td>    0.267</td>\n",
       "</tr>\n",
       "</table>"
      ],
      "text/plain": [
       "<class 'statsmodels.iolib.summary.Summary'>\n",
       "\"\"\"\n",
       "                 Generalized Linear Model Regression Results                  \n",
       "==============================================================================\n",
       "Dep. Variable:                  churn   No. Observations:                38400\n",
       "Model:                            GLM   Df Residuals:                    38348\n",
       "Model Family:                Binomial   Df Model:                           51\n",
       "Link Function:                  logit   Scale:                          1.0000\n",
       "Method:                          IRLS   Log-Likelihood:                -14582.\n",
       "Date:                Tue, 01 Sep 2020   Deviance:                       29163.\n",
       "Time:                        10:31:20   Pearson chi2:                 7.42e+04\n",
       "No. Iterations:                     6                                         \n",
       "Covariance Type:            nonrobust                                         \n",
       "==============================================================================\n",
       "                 coef    std err          z      P>|z|      [0.025      0.975]\n",
       "------------------------------------------------------------------------------\n",
       "const         -0.2312      0.017    -13.876      0.000      -0.264      -0.199\n",
       "0             -0.3965      0.005    -79.479      0.000      -0.406      -0.387\n",
       "1             -0.2113      0.005    -43.534      0.000      -0.221      -0.202\n",
       "2              0.1285      0.005     23.363      0.000       0.118       0.139\n",
       "3              0.1525      0.006     25.425      0.000       0.141       0.164\n",
       "4              0.4534      0.007     62.993      0.000       0.439       0.467\n",
       "5              0.0546      0.007      7.922      0.000       0.041       0.068\n",
       "6             -0.0201      0.007     -2.776      0.005      -0.034      -0.006\n",
       "7             -0.0014      0.007     -0.195      0.846      -0.016       0.013\n",
       "8              0.1410      0.009     15.664      0.000       0.123       0.159\n",
       "9              0.5575      0.011     52.779      0.000       0.537       0.578\n",
       "10            -0.3932      0.011    -36.225      0.000      -0.414      -0.372\n",
       "11            -0.0772      0.012     -6.610      0.000      -0.100      -0.054\n",
       "12            -0.1455      0.011    -12.701      0.000      -0.168      -0.123\n",
       "13            -0.0911      0.011     -8.173      0.000      -0.113      -0.069\n",
       "14            -0.0131      0.012     -1.063      0.288      -0.037       0.011\n",
       "15             0.0002      0.012      0.017      0.986      -0.024       0.025\n",
       "16            -0.0145      0.014     -1.059      0.290      -0.041       0.012\n",
       "17             0.0835      0.013      6.191      0.000       0.057       0.110\n",
       "18             0.0452      0.013      3.422      0.001       0.019       0.071\n",
       "19            -0.1773      0.013    -13.134      0.000      -0.204      -0.151\n",
       "20            -0.0516      0.014     -3.612      0.000      -0.080      -0.024\n",
       "21             0.1259      0.016      7.739      0.000       0.094       0.158\n",
       "22             0.1158      0.015      7.556      0.000       0.086       0.146\n",
       "23             0.1789      0.016     11.095      0.000       0.147       0.211\n",
       "24            -0.1378      0.016     -8.591      0.000      -0.169      -0.106\n",
       "25             0.1136      0.017      6.792      0.000       0.081       0.146\n",
       "26            -0.0380      0.016     -2.387      0.017      -0.069      -0.007\n",
       "27            -0.0612      0.017     -3.691      0.000      -0.094      -0.029\n",
       "28            -0.0488      0.020     -2.470      0.014      -0.088      -0.010\n",
       "29             0.1160      0.018      6.416      0.000       0.081       0.151\n",
       "30             0.0844      0.018      4.620      0.000       0.049       0.120\n",
       "31            -0.0107      0.017     -0.619      0.536      -0.045       0.023\n",
       "32            -0.0692      0.019     -3.601      0.000      -0.107      -0.032\n",
       "33            -0.0308      0.018     -1.710      0.087      -0.066       0.005\n",
       "34            -0.0687      0.019     -3.554      0.000      -0.107      -0.031\n",
       "35             0.0902      0.018      4.898      0.000       0.054       0.126\n",
       "36             0.1117      0.018      6.069      0.000       0.076       0.148\n",
       "37             0.0614      0.020      3.107      0.002       0.023       0.100\n",
       "38             0.0031      0.020      0.160      0.873      -0.035       0.042\n",
       "39            -0.1015      0.020     -4.964      0.000      -0.142      -0.061\n",
       "40            -0.0003      0.021     -0.014      0.989      -0.042       0.041\n",
       "41            -0.2189      0.022    -10.077      0.000      -0.261      -0.176\n",
       "42             0.2516      0.021     12.237      0.000       0.211       0.292\n",
       "43            -0.1462      0.022     -6.664      0.000      -0.189      -0.103\n",
       "44             0.0570      0.022      2.552      0.011       0.013       0.101\n",
       "45            -0.5212      0.026    -19.699      0.000      -0.573      -0.469\n",
       "46             0.1040      0.023      4.582      0.000       0.060       0.149\n",
       "47            -0.0648      0.024     -2.742      0.006      -0.111      -0.018\n",
       "48             0.0694      0.024      2.838      0.005       0.021       0.117\n",
       "49             0.2333      0.024      9.746      0.000       0.186       0.280\n",
       "50             0.2197      0.024      9.093      0.000       0.172       0.267\n",
       "==============================================================================\n",
       "\"\"\""
      ]
     },
     "execution_count": 53,
     "metadata": {},
     "output_type": "execute_result"
    }
   ],
   "source": [
    "# Logistic regression model\n",
    "logm1 = sm.GLM(y_train,(sm.add_constant(X_train)), family = sm.families.Binomial())\n",
    "logm1.fit().summary()"
   ]
  },
  {
   "cell_type": "code",
   "execution_count": 54,
   "metadata": {},
   "outputs": [],
   "source": [
    "import warnings\n",
    "warnings.filterwarnings(\"ignore\")"
   ]
  },
  {
   "cell_type": "code",
   "execution_count": 55,
   "metadata": {},
   "outputs": [],
   "source": [
    "log1 = LogisticRegression()\n",
    "rfe1 = RFE(log1, 40)\n",
    "rfe1 = rfe1.fit(X_train, y_train)"
   ]
  },
  {
   "cell_type": "code",
   "execution_count": 56,
   "metadata": {},
   "outputs": [
    {
     "name": "stdout",
     "output_type": "stream",
     "text": [
      "Index([ 0,  1,  2,  3,  4,  5,  8,  9, 10, 11, 12, 13, 17, 19, 20, 21, 22, 23,\n",
      "       24, 25, 27, 28, 29, 30, 32, 34, 35, 36, 37, 39, 41, 42, 43, 44, 45, 46,\n",
      "       47, 48, 49, 50],\n",
      "      dtype='object')\n"
     ]
    }
   ],
   "source": [
    "col = X_train.columns[rfe1.support_]\n",
    "print(col)"
   ]
  },
  {
   "cell_type": "code",
   "execution_count": 57,
   "metadata": {
    "scrolled": true
   },
   "outputs": [
    {
     "data": {
      "text/html": [
       "<table class=\"simpletable\">\n",
       "<caption>Generalized Linear Model Regression Results</caption>\n",
       "<tr>\n",
       "  <th>Dep. Variable:</th>         <td>churn</td>      <th>  No. Observations:  </th>  <td> 38400</td> \n",
       "</tr>\n",
       "<tr>\n",
       "  <th>Model:</th>                  <td>GLM</td>       <th>  Df Residuals:      </th>  <td> 38359</td> \n",
       "</tr>\n",
       "<tr>\n",
       "  <th>Model Family:</th>        <td>Binomial</td>     <th>  Df Model:          </th>  <td>    40</td> \n",
       "</tr>\n",
       "<tr>\n",
       "  <th>Link Function:</th>         <td>logit</td>      <th>  Scale:             </th> <td>  1.0000</td>\n",
       "</tr>\n",
       "<tr>\n",
       "  <th>Method:</th>                <td>IRLS</td>       <th>  Log-Likelihood:    </th> <td> -14597.</td>\n",
       "</tr>\n",
       "<tr>\n",
       "  <th>Date:</th>            <td>Tue, 01 Sep 2020</td> <th>  Deviance:          </th> <td>  29194.</td>\n",
       "</tr>\n",
       "<tr>\n",
       "  <th>Time:</th>                <td>10:31:24</td>     <th>  Pearson chi2:      </th> <td>7.23e+04</td>\n",
       "</tr>\n",
       "<tr>\n",
       "  <th>No. Iterations:</th>          <td>6</td>        <th>                     </th>     <td> </td>   \n",
       "</tr>\n",
       "<tr>\n",
       "  <th>Covariance Type:</th>     <td>nonrobust</td>    <th>                     </th>     <td> </td>   \n",
       "</tr>\n",
       "</table>\n",
       "<table class=\"simpletable\">\n",
       "<tr>\n",
       "    <td></td>       <th>coef</th>     <th>std err</th>      <th>z</th>      <th>P>|z|</th>  <th>[0.025</th>    <th>0.975]</th>  \n",
       "</tr>\n",
       "<tr>\n",
       "  <th>const</th> <td>   -0.2344</td> <td>    0.016</td> <td>  -14.251</td> <td> 0.000</td> <td>   -0.267</td> <td>   -0.202</td>\n",
       "</tr>\n",
       "<tr>\n",
       "  <th>0</th>     <td>   -0.3962</td> <td>    0.005</td> <td>  -80.430</td> <td> 0.000</td> <td>   -0.406</td> <td>   -0.387</td>\n",
       "</tr>\n",
       "<tr>\n",
       "  <th>1</th>     <td>   -0.2129</td> <td>    0.005</td> <td>  -44.041</td> <td> 0.000</td> <td>   -0.222</td> <td>   -0.203</td>\n",
       "</tr>\n",
       "<tr>\n",
       "  <th>2</th>     <td>    0.1281</td> <td>    0.005</td> <td>   23.538</td> <td> 0.000</td> <td>    0.117</td> <td>    0.139</td>\n",
       "</tr>\n",
       "<tr>\n",
       "  <th>3</th>     <td>    0.1535</td> <td>    0.006</td> <td>   25.731</td> <td> 0.000</td> <td>    0.142</td> <td>    0.165</td>\n",
       "</tr>\n",
       "<tr>\n",
       "  <th>4</th>     <td>    0.4530</td> <td>    0.007</td> <td>   63.041</td> <td> 0.000</td> <td>    0.439</td> <td>    0.467</td>\n",
       "</tr>\n",
       "<tr>\n",
       "  <th>5</th>     <td>    0.0545</td> <td>    0.007</td> <td>    7.969</td> <td> 0.000</td> <td>    0.041</td> <td>    0.068</td>\n",
       "</tr>\n",
       "<tr>\n",
       "  <th>8</th>     <td>    0.1406</td> <td>    0.009</td> <td>   15.711</td> <td> 0.000</td> <td>    0.123</td> <td>    0.158</td>\n",
       "</tr>\n",
       "<tr>\n",
       "  <th>9</th>     <td>    0.5567</td> <td>    0.011</td> <td>   52.909</td> <td> 0.000</td> <td>    0.536</td> <td>    0.577</td>\n",
       "</tr>\n",
       "<tr>\n",
       "  <th>10</th>    <td>   -0.3955</td> <td>    0.011</td> <td>  -36.835</td> <td> 0.000</td> <td>   -0.417</td> <td>   -0.374</td>\n",
       "</tr>\n",
       "<tr>\n",
       "  <th>11</th>    <td>   -0.0735</td> <td>    0.012</td> <td>   -6.372</td> <td> 0.000</td> <td>   -0.096</td> <td>   -0.051</td>\n",
       "</tr>\n",
       "<tr>\n",
       "  <th>12</th>    <td>   -0.1417</td> <td>    0.011</td> <td>  -12.474</td> <td> 0.000</td> <td>   -0.164</td> <td>   -0.119</td>\n",
       "</tr>\n",
       "<tr>\n",
       "  <th>13</th>    <td>   -0.0919</td> <td>    0.011</td> <td>   -8.271</td> <td> 0.000</td> <td>   -0.114</td> <td>   -0.070</td>\n",
       "</tr>\n",
       "<tr>\n",
       "  <th>17</th>    <td>    0.0808</td> <td>    0.013</td> <td>    6.025</td> <td> 0.000</td> <td>    0.055</td> <td>    0.107</td>\n",
       "</tr>\n",
       "<tr>\n",
       "  <th>19</th>    <td>   -0.1793</td> <td>    0.013</td> <td>  -13.309</td> <td> 0.000</td> <td>   -0.206</td> <td>   -0.153</td>\n",
       "</tr>\n",
       "<tr>\n",
       "  <th>20</th>    <td>   -0.0537</td> <td>    0.014</td> <td>   -3.759</td> <td> 0.000</td> <td>   -0.082</td> <td>   -0.026</td>\n",
       "</tr>\n",
       "<tr>\n",
       "  <th>21</th>    <td>    0.1300</td> <td>    0.016</td> <td>    8.056</td> <td> 0.000</td> <td>    0.098</td> <td>    0.162</td>\n",
       "</tr>\n",
       "<tr>\n",
       "  <th>22</th>    <td>    0.1156</td> <td>    0.015</td> <td>    7.591</td> <td> 0.000</td> <td>    0.086</td> <td>    0.145</td>\n",
       "</tr>\n",
       "<tr>\n",
       "  <th>23</th>    <td>    0.1788</td> <td>    0.016</td> <td>   11.139</td> <td> 0.000</td> <td>    0.147</td> <td>    0.210</td>\n",
       "</tr>\n",
       "<tr>\n",
       "  <th>24</th>    <td>   -0.1387</td> <td>    0.016</td> <td>   -8.676</td> <td> 0.000</td> <td>   -0.170</td> <td>   -0.107</td>\n",
       "</tr>\n",
       "<tr>\n",
       "  <th>25</th>    <td>    0.1105</td> <td>    0.017</td> <td>    6.653</td> <td> 0.000</td> <td>    0.078</td> <td>    0.143</td>\n",
       "</tr>\n",
       "<tr>\n",
       "  <th>27</th>    <td>   -0.0613</td> <td>    0.017</td> <td>   -3.698</td> <td> 0.000</td> <td>   -0.094</td> <td>   -0.029</td>\n",
       "</tr>\n",
       "<tr>\n",
       "  <th>28</th>    <td>   -0.0484</td> <td>    0.019</td> <td>   -2.494</td> <td> 0.013</td> <td>   -0.086</td> <td>   -0.010</td>\n",
       "</tr>\n",
       "<tr>\n",
       "  <th>29</th>    <td>    0.1172</td> <td>    0.018</td> <td>    6.514</td> <td> 0.000</td> <td>    0.082</td> <td>    0.153</td>\n",
       "</tr>\n",
       "<tr>\n",
       "  <th>30</th>    <td>    0.0870</td> <td>    0.018</td> <td>    4.819</td> <td> 0.000</td> <td>    0.052</td> <td>    0.122</td>\n",
       "</tr>\n",
       "<tr>\n",
       "  <th>32</th>    <td>   -0.0738</td> <td>    0.019</td> <td>   -3.875</td> <td> 0.000</td> <td>   -0.111</td> <td>   -0.036</td>\n",
       "</tr>\n",
       "<tr>\n",
       "  <th>34</th>    <td>   -0.0705</td> <td>    0.019</td> <td>   -3.655</td> <td> 0.000</td> <td>   -0.108</td> <td>   -0.033</td>\n",
       "</tr>\n",
       "<tr>\n",
       "  <th>35</th>    <td>    0.0932</td> <td>    0.018</td> <td>    5.090</td> <td> 0.000</td> <td>    0.057</td> <td>    0.129</td>\n",
       "</tr>\n",
       "<tr>\n",
       "  <th>36</th>    <td>    0.1098</td> <td>    0.018</td> <td>    5.986</td> <td> 0.000</td> <td>    0.074</td> <td>    0.146</td>\n",
       "</tr>\n",
       "<tr>\n",
       "  <th>37</th>    <td>    0.0620</td> <td>    0.020</td> <td>    3.148</td> <td> 0.002</td> <td>    0.023</td> <td>    0.101</td>\n",
       "</tr>\n",
       "<tr>\n",
       "  <th>39</th>    <td>   -0.1006</td> <td>    0.020</td> <td>   -4.940</td> <td> 0.000</td> <td>   -0.141</td> <td>   -0.061</td>\n",
       "</tr>\n",
       "<tr>\n",
       "  <th>41</th>    <td>   -0.2169</td> <td>    0.021</td> <td>  -10.103</td> <td> 0.000</td> <td>   -0.259</td> <td>   -0.175</td>\n",
       "</tr>\n",
       "<tr>\n",
       "  <th>42</th>    <td>    0.2542</td> <td>    0.020</td> <td>   12.411</td> <td> 0.000</td> <td>    0.214</td> <td>    0.294</td>\n",
       "</tr>\n",
       "<tr>\n",
       "  <th>43</th>    <td>   -0.1454</td> <td>    0.022</td> <td>   -6.651</td> <td> 0.000</td> <td>   -0.188</td> <td>   -0.103</td>\n",
       "</tr>\n",
       "<tr>\n",
       "  <th>44</th>    <td>    0.0567</td> <td>    0.022</td> <td>    2.540</td> <td> 0.011</td> <td>    0.013</td> <td>    0.100</td>\n",
       "</tr>\n",
       "<tr>\n",
       "  <th>45</th>    <td>   -0.5165</td> <td>    0.026</td> <td>  -19.881</td> <td> 0.000</td> <td>   -0.567</td> <td>   -0.466</td>\n",
       "</tr>\n",
       "<tr>\n",
       "  <th>46</th>    <td>    0.1038</td> <td>    0.023</td> <td>    4.582</td> <td> 0.000</td> <td>    0.059</td> <td>    0.148</td>\n",
       "</tr>\n",
       "<tr>\n",
       "  <th>47</th>    <td>   -0.0632</td> <td>    0.024</td> <td>   -2.677</td> <td> 0.007</td> <td>   -0.109</td> <td>   -0.017</td>\n",
       "</tr>\n",
       "<tr>\n",
       "  <th>48</th>    <td>    0.0635</td> <td>    0.024</td> <td>    2.600</td> <td> 0.009</td> <td>    0.016</td> <td>    0.111</td>\n",
       "</tr>\n",
       "<tr>\n",
       "  <th>49</th>    <td>    0.2327</td> <td>    0.024</td> <td>    9.734</td> <td> 0.000</td> <td>    0.186</td> <td>    0.280</td>\n",
       "</tr>\n",
       "<tr>\n",
       "  <th>50</th>    <td>    0.2220</td> <td>    0.024</td> <td>    9.208</td> <td> 0.000</td> <td>    0.175</td> <td>    0.269</td>\n",
       "</tr>\n",
       "</table>"
      ],
      "text/plain": [
       "<class 'statsmodels.iolib.summary.Summary'>\n",
       "\"\"\"\n",
       "                 Generalized Linear Model Regression Results                  \n",
       "==============================================================================\n",
       "Dep. Variable:                  churn   No. Observations:                38400\n",
       "Model:                            GLM   Df Residuals:                    38359\n",
       "Model Family:                Binomial   Df Model:                           40\n",
       "Link Function:                  logit   Scale:                          1.0000\n",
       "Method:                          IRLS   Log-Likelihood:                -14597.\n",
       "Date:                Tue, 01 Sep 2020   Deviance:                       29194.\n",
       "Time:                        10:31:24   Pearson chi2:                 7.23e+04\n",
       "No. Iterations:                     6                                         \n",
       "Covariance Type:            nonrobust                                         \n",
       "==============================================================================\n",
       "                 coef    std err          z      P>|z|      [0.025      0.975]\n",
       "------------------------------------------------------------------------------\n",
       "const         -0.2344      0.016    -14.251      0.000      -0.267      -0.202\n",
       "0             -0.3962      0.005    -80.430      0.000      -0.406      -0.387\n",
       "1             -0.2129      0.005    -44.041      0.000      -0.222      -0.203\n",
       "2              0.1281      0.005     23.538      0.000       0.117       0.139\n",
       "3              0.1535      0.006     25.731      0.000       0.142       0.165\n",
       "4              0.4530      0.007     63.041      0.000       0.439       0.467\n",
       "5              0.0545      0.007      7.969      0.000       0.041       0.068\n",
       "8              0.1406      0.009     15.711      0.000       0.123       0.158\n",
       "9              0.5567      0.011     52.909      0.000       0.536       0.577\n",
       "10            -0.3955      0.011    -36.835      0.000      -0.417      -0.374\n",
       "11            -0.0735      0.012     -6.372      0.000      -0.096      -0.051\n",
       "12            -0.1417      0.011    -12.474      0.000      -0.164      -0.119\n",
       "13            -0.0919      0.011     -8.271      0.000      -0.114      -0.070\n",
       "17             0.0808      0.013      6.025      0.000       0.055       0.107\n",
       "19            -0.1793      0.013    -13.309      0.000      -0.206      -0.153\n",
       "20            -0.0537      0.014     -3.759      0.000      -0.082      -0.026\n",
       "21             0.1300      0.016      8.056      0.000       0.098       0.162\n",
       "22             0.1156      0.015      7.591      0.000       0.086       0.145\n",
       "23             0.1788      0.016     11.139      0.000       0.147       0.210\n",
       "24            -0.1387      0.016     -8.676      0.000      -0.170      -0.107\n",
       "25             0.1105      0.017      6.653      0.000       0.078       0.143\n",
       "27            -0.0613      0.017     -3.698      0.000      -0.094      -0.029\n",
       "28            -0.0484      0.019     -2.494      0.013      -0.086      -0.010\n",
       "29             0.1172      0.018      6.514      0.000       0.082       0.153\n",
       "30             0.0870      0.018      4.819      0.000       0.052       0.122\n",
       "32            -0.0738      0.019     -3.875      0.000      -0.111      -0.036\n",
       "34            -0.0705      0.019     -3.655      0.000      -0.108      -0.033\n",
       "35             0.0932      0.018      5.090      0.000       0.057       0.129\n",
       "36             0.1098      0.018      5.986      0.000       0.074       0.146\n",
       "37             0.0620      0.020      3.148      0.002       0.023       0.101\n",
       "39            -0.1006      0.020     -4.940      0.000      -0.141      -0.061\n",
       "41            -0.2169      0.021    -10.103      0.000      -0.259      -0.175\n",
       "42             0.2542      0.020     12.411      0.000       0.214       0.294\n",
       "43            -0.1454      0.022     -6.651      0.000      -0.188      -0.103\n",
       "44             0.0567      0.022      2.540      0.011       0.013       0.100\n",
       "45            -0.5165      0.026    -19.881      0.000      -0.567      -0.466\n",
       "46             0.1038      0.023      4.582      0.000       0.059       0.148\n",
       "47            -0.0632      0.024     -2.677      0.007      -0.109      -0.017\n",
       "48             0.0635      0.024      2.600      0.009       0.016       0.111\n",
       "49             0.2327      0.024      9.734      0.000       0.186       0.280\n",
       "50             0.2220      0.024      9.208      0.000       0.175       0.269\n",
       "==============================================================================\n",
       "\"\"\""
      ]
     },
     "execution_count": 57,
     "metadata": {},
     "output_type": "execute_result"
    }
   ],
   "source": [
    "X_train_sm = sm.add_constant(X_train[col])\n",
    "log2 = sm.GLM(y_train, X_train_sm, family = sm.families.Binomial())\n",
    "model2 = log2.fit()\n",
    "model2.summary()"
   ]
  },
  {
   "cell_type": "code",
   "execution_count": 58,
   "metadata": {},
   "outputs": [
    {
     "data": {
      "text/plain": [
       "29172    0.008065\n",
       "9013     0.177540\n",
       "8741     0.032071\n",
       "30680    0.936593\n",
       "43716    0.694321\n",
       "17901    0.532962\n",
       "52619    0.604667\n",
       "dtype: float64"
      ]
     },
     "execution_count": 58,
     "metadata": {},
     "output_type": "execute_result"
    }
   ],
   "source": [
    "# Getting the predicted probabilities\n",
    "y_train_pred = model2.predict(X_train_sm)\n",
    "y_train_pred[:7]"
   ]
  },
  {
   "cell_type": "code",
   "execution_count": 59,
   "metadata": {},
   "outputs": [
    {
     "data": {
      "text/plain": [
       "array([0.00806485, 0.1775397 , 0.03207055, 0.93659278, 0.69432059,\n",
       "       0.53296153, 0.6046665 , 0.33509615, 0.06563537, 0.9302197 ])"
      ]
     },
     "execution_count": 59,
     "metadata": {},
     "output_type": "execute_result"
    }
   ],
   "source": [
    "y_train_pred = y_train_pred.values.reshape(-1)\n",
    "y_train_pred[:10]"
   ]
  },
  {
   "cell_type": "markdown",
   "metadata": {},
   "source": [
    "##### Creating a dataframe with the actual churn flag and the predicted probabilities"
   ]
  },
  {
   "cell_type": "code",
   "execution_count": 60,
   "metadata": {},
   "outputs": [
    {
     "data": {
      "text/html": [
       "<div>\n",
       "<style scoped>\n",
       "    .dataframe tbody tr th:only-of-type {\n",
       "        vertical-align: middle;\n",
       "    }\n",
       "\n",
       "    .dataframe tbody tr th {\n",
       "        vertical-align: top;\n",
       "    }\n",
       "\n",
       "    .dataframe thead th {\n",
       "        text-align: right;\n",
       "    }\n",
       "</style>\n",
       "<table border=\"1\" class=\"dataframe\">\n",
       "  <thead>\n",
       "    <tr style=\"text-align: right;\">\n",
       "      <th></th>\n",
       "      <th>Churn</th>\n",
       "      <th>Churn_Prob</th>\n",
       "      <th>ID</th>\n",
       "    </tr>\n",
       "  </thead>\n",
       "  <tbody>\n",
       "    <tr>\n",
       "      <th>0</th>\n",
       "      <td>0</td>\n",
       "      <td>0.008065</td>\n",
       "      <td>29172</td>\n",
       "    </tr>\n",
       "    <tr>\n",
       "      <th>1</th>\n",
       "      <td>0</td>\n",
       "      <td>0.177540</td>\n",
       "      <td>9013</td>\n",
       "    </tr>\n",
       "    <tr>\n",
       "      <th>2</th>\n",
       "      <td>0</td>\n",
       "      <td>0.032071</td>\n",
       "      <td>8741</td>\n",
       "    </tr>\n",
       "    <tr>\n",
       "      <th>3</th>\n",
       "      <td>1</td>\n",
       "      <td>0.936593</td>\n",
       "      <td>30680</td>\n",
       "    </tr>\n",
       "    <tr>\n",
       "      <th>4</th>\n",
       "      <td>1</td>\n",
       "      <td>0.694321</td>\n",
       "      <td>43716</td>\n",
       "    </tr>\n",
       "  </tbody>\n",
       "</table>\n",
       "</div>"
      ],
      "text/plain": [
       "   Churn  Churn_Prob     ID\n",
       "0      0    0.008065  29172\n",
       "1      0    0.177540   9013\n",
       "2      0    0.032071   8741\n",
       "3      1    0.936593  30680\n",
       "4      1    0.694321  43716"
      ]
     },
     "execution_count": 60,
     "metadata": {},
     "output_type": "execute_result"
    }
   ],
   "source": [
    "y_train_pred_final = pd.DataFrame({'Churn':y_train.values, 'Churn_Prob':y_train_pred})\n",
    "y_train_pred_final['ID'] = y_train.index\n",
    "y_train_pred_final.head()"
   ]
  },
  {
   "cell_type": "markdown",
   "metadata": {},
   "source": [
    "##### Creating new column 'predicted' with 1 if Churn_Prob > 0.5 else 0"
   ]
  },
  {
   "cell_type": "code",
   "execution_count": 61,
   "metadata": {},
   "outputs": [
    {
     "data": {
      "text/html": [
       "<div>\n",
       "<style scoped>\n",
       "    .dataframe tbody tr th:only-of-type {\n",
       "        vertical-align: middle;\n",
       "    }\n",
       "\n",
       "    .dataframe tbody tr th {\n",
       "        vertical-align: top;\n",
       "    }\n",
       "\n",
       "    .dataframe thead th {\n",
       "        text-align: right;\n",
       "    }\n",
       "</style>\n",
       "<table border=\"1\" class=\"dataframe\">\n",
       "  <thead>\n",
       "    <tr style=\"text-align: right;\">\n",
       "      <th></th>\n",
       "      <th>Churn</th>\n",
       "      <th>Churn_Prob</th>\n",
       "      <th>ID</th>\n",
       "      <th>predicted</th>\n",
       "    </tr>\n",
       "  </thead>\n",
       "  <tbody>\n",
       "    <tr>\n",
       "      <th>0</th>\n",
       "      <td>0</td>\n",
       "      <td>0.008065</td>\n",
       "      <td>29172</td>\n",
       "      <td>0</td>\n",
       "    </tr>\n",
       "    <tr>\n",
       "      <th>1</th>\n",
       "      <td>0</td>\n",
       "      <td>0.177540</td>\n",
       "      <td>9013</td>\n",
       "      <td>0</td>\n",
       "    </tr>\n",
       "    <tr>\n",
       "      <th>2</th>\n",
       "      <td>0</td>\n",
       "      <td>0.032071</td>\n",
       "      <td>8741</td>\n",
       "      <td>0</td>\n",
       "    </tr>\n",
       "    <tr>\n",
       "      <th>3</th>\n",
       "      <td>1</td>\n",
       "      <td>0.936593</td>\n",
       "      <td>30680</td>\n",
       "      <td>1</td>\n",
       "    </tr>\n",
       "    <tr>\n",
       "      <th>4</th>\n",
       "      <td>1</td>\n",
       "      <td>0.694321</td>\n",
       "      <td>43716</td>\n",
       "      <td>1</td>\n",
       "    </tr>\n",
       "  </tbody>\n",
       "</table>\n",
       "</div>"
      ],
      "text/plain": [
       "   Churn  Churn_Prob     ID  predicted\n",
       "0      0    0.008065  29172          0\n",
       "1      0    0.177540   9013          0\n",
       "2      0    0.032071   8741          0\n",
       "3      1    0.936593  30680          1\n",
       "4      1    0.694321  43716          1"
      ]
     },
     "execution_count": 61,
     "metadata": {},
     "output_type": "execute_result"
    }
   ],
   "source": [
    "y_train_pred_final['predicted'] = y_train_pred_final.Churn_Prob.map(lambda x: 1 if x > 0.5 else 0)\n",
    "\n",
    "# Let's see the head\n",
    "y_train_pred_final.head()"
   ]
  },
  {
   "cell_type": "code",
   "execution_count": 62,
   "metadata": {},
   "outputs": [],
   "source": [
    "from sklearn import metrics"
   ]
  },
  {
   "cell_type": "code",
   "execution_count": 63,
   "metadata": {},
   "outputs": [
    {
     "name": "stdout",
     "output_type": "stream",
     "text": [
      "[[15952  3214]\n",
      " [ 2853 16381]]\n"
     ]
    }
   ],
   "source": [
    "# Confusion matrix \n",
    "confusion = metrics.confusion_matrix(y_train_pred_final.Churn, y_train_pred_final.predicted )\n",
    "print(confusion)"
   ]
  },
  {
   "cell_type": "code",
   "execution_count": 64,
   "metadata": {},
   "outputs": [
    {
     "name": "stdout",
     "output_type": "stream",
     "text": [
      "Accuracy: 0.8420052083333334\n"
     ]
    }
   ],
   "source": [
    "# overall accuracy.\n",
    "accuracy_log = metrics.accuracy_score(y_train_pred_final.Churn, y_train_pred_final.predicted)\n",
    "print(\"Accuracy: {}\".format(accuracy_log))"
   ]
  },
  {
   "cell_type": "code",
   "execution_count": 65,
   "metadata": {},
   "outputs": [],
   "source": [
    "TP = confusion[1,1] # true positive \n",
    "TN = confusion[0,0] # true negatives\n",
    "FP = confusion[0,1] # false positives\n",
    "FN = confusion[1,0] # false negatives"
   ]
  },
  {
   "cell_type": "code",
   "execution_count": 66,
   "metadata": {},
   "outputs": [
    {
     "data": {
      "text/plain": [
       "0.8516689196215036"
      ]
     },
     "execution_count": 66,
     "metadata": {},
     "output_type": "execute_result"
    }
   ],
   "source": [
    "# sensitivity\n",
    "TP / float(TP+FN)"
   ]
  },
  {
   "cell_type": "code",
   "execution_count": 67,
   "metadata": {},
   "outputs": [
    {
     "data": {
      "text/plain": [
       "0.8323072106855891"
      ]
     },
     "execution_count": 67,
     "metadata": {},
     "output_type": "execute_result"
    }
   ],
   "source": [
    "# specificity\n",
    "TN / float(TN+FP)"
   ]
  },
  {
   "cell_type": "markdown",
   "metadata": {},
   "source": [
    "### ROC Curve Plotting"
   ]
  },
  {
   "cell_type": "code",
   "execution_count": 68,
   "metadata": {},
   "outputs": [],
   "source": [
    "def draw_roc( actual, probs ):\n",
    "    fpr, tpr, thresholds = metrics.roc_curve( actual, probs,\n",
    "                                              drop_intermediate = False )\n",
    "    auc_score = metrics.roc_auc_score( actual, probs )\n",
    "    plt.figure(figsize=(5, 5))\n",
    "    plt.plot( fpr, tpr, label='ROC curve (area = %0.2f)' % auc_score )\n",
    "    plt.plot([0, 1], [0, 1], 'k--')\n",
    "    plt.xlim([0.0, 1.0])\n",
    "    plt.ylim([0.0, 1.05])\n",
    "    plt.xlabel('False Positive Rate or [1 - True Negative Rate]')\n",
    "    plt.ylabel('True Positive Rate')\n",
    "    plt.title('Receiver operating characteristic example')\n",
    "    plt.legend(loc=\"lower right\")\n",
    "    plt.show()\n",
    "\n",
    "    return None"
   ]
  },
  {
   "cell_type": "code",
   "execution_count": 69,
   "metadata": {},
   "outputs": [],
   "source": [
    "fpr, tpr, thresholds = metrics.roc_curve( y_train_pred_final.Churn, y_train_pred_final.Churn_Prob, drop_intermediate = False )"
   ]
  },
  {
   "cell_type": "code",
   "execution_count": 70,
   "metadata": {},
   "outputs": [
    {
     "data": {
      "image/png": "[encoded data removed]",
      "text/plain": [
       "<Figure size 360x360 with 1 Axes>"
      ]
     },
     "metadata": {
      "needs_background": "light"
     },
     "output_type": "display_data"
    }
   ],
   "source": [
    "draw_roc(y_train_pred_final.Churn, y_train_pred_final.Churn_Prob)"
   ]
  },
  {
   "cell_type": "markdown",
   "metadata": {},
   "source": [
    "### Finding the Optimal cutoff point for the churn value"
   ]
  },
  {
   "cell_type": "code",
   "execution_count": 71,
   "metadata": {},
   "outputs": [
    {
     "data": {
      "text/html": [
       "<div>\n",
       "<style scoped>\n",
       "    .dataframe tbody tr th:only-of-type {\n",
       "        vertical-align: middle;\n",
       "    }\n",
       "\n",
       "    .dataframe tbody tr th {\n",
       "        vertical-align: top;\n",
       "    }\n",
       "\n",
       "    .dataframe thead th {\n",
       "        text-align: right;\n",
       "    }\n",
       "</style>\n",
       "<table border=\"1\" class=\"dataframe\">\n",
       "  <thead>\n",
       "    <tr style=\"text-align: right;\">\n",
       "      <th></th>\n",
       "      <th>Churn</th>\n",
       "      <th>Churn_Prob</th>\n",
       "      <th>ID</th>\n",
       "      <th>predicted</th>\n",
       "      <th>0.0</th>\n",
       "      <th>0.1</th>\n",
       "      <th>0.2</th>\n",
       "      <th>0.3</th>\n",
       "      <th>0.4</th>\n",
       "      <th>0.5</th>\n",
       "      <th>0.6</th>\n",
       "      <th>0.7</th>\n",
       "      <th>0.8</th>\n",
       "      <th>0.9</th>\n",
       "    </tr>\n",
       "  </thead>\n",
       "  <tbody>\n",
       "    <tr>\n",
       "      <th>0</th>\n",
       "      <td>0</td>\n",
       "      <td>0.008065</td>\n",
       "      <td>29172</td>\n",
       "      <td>0</td>\n",
       "      <td>1</td>\n",
       "      <td>0</td>\n",
       "      <td>0</td>\n",
       "      <td>0</td>\n",
       "      <td>0</td>\n",
       "      <td>0</td>\n",
       "      <td>0</td>\n",
       "      <td>0</td>\n",
       "      <td>0</td>\n",
       "      <td>0</td>\n",
       "    </tr>\n",
       "    <tr>\n",
       "      <th>1</th>\n",
       "      <td>0</td>\n",
       "      <td>0.177540</td>\n",
       "      <td>9013</td>\n",
       "      <td>0</td>\n",
       "      <td>1</td>\n",
       "      <td>1</td>\n",
       "      <td>0</td>\n",
       "      <td>0</td>\n",
       "      <td>0</td>\n",
       "      <td>0</td>\n",
       "      <td>0</td>\n",
       "      <td>0</td>\n",
       "      <td>0</td>\n",
       "      <td>0</td>\n",
       "    </tr>\n",
       "    <tr>\n",
       "      <th>2</th>\n",
       "      <td>0</td>\n",
       "      <td>0.032071</td>\n",
       "      <td>8741</td>\n",
       "      <td>0</td>\n",
       "      <td>1</td>\n",
       "      <td>0</td>\n",
       "      <td>0</td>\n",
       "      <td>0</td>\n",
       "      <td>0</td>\n",
       "      <td>0</td>\n",
       "      <td>0</td>\n",
       "      <td>0</td>\n",
       "      <td>0</td>\n",
       "      <td>0</td>\n",
       "    </tr>\n",
       "    <tr>\n",
       "      <th>3</th>\n",
       "      <td>1</td>\n",
       "      <td>0.936593</td>\n",
       "      <td>30680</td>\n",
       "      <td>1</td>\n",
       "      <td>1</td>\n",
       "      <td>1</td>\n",
       "      <td>1</td>\n",
       "      <td>1</td>\n",
       "      <td>1</td>\n",
       "      <td>1</td>\n",
       "      <td>1</td>\n",
       "      <td>1</td>\n",
       "      <td>1</td>\n",
       "      <td>1</td>\n",
       "    </tr>\n",
       "    <tr>\n",
       "      <th>4</th>\n",
       "      <td>1</td>\n",
       "      <td>0.694321</td>\n",
       "      <td>43716</td>\n",
       "      <td>1</td>\n",
       "      <td>1</td>\n",
       "      <td>1</td>\n",
       "      <td>1</td>\n",
       "      <td>1</td>\n",
       "      <td>1</td>\n",
       "      <td>1</td>\n",
       "      <td>1</td>\n",
       "      <td>0</td>\n",
       "      <td>0</td>\n",
       "      <td>0</td>\n",
       "    </tr>\n",
       "  </tbody>\n",
       "</table>\n",
       "</div>"
      ],
      "text/plain": [
       "   Churn  Churn_Prob     ID  predicted  0.0  0.1  0.2  0.3  0.4  0.5  0.6  \\\n",
       "0      0    0.008065  29172          0    1    0    0    0    0    0    0   \n",
       "1      0    0.177540   9013          0    1    1    0    0    0    0    0   \n",
       "2      0    0.032071   8741          0    1    0    0    0    0    0    0   \n",
       "3      1    0.936593  30680          1    1    1    1    1    1    1    1   \n",
       "4      1    0.694321  43716          1    1    1    1    1    1    1    1   \n",
       "\n",
       "   0.7  0.8  0.9  \n",
       "0    0    0    0  \n",
       "1    0    0    0  \n",
       "2    0    0    0  \n",
       "3    1    1    1  \n",
       "4    0    0    0  "
      ]
     },
     "execution_count": 71,
     "metadata": {},
     "output_type": "execute_result"
    }
   ],
   "source": [
    "numbers = [float(x)/10 for x in range(10)]\n",
    "for i in numbers:\n",
    "    y_train_pred_final[i]= y_train_pred_final.Churn_Prob.map(lambda x: 1 if x > i else 0)\n",
    "y_train_pred_final.head()"
   ]
  },
  {
   "cell_type": "code",
   "execution_count": 72,
   "metadata": {},
   "outputs": [
    {
     "name": "stdout",
     "output_type": "stream",
     "text": [
      "     prob  accuracy     sensi     speci\n",
      "0.0   0.0  0.500885  1.000000  0.000000\n",
      "0.1   0.1  0.712083  0.977228  0.445998\n",
      "0.2   0.2  0.775625  0.952480  0.598143\n",
      "0.3   0.3  0.812031  0.925237  0.698424\n",
      "0.4   0.4  0.832396  0.892066  0.772514\n",
      "0.5   0.5  0.842005  0.851669  0.832307\n",
      "0.6   0.6  0.842943  0.808412  0.877596\n",
      "0.7   0.7  0.832656  0.752730  0.912867\n",
      "0.8   0.8  0.796823  0.651191  0.942972\n",
      "0.9   0.9  0.653151  0.333316  0.974121\n"
     ]
    }
   ],
   "source": [
    "cutoff_df = pd.DataFrame( columns = ['prob','accuracy','sensi','speci'])\n",
    "from sklearn.metrics import confusion_matrix\n",
    "\n",
    "# TP = confusion[1,1] # true positive \n",
    "# TN = confusion[0,0] # true negatives\n",
    "# FP = confusion[0,1] # false positives\n",
    "# FN = confusion[1,0] # false negatives\n",
    "\n",
    "num = [0.0,0.1,0.2,0.3,0.4,0.5,0.6,0.7,0.8,0.9]\n",
    "for i in num:\n",
    "    cm1 = metrics.confusion_matrix(y_train_pred_final.Churn, y_train_pred_final[i] )\n",
    "    total1=sum(sum(cm1))\n",
    "    accuracy = (cm1[0,0]+cm1[1,1])/total1\n",
    "    \n",
    "    speci = cm1[0,0]/(cm1[0,0]+cm1[0,1])\n",
    "    sensi = cm1[1,1]/(cm1[1,0]+cm1[1,1])\n",
    "    cutoff_df.loc[i] =[ i ,accuracy,sensi,speci]\n",
    "print(cutoff_df)"
   ]
  },
  {
   "cell_type": "code",
   "execution_count": 73,
   "metadata": {},
   "outputs": [
    {
     "data": {
      "image/png": "[encoded data removed]",
      "text/plain": [
       "<Figure size 432x288 with 1 Axes>"
      ]
     },
     "metadata": {
      "needs_background": "light"
     },
     "output_type": "display_data"
    }
   ],
   "source": [
    "# Plottign the tradeoff graph between all the metrics\n",
    "cutoff_df.plot.line(x='prob', y=['accuracy','sensi','speci'])\n",
    "plt.show()"
   ]
  },
  {
   "cell_type": "markdown",
   "metadata": {},
   "source": [
    "- Seems like our threshold of 0.5 is fine for sensitivity and specificity"
   ]
  },
  {
   "cell_type": "markdown",
   "metadata": {},
   "source": [
    "### Precision & Recall calculations"
   ]
  },
  {
   "cell_type": "code",
   "execution_count": 74,
   "metadata": {
    "scrolled": true
   },
   "outputs": [
    {
     "data": {
      "text/plain": [
       "array([[15952,  3214],\n",
       "       [ 2853, 16381]], dtype=int64)"
      ]
     },
     "execution_count": 74,
     "metadata": {},
     "output_type": "execute_result"
    }
   ],
   "source": [
    "confusion = metrics.confusion_matrix(y_train_pred_final.Churn, y_train_pred_final.predicted )\n",
    "confusion"
   ]
  },
  {
   "cell_type": "markdown",
   "metadata": {},
   "source": [
    "#### Formula for Precision: TP/TP+FP"
   ]
  },
  {
   "cell_type": "code",
   "execution_count": 75,
   "metadata": {},
   "outputs": [
    {
     "name": "stdout",
     "output_type": "stream",
     "text": [
      "Precision: 0.8359785659607043\n"
     ]
    }
   ],
   "source": [
    "precision = confusion[1,1]/(confusion[0,1]+confusion[1,1])\n",
    "print(\"Precision: {}\".format(precision))"
   ]
  },
  {
   "cell_type": "markdown",
   "metadata": {},
   "source": [
    "#### Formula for recall: TP/TP+FN"
   ]
  },
  {
   "cell_type": "code",
   "execution_count": 76,
   "metadata": {},
   "outputs": [
    {
     "name": "stdout",
     "output_type": "stream",
     "text": [
      "Recall: 0.8516689196215036\n"
     ]
    }
   ],
   "source": [
    "recall_log = confusion[1,1]/(confusion[1,0]+confusion[1,1])\n",
    "print(\"Recall: {}\".format(recall_log))"
   ]
  },
  {
   "cell_type": "markdown",
   "metadata": {},
   "source": [
    "#### F score calculation"
   ]
  },
  {
   "cell_type": "markdown",
   "metadata": {},
   "source": [
    "- (2 × precision × recall)/(precision + recall)"
   ]
  },
  {
   "cell_type": "code",
   "execution_count": 77,
   "metadata": {},
   "outputs": [
    {
     "name": "stdout",
     "output_type": "stream",
     "text": [
      "F Score: 0.8437508048108373\n"
     ]
    }
   ],
   "source": [
    "f_score = (2*precision*recall_log)/(precision+recall_log)\n",
    "print(\"F Score: {}\".format(f_score))"
   ]
  },
  {
   "cell_type": "markdown",
   "metadata": {},
   "source": [
    "#### Precision & Recall tradeoff graph plottin"
   ]
  },
  {
   "cell_type": "code",
   "execution_count": 78,
   "metadata": {},
   "outputs": [],
   "source": [
    "from sklearn.metrics import precision_recall_curve"
   ]
  },
  {
   "cell_type": "code",
   "execution_count": 79,
   "metadata": {},
   "outputs": [],
   "source": [
    "p, r, thresholds = precision_recall_curve(y_train_pred_final.Churn, y_train_pred_final.Churn_Prob)"
   ]
  },
  {
   "cell_type": "code",
   "execution_count": 80,
   "metadata": {},
   "outputs": [
    {
     "data": {
      "image/png": "[encoded data removed]",
      "text/plain": [
       "<Figure size 432x288 with 1 Axes>"
      ]
     },
     "metadata": {
      "needs_background": "light"
     },
     "output_type": "display_data"
    }
   ],
   "source": [
    "plt.plot(thresholds, p[:-1], \"g-\")\n",
    "plt.plot(thresholds, r[:-1], \"r-\")\n",
    "plt.show()"
   ]
  },
  {
   "cell_type": "markdown",
   "metadata": {},
   "source": [
    "- Looks like all our metrics i.e sensitivity, specificity, precision & recall performs good at 0.5 threshold"
   ]
  },
  {
   "cell_type": "markdown",
   "metadata": {},
   "source": [
    "### Results of Logistic Regression Model ( high performance Model 3 )"
   ]
  },
  {
   "cell_type": "markdown",
   "metadata": {},
   "source": [
    "#### Accuracy and Recall printed below"
   ]
  },
  {
   "cell_type": "code",
   "execution_count": 81,
   "metadata": {},
   "outputs": [
    {
     "name": "stdout",
     "output_type": "stream",
     "text": [
      "Accuracy: 0.8420052083333334\n"
     ]
    }
   ],
   "source": [
    "print(\"Accuracy: {}\".format(metrics.accuracy_score(y_train_pred_final.Churn, y_train_pred_final.predicted)))"
   ]
  },
  {
   "cell_type": "code",
   "execution_count": 82,
   "metadata": {},
   "outputs": [
    {
     "name": "stdout",
     "output_type": "stream",
     "text": [
      "Recall: 0.8359785659607043\n"
     ]
    }
   ],
   "source": [
    "print(\"Recall: {}\".format(confusion[1,1]/(confusion[0,1]+confusion[1,1])))"
   ]
  },
  {
   "cell_type": "markdown",
   "metadata": {},
   "source": [
    "## Overall scores of all 3 high performance models"
   ]
  },
  {
   "cell_type": "code",
   "execution_count": 83,
   "metadata": {},
   "outputs": [],
   "source": [
    "performance = pd.DataFrame(columns = ['Model', 'Accuracy', 'Recall'])\n",
    "performance.loc[0] = ['Logistic Regression', accuracy_log, recall_log]\n",
    "performance.loc[1] = ['Decision Tree', accuracy_dt, recall_dt]\n",
    "performance.loc[2] = ['Random Forest', accuracy_rf, recall_rf]\n",
    "performance.index+=1\n",
    "performance.Recall=performance.Recall.round(4)*100\n",
    "performance.Accuracy=performance.Accuracy.round(4)*100"
   ]
  },
  {
   "cell_type": "code",
   "execution_count": 84,
   "metadata": {},
   "outputs": [
    {
     "data": {
      "text/html": [
       "<div>\n",
       "<style scoped>\n",
       "    .dataframe tbody tr th:only-of-type {\n",
       "        vertical-align: middle;\n",
       "    }\n",
       "\n",
       "    .dataframe tbody tr th {\n",
       "        vertical-align: top;\n",
       "    }\n",
       "\n",
       "    .dataframe thead th {\n",
       "        text-align: right;\n",
       "    }\n",
       "</style>\n",
       "<table border=\"1\" class=\"dataframe\">\n",
       "  <thead>\n",
       "    <tr style=\"text-align: right;\">\n",
       "      <th></th>\n",
       "      <th>Model</th>\n",
       "      <th>Accuracy</th>\n",
       "      <th>Recall</th>\n",
       "    </tr>\n",
       "  </thead>\n",
       "  <tbody>\n",
       "    <tr>\n",
       "      <th>1</th>\n",
       "      <td>Logistic Regression</td>\n",
       "      <td>84.2</td>\n",
       "      <td>85.17</td>\n",
       "    </tr>\n",
       "    <tr>\n",
       "      <th>2</th>\n",
       "      <td>Decision Tree</td>\n",
       "      <td>83.0</td>\n",
       "      <td>87.00</td>\n",
       "    </tr>\n",
       "    <tr>\n",
       "      <th>3</th>\n",
       "      <td>Random Forest</td>\n",
       "      <td>84.0</td>\n",
       "      <td>83.00</td>\n",
       "    </tr>\n",
       "  </tbody>\n",
       "</table>\n",
       "</div>"
      ],
      "text/plain": [
       "                 Model  Accuracy  Recall\n",
       "1  Logistic Regression      84.2   85.17\n",
       "2        Decision Tree      83.0   87.00\n",
       "3        Random Forest      84.0   83.00"
      ]
     },
     "execution_count": 84,
     "metadata": {},
     "output_type": "execute_result"
    }
   ],
   "source": [
    "performance"
   ]
  },
  {
   "cell_type": "markdown",
   "metadata": {},
   "source": [
    "## Logistic Regression Model ( Interpretable Model )"
   ]
  },
  {
   "cell_type": "code",
   "execution_count": 85,
   "metadata": {},
   "outputs": [],
   "source": [
    "# creating a copy of high_perf_df dataframe prepare the logistic regression model\n",
    "df_logistic = X_train_res.copy()"
   ]
  },
  {
   "cell_type": "code",
   "execution_count": 86,
   "metadata": {},
   "outputs": [
    {
     "data": {
      "text/html": [
       "<div>\n",
       "<style scoped>\n",
       "    .dataframe tbody tr th:only-of-type {\n",
       "        vertical-align: middle;\n",
       "    }\n",
       "\n",
       "    .dataframe tbody tr th {\n",
       "        vertical-align: top;\n",
       "    }\n",
       "\n",
       "    .dataframe thead th {\n",
       "        text-align: right;\n",
       "    }\n",
       "</style>\n",
       "<table border=\"1\" class=\"dataframe\">\n",
       "  <thead>\n",
       "    <tr style=\"text-align: right;\">\n",
       "      <th></th>\n",
       "      <th>loc_og_t2o_mou</th>\n",
       "      <th>std_og_t2o_mou</th>\n",
       "      <th>loc_ic_t2o_mou</th>\n",
       "      <th>arpu_6</th>\n",
       "      <th>arpu_7</th>\n",
       "      <th>arpu_8</th>\n",
       "      <th>onnet_mou_6</th>\n",
       "      <th>onnet_mou_7</th>\n",
       "      <th>onnet_mou_8</th>\n",
       "      <th>offnet_mou_6</th>\n",
       "      <th>...</th>\n",
       "      <th>fb_user_6</th>\n",
       "      <th>fb_user_7</th>\n",
       "      <th>fb_user_8</th>\n",
       "      <th>aon</th>\n",
       "      <th>aug_vbc_3g</th>\n",
       "      <th>jul_vbc_3g</th>\n",
       "      <th>jun_vbc_3g</th>\n",
       "      <th>tot_monthly_recharge_6</th>\n",
       "      <th>tot_monthly_recharge_7</th>\n",
       "      <th>average_recharge_6_7</th>\n",
       "    </tr>\n",
       "  </thead>\n",
       "  <tbody>\n",
       "    <tr>\n",
       "      <th>0</th>\n",
       "      <td>0.0</td>\n",
       "      <td>0.0</td>\n",
       "      <td>0.0</td>\n",
       "      <td>1.636538</td>\n",
       "      <td>2.510202</td>\n",
       "      <td>2.917916</td>\n",
       "      <td>-0.632765</td>\n",
       "      <td>-0.638199</td>\n",
       "      <td>-0.582044</td>\n",
       "      <td>0.183719</td>\n",
       "      <td>...</td>\n",
       "      <td>-0.769198</td>\n",
       "      <td>-0.782245</td>\n",
       "      <td>-0.778856</td>\n",
       "      <td>-0.474119</td>\n",
       "      <td>-0.182020</td>\n",
       "      <td>-0.345100</td>\n",
       "      <td>-0.325309</td>\n",
       "      <td>2.459186</td>\n",
       "      <td>0.303607</td>\n",
       "      <td>1.619414</td>\n",
       "    </tr>\n",
       "    <tr>\n",
       "      <th>1</th>\n",
       "      <td>0.0</td>\n",
       "      <td>0.0</td>\n",
       "      <td>0.0</td>\n",
       "      <td>-0.621115</td>\n",
       "      <td>-0.254252</td>\n",
       "      <td>-1.102039</td>\n",
       "      <td>0.447605</td>\n",
       "      <td>0.226780</td>\n",
       "      <td>-0.636276</td>\n",
       "      <td>-0.848816</td>\n",
       "      <td>...</td>\n",
       "      <td>-0.769198</td>\n",
       "      <td>1.340344</td>\n",
       "      <td>1.379308</td>\n",
       "      <td>-0.990277</td>\n",
       "      <td>-0.336839</td>\n",
       "      <td>3.261082</td>\n",
       "      <td>0.130323</td>\n",
       "      <td>-0.647940</td>\n",
       "      <td>-0.188103</td>\n",
       "      <td>-0.502097</td>\n",
       "    </tr>\n",
       "    <tr>\n",
       "      <th>2</th>\n",
       "      <td>0.0</td>\n",
       "      <td>0.0</td>\n",
       "      <td>0.0</td>\n",
       "      <td>-0.247950</td>\n",
       "      <td>-1.177916</td>\n",
       "      <td>0.224218</td>\n",
       "      <td>0.714988</td>\n",
       "      <td>-0.481432</td>\n",
       "      <td>0.936688</td>\n",
       "      <td>0.068254</td>\n",
       "      <td>...</td>\n",
       "      <td>-0.769198</td>\n",
       "      <td>-0.782245</td>\n",
       "      <td>1.379308</td>\n",
       "      <td>1.438951</td>\n",
       "      <td>-0.425530</td>\n",
       "      <td>-0.423514</td>\n",
       "      <td>-0.407870</td>\n",
       "      <td>-0.457652</td>\n",
       "      <td>-1.108415</td>\n",
       "      <td>-0.948731</td>\n",
       "    </tr>\n",
       "    <tr>\n",
       "      <th>3</th>\n",
       "      <td>0.0</td>\n",
       "      <td>0.0</td>\n",
       "      <td>0.0</td>\n",
       "      <td>-0.450255</td>\n",
       "      <td>-0.874281</td>\n",
       "      <td>-0.955036</td>\n",
       "      <td>-0.655019</td>\n",
       "      <td>-0.581779</td>\n",
       "      <td>-0.524313</td>\n",
       "      <td>-0.268528</td>\n",
       "      <td>...</td>\n",
       "      <td>-0.769198</td>\n",
       "      <td>-0.782245</td>\n",
       "      <td>-0.778856</td>\n",
       "      <td>-0.782542</td>\n",
       "      <td>-0.425530</td>\n",
       "      <td>-0.413601</td>\n",
       "      <td>-0.311431</td>\n",
       "      <td>-0.286393</td>\n",
       "      <td>-0.858616</td>\n",
       "      <td>-0.696702</td>\n",
       "    </tr>\n",
       "    <tr>\n",
       "      <th>4</th>\n",
       "      <td>0.0</td>\n",
       "      <td>0.0</td>\n",
       "      <td>0.0</td>\n",
       "      <td>0.396727</td>\n",
       "      <td>-1.779691</td>\n",
       "      <td>-1.427460</td>\n",
       "      <td>2.792086</td>\n",
       "      <td>-0.770712</td>\n",
       "      <td>-0.722273</td>\n",
       "      <td>-0.943847</td>\n",
       "      <td>...</td>\n",
       "      <td>-0.769198</td>\n",
       "      <td>-0.782245</td>\n",
       "      <td>-0.778856</td>\n",
       "      <td>-0.617202</td>\n",
       "      <td>-0.425530</td>\n",
       "      <td>-0.423514</td>\n",
       "      <td>-0.407870</td>\n",
       "      <td>0.382332</td>\n",
       "      <td>-1.773670</td>\n",
       "      <td>-0.859404</td>\n",
       "    </tr>\n",
       "  </tbody>\n",
       "</table>\n",
       "<p>5 rows × 157 columns</p>\n",
       "</div>"
      ],
      "text/plain": [
       "   loc_og_t2o_mou  std_og_t2o_mou  loc_ic_t2o_mou    arpu_6    arpu_7  \\\n",
       "0             0.0             0.0             0.0  1.636538  2.510202   \n",
       "1             0.0             0.0             0.0 -0.621115 -0.254252   \n",
       "2             0.0             0.0             0.0 -0.247950 -1.177916   \n",
       "3             0.0             0.0             0.0 -0.450255 -0.874281   \n",
       "4             0.0             0.0             0.0  0.396727 -1.779691   \n",
       "\n",
       "     arpu_8  onnet_mou_6  onnet_mou_7  onnet_mou_8  offnet_mou_6  ...  \\\n",
       "0  2.917916    -0.632765    -0.638199    -0.582044      0.183719  ...   \n",
       "1 -1.102039     0.447605     0.226780    -0.636276     -0.848816  ...   \n",
       "2  0.224218     0.714988    -0.481432     0.936688      0.068254  ...   \n",
       "3 -0.955036    -0.655019    -0.581779    -0.524313     -0.268528  ...   \n",
       "4 -1.427460     2.792086    -0.770712    -0.722273     -0.943847  ...   \n",
       "\n",
       "   fb_user_6  fb_user_7  fb_user_8       aon  aug_vbc_3g  jul_vbc_3g  \\\n",
       "0  -0.769198  -0.782245  -0.778856 -0.474119   -0.182020   -0.345100   \n",
       "1  -0.769198   1.340344   1.379308 -0.990277   -0.336839    3.261082   \n",
       "2  -0.769198  -0.782245   1.379308  1.438951   -0.425530   -0.423514   \n",
       "3  -0.769198  -0.782245  -0.778856 -0.782542   -0.425530   -0.413601   \n",
       "4  -0.769198  -0.782245  -0.778856 -0.617202   -0.425530   -0.423514   \n",
       "\n",
       "   jun_vbc_3g  tot_monthly_recharge_6  tot_monthly_recharge_7  \\\n",
       "0   -0.325309                2.459186                0.303607   \n",
       "1    0.130323               -0.647940               -0.188103   \n",
       "2   -0.407870               -0.457652               -1.108415   \n",
       "3   -0.311431               -0.286393               -0.858616   \n",
       "4   -0.407870                0.382332               -1.773670   \n",
       "\n",
       "   average_recharge_6_7  \n",
       "0              1.619414  \n",
       "1             -0.502097  \n",
       "2             -0.948731  \n",
       "3             -0.696702  \n",
       "4             -0.859404  \n",
       "\n",
       "[5 rows x 157 columns]"
      ]
     },
     "execution_count": 86,
     "metadata": {},
     "output_type": "execute_result"
    }
   ],
   "source": [
    "df_logistic.head()"
   ]
  },
  {
   "cell_type": "markdown",
   "metadata": {},
   "source": [
    "### Train Test Split"
   ]
  },
  {
   "cell_type": "code",
   "execution_count": 87,
   "metadata": {
    "scrolled": true
   },
   "outputs": [],
   "source": [
    "# df_logistic['churn'] = y_res\n",
    "# df_log.head()"
   ]
  },
  {
   "cell_type": "code",
   "execution_count": 88,
   "metadata": {},
   "outputs": [],
   "source": [
    "X_logistic = df_logistic\n",
    "y_logistic = y_res"
   ]
  },
  {
   "cell_type": "code",
   "execution_count": 89,
   "metadata": {},
   "outputs": [
    {
     "name": "stdout",
     "output_type": "stream",
     "text": [
      "(38400, 157)\n",
      "(38400,)\n",
      "(16458, 157)\n",
      "(16458,)\n"
     ]
    }
   ],
   "source": [
    "from sklearn.model_selection import train_test_split\n",
    "\n",
    "X_train, X_test, y_train, y_test = train_test_split(X_logistic, y_logistic, train_size=0.7, random_state=100)\n",
    "print(X_train.shape)\n",
    "print(y_train.shape)\n",
    "print(X_test.shape)\n",
    "print(y_test.shape)"
   ]
  },
  {
   "cell_type": "code",
   "execution_count": 90,
   "metadata": {},
   "outputs": [
    {
     "name": "stdout",
     "output_type": "stream",
     "text": [
      "<class 'numpy.ndarray'>\n"
     ]
    }
   ],
   "source": [
    "# Checking he type of variable of y_train\n",
    "print(type(y_train))"
   ]
  },
  {
   "cell_type": "code",
   "execution_count": 91,
   "metadata": {},
   "outputs": [],
   "source": [
    "from sklearn.linear_model import LogisticRegression\n",
    "import statsmodels.api as sm\n",
    "from sklearn.feature_selection import RFE"
   ]
  },
  {
   "cell_type": "code",
   "execution_count": 92,
   "metadata": {},
   "outputs": [],
   "source": [
    "import warnings\n",
    "warnings.filterwarnings(\"ignore\")"
   ]
  },
  {
   "cell_type": "code",
   "execution_count": 132,
   "metadata": {},
   "outputs": [
    {
     "name": "stdout",
     "output_type": "stream",
     "text": [
      "<class 'pandas.core.frame.DataFrame'>\n",
      "<class 'numpy.ndarray'>\n"
     ]
    }
   ],
   "source": [
    "print(type(X_train))\n",
    "print(type(y_train))"
   ]
  },
  {
   "cell_type": "code",
   "execution_count": 93,
   "metadata": {
    "scrolled": true
   },
   "outputs": [
    {
     "data": {
      "text/html": [
       "<table class=\"simpletable\">\n",
       "<caption>Generalized Linear Model Regression Results</caption>\n",
       "<tr>\n",
       "  <th>Dep. Variable:</th>           <td>y</td>        <th>  No. Observations:  </th>  <td> 38400</td> \n",
       "</tr>\n",
       "<tr>\n",
       "  <th>Model:</th>                  <td>GLM</td>       <th>  Df Residuals:      </th>  <td> 38251</td> \n",
       "</tr>\n",
       "<tr>\n",
       "  <th>Model Family:</th>        <td>Binomial</td>     <th>  Df Model:          </th>  <td>   148</td> \n",
       "</tr>\n",
       "<tr>\n",
       "  <th>Link Function:</th>         <td>logit</td>      <th>  Scale:             </th> <td>  1.0000</td>\n",
       "</tr>\n",
       "<tr>\n",
       "  <th>Method:</th>                <td>IRLS</td>       <th>  Log-Likelihood:    </th> <td> -13412.</td>\n",
       "</tr>\n",
       "<tr>\n",
       "  <th>Date:</th>            <td>Tue, 01 Sep 2020</td> <th>  Deviance:          </th> <td>  26824.</td>\n",
       "</tr>\n",
       "<tr>\n",
       "  <th>Time:</th>                <td>10:43:24</td>     <th>  Pearson chi2:      </th> <td>1.57e+05</td>\n",
       "</tr>\n",
       "<tr>\n",
       "  <th>No. Iterations:</th>         <td>100</td>       <th>                     </th>     <td> </td>   \n",
       "</tr>\n",
       "<tr>\n",
       "  <th>Covariance Type:</th>     <td>nonrobust</td>    <th>                     </th>     <td> </td>   \n",
       "</tr>\n",
       "</table>\n",
       "<table class=\"simpletable\">\n",
       "<tr>\n",
       "             <td></td>               <th>coef</th>     <th>std err</th>      <th>z</th>      <th>P>|z|</th>  <th>[0.025</th>    <th>0.975]</th>  \n",
       "</tr>\n",
       "<tr>\n",
       "  <th>const</th>                  <td>   -2.0125</td> <td>    0.029</td> <td>  -68.766</td> <td> 0.000</td> <td>   -2.070</td> <td>   -1.955</td>\n",
       "</tr>\n",
       "<tr>\n",
       "  <th>loc_og_t2o_mou</th>         <td> 3.656e-14</td> <td> 8.15e-15</td> <td>    4.488</td> <td> 0.000</td> <td> 2.06e-14</td> <td> 5.25e-14</td>\n",
       "</tr>\n",
       "<tr>\n",
       "  <th>std_og_t2o_mou</th>         <td> 3.713e-13</td> <td> 9.94e-14</td> <td>    3.733</td> <td> 0.000</td> <td> 1.76e-13</td> <td> 5.66e-13</td>\n",
       "</tr>\n",
       "<tr>\n",
       "  <th>loc_ic_t2o_mou</th>         <td>-1.705e-13</td> <td> 3.29e-14</td> <td>   -5.175</td> <td> 0.000</td> <td>-2.35e-13</td> <td>-1.06e-13</td>\n",
       "</tr>\n",
       "<tr>\n",
       "  <th>arpu_6</th>                 <td>    0.1148</td> <td>    0.056</td> <td>    2.068</td> <td> 0.039</td> <td>    0.006</td> <td>    0.224</td>\n",
       "</tr>\n",
       "<tr>\n",
       "  <th>arpu_7</th>                 <td>    0.3365</td> <td>    0.061</td> <td>    5.543</td> <td> 0.000</td> <td>    0.218</td> <td>    0.455</td>\n",
       "</tr>\n",
       "<tr>\n",
       "  <th>arpu_8</th>                 <td>    0.5755</td> <td>    0.071</td> <td>    8.096</td> <td> 0.000</td> <td>    0.436</td> <td>    0.715</td>\n",
       "</tr>\n",
       "<tr>\n",
       "  <th>onnet_mou_6</th>            <td>    0.5111</td> <td>    0.110</td> <td>    4.652</td> <td> 0.000</td> <td>    0.296</td> <td>    0.726</td>\n",
       "</tr>\n",
       "<tr>\n",
       "  <th>onnet_mou_7</th>            <td>    0.1440</td> <td>    0.133</td> <td>    1.085</td> <td> 0.278</td> <td>   -0.116</td> <td>    0.404</td>\n",
       "</tr>\n",
       "<tr>\n",
       "  <th>onnet_mou_8</th>            <td>   -0.0802</td> <td>    0.146</td> <td>   -0.551</td> <td> 0.582</td> <td>   -0.366</td> <td>    0.205</td>\n",
       "</tr>\n",
       "<tr>\n",
       "  <th>offnet_mou_6</th>           <td>    0.1833</td> <td>    0.097</td> <td>    1.886</td> <td> 0.059</td> <td>   -0.007</td> <td>    0.374</td>\n",
       "</tr>\n",
       "<tr>\n",
       "  <th>offnet_mou_7</th>           <td>    0.1881</td> <td>    0.121</td> <td>    1.559</td> <td> 0.119</td> <td>   -0.048</td> <td>    0.425</td>\n",
       "</tr>\n",
       "<tr>\n",
       "  <th>offnet_mou_8</th>           <td>    0.1282</td> <td>    0.117</td> <td>    1.095</td> <td> 0.273</td> <td>   -0.101</td> <td>    0.358</td>\n",
       "</tr>\n",
       "<tr>\n",
       "  <th>roam_ic_mou_6</th>          <td>   -0.0372</td> <td>    0.033</td> <td>   -1.116</td> <td> 0.264</td> <td>   -0.102</td> <td>    0.028</td>\n",
       "</tr>\n",
       "<tr>\n",
       "  <th>roam_ic_mou_7</th>          <td>    0.1237</td> <td>    0.033</td> <td>    3.793</td> <td> 0.000</td> <td>    0.060</td> <td>    0.188</td>\n",
       "</tr>\n",
       "<tr>\n",
       "  <th>roam_ic_mou_8</th>          <td>   -0.0435</td> <td>    0.029</td> <td>   -1.474</td> <td> 0.140</td> <td>   -0.101</td> <td>    0.014</td>\n",
       "</tr>\n",
       "<tr>\n",
       "  <th>roam_og_mou_6</th>          <td>   -0.0573</td> <td>    0.035</td> <td>   -1.631</td> <td> 0.103</td> <td>   -0.126</td> <td>    0.012</td>\n",
       "</tr>\n",
       "<tr>\n",
       "  <th>roam_og_mou_7</th>          <td>   -0.0695</td> <td>    0.034</td> <td>   -2.066</td> <td> 0.039</td> <td>   -0.135</td> <td>   -0.004</td>\n",
       "</tr>\n",
       "<tr>\n",
       "  <th>roam_og_mou_8</th>          <td>    0.2120</td> <td>    0.032</td> <td>    6.567</td> <td> 0.000</td> <td>    0.149</td> <td>    0.275</td>\n",
       "</tr>\n",
       "<tr>\n",
       "  <th>loc_og_t2t_mou_6</th>       <td>   -0.2049</td> <td>    0.089</td> <td>   -2.311</td> <td> 0.021</td> <td>   -0.379</td> <td>   -0.031</td>\n",
       "</tr>\n",
       "<tr>\n",
       "  <th>loc_og_t2t_mou_7</th>       <td>    0.2369</td> <td>    0.103</td> <td>    2.297</td> <td> 0.022</td> <td>    0.035</td> <td>    0.439</td>\n",
       "</tr>\n",
       "<tr>\n",
       "  <th>loc_og_t2t_mou_8</th>       <td>   -1.0380</td> <td>    0.115</td> <td>   -8.995</td> <td> 0.000</td> <td>   -1.264</td> <td>   -0.812</td>\n",
       "</tr>\n",
       "<tr>\n",
       "  <th>loc_og_t2m_mou_6</th>       <td>   -0.1653</td> <td>    0.122</td> <td>   -1.360</td> <td> 0.174</td> <td>   -0.404</td> <td>    0.073</td>\n",
       "</tr>\n",
       "<tr>\n",
       "  <th>loc_og_t2m_mou_7</th>       <td>    0.1473</td> <td>    0.135</td> <td>    1.095</td> <td> 0.274</td> <td>   -0.116</td> <td>    0.411</td>\n",
       "</tr>\n",
       "<tr>\n",
       "  <th>loc_og_t2m_mou_8</th>       <td>   -1.4197</td> <td>    0.149</td> <td>   -9.553</td> <td> 0.000</td> <td>   -1.711</td> <td>   -1.128</td>\n",
       "</tr>\n",
       "<tr>\n",
       "  <th>loc_og_t2f_mou_6</th>       <td>   -0.0582</td> <td>    0.038</td> <td>   -1.533</td> <td> 0.125</td> <td>   -0.133</td> <td>    0.016</td>\n",
       "</tr>\n",
       "<tr>\n",
       "  <th>loc_og_t2f_mou_7</th>       <td>   -0.0917</td> <td>    0.042</td> <td>   -2.160</td> <td> 0.031</td> <td>   -0.175</td> <td>   -0.008</td>\n",
       "</tr>\n",
       "<tr>\n",
       "  <th>loc_og_t2f_mou_8</th>       <td>   -0.1464</td> <td>    0.042</td> <td>   -3.461</td> <td> 0.001</td> <td>   -0.229</td> <td>   -0.064</td>\n",
       "</tr>\n",
       "<tr>\n",
       "  <th>loc_og_t2c_mou_6</th>       <td>   -0.0100</td> <td>    0.022</td> <td>   -0.445</td> <td> 0.656</td> <td>   -0.054</td> <td>    0.034</td>\n",
       "</tr>\n",
       "<tr>\n",
       "  <th>loc_og_t2c_mou_7</th>       <td>   -0.0526</td> <td>    0.024</td> <td>   -2.206</td> <td> 0.027</td> <td>   -0.099</td> <td>   -0.006</td>\n",
       "</tr>\n",
       "<tr>\n",
       "  <th>loc_og_t2c_mou_8</th>       <td>    0.0459</td> <td>    0.025</td> <td>    1.840</td> <td> 0.066</td> <td>   -0.003</td> <td>    0.095</td>\n",
       "</tr>\n",
       "<tr>\n",
       "  <th>loc_og_mou_6</th>           <td>    0.2893</td> <td>    0.180</td> <td>    1.605</td> <td> 0.109</td> <td>   -0.064</td> <td>    0.643</td>\n",
       "</tr>\n",
       "<tr>\n",
       "  <th>loc_og_mou_7</th>           <td>   -0.6442</td> <td>    0.201</td> <td>   -3.211</td> <td> 0.001</td> <td>   -1.037</td> <td>   -0.251</td>\n",
       "</tr>\n",
       "<tr>\n",
       "  <th>loc_og_mou_8</th>           <td>    2.4767</td> <td>    0.231</td> <td>   10.710</td> <td> 0.000</td> <td>    2.023</td> <td>    2.930</td>\n",
       "</tr>\n",
       "<tr>\n",
       "  <th>std_og_t2t_mou_6</th>       <td>   -0.2301</td> <td>    0.103</td> <td>   -2.239</td> <td> 0.025</td> <td>   -0.431</td> <td>   -0.029</td>\n",
       "</tr>\n",
       "<tr>\n",
       "  <th>std_og_t2t_mou_7</th>       <td>   -0.1012</td> <td>    0.126</td> <td>   -0.802</td> <td> 0.423</td> <td>   -0.349</td> <td>    0.146</td>\n",
       "</tr>\n",
       "<tr>\n",
       "  <th>std_og_t2t_mou_8</th>       <td>   -0.7811</td> <td>    0.137</td> <td>   -5.709</td> <td> 0.000</td> <td>   -1.049</td> <td>   -0.513</td>\n",
       "</tr>\n",
       "<tr>\n",
       "  <th>std_og_t2m_mou_6</th>       <td>   -0.0027</td> <td>    0.090</td> <td>   -0.031</td> <td> 0.976</td> <td>   -0.179</td> <td>    0.173</td>\n",
       "</tr>\n",
       "<tr>\n",
       "  <th>std_og_t2m_mou_7</th>       <td>    0.0500</td> <td>    0.113</td> <td>    0.443</td> <td> 0.658</td> <td>   -0.171</td> <td>    0.271</td>\n",
       "</tr>\n",
       "<tr>\n",
       "  <th>std_og_t2m_mou_8</th>       <td>   -1.0237</td> <td>    0.111</td> <td>   -9.218</td> <td> 0.000</td> <td>   -1.241</td> <td>   -0.806</td>\n",
       "</tr>\n",
       "<tr>\n",
       "  <th>std_og_t2f_mou_6</th>       <td>   -0.0778</td> <td>    0.029</td> <td>   -2.674</td> <td> 0.008</td> <td>   -0.135</td> <td>   -0.021</td>\n",
       "</tr>\n",
       "<tr>\n",
       "  <th>std_og_t2f_mou_7</th>       <td>    0.0124</td> <td>    0.031</td> <td>    0.394</td> <td> 0.693</td> <td>   -0.049</td> <td>    0.074</td>\n",
       "</tr>\n",
       "<tr>\n",
       "  <th>std_og_t2f_mou_8</th>       <td>   -0.1177</td> <td>    0.036</td> <td>   -3.305</td> <td> 0.001</td> <td>   -0.188</td> <td>   -0.048</td>\n",
       "</tr>\n",
       "<tr>\n",
       "  <th>std_og_t2c_mou_6</th>       <td> 9.745e-14</td> <td> 2.09e-14</td> <td>    4.654</td> <td> 0.000</td> <td> 5.64e-14</td> <td> 1.38e-13</td>\n",
       "</tr>\n",
       "<tr>\n",
       "  <th>std_og_t2c_mou_7</th>       <td>-1.694e-13</td> <td> 4.63e-14</td> <td>   -3.656</td> <td> 0.000</td> <td> -2.6e-13</td> <td>-7.86e-14</td>\n",
       "</tr>\n",
       "<tr>\n",
       "  <th>std_og_t2c_mou_8</th>       <td> 2.615e-13</td> <td> 5.46e-14</td> <td>    4.793</td> <td> 0.000</td> <td> 1.55e-13</td> <td> 3.68e-13</td>\n",
       "</tr>\n",
       "<tr>\n",
       "  <th>std_og_mou_6</th>           <td>    0.3390</td> <td>    0.145</td> <td>    2.334</td> <td> 0.020</td> <td>    0.054</td> <td>    0.624</td>\n",
       "</tr>\n",
       "<tr>\n",
       "  <th>std_og_mou_7</th>           <td>   -0.4584</td> <td>    0.178</td> <td>   -2.572</td> <td> 0.010</td> <td>   -0.808</td> <td>   -0.109</td>\n",
       "</tr>\n",
       "<tr>\n",
       "  <th>std_og_mou_8</th>           <td>    2.7689</td> <td>    0.230</td> <td>   12.021</td> <td> 0.000</td> <td>    2.317</td> <td>    3.220</td>\n",
       "</tr>\n",
       "<tr>\n",
       "  <th>isd_og_mou_6</th>           <td>    0.0724</td> <td>    0.025</td> <td>    2.855</td> <td> 0.004</td> <td>    0.023</td> <td>    0.122</td>\n",
       "</tr>\n",
       "<tr>\n",
       "  <th>isd_og_mou_7</th>           <td>   -0.0213</td> <td>    0.028</td> <td>   -0.753</td> <td> 0.451</td> <td>   -0.077</td> <td>    0.034</td>\n",
       "</tr>\n",
       "<tr>\n",
       "  <th>isd_og_mou_8</th>           <td>   -0.0227</td> <td>    0.029</td> <td>   -0.787</td> <td> 0.432</td> <td>   -0.079</td> <td>    0.034</td>\n",
       "</tr>\n",
       "<tr>\n",
       "  <th>spl_og_mou_6</th>           <td>   -0.0841</td> <td>    0.025</td> <td>   -3.316</td> <td> 0.001</td> <td>   -0.134</td> <td>   -0.034</td>\n",
       "</tr>\n",
       "<tr>\n",
       "  <th>spl_og_mou_7</th>           <td>    0.0267</td> <td>    0.027</td> <td>    0.977</td> <td> 0.329</td> <td>   -0.027</td> <td>    0.080</td>\n",
       "</tr>\n",
       "<tr>\n",
       "  <th>spl_og_mou_8</th>           <td>   -0.0420</td> <td>    0.030</td> <td>   -1.399</td> <td> 0.162</td> <td>   -0.101</td> <td>    0.017</td>\n",
       "</tr>\n",
       "<tr>\n",
       "  <th>og_others_6</th>            <td>   -0.0483</td> <td>    0.019</td> <td>   -2.535</td> <td> 0.011</td> <td>   -0.086</td> <td>   -0.011</td>\n",
       "</tr>\n",
       "<tr>\n",
       "  <th>og_others_7</th>            <td>   -0.0150</td> <td>    0.026</td> <td>   -0.580</td> <td> 0.562</td> <td>   -0.066</td> <td>    0.036</td>\n",
       "</tr>\n",
       "<tr>\n",
       "  <th>og_others_8</th>            <td>   -0.0845</td> <td>    0.037</td> <td>   -2.277</td> <td> 0.023</td> <td>   -0.157</td> <td>   -0.012</td>\n",
       "</tr>\n",
       "<tr>\n",
       "  <th>total_og_mou_6</th>         <td>   -0.5853</td> <td>    0.129</td> <td>   -4.543</td> <td> 0.000</td> <td>   -0.838</td> <td>   -0.333</td>\n",
       "</tr>\n",
       "<tr>\n",
       "  <th>total_og_mou_7</th>         <td>    0.5963</td> <td>    0.156</td> <td>    3.827</td> <td> 0.000</td> <td>    0.291</td> <td>    0.902</td>\n",
       "</tr>\n",
       "<tr>\n",
       "  <th>total_og_mou_8</th>         <td>   -2.3800</td> <td>    0.201</td> <td>  -11.824</td> <td> 0.000</td> <td>   -2.775</td> <td>   -1.986</td>\n",
       "</tr>\n",
       "<tr>\n",
       "  <th>loc_ic_t2t_mou_6</th>       <td>    0.3233</td> <td>    0.071</td> <td>    4.582</td> <td> 0.000</td> <td>    0.185</td> <td>    0.462</td>\n",
       "</tr>\n",
       "<tr>\n",
       "  <th>loc_ic_t2t_mou_7</th>       <td>    0.1216</td> <td>    0.081</td> <td>    1.506</td> <td> 0.132</td> <td>   -0.037</td> <td>    0.280</td>\n",
       "</tr>\n",
       "<tr>\n",
       "  <th>loc_ic_t2t_mou_8</th>       <td>   -0.8200</td> <td>    0.086</td> <td>   -9.576</td> <td> 0.000</td> <td>   -0.988</td> <td>   -0.652</td>\n",
       "</tr>\n",
       "<tr>\n",
       "  <th>loc_ic_t2m_mou_6</th>       <td>    0.4476</td> <td>    0.111</td> <td>    4.016</td> <td> 0.000</td> <td>    0.229</td> <td>    0.666</td>\n",
       "</tr>\n",
       "<tr>\n",
       "  <th>loc_ic_t2m_mou_7</th>       <td>    0.3598</td> <td>    0.128</td> <td>    2.822</td> <td> 0.005</td> <td>    0.110</td> <td>    0.610</td>\n",
       "</tr>\n",
       "<tr>\n",
       "  <th>loc_ic_t2m_mou_8</th>       <td>   -1.6590</td> <td>    0.133</td> <td>  -12.521</td> <td> 0.000</td> <td>   -1.919</td> <td>   -1.399</td>\n",
       "</tr>\n",
       "<tr>\n",
       "  <th>loc_ic_t2f_mou_6</th>       <td>    0.0304</td> <td>    0.043</td> <td>    0.702</td> <td> 0.483</td> <td>   -0.054</td> <td>    0.115</td>\n",
       "</tr>\n",
       "<tr>\n",
       "  <th>loc_ic_t2f_mou_7</th>       <td>   -0.0217</td> <td>    0.050</td> <td>   -0.437</td> <td> 0.662</td> <td>   -0.119</td> <td>    0.076</td>\n",
       "</tr>\n",
       "<tr>\n",
       "  <th>loc_ic_t2f_mou_8</th>       <td>   -0.3638</td> <td>    0.051</td> <td>   -7.126</td> <td> 0.000</td> <td>   -0.464</td> <td>   -0.264</td>\n",
       "</tr>\n",
       "<tr>\n",
       "  <th>loc_ic_mou_6</th>           <td>   -0.4850</td> <td>    0.183</td> <td>   -2.655</td> <td> 0.008</td> <td>   -0.843</td> <td>   -0.127</td>\n",
       "</tr>\n",
       "<tr>\n",
       "  <th>loc_ic_mou_7</th>           <td>   -0.6299</td> <td>    0.204</td> <td>   -3.094</td> <td> 0.002</td> <td>   -1.029</td> <td>   -0.231</td>\n",
       "</tr>\n",
       "<tr>\n",
       "  <th>loc_ic_mou_8</th>           <td>    4.3976</td> <td>    0.223</td> <td>   19.754</td> <td> 0.000</td> <td>    3.961</td> <td>    4.834</td>\n",
       "</tr>\n",
       "<tr>\n",
       "  <th>std_ic_t2t_mou_6</th>       <td>   -0.1480</td> <td>    0.052</td> <td>   -2.853</td> <td> 0.004</td> <td>   -0.250</td> <td>   -0.046</td>\n",
       "</tr>\n",
       "<tr>\n",
       "  <th>std_ic_t2t_mou_7</th>       <td>    0.1115</td> <td>    0.059</td> <td>    1.874</td> <td> 0.061</td> <td>   -0.005</td> <td>    0.228</td>\n",
       "</tr>\n",
       "<tr>\n",
       "  <th>std_ic_t2t_mou_8</th>       <td>   -0.4651</td> <td>    0.069</td> <td>   -6.727</td> <td> 0.000</td> <td>   -0.601</td> <td>   -0.330</td>\n",
       "</tr>\n",
       "<tr>\n",
       "  <th>std_ic_t2m_mou_6</th>       <td>   -0.2007</td> <td>    0.078</td> <td>   -2.557</td> <td> 0.011</td> <td>   -0.355</td> <td>   -0.047</td>\n",
       "</tr>\n",
       "<tr>\n",
       "  <th>std_ic_t2m_mou_7</th>       <td>   -0.1308</td> <td>    0.086</td> <td>   -1.521</td> <td> 0.128</td> <td>   -0.299</td> <td>    0.038</td>\n",
       "</tr>\n",
       "<tr>\n",
       "  <th>std_ic_t2m_mou_8</th>       <td>   -0.3761</td> <td>    0.102</td> <td>   -3.705</td> <td> 0.000</td> <td>   -0.575</td> <td>   -0.177</td>\n",
       "</tr>\n",
       "<tr>\n",
       "  <th>std_ic_t2f_mou_6</th>       <td>   -0.0192</td> <td>    0.032</td> <td>   -0.608</td> <td> 0.543</td> <td>   -0.081</td> <td>    0.043</td>\n",
       "</tr>\n",
       "<tr>\n",
       "  <th>std_ic_t2f_mou_7</th>       <td>    0.0714</td> <td>    0.034</td> <td>    2.130</td> <td> 0.033</td> <td>    0.006</td> <td>    0.137</td>\n",
       "</tr>\n",
       "<tr>\n",
       "  <th>std_ic_t2f_mou_8</th>       <td>   -0.1921</td> <td>    0.038</td> <td>   -5.067</td> <td> 0.000</td> <td>   -0.266</td> <td>   -0.118</td>\n",
       "</tr>\n",
       "<tr>\n",
       "  <th>std_ic_t2o_mou_6</th>       <td> 3.108e-13</td> <td>  1.1e-13</td> <td>    2.817</td> <td> 0.005</td> <td> 9.46e-14</td> <td> 5.27e-13</td>\n",
       "</tr>\n",
       "<tr>\n",
       "  <th>std_ic_t2o_mou_7</th>       <td>-1.483e-13</td> <td> 2.98e-14</td> <td>   -4.972</td> <td> 0.000</td> <td>-2.07e-13</td> <td>-8.99e-14</td>\n",
       "</tr>\n",
       "<tr>\n",
       "  <th>std_ic_t2o_mou_8</th>       <td> -5.74e-14</td> <td> 6.77e-14</td> <td>   -0.848</td> <td> 0.397</td> <td> -1.9e-13</td> <td> 7.53e-14</td>\n",
       "</tr>\n",
       "<tr>\n",
       "  <th>std_ic_mou_6</th>           <td>    0.3343</td> <td>    0.111</td> <td>    3.023</td> <td> 0.003</td> <td>    0.118</td> <td>    0.551</td>\n",
       "</tr>\n",
       "<tr>\n",
       "  <th>std_ic_mou_7</th>           <td>   -0.1136</td> <td>    0.120</td> <td>   -0.943</td> <td> 0.346</td> <td>   -0.350</td> <td>    0.123</td>\n",
       "</tr>\n",
       "<tr>\n",
       "  <th>std_ic_mou_8</th>           <td>    1.5031</td> <td>    0.143</td> <td>   10.524</td> <td> 0.000</td> <td>    1.223</td> <td>    1.783</td>\n",
       "</tr>\n",
       "<tr>\n",
       "  <th>total_ic_mou_6</th>         <td>    0.0614</td> <td>    0.123</td> <td>    0.500</td> <td> 0.617</td> <td>   -0.179</td> <td>    0.302</td>\n",
       "</tr>\n",
       "<tr>\n",
       "  <th>total_ic_mou_7</th>         <td>    0.6289</td> <td>    0.142</td> <td>    4.444</td> <td> 0.000</td> <td>    0.352</td> <td>    0.906</td>\n",
       "</tr>\n",
       "<tr>\n",
       "  <th>total_ic_mou_8</th>         <td>   -3.7901</td> <td>    0.180</td> <td>  -21.001</td> <td> 0.000</td> <td>   -4.144</td> <td>   -3.436</td>\n",
       "</tr>\n",
       "<tr>\n",
       "  <th>spl_ic_mou_6</th>           <td>   -0.0296</td> <td>    0.018</td> <td>   -1.633</td> <td> 0.103</td> <td>   -0.065</td> <td>    0.006</td>\n",
       "</tr>\n",
       "<tr>\n",
       "  <th>spl_ic_mou_7</th>           <td>   -0.0781</td> <td>    0.018</td> <td>   -4.325</td> <td> 0.000</td> <td>   -0.113</td> <td>   -0.043</td>\n",
       "</tr>\n",
       "<tr>\n",
       "  <th>spl_ic_mou_8</th>           <td>   -0.5129</td> <td>    0.029</td> <td>  -17.960</td> <td> 0.000</td> <td>   -0.569</td> <td>   -0.457</td>\n",
       "</tr>\n",
       "<tr>\n",
       "  <th>isd_ic_mou_6</th>           <td>    0.0743</td> <td>    0.034</td> <td>    2.198</td> <td> 0.028</td> <td>    0.008</td> <td>    0.141</td>\n",
       "</tr>\n",
       "<tr>\n",
       "  <th>isd_ic_mou_7</th>           <td>   -0.0933</td> <td>    0.038</td> <td>   -2.460</td> <td> 0.014</td> <td>   -0.168</td> <td>   -0.019</td>\n",
       "</tr>\n",
       "<tr>\n",
       "  <th>isd_ic_mou_8</th>           <td>    0.4446</td> <td>    0.038</td> <td>   11.799</td> <td> 0.000</td> <td>    0.371</td> <td>    0.519</td>\n",
       "</tr>\n",
       "<tr>\n",
       "  <th>ic_others_6</th>            <td>   -0.0594</td> <td>    0.022</td> <td>   -2.692</td> <td> 0.007</td> <td>   -0.103</td> <td>   -0.016</td>\n",
       "</tr>\n",
       "<tr>\n",
       "  <th>ic_others_7</th>            <td>   -0.0839</td> <td>    0.024</td> <td>   -3.567</td> <td> 0.000</td> <td>   -0.130</td> <td>   -0.038</td>\n",
       "</tr>\n",
       "<tr>\n",
       "  <th>ic_others_8</th>            <td>    0.0886</td> <td>    0.025</td> <td>    3.567</td> <td> 0.000</td> <td>    0.040</td> <td>    0.137</td>\n",
       "</tr>\n",
       "<tr>\n",
       "  <th>total_rech_num_6</th>       <td>   -0.0376</td> <td>    0.034</td> <td>   -1.104</td> <td> 0.270</td> <td>   -0.104</td> <td>    0.029</td>\n",
       "</tr>\n",
       "<tr>\n",
       "  <th>total_rech_num_7</th>       <td>    0.1785</td> <td>    0.039</td> <td>    4.580</td> <td> 0.000</td> <td>    0.102</td> <td>    0.255</td>\n",
       "</tr>\n",
       "<tr>\n",
       "  <th>total_rech_num_8</th>       <td>   -0.6283</td> <td>    0.039</td> <td>  -16.165</td> <td> 0.000</td> <td>   -0.705</td> <td>   -0.552</td>\n",
       "</tr>\n",
       "<tr>\n",
       "  <th>total_rech_amt_6</th>       <td>  -18.9622</td> <td>    7.153</td> <td>   -2.651</td> <td> 0.008</td> <td>  -32.982</td> <td>   -4.943</td>\n",
       "</tr>\n",
       "<tr>\n",
       "  <th>total_rech_amt_7</th>       <td>  -10.0925</td> <td>    7.066</td> <td>   -1.428</td> <td> 0.153</td> <td>  -23.941</td> <td>    3.756</td>\n",
       "</tr>\n",
       "<tr>\n",
       "  <th>total_rech_amt_8</th>       <td>   -0.4100</td> <td>    0.075</td> <td>   -5.436</td> <td> 0.000</td> <td>   -0.558</td> <td>   -0.262</td>\n",
       "</tr>\n",
       "<tr>\n",
       "  <th>max_rech_amt_6</th>         <td>   -0.1081</td> <td>    0.033</td> <td>   -3.259</td> <td> 0.001</td> <td>   -0.173</td> <td>   -0.043</td>\n",
       "</tr>\n",
       "<tr>\n",
       "  <th>max_rech_amt_7</th>         <td>    0.0403</td> <td>    0.035</td> <td>    1.162</td> <td> 0.245</td> <td>   -0.028</td> <td>    0.108</td>\n",
       "</tr>\n",
       "<tr>\n",
       "  <th>max_rech_amt_8</th>         <td>    0.1890</td> <td>    0.035</td> <td>    5.404</td> <td> 0.000</td> <td>    0.120</td> <td>    0.257</td>\n",
       "</tr>\n",
       "<tr>\n",
       "  <th>last_day_rch_amt_6</th>     <td>   -0.0554</td> <td>    0.024</td> <td>   -2.296</td> <td> 0.022</td> <td>   -0.103</td> <td>   -0.008</td>\n",
       "</tr>\n",
       "<tr>\n",
       "  <th>last_day_rch_amt_7</th>     <td>   -0.1213</td> <td>    0.024</td> <td>   -5.074</td> <td> 0.000</td> <td>   -0.168</td> <td>   -0.074</td>\n",
       "</tr>\n",
       "<tr>\n",
       "  <th>last_day_rch_amt_8</th>     <td>   -0.6576</td> <td>    0.026</td> <td>  -25.105</td> <td> 0.000</td> <td>   -0.709</td> <td>   -0.606</td>\n",
       "</tr>\n",
       "<tr>\n",
       "  <th>total_rech_data_6</th>      <td>   -0.0681</td> <td>    0.107</td> <td>   -0.635</td> <td> 0.526</td> <td>   -0.278</td> <td>    0.142</td>\n",
       "</tr>\n",
       "<tr>\n",
       "  <th>total_rech_data_7</th>      <td>   -0.0673</td> <td>    0.121</td> <td>   -0.556</td> <td> 0.578</td> <td>   -0.304</td> <td>    0.170</td>\n",
       "</tr>\n",
       "<tr>\n",
       "  <th>total_rech_data_8</th>      <td>   -0.3890</td> <td>    0.137</td> <td>   -2.845</td> <td> 0.004</td> <td>   -0.657</td> <td>   -0.121</td>\n",
       "</tr>\n",
       "<tr>\n",
       "  <th>max_rech_data_6</th>        <td>    0.1319</td> <td>    0.099</td> <td>    1.326</td> <td> 0.185</td> <td>   -0.063</td> <td>    0.327</td>\n",
       "</tr>\n",
       "<tr>\n",
       "  <th>max_rech_data_7</th>        <td>   -0.2893</td> <td>    0.100</td> <td>   -2.891</td> <td> 0.004</td> <td>   -0.485</td> <td>   -0.093</td>\n",
       "</tr>\n",
       "<tr>\n",
       "  <th>max_rech_data_8</th>        <td>   -0.1081</td> <td>    0.127</td> <td>   -0.853</td> <td> 0.394</td> <td>   -0.357</td> <td>    0.140</td>\n",
       "</tr>\n",
       "<tr>\n",
       "  <th>count_rech_2g_6</th>        <td>   -0.1683</td> <td>    0.210</td> <td>   -0.803</td> <td> 0.422</td> <td>   -0.579</td> <td>    0.242</td>\n",
       "</tr>\n",
       "<tr>\n",
       "  <th>count_rech_2g_7</th>        <td>   -0.9361</td> <td>    0.252</td> <td>   -3.710</td> <td> 0.000</td> <td>   -1.431</td> <td>   -0.442</td>\n",
       "</tr>\n",
       "<tr>\n",
       "  <th>count_rech_2g_8</th>        <td>   -0.1107</td> <td>    0.432</td> <td>   -0.256</td> <td> 0.798</td> <td>   -0.957</td> <td>    0.736</td>\n",
       "</tr>\n",
       "<tr>\n",
       "  <th>count_rech_3g_6</th>        <td>   -0.0527</td> <td>    0.109</td> <td>   -0.483</td> <td> 0.629</td> <td>   -0.266</td> <td>    0.161</td>\n",
       "</tr>\n",
       "<tr>\n",
       "  <th>count_rech_3g_7</th>        <td>   -0.2834</td> <td>    0.112</td> <td>   -2.528</td> <td> 0.011</td> <td>   -0.503</td> <td>   -0.064</td>\n",
       "</tr>\n",
       "<tr>\n",
       "  <th>count_rech_3g_8</th>        <td>    0.3977</td> <td>    0.146</td> <td>    2.721</td> <td> 0.007</td> <td>    0.111</td> <td>    0.684</td>\n",
       "</tr>\n",
       "<tr>\n",
       "  <th>av_rech_amt_data_6</th>     <td>   -0.0928</td> <td>    0.085</td> <td>   -1.095</td> <td> 0.274</td> <td>   -0.259</td> <td>    0.073</td>\n",
       "</tr>\n",
       "<tr>\n",
       "  <th>av_rech_amt_data_7</th>     <td>    0.2118</td> <td>    0.090</td> <td>    2.366</td> <td> 0.018</td> <td>    0.036</td> <td>    0.387</td>\n",
       "</tr>\n",
       "<tr>\n",
       "  <th>av_rech_amt_data_8</th>     <td>   -0.3210</td> <td>    0.104</td> <td>   -3.090</td> <td> 0.002</td> <td>   -0.525</td> <td>   -0.117</td>\n",
       "</tr>\n",
       "<tr>\n",
       "  <th>vol_2g_mb_6</th>            <td>    0.0540</td> <td>    0.032</td> <td>    1.693</td> <td> 0.090</td> <td>   -0.009</td> <td>    0.116</td>\n",
       "</tr>\n",
       "<tr>\n",
       "  <th>vol_2g_mb_7</th>            <td>    0.0729</td> <td>    0.034</td> <td>    2.135</td> <td> 0.033</td> <td>    0.006</td> <td>    0.140</td>\n",
       "</tr>\n",
       "<tr>\n",
       "  <th>vol_2g_mb_8</th>            <td>   -0.2346</td> <td>    0.038</td> <td>   -6.218</td> <td> 0.000</td> <td>   -0.309</td> <td>   -0.161</td>\n",
       "</tr>\n",
       "<tr>\n",
       "  <th>vol_3g_mb_6</th>            <td>    0.0808</td> <td>    0.048</td> <td>    1.678</td> <td> 0.093</td> <td>   -0.014</td> <td>    0.175</td>\n",
       "</tr>\n",
       "<tr>\n",
       "  <th>vol_3g_mb_7</th>            <td>    0.1235</td> <td>    0.051</td> <td>    2.417</td> <td> 0.016</td> <td>    0.023</td> <td>    0.224</td>\n",
       "</tr>\n",
       "<tr>\n",
       "  <th>vol_3g_mb_8</th>            <td>   -0.1987</td> <td>    0.056</td> <td>   -3.557</td> <td> 0.000</td> <td>   -0.308</td> <td>   -0.089</td>\n",
       "</tr>\n",
       "<tr>\n",
       "  <th>night_pck_user_6</th>       <td>    0.0385</td> <td>    0.078</td> <td>    0.491</td> <td> 0.624</td> <td>   -0.115</td> <td>    0.192</td>\n",
       "</tr>\n",
       "<tr>\n",
       "  <th>night_pck_user_7</th>       <td>   -0.1078</td> <td>    0.084</td> <td>   -1.288</td> <td> 0.198</td> <td>   -0.272</td> <td>    0.056</td>\n",
       "</tr>\n",
       "<tr>\n",
       "  <th>night_pck_user_8</th>       <td>    0.1184</td> <td>    0.080</td> <td>    1.490</td> <td> 0.136</td> <td>   -0.037</td> <td>    0.274</td>\n",
       "</tr>\n",
       "<tr>\n",
       "  <th>monthly_2g_6</th>           <td>   -0.0905</td> <td>    0.073</td> <td>   -1.246</td> <td> 0.213</td> <td>   -0.233</td> <td>    0.052</td>\n",
       "</tr>\n",
       "<tr>\n",
       "  <th>monthly_2g_7</th>           <td>    0.2215</td> <td>    0.078</td> <td>    2.846</td> <td> 0.004</td> <td>    0.069</td> <td>    0.374</td>\n",
       "</tr>\n",
       "<tr>\n",
       "  <th>monthly_2g_8</th>           <td>   -0.0322</td> <td>    0.121</td> <td>   -0.266</td> <td> 0.790</td> <td>   -0.269</td> <td>    0.205</td>\n",
       "</tr>\n",
       "<tr>\n",
       "  <th>sachet_2g_6</th>            <td>    0.1502</td> <td>    0.184</td> <td>    0.819</td> <td> 0.413</td> <td>   -0.210</td> <td>    0.510</td>\n",
       "</tr>\n",
       "<tr>\n",
       "  <th>sachet_2g_7</th>            <td>    0.7645</td> <td>    0.226</td> <td>    3.377</td> <td> 0.001</td> <td>    0.321</td> <td>    1.208</td>\n",
       "</tr>\n",
       "<tr>\n",
       "  <th>sachet_2g_8</th>            <td>    0.4107</td> <td>    0.402</td> <td>    1.022</td> <td> 0.307</td> <td>   -0.377</td> <td>    1.198</td>\n",
       "</tr>\n",
       "<tr>\n",
       "  <th>monthly_3g_6</th>           <td>   -0.0246</td> <td>    0.087</td> <td>   -0.284</td> <td> 0.777</td> <td>   -0.194</td> <td>    0.145</td>\n",
       "</tr>\n",
       "<tr>\n",
       "  <th>monthly_3g_7</th>           <td>    0.3376</td> <td>    0.087</td> <td>    3.876</td> <td> 0.000</td> <td>    0.167</td> <td>    0.508</td>\n",
       "</tr>\n",
       "<tr>\n",
       "  <th>monthly_3g_8</th>           <td>   -0.2485</td> <td>    0.125</td> <td>   -1.995</td> <td> 0.046</td> <td>   -0.493</td> <td>   -0.004</td>\n",
       "</tr>\n",
       "<tr>\n",
       "  <th>sachet_3g_6</th>            <td>   -0.0633</td> <td>    0.059</td> <td>   -1.069</td> <td> 0.285</td> <td>   -0.179</td> <td>    0.053</td>\n",
       "</tr>\n",
       "<tr>\n",
       "  <th>sachet_3g_7</th>            <td>    0.2500</td> <td>    0.061</td> <td>    4.105</td> <td> 0.000</td> <td>    0.131</td> <td>    0.369</td>\n",
       "</tr>\n",
       "<tr>\n",
       "  <th>sachet_3g_8</th>            <td>   -0.2232</td> <td>    0.083</td> <td>   -2.679</td> <td> 0.007</td> <td>   -0.386</td> <td>   -0.060</td>\n",
       "</tr>\n",
       "<tr>\n",
       "  <th>fb_user_6</th>              <td>    0.0233</td> <td>    0.090</td> <td>    0.259</td> <td> 0.796</td> <td>   -0.153</td> <td>    0.200</td>\n",
       "</tr>\n",
       "<tr>\n",
       "  <th>fb_user_7</th>              <td>    0.1992</td> <td>    0.095</td> <td>    2.097</td> <td> 0.036</td> <td>    0.013</td> <td>    0.386</td>\n",
       "</tr>\n",
       "<tr>\n",
       "  <th>fb_user_8</th>              <td>   -0.2206</td> <td>    0.095</td> <td>   -2.328</td> <td> 0.020</td> <td>   -0.406</td> <td>   -0.035</td>\n",
       "</tr>\n",
       "<tr>\n",
       "  <th>aon</th>                    <td>   -0.3559</td> <td>    0.021</td> <td>  -16.767</td> <td> 0.000</td> <td>   -0.398</td> <td>   -0.314</td>\n",
       "</tr>\n",
       "<tr>\n",
       "  <th>aug_vbc_3g</th>             <td>   -0.2157</td> <td>    0.042</td> <td>   -5.075</td> <td> 0.000</td> <td>   -0.299</td> <td>   -0.132</td>\n",
       "</tr>\n",
       "<tr>\n",
       "  <th>jul_vbc_3g</th>             <td>    0.0331</td> <td>    0.042</td> <td>    0.785</td> <td> 0.433</td> <td>   -0.050</td> <td>    0.116</td>\n",
       "</tr>\n",
       "<tr>\n",
       "  <th>jun_vbc_3g</th>             <td>    0.0604</td> <td>    0.038</td> <td>    1.588</td> <td> 0.112</td> <td>   -0.014</td> <td>    0.135</td>\n",
       "</tr>\n",
       "<tr>\n",
       "  <th>tot_monthly_recharge_6</th> <td>   18.9461</td> <td>    7.156</td> <td>    2.647</td> <td> 0.008</td> <td>    4.920</td> <td>   32.972</td>\n",
       "</tr>\n",
       "<tr>\n",
       "  <th>tot_monthly_recharge_7</th> <td>    9.9012</td> <td>    7.068</td> <td>    1.401</td> <td> 0.161</td> <td>   -3.952</td> <td>   23.754</td>\n",
       "</tr>\n",
       "<tr>\n",
       "  <th>average_recharge_6_7</th>   <td>    0.0930</td> <td>    0.130</td> <td>    0.716</td> <td> 0.474</td> <td>   -0.162</td> <td>    0.348</td>\n",
       "</tr>\n",
       "</table>"
      ],
      "text/plain": [
       "<class 'statsmodels.iolib.summary.Summary'>\n",
       "\"\"\"\n",
       "                 Generalized Linear Model Regression Results                  \n",
       "==============================================================================\n",
       "Dep. Variable:                      y   No. Observations:                38400\n",
       "Model:                            GLM   Df Residuals:                    38251\n",
       "Model Family:                Binomial   Df Model:                          148\n",
       "Link Function:                  logit   Scale:                          1.0000\n",
       "Method:                          IRLS   Log-Likelihood:                -13412.\n",
       "Date:                Tue, 01 Sep 2020   Deviance:                       26824.\n",
       "Time:                        10:43:24   Pearson chi2:                 1.57e+05\n",
       "No. Iterations:                   100                                         \n",
       "Covariance Type:            nonrobust                                         \n",
       "==========================================================================================\n",
       "                             coef    std err          z      P>|z|      [0.025      0.975]\n",
       "------------------------------------------------------------------------------------------\n",
       "const                     -2.0125      0.029    -68.766      0.000      -2.070      -1.955\n",
       "loc_og_t2o_mou          3.656e-14   8.15e-15      4.488      0.000    2.06e-14    5.25e-14\n",
       "std_og_t2o_mou          3.713e-13   9.94e-14      3.733      0.000    1.76e-13    5.66e-13\n",
       "loc_ic_t2o_mou         -1.705e-13   3.29e-14     -5.175      0.000   -2.35e-13   -1.06e-13\n",
       "arpu_6                     0.1148      0.056      2.068      0.039       0.006       0.224\n",
       "arpu_7                     0.3365      0.061      5.543      0.000       0.218       0.455\n",
       "arpu_8                     0.5755      0.071      8.096      0.000       0.436       0.715\n",
       "onnet_mou_6                0.5111      0.110      4.652      0.000       0.296       0.726\n",
       "onnet_mou_7                0.1440      0.133      1.085      0.278      -0.116       0.404\n",
       "onnet_mou_8               -0.0802      0.146     -0.551      0.582      -0.366       0.205\n",
       "offnet_mou_6               0.1833      0.097      1.886      0.059      -0.007       0.374\n",
       "offnet_mou_7               0.1881      0.121      1.559      0.119      -0.048       0.425\n",
       "offnet_mou_8               0.1282      0.117      1.095      0.273      -0.101       0.358\n",
       "roam_ic_mou_6             -0.0372      0.033     -1.116      0.264      -0.102       0.028\n",
       "roam_ic_mou_7              0.1237      0.033      3.793      0.000       0.060       0.188\n",
       "roam_ic_mou_8             -0.0435      0.029     -1.474      0.140      -0.101       0.014\n",
       "roam_og_mou_6             -0.0573      0.035     -1.631      0.103      -0.126       0.012\n",
       "roam_og_mou_7             -0.0695      0.034     -2.066      0.039      -0.135      -0.004\n",
       "roam_og_mou_8              0.2120      0.032      6.567      0.000       0.149       0.275\n",
       "loc_og_t2t_mou_6          -0.2049      0.089     -2.311      0.021      -0.379      -0.031\n",
       "loc_og_t2t_mou_7           0.2369      0.103      2.297      0.022       0.035       0.439\n",
       "loc_og_t2t_mou_8          -1.0380      0.115     -8.995      0.000      -1.264      -0.812\n",
       "loc_og_t2m_mou_6          -0.1653      0.122     -1.360      0.174      -0.404       0.073\n",
       "loc_og_t2m_mou_7           0.1473      0.135      1.095      0.274      -0.116       0.411\n",
       "loc_og_t2m_mou_8          -1.4197      0.149     -9.553      0.000      -1.711      -1.128\n",
       "loc_og_t2f_mou_6          -0.0582      0.038     -1.533      0.125      -0.133       0.016\n",
       "loc_og_t2f_mou_7          -0.0917      0.042     -2.160      0.031      -0.175      -0.008\n",
       "loc_og_t2f_mou_8          -0.1464      0.042     -3.461      0.001      -0.229      -0.064\n",
       "loc_og_t2c_mou_6          -0.0100      0.022     -0.445      0.656      -0.054       0.034\n",
       "loc_og_t2c_mou_7          -0.0526      0.024     -2.206      0.027      -0.099      -0.006\n",
       "loc_og_t2c_mou_8           0.0459      0.025      1.840      0.066      -0.003       0.095\n",
       "loc_og_mou_6               0.2893      0.180      1.605      0.109      -0.064       0.643\n",
       "loc_og_mou_7              -0.6442      0.201     -3.211      0.001      -1.037      -0.251\n",
       "loc_og_mou_8               2.4767      0.231     10.710      0.000       2.023       2.930\n",
       "std_og_t2t_mou_6          -0.2301      0.103     -2.239      0.025      -0.431      -0.029\n",
       "std_og_t2t_mou_7          -0.1012      0.126     -0.802      0.423      -0.349       0.146\n",
       "std_og_t2t_mou_8          -0.7811      0.137     -5.709      0.000      -1.049      -0.513\n",
       "std_og_t2m_mou_6          -0.0027      0.090     -0.031      0.976      -0.179       0.173\n",
       "std_og_t2m_mou_7           0.0500      0.113      0.443      0.658      -0.171       0.271\n",
       "std_og_t2m_mou_8          -1.0237      0.111     -9.218      0.000      -1.241      -0.806\n",
       "std_og_t2f_mou_6          -0.0778      0.029     -2.674      0.008      -0.135      -0.021\n",
       "std_og_t2f_mou_7           0.0124      0.031      0.394      0.693      -0.049       0.074\n",
       "std_og_t2f_mou_8          -0.1177      0.036     -3.305      0.001      -0.188      -0.048\n",
       "std_og_t2c_mou_6        9.745e-14   2.09e-14      4.654      0.000    5.64e-14    1.38e-13\n",
       "std_og_t2c_mou_7       -1.694e-13   4.63e-14     -3.656      0.000    -2.6e-13   -7.86e-14\n",
       "std_og_t2c_mou_8        2.615e-13   5.46e-14      4.793      0.000    1.55e-13    3.68e-13\n",
       "std_og_mou_6               0.3390      0.145      2.334      0.020       0.054       0.624\n",
       "std_og_mou_7              -0.4584      0.178     -2.572      0.010      -0.808      -0.109\n",
       "std_og_mou_8               2.7689      0.230     12.021      0.000       2.317       3.220\n",
       "isd_og_mou_6               0.0724      0.025      2.855      0.004       0.023       0.122\n",
       "isd_og_mou_7              -0.0213      0.028     -0.753      0.451      -0.077       0.034\n",
       "isd_og_mou_8              -0.0227      0.029     -0.787      0.432      -0.079       0.034\n",
       "spl_og_mou_6              -0.0841      0.025     -3.316      0.001      -0.134      -0.034\n",
       "spl_og_mou_7               0.0267      0.027      0.977      0.329      -0.027       0.080\n",
       "spl_og_mou_8              -0.0420      0.030     -1.399      0.162      -0.101       0.017\n",
       "og_others_6               -0.0483      0.019     -2.535      0.011      -0.086      -0.011\n",
       "og_others_7               -0.0150      0.026     -0.580      0.562      -0.066       0.036\n",
       "og_others_8               -0.0845      0.037     -2.277      0.023      -0.157      -0.012\n",
       "total_og_mou_6            -0.5853      0.129     -4.543      0.000      -0.838      -0.333\n",
       "total_og_mou_7             0.5963      0.156      3.827      0.000       0.291       0.902\n",
       "total_og_mou_8            -2.3800      0.201    -11.824      0.000      -2.775      -1.986\n",
       "loc_ic_t2t_mou_6           0.3233      0.071      4.582      0.000       0.185       0.462\n",
       "loc_ic_t2t_mou_7           0.1216      0.081      1.506      0.132      -0.037       0.280\n",
       "loc_ic_t2t_mou_8          -0.8200      0.086     -9.576      0.000      -0.988      -0.652\n",
       "loc_ic_t2m_mou_6           0.4476      0.111      4.016      0.000       0.229       0.666\n",
       "loc_ic_t2m_mou_7           0.3598      0.128      2.822      0.005       0.110       0.610\n",
       "loc_ic_t2m_mou_8          -1.6590      0.133    -12.521      0.000      -1.919      -1.399\n",
       "loc_ic_t2f_mou_6           0.0304      0.043      0.702      0.483      -0.054       0.115\n",
       "loc_ic_t2f_mou_7          -0.0217      0.050     -0.437      0.662      -0.119       0.076\n",
       "loc_ic_t2f_mou_8          -0.3638      0.051     -7.126      0.000      -0.464      -0.264\n",
       "loc_ic_mou_6              -0.4850      0.183     -2.655      0.008      -0.843      -0.127\n",
       "loc_ic_mou_7              -0.6299      0.204     -3.094      0.002      -1.029      -0.231\n",
       "loc_ic_mou_8               4.3976      0.223     19.754      0.000       3.961       4.834\n",
       "std_ic_t2t_mou_6          -0.1480      0.052     -2.853      0.004      -0.250      -0.046\n",
       "std_ic_t2t_mou_7           0.1115      0.059      1.874      0.061      -0.005       0.228\n",
       "std_ic_t2t_mou_8          -0.4651      0.069     -6.727      0.000      -0.601      -0.330\n",
       "std_ic_t2m_mou_6          -0.2007      0.078     -2.557      0.011      -0.355      -0.047\n",
       "std_ic_t2m_mou_7          -0.1308      0.086     -1.521      0.128      -0.299       0.038\n",
       "std_ic_t2m_mou_8          -0.3761      0.102     -3.705      0.000      -0.575      -0.177\n",
       "std_ic_t2f_mou_6          -0.0192      0.032     -0.608      0.543      -0.081       0.043\n",
       "std_ic_t2f_mou_7           0.0714      0.034      2.130      0.033       0.006       0.137\n",
       "std_ic_t2f_mou_8          -0.1921      0.038     -5.067      0.000      -0.266      -0.118\n",
       "std_ic_t2o_mou_6        3.108e-13    1.1e-13      2.817      0.005    9.46e-14    5.27e-13\n",
       "std_ic_t2o_mou_7       -1.483e-13   2.98e-14     -4.972      0.000   -2.07e-13   -8.99e-14\n",
       "std_ic_t2o_mou_8        -5.74e-14   6.77e-14     -0.848      0.397    -1.9e-13    7.53e-14\n",
       "std_ic_mou_6               0.3343      0.111      3.023      0.003       0.118       0.551\n",
       "std_ic_mou_7              -0.1136      0.120     -0.943      0.346      -0.350       0.123\n",
       "std_ic_mou_8               1.5031      0.143     10.524      0.000       1.223       1.783\n",
       "total_ic_mou_6             0.0614      0.123      0.500      0.617      -0.179       0.302\n",
       "total_ic_mou_7             0.6289      0.142      4.444      0.000       0.352       0.906\n",
       "total_ic_mou_8            -3.7901      0.180    -21.001      0.000      -4.144      -3.436\n",
       "spl_ic_mou_6              -0.0296      0.018     -1.633      0.103      -0.065       0.006\n",
       "spl_ic_mou_7              -0.0781      0.018     -4.325      0.000      -0.113      -0.043\n",
       "spl_ic_mou_8              -0.5129      0.029    -17.960      0.000      -0.569      -0.457\n",
       "isd_ic_mou_6               0.0743      0.034      2.198      0.028       0.008       0.141\n",
       "isd_ic_mou_7              -0.0933      0.038     -2.460      0.014      -0.168      -0.019\n",
       "isd_ic_mou_8               0.4446      0.038     11.799      0.000       0.371       0.519\n",
       "ic_others_6               -0.0594      0.022     -2.692      0.007      -0.103      -0.016\n",
       "ic_others_7               -0.0839      0.024     -3.567      0.000      -0.130      -0.038\n",
       "ic_others_8                0.0886      0.025      3.567      0.000       0.040       0.137\n",
       "total_rech_num_6          -0.0376      0.034     -1.104      0.270      -0.104       0.029\n",
       "total_rech_num_7           0.1785      0.039      4.580      0.000       0.102       0.255\n",
       "total_rech_num_8          -0.6283      0.039    -16.165      0.000      -0.705      -0.552\n",
       "total_rech_amt_6         -18.9622      7.153     -2.651      0.008     -32.982      -4.943\n",
       "total_rech_amt_7         -10.0925      7.066     -1.428      0.153     -23.941       3.756\n",
       "total_rech_amt_8          -0.4100      0.075     -5.436      0.000      -0.558      -0.262\n",
       "max_rech_amt_6            -0.1081      0.033     -3.259      0.001      -0.173      -0.043\n",
       "max_rech_amt_7             0.0403      0.035      1.162      0.245      -0.028       0.108\n",
       "max_rech_amt_8             0.1890      0.035      5.404      0.000       0.120       0.257\n",
       "last_day_rch_amt_6        -0.0554      0.024     -2.296      0.022      -0.103      -0.008\n",
       "last_day_rch_amt_7        -0.1213      0.024     -5.074      0.000      -0.168      -0.074\n",
       "last_day_rch_amt_8        -0.6576      0.026    -25.105      0.000      -0.709      -0.606\n",
       "total_rech_data_6         -0.0681      0.107     -0.635      0.526      -0.278       0.142\n",
       "total_rech_data_7         -0.0673      0.121     -0.556      0.578      -0.304       0.170\n",
       "total_rech_data_8         -0.3890      0.137     -2.845      0.004      -0.657      -0.121\n",
       "max_rech_data_6            0.1319      0.099      1.326      0.185      -0.063       0.327\n",
       "max_rech_data_7           -0.2893      0.100     -2.891      0.004      -0.485      -0.093\n",
       "max_rech_data_8           -0.1081      0.127     -0.853      0.394      -0.357       0.140\n",
       "count_rech_2g_6           -0.1683      0.210     -0.803      0.422      -0.579       0.242\n",
       "count_rech_2g_7           -0.9361      0.252     -3.710      0.000      -1.431      -0.442\n",
       "count_rech_2g_8           -0.1107      0.432     -0.256      0.798      -0.957       0.736\n",
       "count_rech_3g_6           -0.0527      0.109     -0.483      0.629      -0.266       0.161\n",
       "count_rech_3g_7           -0.2834      0.112     -2.528      0.011      -0.503      -0.064\n",
       "count_rech_3g_8            0.3977      0.146      2.721      0.007       0.111       0.684\n",
       "av_rech_amt_data_6        -0.0928      0.085     -1.095      0.274      -0.259       0.073\n",
       "av_rech_amt_data_7         0.2118      0.090      2.366      0.018       0.036       0.387\n",
       "av_rech_amt_data_8        -0.3210      0.104     -3.090      0.002      -0.525      -0.117\n",
       "vol_2g_mb_6                0.0540      0.032      1.693      0.090      -0.009       0.116\n",
       "vol_2g_mb_7                0.0729      0.034      2.135      0.033       0.006       0.140\n",
       "vol_2g_mb_8               -0.2346      0.038     -6.218      0.000      -0.309      -0.161\n",
       "vol_3g_mb_6                0.0808      0.048      1.678      0.093      -0.014       0.175\n",
       "vol_3g_mb_7                0.1235      0.051      2.417      0.016       0.023       0.224\n",
       "vol_3g_mb_8               -0.1987      0.056     -3.557      0.000      -0.308      -0.089\n",
       "night_pck_user_6           0.0385      0.078      0.491      0.624      -0.115       0.192\n",
       "night_pck_user_7          -0.1078      0.084     -1.288      0.198      -0.272       0.056\n",
       "night_pck_user_8           0.1184      0.080      1.490      0.136      -0.037       0.274\n",
       "monthly_2g_6              -0.0905      0.073     -1.246      0.213      -0.233       0.052\n",
       "monthly_2g_7               0.2215      0.078      2.846      0.004       0.069       0.374\n",
       "monthly_2g_8              -0.0322      0.121     -0.266      0.790      -0.269       0.205\n",
       "sachet_2g_6                0.1502      0.184      0.819      0.413      -0.210       0.510\n",
       "sachet_2g_7                0.7645      0.226      3.377      0.001       0.321       1.208\n",
       "sachet_2g_8                0.4107      0.402      1.022      0.307      -0.377       1.198\n",
       "monthly_3g_6              -0.0246      0.087     -0.284      0.777      -0.194       0.145\n",
       "monthly_3g_7               0.3376      0.087      3.876      0.000       0.167       0.508\n",
       "monthly_3g_8              -0.2485      0.125     -1.995      0.046      -0.493      -0.004\n",
       "sachet_3g_6               -0.0633      0.059     -1.069      0.285      -0.179       0.053\n",
       "sachet_3g_7                0.2500      0.061      4.105      0.000       0.131       0.369\n",
       "sachet_3g_8               -0.2232      0.083     -2.679      0.007      -0.386      -0.060\n",
       "fb_user_6                  0.0233      0.090      0.259      0.796      -0.153       0.200\n",
       "fb_user_7                  0.1992      0.095      2.097      0.036       0.013       0.386\n",
       "fb_user_8                 -0.2206      0.095     -2.328      0.020      -0.406      -0.035\n",
       "aon                       -0.3559      0.021    -16.767      0.000      -0.398      -0.314\n",
       "aug_vbc_3g                -0.2157      0.042     -5.075      0.000      -0.299      -0.132\n",
       "jul_vbc_3g                 0.0331      0.042      0.785      0.433      -0.050       0.116\n",
       "jun_vbc_3g                 0.0604      0.038      1.588      0.112      -0.014       0.135\n",
       "tot_monthly_recharge_6    18.9461      7.156      2.647      0.008       4.920      32.972\n",
       "tot_monthly_recharge_7     9.9012      7.068      1.401      0.161      -3.952      23.754\n",
       "average_recharge_6_7       0.0930      0.130      0.716      0.474      -0.162       0.348\n",
       "==========================================================================================\n",
       "\"\"\""
      ]
     },
     "execution_count": 93,
     "metadata": {},
     "output_type": "execute_result"
    }
   ],
   "source": [
    "# Logistic regression model\n",
    "logm1 = sm.GLM(y_train,(sm.add_constant(X_train)), family = sm.families.Binomial())\n",
    "logm1.fit().summary()"
   ]
  },
  {
   "cell_type": "code",
   "execution_count": 94,
   "metadata": {},
   "outputs": [],
   "source": [
    "logistic1 = LogisticRegression()\n",
    "rfe_logistic = RFE(logistic1, 70)\n",
    "rfe_logistic = rfe_logistic.fit(X_train, y_train)"
   ]
  },
  {
   "cell_type": "code",
   "execution_count": 95,
   "metadata": {
    "scrolled": true
   },
   "outputs": [
    {
     "name": "stdout",
     "output_type": "stream",
     "text": [
      "Index(['arpu_6', 'arpu_7', 'arpu_8', 'onnet_mou_6', 'offnet_mou_7',\n",
      "       'roam_og_mou_8', 'loc_og_t2t_mou_7', 'loc_og_t2t_mou_8',\n",
      "       'loc_og_t2m_mou_8', 'loc_og_t2f_mou_7', 'loc_og_t2f_mou_8',\n",
      "       'loc_og_mou_7', 'loc_og_mou_8', 'std_og_t2t_mou_6', 'std_og_t2t_mou_8',\n",
      "       'std_og_t2m_mou_8', 'std_og_mou_6', 'std_og_mou_7', 'std_og_mou_8',\n",
      "       'total_og_mou_6', 'total_og_mou_7', 'total_og_mou_8',\n",
      "       'loc_ic_t2t_mou_6', 'loc_ic_t2t_mou_8', 'loc_ic_t2m_mou_6',\n",
      "       'loc_ic_t2m_mou_7', 'loc_ic_t2m_mou_8', 'loc_ic_t2f_mou_8',\n",
      "       'loc_ic_mou_6', 'loc_ic_mou_7', 'loc_ic_mou_8', 'std_ic_t2t_mou_8',\n",
      "       'std_ic_t2m_mou_7', 'std_ic_t2m_mou_8', 'std_ic_t2f_mou_8',\n",
      "       'std_ic_mou_8', 'total_ic_mou_7', 'total_ic_mou_8', 'spl_ic_mou_8',\n",
      "       'isd_ic_mou_8', 'total_rech_num_7', 'total_rech_num_8',\n",
      "       'total_rech_amt_6', 'total_rech_amt_7', 'total_rech_amt_8',\n",
      "       'last_day_rch_amt_8', 'total_rech_data_8', 'max_rech_data_7',\n",
      "       'max_rech_data_8', 'count_rech_2g_6', 'count_rech_2g_7',\n",
      "       'count_rech_3g_7', 'count_rech_3g_8', 'av_rech_amt_data_7',\n",
      "       'av_rech_amt_data_8', 'vol_2g_mb_8', 'vol_3g_mb_8', 'night_pck_user_7',\n",
      "       'night_pck_user_8', 'sachet_2g_6', 'sachet_2g_7', 'sachet_2g_8',\n",
      "       'monthly_3g_7', 'monthly_3g_8', 'sachet_3g_7', 'sachet_3g_8',\n",
      "       'fb_user_7', 'fb_user_8', 'aon', 'average_recharge_6_7'],\n",
      "      dtype='object')\n"
     ]
    }
   ],
   "source": [
    "col = X_train.columns[rfe_logistic.support_]\n",
    "print(col)"
   ]
  },
  {
   "cell_type": "code",
   "execution_count": 96,
   "metadata": {
    "scrolled": true
   },
   "outputs": [
    {
     "data": {
      "text/html": [
       "<table class=\"simpletable\">\n",
       "<caption>Generalized Linear Model Regression Results</caption>\n",
       "<tr>\n",
       "  <th>Dep. Variable:</th>           <td>y</td>        <th>  No. Observations:  </th>  <td> 38400</td> \n",
       "</tr>\n",
       "<tr>\n",
       "  <th>Model:</th>                  <td>GLM</td>       <th>  Df Residuals:      </th>  <td> 38329</td> \n",
       "</tr>\n",
       "<tr>\n",
       "  <th>Model Family:</th>        <td>Binomial</td>     <th>  Df Model:          </th>  <td>    70</td> \n",
       "</tr>\n",
       "<tr>\n",
       "  <th>Link Function:</th>         <td>logit</td>      <th>  Scale:             </th> <td>  1.0000</td>\n",
       "</tr>\n",
       "<tr>\n",
       "  <th>Method:</th>                <td>IRLS</td>       <th>  Log-Likelihood:    </th> <td> -13628.</td>\n",
       "</tr>\n",
       "<tr>\n",
       "  <th>Date:</th>            <td>Tue, 01 Sep 2020</td> <th>  Deviance:          </th> <td>  27255.</td>\n",
       "</tr>\n",
       "<tr>\n",
       "  <th>Time:</th>                <td>10:49:10</td>     <th>  Pearson chi2:      </th> <td>1.87e+05</td>\n",
       "</tr>\n",
       "<tr>\n",
       "  <th>No. Iterations:</th>          <td>7</td>        <th>                     </th>     <td> </td>   \n",
       "</tr>\n",
       "<tr>\n",
       "  <th>Covariance Type:</th>     <td>nonrobust</td>    <th>                     </th>     <td> </td>   \n",
       "</tr>\n",
       "</table>\n",
       "<table class=\"simpletable\">\n",
       "<tr>\n",
       "            <td></td>              <th>coef</th>     <th>std err</th>      <th>z</th>      <th>P>|z|</th>  <th>[0.025</th>    <th>0.975]</th>  \n",
       "</tr>\n",
       "<tr>\n",
       "  <th>const</th>                <td>   -1.9382</td> <td>    0.028</td> <td>  -70.127</td> <td> 0.000</td> <td>   -1.992</td> <td>   -1.884</td>\n",
       "</tr>\n",
       "<tr>\n",
       "  <th>arpu_6</th>               <td>    0.1787</td> <td>    0.051</td> <td>    3.504</td> <td> 0.000</td> <td>    0.079</td> <td>    0.279</td>\n",
       "</tr>\n",
       "<tr>\n",
       "  <th>arpu_7</th>               <td>    0.3623</td> <td>    0.055</td> <td>    6.643</td> <td> 0.000</td> <td>    0.255</td> <td>    0.469</td>\n",
       "</tr>\n",
       "<tr>\n",
       "  <th>arpu_8</th>               <td>    0.4212</td> <td>    0.065</td> <td>    6.453</td> <td> 0.000</td> <td>    0.293</td> <td>    0.549</td>\n",
       "</tr>\n",
       "<tr>\n",
       "  <th>onnet_mou_6</th>          <td>    0.3200</td> <td>    0.062</td> <td>    5.194</td> <td> 0.000</td> <td>    0.199</td> <td>    0.441</td>\n",
       "</tr>\n",
       "<tr>\n",
       "  <th>offnet_mou_7</th>         <td>    0.2494</td> <td>    0.041</td> <td>    6.106</td> <td> 0.000</td> <td>    0.169</td> <td>    0.329</td>\n",
       "</tr>\n",
       "<tr>\n",
       "  <th>roam_og_mou_8</th>        <td>    0.1954</td> <td>    0.016</td> <td>   11.880</td> <td> 0.000</td> <td>    0.163</td> <td>    0.228</td>\n",
       "</tr>\n",
       "<tr>\n",
       "  <th>loc_og_t2t_mou_7</th>     <td>    0.2119</td> <td>    0.056</td> <td>    3.762</td> <td> 0.000</td> <td>    0.101</td> <td>    0.322</td>\n",
       "</tr>\n",
       "<tr>\n",
       "  <th>loc_og_t2t_mou_8</th>     <td>   -1.1417</td> <td>    0.099</td> <td>  -11.536</td> <td> 0.000</td> <td>   -1.336</td> <td>   -0.948</td>\n",
       "</tr>\n",
       "<tr>\n",
       "  <th>loc_og_t2m_mou_8</th>     <td>   -1.4383</td> <td>    0.117</td> <td>  -12.275</td> <td> 0.000</td> <td>   -1.668</td> <td>   -1.209</td>\n",
       "</tr>\n",
       "<tr>\n",
       "  <th>loc_og_t2f_mou_7</th>     <td>   -0.1539</td> <td>    0.036</td> <td>   -4.276</td> <td> 0.000</td> <td>   -0.224</td> <td>   -0.083</td>\n",
       "</tr>\n",
       "<tr>\n",
       "  <th>loc_og_t2f_mou_8</th>     <td>   -0.1555</td> <td>    0.040</td> <td>   -3.933</td> <td> 0.000</td> <td>   -0.233</td> <td>   -0.078</td>\n",
       "</tr>\n",
       "<tr>\n",
       "  <th>loc_og_mou_7</th>         <td>   -0.4765</td> <td>    0.089</td> <td>   -5.382</td> <td> 0.000</td> <td>   -0.650</td> <td>   -0.303</td>\n",
       "</tr>\n",
       "<tr>\n",
       "  <th>loc_og_mou_8</th>         <td>    2.6326</td> <td>    0.196</td> <td>   13.464</td> <td> 0.000</td> <td>    2.249</td> <td>    3.016</td>\n",
       "</tr>\n",
       "<tr>\n",
       "  <th>std_og_t2t_mou_6</th>     <td>   -0.1837</td> <td>    0.063</td> <td>   -2.915</td> <td> 0.004</td> <td>   -0.307</td> <td>   -0.060</td>\n",
       "</tr>\n",
       "<tr>\n",
       "  <th>std_og_t2t_mou_8</th>     <td>   -0.7812</td> <td>    0.066</td> <td>  -11.868</td> <td> 0.000</td> <td>   -0.910</td> <td>   -0.652</td>\n",
       "</tr>\n",
       "<tr>\n",
       "  <th>std_og_t2m_mou_8</th>     <td>   -0.8522</td> <td>    0.067</td> <td>  -12.640</td> <td> 0.000</td> <td>   -0.984</td> <td>   -0.720</td>\n",
       "</tr>\n",
       "<tr>\n",
       "  <th>std_og_mou_6</th>         <td>    0.3395</td> <td>    0.067</td> <td>    5.080</td> <td> 0.000</td> <td>    0.209</td> <td>    0.471</td>\n",
       "</tr>\n",
       "<tr>\n",
       "  <th>std_og_mou_7</th>         <td>   -0.4079</td> <td>    0.127</td> <td>   -3.223</td> <td> 0.001</td> <td>   -0.656</td> <td>   -0.160</td>\n",
       "</tr>\n",
       "<tr>\n",
       "  <th>std_og_mou_8</th>         <td>    2.7126</td> <td>    0.215</td> <td>   12.629</td> <td> 0.000</td> <td>    2.292</td> <td>    3.134</td>\n",
       "</tr>\n",
       "<tr>\n",
       "  <th>total_og_mou_6</th>       <td>   -0.3718</td> <td>    0.066</td> <td>   -5.674</td> <td> 0.000</td> <td>   -0.500</td> <td>   -0.243</td>\n",
       "</tr>\n",
       "<tr>\n",
       "  <th>total_og_mou_7</th>       <td>    0.5261</td> <td>    0.131</td> <td>    4.012</td> <td> 0.000</td> <td>    0.269</td> <td>    0.783</td>\n",
       "</tr>\n",
       "<tr>\n",
       "  <th>total_og_mou_8</th>       <td>   -2.4117</td> <td>    0.191</td> <td>  -12.626</td> <td> 0.000</td> <td>   -2.786</td> <td>   -2.037</td>\n",
       "</tr>\n",
       "<tr>\n",
       "  <th>loc_ic_t2t_mou_6</th>     <td>    0.3315</td> <td>    0.056</td> <td>    5.923</td> <td> 0.000</td> <td>    0.222</td> <td>    0.441</td>\n",
       "</tr>\n",
       "<tr>\n",
       "  <th>loc_ic_t2t_mou_8</th>     <td>   -0.7413</td> <td>    0.077</td> <td>   -9.635</td> <td> 0.000</td> <td>   -0.892</td> <td>   -0.590</td>\n",
       "</tr>\n",
       "<tr>\n",
       "  <th>loc_ic_t2m_mou_6</th>     <td>    0.4764</td> <td>    0.095</td> <td>    5.034</td> <td> 0.000</td> <td>    0.291</td> <td>    0.662</td>\n",
       "</tr>\n",
       "<tr>\n",
       "  <th>loc_ic_t2m_mou_7</th>     <td>    0.2511</td> <td>    0.084</td> <td>    3.003</td> <td> 0.003</td> <td>    0.087</td> <td>    0.415</td>\n",
       "</tr>\n",
       "<tr>\n",
       "  <th>loc_ic_t2m_mou_8</th>     <td>   -1.5505</td> <td>    0.125</td> <td>  -12.379</td> <td> 0.000</td> <td>   -1.796</td> <td>   -1.305</td>\n",
       "</tr>\n",
       "<tr>\n",
       "  <th>loc_ic_t2f_mou_8</th>     <td>   -0.3492</td> <td>    0.040</td> <td>   -8.821</td> <td> 0.000</td> <td>   -0.427</td> <td>   -0.272</td>\n",
       "</tr>\n",
       "<tr>\n",
       "  <th>loc_ic_mou_6</th>         <td>   -0.4372</td> <td>    0.121</td> <td>   -3.614</td> <td> 0.000</td> <td>   -0.674</td> <td>   -0.200</td>\n",
       "</tr>\n",
       "<tr>\n",
       "  <th>loc_ic_mou_7</th>         <td>   -0.4819</td> <td>    0.112</td> <td>   -4.300</td> <td> 0.000</td> <td>   -0.702</td> <td>   -0.262</td>\n",
       "</tr>\n",
       "<tr>\n",
       "  <th>loc_ic_mou_8</th>         <td>    4.1706</td> <td>    0.202</td> <td>   20.600</td> <td> 0.000</td> <td>    3.774</td> <td>    4.567</td>\n",
       "</tr>\n",
       "<tr>\n",
       "  <th>std_ic_t2t_mou_8</th>     <td>   -0.4544</td> <td>    0.059</td> <td>   -7.710</td> <td> 0.000</td> <td>   -0.570</td> <td>   -0.339</td>\n",
       "</tr>\n",
       "<tr>\n",
       "  <th>std_ic_t2m_mou_7</th>     <td>   -0.1740</td> <td>    0.034</td> <td>   -5.180</td> <td> 0.000</td> <td>   -0.240</td> <td>   -0.108</td>\n",
       "</tr>\n",
       "<tr>\n",
       "  <th>std_ic_t2m_mou_8</th>     <td>   -0.4535</td> <td>    0.092</td> <td>   -4.953</td> <td> 0.000</td> <td>   -0.633</td> <td>   -0.274</td>\n",
       "</tr>\n",
       "<tr>\n",
       "  <th>std_ic_t2f_mou_8</th>     <td>   -0.2043</td> <td>    0.031</td> <td>   -6.526</td> <td> 0.000</td> <td>   -0.266</td> <td>   -0.143</td>\n",
       "</tr>\n",
       "<tr>\n",
       "  <th>std_ic_mou_8</th>         <td>    1.5651</td> <td>    0.128</td> <td>   12.249</td> <td> 0.000</td> <td>    1.315</td> <td>    1.816</td>\n",
       "</tr>\n",
       "<tr>\n",
       "  <th>total_ic_mou_7</th>       <td>    0.6408</td> <td>    0.083</td> <td>    7.737</td> <td> 0.000</td> <td>    0.478</td> <td>    0.803</td>\n",
       "</tr>\n",
       "<tr>\n",
       "  <th>total_ic_mou_8</th>       <td>   -3.7062</td> <td>    0.160</td> <td>  -23.111</td> <td> 0.000</td> <td>   -4.020</td> <td>   -3.392</td>\n",
       "</tr>\n",
       "<tr>\n",
       "  <th>spl_ic_mou_8</th>         <td>   -0.5284</td> <td>    0.028</td> <td>  -18.764</td> <td> 0.000</td> <td>   -0.584</td> <td>   -0.473</td>\n",
       "</tr>\n",
       "<tr>\n",
       "  <th>isd_ic_mou_8</th>         <td>    0.4207</td> <td>    0.028</td> <td>   14.912</td> <td> 0.000</td> <td>    0.365</td> <td>    0.476</td>\n",
       "</tr>\n",
       "<tr>\n",
       "  <th>total_rech_num_7</th>     <td>    0.1822</td> <td>    0.030</td> <td>    6.106</td> <td> 0.000</td> <td>    0.124</td> <td>    0.241</td>\n",
       "</tr>\n",
       "<tr>\n",
       "  <th>total_rech_num_8</th>     <td>   -0.6658</td> <td>    0.036</td> <td>  -18.336</td> <td> 0.000</td> <td>   -0.737</td> <td>   -0.595</td>\n",
       "</tr>\n",
       "<tr>\n",
       "  <th>total_rech_amt_6</th>     <td>   -0.1766</td> <td>    0.089</td> <td>   -1.974</td> <td> 0.048</td> <td>   -0.352</td> <td>   -0.001</td>\n",
       "</tr>\n",
       "<tr>\n",
       "  <th>total_rech_amt_7</th>     <td>   -0.2420</td> <td>    0.087</td> <td>   -2.784</td> <td> 0.005</td> <td>   -0.412</td> <td>   -0.072</td>\n",
       "</tr>\n",
       "<tr>\n",
       "  <th>total_rech_amt_8</th>     <td>   -0.1678</td> <td>    0.063</td> <td>   -2.650</td> <td> 0.008</td> <td>   -0.292</td> <td>   -0.044</td>\n",
       "</tr>\n",
       "<tr>\n",
       "  <th>last_day_rch_amt_8</th>   <td>   -0.6386</td> <td>    0.025</td> <td>  -25.759</td> <td> 0.000</td> <td>   -0.687</td> <td>   -0.590</td>\n",
       "</tr>\n",
       "<tr>\n",
       "  <th>total_rech_data_8</th>    <td>   -0.4505</td> <td>    0.104</td> <td>   -4.322</td> <td> 0.000</td> <td>   -0.655</td> <td>   -0.246</td>\n",
       "</tr>\n",
       "<tr>\n",
       "  <th>max_rech_data_7</th>      <td>   -0.1709</td> <td>    0.084</td> <td>   -2.032</td> <td> 0.042</td> <td>   -0.336</td> <td>   -0.006</td>\n",
       "</tr>\n",
       "<tr>\n",
       "  <th>max_rech_data_8</th>      <td>   -0.1593</td> <td>    0.103</td> <td>   -1.549</td> <td> 0.121</td> <td>   -0.361</td> <td>    0.042</td>\n",
       "</tr>\n",
       "<tr>\n",
       "  <th>count_rech_2g_6</th>      <td>   -0.1714</td> <td>    0.072</td> <td>   -2.369</td> <td> 0.018</td> <td>   -0.313</td> <td>   -0.030</td>\n",
       "</tr>\n",
       "<tr>\n",
       "  <th>count_rech_2g_7</th>      <td>   -0.4745</td> <td>    0.119</td> <td>   -3.976</td> <td> 0.000</td> <td>   -0.708</td> <td>   -0.241</td>\n",
       "</tr>\n",
       "<tr>\n",
       "  <th>count_rech_3g_7</th>      <td>   -0.2660</td> <td>    0.095</td> <td>   -2.811</td> <td> 0.005</td> <td>   -0.451</td> <td>   -0.081</td>\n",
       "</tr>\n",
       "<tr>\n",
       "  <th>count_rech_3g_8</th>      <td>    0.3712</td> <td>    0.134</td> <td>    2.766</td> <td> 0.006</td> <td>    0.108</td> <td>    0.634</td>\n",
       "</tr>\n",
       "<tr>\n",
       "  <th>av_rech_amt_data_7</th>   <td>    0.3245</td> <td>    0.075</td> <td>    4.330</td> <td> 0.000</td> <td>    0.178</td> <td>    0.471</td>\n",
       "</tr>\n",
       "<tr>\n",
       "  <th>av_rech_amt_data_8</th>   <td>   -0.2843</td> <td>    0.098</td> <td>   -2.909</td> <td> 0.004</td> <td>   -0.476</td> <td>   -0.093</td>\n",
       "</tr>\n",
       "<tr>\n",
       "  <th>vol_2g_mb_8</th>          <td>   -0.1901</td> <td>    0.032</td> <td>   -5.987</td> <td> 0.000</td> <td>   -0.252</td> <td>   -0.128</td>\n",
       "</tr>\n",
       "<tr>\n",
       "  <th>vol_3g_mb_8</th>          <td>   -0.2114</td> <td>    0.047</td> <td>   -4.538</td> <td> 0.000</td> <td>   -0.303</td> <td>   -0.120</td>\n",
       "</tr>\n",
       "<tr>\n",
       "  <th>night_pck_user_7</th>     <td>   -0.1356</td> <td>    0.076</td> <td>   -1.778</td> <td> 0.075</td> <td>   -0.285</td> <td>    0.014</td>\n",
       "</tr>\n",
       "<tr>\n",
       "  <th>night_pck_user_8</th>     <td>    0.1785</td> <td>    0.076</td> <td>    2.349</td> <td> 0.019</td> <td>    0.030</td> <td>    0.327</td>\n",
       "</tr>\n",
       "<tr>\n",
       "  <th>sachet_2g_6</th>          <td>    0.1941</td> <td>    0.071</td> <td>    2.732</td> <td> 0.006</td> <td>    0.055</td> <td>    0.333</td>\n",
       "</tr>\n",
       "<tr>\n",
       "  <th>sachet_2g_7</th>          <td>    0.3116</td> <td>    0.109</td> <td>    2.847</td> <td> 0.004</td> <td>    0.097</td> <td>    0.526</td>\n",
       "</tr>\n",
       "<tr>\n",
       "  <th>sachet_2g_8</th>          <td>    0.3598</td> <td>    0.086</td> <td>    4.203</td> <td> 0.000</td> <td>    0.192</td> <td>    0.528</td>\n",
       "</tr>\n",
       "<tr>\n",
       "  <th>monthly_3g_7</th>         <td>    0.2354</td> <td>    0.078</td> <td>    3.016</td> <td> 0.003</td> <td>    0.082</td> <td>    0.388</td>\n",
       "</tr>\n",
       "<tr>\n",
       "  <th>monthly_3g_8</th>         <td>   -0.1775</td> <td>    0.102</td> <td>   -1.744</td> <td> 0.081</td> <td>   -0.377</td> <td>    0.022</td>\n",
       "</tr>\n",
       "<tr>\n",
       "  <th>sachet_3g_7</th>          <td>    0.1990</td> <td>    0.056</td> <td>    3.570</td> <td> 0.000</td> <td>    0.090</td> <td>    0.308</td>\n",
       "</tr>\n",
       "<tr>\n",
       "  <th>sachet_3g_8</th>          <td>   -0.1848</td> <td>    0.077</td> <td>   -2.411</td> <td> 0.016</td> <td>   -0.335</td> <td>   -0.035</td>\n",
       "</tr>\n",
       "<tr>\n",
       "  <th>fb_user_7</th>            <td>    0.2166</td> <td>    0.087</td> <td>    2.503</td> <td> 0.012</td> <td>    0.047</td> <td>    0.386</td>\n",
       "</tr>\n",
       "<tr>\n",
       "  <th>fb_user_8</th>            <td>   -0.2845</td> <td>    0.091</td> <td>   -3.127</td> <td> 0.002</td> <td>   -0.463</td> <td>   -0.106</td>\n",
       "</tr>\n",
       "<tr>\n",
       "  <th>aon</th>                  <td>   -0.3533</td> <td>    0.020</td> <td>  -17.343</td> <td> 0.000</td> <td>   -0.393</td> <td>   -0.313</td>\n",
       "</tr>\n",
       "<tr>\n",
       "  <th>average_recharge_6_7</th> <td>    0.1682</td> <td>    0.124</td> <td>    1.354</td> <td> 0.176</td> <td>   -0.075</td> <td>    0.412</td>\n",
       "</tr>\n",
       "</table>"
      ],
      "text/plain": [
       "<class 'statsmodels.iolib.summary.Summary'>\n",
       "\"\"\"\n",
       "                 Generalized Linear Model Regression Results                  \n",
       "==============================================================================\n",
       "Dep. Variable:                      y   No. Observations:                38400\n",
       "Model:                            GLM   Df Residuals:                    38329\n",
       "Model Family:                Binomial   Df Model:                           70\n",
       "Link Function:                  logit   Scale:                          1.0000\n",
       "Method:                          IRLS   Log-Likelihood:                -13628.\n",
       "Date:                Tue, 01 Sep 2020   Deviance:                       27255.\n",
       "Time:                        10:49:10   Pearson chi2:                 1.87e+05\n",
       "No. Iterations:                     7                                         \n",
       "Covariance Type:            nonrobust                                         \n",
       "========================================================================================\n",
       "                           coef    std err          z      P>|z|      [0.025      0.975]\n",
       "----------------------------------------------------------------------------------------\n",
       "const                   -1.9382      0.028    -70.127      0.000      -1.992      -1.884\n",
       "arpu_6                   0.1787      0.051      3.504      0.000       0.079       0.279\n",
       "arpu_7                   0.3623      0.055      6.643      0.000       0.255       0.469\n",
       "arpu_8                   0.4212      0.065      6.453      0.000       0.293       0.549\n",
       "onnet_mou_6              0.3200      0.062      5.194      0.000       0.199       0.441\n",
       "offnet_mou_7             0.2494      0.041      6.106      0.000       0.169       0.329\n",
       "roam_og_mou_8            0.1954      0.016     11.880      0.000       0.163       0.228\n",
       "loc_og_t2t_mou_7         0.2119      0.056      3.762      0.000       0.101       0.322\n",
       "loc_og_t2t_mou_8        -1.1417      0.099    -11.536      0.000      -1.336      -0.948\n",
       "loc_og_t2m_mou_8        -1.4383      0.117    -12.275      0.000      -1.668      -1.209\n",
       "loc_og_t2f_mou_7        -0.1539      0.036     -4.276      0.000      -0.224      -0.083\n",
       "loc_og_t2f_mou_8        -0.1555      0.040     -3.933      0.000      -0.233      -0.078\n",
       "loc_og_mou_7            -0.4765      0.089     -5.382      0.000      -0.650      -0.303\n",
       "loc_og_mou_8             2.6326      0.196     13.464      0.000       2.249       3.016\n",
       "std_og_t2t_mou_6        -0.1837      0.063     -2.915      0.004      -0.307      -0.060\n",
       "std_og_t2t_mou_8        -0.7812      0.066    -11.868      0.000      -0.910      -0.652\n",
       "std_og_t2m_mou_8        -0.8522      0.067    -12.640      0.000      -0.984      -0.720\n",
       "std_og_mou_6             0.3395      0.067      5.080      0.000       0.209       0.471\n",
       "std_og_mou_7            -0.4079      0.127     -3.223      0.001      -0.656      -0.160\n",
       "std_og_mou_8             2.7126      0.215     12.629      0.000       2.292       3.134\n",
       "total_og_mou_6          -0.3718      0.066     -5.674      0.000      -0.500      -0.243\n",
       "total_og_mou_7           0.5261      0.131      4.012      0.000       0.269       0.783\n",
       "total_og_mou_8          -2.4117      0.191    -12.626      0.000      -2.786      -2.037\n",
       "loc_ic_t2t_mou_6         0.3315      0.056      5.923      0.000       0.222       0.441\n",
       "loc_ic_t2t_mou_8        -0.7413      0.077     -9.635      0.000      -0.892      -0.590\n",
       "loc_ic_t2m_mou_6         0.4764      0.095      5.034      0.000       0.291       0.662\n",
       "loc_ic_t2m_mou_7         0.2511      0.084      3.003      0.003       0.087       0.415\n",
       "loc_ic_t2m_mou_8        -1.5505      0.125    -12.379      0.000      -1.796      -1.305\n",
       "loc_ic_t2f_mou_8        -0.3492      0.040     -8.821      0.000      -0.427      -0.272\n",
       "loc_ic_mou_6            -0.4372      0.121     -3.614      0.000      -0.674      -0.200\n",
       "loc_ic_mou_7            -0.4819      0.112     -4.300      0.000      -0.702      -0.262\n",
       "loc_ic_mou_8             4.1706      0.202     20.600      0.000       3.774       4.567\n",
       "std_ic_t2t_mou_8        -0.4544      0.059     -7.710      0.000      -0.570      -0.339\n",
       "std_ic_t2m_mou_7        -0.1740      0.034     -5.180      0.000      -0.240      -0.108\n",
       "std_ic_t2m_mou_8        -0.4535      0.092     -4.953      0.000      -0.633      -0.274\n",
       "std_ic_t2f_mou_8        -0.2043      0.031     -6.526      0.000      -0.266      -0.143\n",
       "std_ic_mou_8             1.5651      0.128     12.249      0.000       1.315       1.816\n",
       "total_ic_mou_7           0.6408      0.083      7.737      0.000       0.478       0.803\n",
       "total_ic_mou_8          -3.7062      0.160    -23.111      0.000      -4.020      -3.392\n",
       "spl_ic_mou_8            -0.5284      0.028    -18.764      0.000      -0.584      -0.473\n",
       "isd_ic_mou_8             0.4207      0.028     14.912      0.000       0.365       0.476\n",
       "total_rech_num_7         0.1822      0.030      6.106      0.000       0.124       0.241\n",
       "total_rech_num_8        -0.6658      0.036    -18.336      0.000      -0.737      -0.595\n",
       "total_rech_amt_6        -0.1766      0.089     -1.974      0.048      -0.352      -0.001\n",
       "total_rech_amt_7        -0.2420      0.087     -2.784      0.005      -0.412      -0.072\n",
       "total_rech_amt_8        -0.1678      0.063     -2.650      0.008      -0.292      -0.044\n",
       "last_day_rch_amt_8      -0.6386      0.025    -25.759      0.000      -0.687      -0.590\n",
       "total_rech_data_8       -0.4505      0.104     -4.322      0.000      -0.655      -0.246\n",
       "max_rech_data_7         -0.1709      0.084     -2.032      0.042      -0.336      -0.006\n",
       "max_rech_data_8         -0.1593      0.103     -1.549      0.121      -0.361       0.042\n",
       "count_rech_2g_6         -0.1714      0.072     -2.369      0.018      -0.313      -0.030\n",
       "count_rech_2g_7         -0.4745      0.119     -3.976      0.000      -0.708      -0.241\n",
       "count_rech_3g_7         -0.2660      0.095     -2.811      0.005      -0.451      -0.081\n",
       "count_rech_3g_8          0.3712      0.134      2.766      0.006       0.108       0.634\n",
       "av_rech_amt_data_7       0.3245      0.075      4.330      0.000       0.178       0.471\n",
       "av_rech_amt_data_8      -0.2843      0.098     -2.909      0.004      -0.476      -0.093\n",
       "vol_2g_mb_8             -0.1901      0.032     -5.987      0.000      -0.252      -0.128\n",
       "vol_3g_mb_8             -0.2114      0.047     -4.538      0.000      -0.303      -0.120\n",
       "night_pck_user_7        -0.1356      0.076     -1.778      0.075      -0.285       0.014\n",
       "night_pck_user_8         0.1785      0.076      2.349      0.019       0.030       0.327\n",
       "sachet_2g_6              0.1941      0.071      2.732      0.006       0.055       0.333\n",
       "sachet_2g_7              0.3116      0.109      2.847      0.004       0.097       0.526\n",
       "sachet_2g_8              0.3598      0.086      4.203      0.000       0.192       0.528\n",
       "monthly_3g_7             0.2354      0.078      3.016      0.003       0.082       0.388\n",
       "monthly_3g_8            -0.1775      0.102     -1.744      0.081      -0.377       0.022\n",
       "sachet_3g_7              0.1990      0.056      3.570      0.000       0.090       0.308\n",
       "sachet_3g_8             -0.1848      0.077     -2.411      0.016      -0.335      -0.035\n",
       "fb_user_7                0.2166      0.087      2.503      0.012       0.047       0.386\n",
       "fb_user_8               -0.2845      0.091     -3.127      0.002      -0.463      -0.106\n",
       "aon                     -0.3533      0.020    -17.343      0.000      -0.393      -0.313\n",
       "average_recharge_6_7     0.1682      0.124      1.354      0.176      -0.075       0.412\n",
       "========================================================================================\n",
       "\"\"\""
      ]
     },
     "execution_count": 96,
     "metadata": {},
     "output_type": "execute_result"
    }
   ],
   "source": [
    "X_train_sm = sm.add_constant(X_train[col])\n",
    "logistic2 = sm.GLM(y_train, X_train_sm, family = sm.families.Binomial())\n",
    "model2 = logistic2.fit()\n",
    "model2.summary()"
   ]
  },
  {
   "cell_type": "code",
   "execution_count": 97,
   "metadata": {},
   "outputs": [],
   "source": [
    "logistic2 = LogisticRegression()\n",
    "rfe_logistic2 = RFE(logistic2, 50)\n",
    "rfe_logistic2 = rfe_logistic2.fit(X_train, y_train)"
   ]
  },
  {
   "cell_type": "code",
   "execution_count": 98,
   "metadata": {},
   "outputs": [
    {
     "name": "stdout",
     "output_type": "stream",
     "text": [
      "Index(['arpu_7', 'arpu_8', 'onnet_mou_6', 'offnet_mou_7', 'roam_og_mou_8',\n",
      "       'loc_og_t2t_mou_7', 'loc_og_t2t_mou_8', 'loc_og_t2m_mou_8',\n",
      "       'loc_og_t2f_mou_8', 'loc_og_mou_7', 'loc_og_mou_8', 'std_og_t2t_mou_6',\n",
      "       'std_og_t2t_mou_8', 'std_og_t2m_mou_8', 'std_og_mou_6', 'std_og_mou_7',\n",
      "       'std_og_mou_8', 'total_og_mou_6', 'total_og_mou_7', 'total_og_mou_8',\n",
      "       'loc_ic_t2t_mou_6', 'loc_ic_t2t_mou_8', 'loc_ic_t2m_mou_6',\n",
      "       'loc_ic_t2m_mou_7', 'loc_ic_t2m_mou_8', 'loc_ic_t2f_mou_8',\n",
      "       'loc_ic_mou_6', 'loc_ic_mou_7', 'loc_ic_mou_8', 'std_ic_t2t_mou_8',\n",
      "       'std_ic_t2m_mou_7', 'std_ic_t2m_mou_8', 'std_ic_t2f_mou_8',\n",
      "       'std_ic_mou_8', 'total_ic_mou_7', 'total_ic_mou_8', 'spl_ic_mou_8',\n",
      "       'isd_ic_mou_8', 'total_rech_num_7', 'total_rech_num_8',\n",
      "       'last_day_rch_amt_8', 'total_rech_data_8', 'max_rech_data_8',\n",
      "       'count_rech_2g_7', 'av_rech_amt_data_7', 'vol_2g_mb_8', 'vol_3g_mb_8',\n",
      "       'sachet_2g_7', 'sachet_2g_8', 'aon'],\n",
      "      dtype='object')\n"
     ]
    }
   ],
   "source": [
    "col = X_train.columns[rfe_logistic2.support_]\n",
    "print(col)"
   ]
  },
  {
   "cell_type": "code",
   "execution_count": 99,
   "metadata": {
    "scrolled": true
   },
   "outputs": [
    {
     "data": {
      "text/html": [
       "<table class=\"simpletable\">\n",
       "<caption>Generalized Linear Model Regression Results</caption>\n",
       "<tr>\n",
       "  <th>Dep. Variable:</th>           <td>y</td>        <th>  No. Observations:  </th>  <td> 38400</td> \n",
       "</tr>\n",
       "<tr>\n",
       "  <th>Model:</th>                  <td>GLM</td>       <th>  Df Residuals:      </th>  <td> 38349</td> \n",
       "</tr>\n",
       "<tr>\n",
       "  <th>Model Family:</th>        <td>Binomial</td>     <th>  Df Model:          </th>  <td>    50</td> \n",
       "</tr>\n",
       "<tr>\n",
       "  <th>Link Function:</th>         <td>logit</td>      <th>  Scale:             </th> <td>  1.0000</td>\n",
       "</tr>\n",
       "<tr>\n",
       "  <th>Method:</th>                <td>IRLS</td>       <th>  Log-Likelihood:    </th> <td> -13677.</td>\n",
       "</tr>\n",
       "<tr>\n",
       "  <th>Date:</th>            <td>Tue, 01 Sep 2020</td> <th>  Deviance:          </th> <td>  27354.</td>\n",
       "</tr>\n",
       "<tr>\n",
       "  <th>Time:</th>                <td>10:51:18</td>     <th>  Pearson chi2:      </th> <td>1.91e+05</td>\n",
       "</tr>\n",
       "<tr>\n",
       "  <th>No. Iterations:</th>          <td>7</td>        <th>                     </th>     <td> </td>   \n",
       "</tr>\n",
       "<tr>\n",
       "  <th>Covariance Type:</th>     <td>nonrobust</td>    <th>                     </th>     <td> </td>   \n",
       "</tr>\n",
       "</table>\n",
       "<table class=\"simpletable\">\n",
       "<tr>\n",
       "           <td></td>             <th>coef</th>     <th>std err</th>      <th>z</th>      <th>P>|z|</th>  <th>[0.025</th>    <th>0.975]</th>  \n",
       "</tr>\n",
       "<tr>\n",
       "  <th>const</th>              <td>   -1.9297</td> <td>    0.027</td> <td>  -70.562</td> <td> 0.000</td> <td>   -1.983</td> <td>   -1.876</td>\n",
       "</tr>\n",
       "<tr>\n",
       "  <th>arpu_7</th>             <td>    0.2507</td> <td>    0.032</td> <td>    7.760</td> <td> 0.000</td> <td>    0.187</td> <td>    0.314</td>\n",
       "</tr>\n",
       "<tr>\n",
       "  <th>arpu_8</th>             <td>    0.3243</td> <td>    0.041</td> <td>    7.837</td> <td> 0.000</td> <td>    0.243</td> <td>    0.405</td>\n",
       "</tr>\n",
       "<tr>\n",
       "  <th>onnet_mou_6</th>        <td>    0.3573</td> <td>    0.060</td> <td>    5.923</td> <td> 0.000</td> <td>    0.239</td> <td>    0.476</td>\n",
       "</tr>\n",
       "<tr>\n",
       "  <th>offnet_mou_7</th>       <td>    0.2575</td> <td>    0.041</td> <td>    6.309</td> <td> 0.000</td> <td>    0.178</td> <td>    0.338</td>\n",
       "</tr>\n",
       "<tr>\n",
       "  <th>roam_og_mou_8</th>      <td>    0.1885</td> <td>    0.016</td> <td>   11.626</td> <td> 0.000</td> <td>    0.157</td> <td>    0.220</td>\n",
       "</tr>\n",
       "<tr>\n",
       "  <th>loc_og_t2t_mou_7</th>   <td>    0.2127</td> <td>    0.056</td> <td>    3.808</td> <td> 0.000</td> <td>    0.103</td> <td>    0.322</td>\n",
       "</tr>\n",
       "<tr>\n",
       "  <th>loc_og_t2t_mou_8</th>   <td>   -1.1443</td> <td>    0.099</td> <td>  -11.595</td> <td> 0.000</td> <td>   -1.338</td> <td>   -0.951</td>\n",
       "</tr>\n",
       "<tr>\n",
       "  <th>loc_og_t2m_mou_8</th>   <td>   -1.4283</td> <td>    0.117</td> <td>  -12.224</td> <td> 0.000</td> <td>   -1.657</td> <td>   -1.199</td>\n",
       "</tr>\n",
       "<tr>\n",
       "  <th>loc_og_t2f_mou_8</th>   <td>   -0.2623</td> <td>    0.031</td> <td>   -8.385</td> <td> 0.000</td> <td>   -0.324</td> <td>   -0.201</td>\n",
       "</tr>\n",
       "<tr>\n",
       "  <th>loc_og_mou_7</th>       <td>   -0.5203</td> <td>    0.088</td> <td>   -5.908</td> <td> 0.000</td> <td>   -0.693</td> <td>   -0.348</td>\n",
       "</tr>\n",
       "<tr>\n",
       "  <th>loc_og_mou_8</th>       <td>    2.6632</td> <td>    0.195</td> <td>   13.652</td> <td> 0.000</td> <td>    2.281</td> <td>    3.045</td>\n",
       "</tr>\n",
       "<tr>\n",
       "  <th>std_og_t2t_mou_6</th>   <td>   -0.2162</td> <td>    0.062</td> <td>   -3.487</td> <td> 0.000</td> <td>   -0.338</td> <td>   -0.095</td>\n",
       "</tr>\n",
       "<tr>\n",
       "  <th>std_og_t2t_mou_8</th>   <td>   -0.7816</td> <td>    0.066</td> <td>  -11.880</td> <td> 0.000</td> <td>   -0.911</td> <td>   -0.653</td>\n",
       "</tr>\n",
       "<tr>\n",
       "  <th>std_og_t2m_mou_8</th>   <td>   -0.8567</td> <td>    0.067</td> <td>  -12.717</td> <td> 0.000</td> <td>   -0.989</td> <td>   -0.725</td>\n",
       "</tr>\n",
       "<tr>\n",
       "  <th>std_og_mou_6</th>       <td>    0.3269</td> <td>    0.066</td> <td>    4.920</td> <td> 0.000</td> <td>    0.197</td> <td>    0.457</td>\n",
       "</tr>\n",
       "<tr>\n",
       "  <th>std_og_mou_7</th>       <td>   -0.4262</td> <td>    0.126</td> <td>   -3.371</td> <td> 0.001</td> <td>   -0.674</td> <td>   -0.178</td>\n",
       "</tr>\n",
       "<tr>\n",
       "  <th>std_og_mou_8</th>       <td>    2.7685</td> <td>    0.216</td> <td>   12.846</td> <td> 0.000</td> <td>    2.346</td> <td>    3.191</td>\n",
       "</tr>\n",
       "<tr>\n",
       "  <th>total_og_mou_6</th>     <td>   -0.2772</td> <td>    0.062</td> <td>   -4.479</td> <td> 0.000</td> <td>   -0.398</td> <td>   -0.156</td>\n",
       "</tr>\n",
       "<tr>\n",
       "  <th>total_og_mou_7</th>     <td>    0.5022</td> <td>    0.131</td> <td>    3.841</td> <td> 0.000</td> <td>    0.246</td> <td>    0.758</td>\n",
       "</tr>\n",
       "<tr>\n",
       "  <th>total_og_mou_8</th>     <td>   -2.4955</td> <td>    0.191</td> <td>  -13.048</td> <td> 0.000</td> <td>   -2.870</td> <td>   -2.121</td>\n",
       "</tr>\n",
       "<tr>\n",
       "  <th>loc_ic_t2t_mou_6</th>   <td>    0.3392</td> <td>    0.056</td> <td>    6.059</td> <td> 0.000</td> <td>    0.229</td> <td>    0.449</td>\n",
       "</tr>\n",
       "<tr>\n",
       "  <th>loc_ic_t2t_mou_8</th>   <td>   -0.7582</td> <td>    0.077</td> <td>   -9.866</td> <td> 0.000</td> <td>   -0.909</td> <td>   -0.608</td>\n",
       "</tr>\n",
       "<tr>\n",
       "  <th>loc_ic_t2m_mou_6</th>   <td>    0.5045</td> <td>    0.095</td> <td>    5.322</td> <td> 0.000</td> <td>    0.319</td> <td>    0.690</td>\n",
       "</tr>\n",
       "<tr>\n",
       "  <th>loc_ic_t2m_mou_7</th>   <td>    0.2490</td> <td>    0.083</td> <td>    2.991</td> <td> 0.003</td> <td>    0.086</td> <td>    0.412</td>\n",
       "</tr>\n",
       "<tr>\n",
       "  <th>loc_ic_t2m_mou_8</th>   <td>   -1.5827</td> <td>    0.125</td> <td>  -12.673</td> <td> 0.000</td> <td>   -1.827</td> <td>   -1.338</td>\n",
       "</tr>\n",
       "<tr>\n",
       "  <th>loc_ic_t2f_mou_8</th>   <td>   -0.3581</td> <td>    0.039</td> <td>   -9.104</td> <td> 0.000</td> <td>   -0.435</td> <td>   -0.281</td>\n",
       "</tr>\n",
       "<tr>\n",
       "  <th>loc_ic_mou_6</th>       <td>   -0.4617</td> <td>    0.121</td> <td>   -3.803</td> <td> 0.000</td> <td>   -0.700</td> <td>   -0.224</td>\n",
       "</tr>\n",
       "<tr>\n",
       "  <th>loc_ic_mou_7</th>       <td>   -0.4646</td> <td>    0.112</td> <td>   -4.156</td> <td> 0.000</td> <td>   -0.684</td> <td>   -0.246</td>\n",
       "</tr>\n",
       "<tr>\n",
       "  <th>loc_ic_mou_8</th>       <td>    4.2623</td> <td>    0.201</td> <td>   21.194</td> <td> 0.000</td> <td>    3.868</td> <td>    4.656</td>\n",
       "</tr>\n",
       "<tr>\n",
       "  <th>std_ic_t2t_mou_8</th>   <td>   -0.4597</td> <td>    0.059</td> <td>   -7.855</td> <td> 0.000</td> <td>   -0.574</td> <td>   -0.345</td>\n",
       "</tr>\n",
       "<tr>\n",
       "  <th>std_ic_t2m_mou_7</th>   <td>   -0.1690</td> <td>    0.034</td> <td>   -5.040</td> <td> 0.000</td> <td>   -0.235</td> <td>   -0.103</td>\n",
       "</tr>\n",
       "<tr>\n",
       "  <th>std_ic_t2m_mou_8</th>   <td>   -0.4680</td> <td>    0.091</td> <td>   -5.141</td> <td> 0.000</td> <td>   -0.646</td> <td>   -0.290</td>\n",
       "</tr>\n",
       "<tr>\n",
       "  <th>std_ic_t2f_mou_8</th>   <td>   -0.2057</td> <td>    0.031</td> <td>   -6.616</td> <td> 0.000</td> <td>   -0.267</td> <td>   -0.145</td>\n",
       "</tr>\n",
       "<tr>\n",
       "  <th>std_ic_mou_8</th>       <td>    1.6092</td> <td>    0.126</td> <td>   12.743</td> <td> 0.000</td> <td>    1.362</td> <td>    1.857</td>\n",
       "</tr>\n",
       "<tr>\n",
       "  <th>total_ic_mou_7</th>     <td>    0.6140</td> <td>    0.082</td> <td>    7.443</td> <td> 0.000</td> <td>    0.452</td> <td>    0.776</td>\n",
       "</tr>\n",
       "<tr>\n",
       "  <th>total_ic_mou_8</th>     <td>   -3.7681</td> <td>    0.158</td> <td>  -23.844</td> <td> 0.000</td> <td>   -4.078</td> <td>   -3.458</td>\n",
       "</tr>\n",
       "<tr>\n",
       "  <th>spl_ic_mou_8</th>       <td>   -0.5285</td> <td>    0.028</td> <td>  -18.758</td> <td> 0.000</td> <td>   -0.584</td> <td>   -0.473</td>\n",
       "</tr>\n",
       "<tr>\n",
       "  <th>isd_ic_mou_8</th>       <td>    0.4240</td> <td>    0.028</td> <td>   15.147</td> <td> 0.000</td> <td>    0.369</td> <td>    0.479</td>\n",
       "</tr>\n",
       "<tr>\n",
       "  <th>total_rech_num_7</th>   <td>    0.2038</td> <td>    0.029</td> <td>    7.029</td> <td> 0.000</td> <td>    0.147</td> <td>    0.261</td>\n",
       "</tr>\n",
       "<tr>\n",
       "  <th>total_rech_num_8</th>   <td>   -0.6965</td> <td>    0.034</td> <td>  -20.195</td> <td> 0.000</td> <td>   -0.764</td> <td>   -0.629</td>\n",
       "</tr>\n",
       "<tr>\n",
       "  <th>last_day_rch_amt_8</th> <td>   -0.6637</td> <td>    0.023</td> <td>  -28.390</td> <td> 0.000</td> <td>   -0.710</td> <td>   -0.618</td>\n",
       "</tr>\n",
       "<tr>\n",
       "  <th>total_rech_data_8</th>  <td>   -0.3710</td> <td>    0.069</td> <td>   -5.398</td> <td> 0.000</td> <td>   -0.506</td> <td>   -0.236</td>\n",
       "</tr>\n",
       "<tr>\n",
       "  <th>max_rech_data_8</th>    <td>   -0.4412</td> <td>    0.041</td> <td>  -10.717</td> <td> 0.000</td> <td>   -0.522</td> <td>   -0.360</td>\n",
       "</tr>\n",
       "<tr>\n",
       "  <th>count_rech_2g_7</th>    <td>   -0.6783</td> <td>    0.078</td> <td>   -8.685</td> <td> 0.000</td> <td>   -0.831</td> <td>   -0.525</td>\n",
       "</tr>\n",
       "<tr>\n",
       "  <th>av_rech_amt_data_7</th> <td>    0.2832</td> <td>    0.031</td> <td>    9.237</td> <td> 0.000</td> <td>    0.223</td> <td>    0.343</td>\n",
       "</tr>\n",
       "<tr>\n",
       "  <th>vol_2g_mb_8</th>        <td>   -0.2228</td> <td>    0.030</td> <td>   -7.403</td> <td> 0.000</td> <td>   -0.282</td> <td>   -0.164</td>\n",
       "</tr>\n",
       "<tr>\n",
       "  <th>vol_3g_mb_8</th>        <td>   -0.2362</td> <td>    0.043</td> <td>   -5.534</td> <td> 0.000</td> <td>   -0.320</td> <td>   -0.153</td>\n",
       "</tr>\n",
       "<tr>\n",
       "  <th>sachet_2g_7</th>        <td>    0.5504</td> <td>    0.075</td> <td>    7.323</td> <td> 0.000</td> <td>    0.403</td> <td>    0.698</td>\n",
       "</tr>\n",
       "<tr>\n",
       "  <th>sachet_2g_8</th>        <td>    0.2398</td> <td>    0.060</td> <td>    4.013</td> <td> 0.000</td> <td>    0.123</td> <td>    0.357</td>\n",
       "</tr>\n",
       "<tr>\n",
       "  <th>aon</th>                <td>   -0.3585</td> <td>    0.020</td> <td>  -17.696</td> <td> 0.000</td> <td>   -0.398</td> <td>   -0.319</td>\n",
       "</tr>\n",
       "</table>"
      ],
      "text/plain": [
       "<class 'statsmodels.iolib.summary.Summary'>\n",
       "\"\"\"\n",
       "                 Generalized Linear Model Regression Results                  \n",
       "==============================================================================\n",
       "Dep. Variable:                      y   No. Observations:                38400\n",
       "Model:                            GLM   Df Residuals:                    38349\n",
       "Model Family:                Binomial   Df Model:                           50\n",
       "Link Function:                  logit   Scale:                          1.0000\n",
       "Method:                          IRLS   Log-Likelihood:                -13677.\n",
       "Date:                Tue, 01 Sep 2020   Deviance:                       27354.\n",
       "Time:                        10:51:18   Pearson chi2:                 1.91e+05\n",
       "No. Iterations:                     7                                         \n",
       "Covariance Type:            nonrobust                                         \n",
       "======================================================================================\n",
       "                         coef    std err          z      P>|z|      [0.025      0.975]\n",
       "--------------------------------------------------------------------------------------\n",
       "const                 -1.9297      0.027    -70.562      0.000      -1.983      -1.876\n",
       "arpu_7                 0.2507      0.032      7.760      0.000       0.187       0.314\n",
       "arpu_8                 0.3243      0.041      7.837      0.000       0.243       0.405\n",
       "onnet_mou_6            0.3573      0.060      5.923      0.000       0.239       0.476\n",
       "offnet_mou_7           0.2575      0.041      6.309      0.000       0.178       0.338\n",
       "roam_og_mou_8          0.1885      0.016     11.626      0.000       0.157       0.220\n",
       "loc_og_t2t_mou_7       0.2127      0.056      3.808      0.000       0.103       0.322\n",
       "loc_og_t2t_mou_8      -1.1443      0.099    -11.595      0.000      -1.338      -0.951\n",
       "loc_og_t2m_mou_8      -1.4283      0.117    -12.224      0.000      -1.657      -1.199\n",
       "loc_og_t2f_mou_8      -0.2623      0.031     -8.385      0.000      -0.324      -0.201\n",
       "loc_og_mou_7          -0.5203      0.088     -5.908      0.000      -0.693      -0.348\n",
       "loc_og_mou_8           2.6632      0.195     13.652      0.000       2.281       3.045\n",
       "std_og_t2t_mou_6      -0.2162      0.062     -3.487      0.000      -0.338      -0.095\n",
       "std_og_t2t_mou_8      -0.7816      0.066    -11.880      0.000      -0.911      -0.653\n",
       "std_og_t2m_mou_8      -0.8567      0.067    -12.717      0.000      -0.989      -0.725\n",
       "std_og_mou_6           0.3269      0.066      4.920      0.000       0.197       0.457\n",
       "std_og_mou_7          -0.4262      0.126     -3.371      0.001      -0.674      -0.178\n",
       "std_og_mou_8           2.7685      0.216     12.846      0.000       2.346       3.191\n",
       "total_og_mou_6        -0.2772      0.062     -4.479      0.000      -0.398      -0.156\n",
       "total_og_mou_7         0.5022      0.131      3.841      0.000       0.246       0.758\n",
       "total_og_mou_8        -2.4955      0.191    -13.048      0.000      -2.870      -2.121\n",
       "loc_ic_t2t_mou_6       0.3392      0.056      6.059      0.000       0.229       0.449\n",
       "loc_ic_t2t_mou_8      -0.7582      0.077     -9.866      0.000      -0.909      -0.608\n",
       "loc_ic_t2m_mou_6       0.5045      0.095      5.322      0.000       0.319       0.690\n",
       "loc_ic_t2m_mou_7       0.2490      0.083      2.991      0.003       0.086       0.412\n",
       "loc_ic_t2m_mou_8      -1.5827      0.125    -12.673      0.000      -1.827      -1.338\n",
       "loc_ic_t2f_mou_8      -0.3581      0.039     -9.104      0.000      -0.435      -0.281\n",
       "loc_ic_mou_6          -0.4617      0.121     -3.803      0.000      -0.700      -0.224\n",
       "loc_ic_mou_7          -0.4646      0.112     -4.156      0.000      -0.684      -0.246\n",
       "loc_ic_mou_8           4.2623      0.201     21.194      0.000       3.868       4.656\n",
       "std_ic_t2t_mou_8      -0.4597      0.059     -7.855      0.000      -0.574      -0.345\n",
       "std_ic_t2m_mou_7      -0.1690      0.034     -5.040      0.000      -0.235      -0.103\n",
       "std_ic_t2m_mou_8      -0.4680      0.091     -5.141      0.000      -0.646      -0.290\n",
       "std_ic_t2f_mou_8      -0.2057      0.031     -6.616      0.000      -0.267      -0.145\n",
       "std_ic_mou_8           1.6092      0.126     12.743      0.000       1.362       1.857\n",
       "total_ic_mou_7         0.6140      0.082      7.443      0.000       0.452       0.776\n",
       "total_ic_mou_8        -3.7681      0.158    -23.844      0.000      -4.078      -3.458\n",
       "spl_ic_mou_8          -0.5285      0.028    -18.758      0.000      -0.584      -0.473\n",
       "isd_ic_mou_8           0.4240      0.028     15.147      0.000       0.369       0.479\n",
       "total_rech_num_7       0.2038      0.029      7.029      0.000       0.147       0.261\n",
       "total_rech_num_8      -0.6965      0.034    -20.195      0.000      -0.764      -0.629\n",
       "last_day_rch_amt_8    -0.6637      0.023    -28.390      0.000      -0.710      -0.618\n",
       "total_rech_data_8     -0.3710      0.069     -5.398      0.000      -0.506      -0.236\n",
       "max_rech_data_8       -0.4412      0.041    -10.717      0.000      -0.522      -0.360\n",
       "count_rech_2g_7       -0.6783      0.078     -8.685      0.000      -0.831      -0.525\n",
       "av_rech_amt_data_7     0.2832      0.031      9.237      0.000       0.223       0.343\n",
       "vol_2g_mb_8           -0.2228      0.030     -7.403      0.000      -0.282      -0.164\n",
       "vol_3g_mb_8           -0.2362      0.043     -5.534      0.000      -0.320      -0.153\n",
       "sachet_2g_7            0.5504      0.075      7.323      0.000       0.403       0.698\n",
       "sachet_2g_8            0.2398      0.060      4.013      0.000       0.123       0.357\n",
       "aon                   -0.3585      0.020    -17.696      0.000      -0.398      -0.319\n",
       "======================================================================================\n",
       "\"\"\""
      ]
     },
     "execution_count": 99,
     "metadata": {},
     "output_type": "execute_result"
    }
   ],
   "source": [
    "X_train_sm = sm.add_constant(X_train[col])\n",
    "logistic3 = sm.GLM(y_train, X_train_sm, family = sm.families.Binomial())\n",
    "model3 = logistic3.fit()\n",
    "model3.summary()"
   ]
  },
  {
   "cell_type": "markdown",
   "metadata": {},
   "source": [
    "#### VIF calculation"
   ]
  },
  {
   "cell_type": "code",
   "execution_count": 100,
   "metadata": {},
   "outputs": [],
   "source": [
    "# Check for the VIF values of the feature variables. \n",
    "from statsmodels.stats.outliers_influence import variance_inflation_factor"
   ]
  },
  {
   "cell_type": "code",
   "execution_count": 101,
   "metadata": {
    "scrolled": true
   },
   "outputs": [
    {
     "data": {
      "text/html": [
       "<div>\n",
       "<style scoped>\n",
       "    .dataframe tbody tr th:only-of-type {\n",
       "        vertical-align: middle;\n",
       "    }\n",
       "\n",
       "    .dataframe tbody tr th {\n",
       "        vertical-align: top;\n",
       "    }\n",
       "\n",
       "    .dataframe thead th {\n",
       "        text-align: right;\n",
       "    }\n",
       "</style>\n",
       "<table border=\"1\" class=\"dataframe\">\n",
       "  <thead>\n",
       "    <tr style=\"text-align: right;\">\n",
       "      <th></th>\n",
       "      <th>Features</th>\n",
       "      <th>VIF</th>\n",
       "    </tr>\n",
       "  </thead>\n",
       "  <tbody>\n",
       "    <tr>\n",
       "      <th>16</th>\n",
       "      <td>std_og_mou_8</td>\n",
       "      <td>76.61</td>\n",
       "    </tr>\n",
       "    <tr>\n",
       "      <th>28</th>\n",
       "      <td>loc_ic_mou_8</td>\n",
       "      <td>72.22</td>\n",
       "    </tr>\n",
       "    <tr>\n",
       "      <th>10</th>\n",
       "      <td>loc_og_mou_8</td>\n",
       "      <td>66.02</td>\n",
       "    </tr>\n",
       "    <tr>\n",
       "      <th>19</th>\n",
       "      <td>total_og_mou_8</td>\n",
       "      <td>61.42</td>\n",
       "    </tr>\n",
       "    <tr>\n",
       "      <th>18</th>\n",
       "      <td>total_og_mou_7</td>\n",
       "      <td>56.90</td>\n",
       "    </tr>\n",
       "    <tr>\n",
       "      <th>15</th>\n",
       "      <td>std_og_mou_7</td>\n",
       "      <td>52.98</td>\n",
       "    </tr>\n",
       "    <tr>\n",
       "      <th>26</th>\n",
       "      <td>loc_ic_mou_6</td>\n",
       "      <td>38.99</td>\n",
       "    </tr>\n",
       "    <tr>\n",
       "      <th>27</th>\n",
       "      <td>loc_ic_mou_7</td>\n",
       "      <td>36.85</td>\n",
       "    </tr>\n",
       "    <tr>\n",
       "      <th>35</th>\n",
       "      <td>total_ic_mou_8</td>\n",
       "      <td>33.66</td>\n",
       "    </tr>\n",
       "    <tr>\n",
       "      <th>24</th>\n",
       "      <td>loc_ic_t2m_mou_8</td>\n",
       "      <td>32.74</td>\n",
       "    </tr>\n",
       "    <tr>\n",
       "      <th>33</th>\n",
       "      <td>std_ic_mou_8</td>\n",
       "      <td>29.72</td>\n",
       "    </tr>\n",
       "    <tr>\n",
       "      <th>7</th>\n",
       "      <td>loc_og_t2m_mou_8</td>\n",
       "      <td>24.79</td>\n",
       "    </tr>\n",
       "    <tr>\n",
       "      <th>22</th>\n",
       "      <td>loc_ic_t2m_mou_6</td>\n",
       "      <td>24.31</td>\n",
       "    </tr>\n",
       "    <tr>\n",
       "      <th>9</th>\n",
       "      <td>loc_og_mou_7</td>\n",
       "      <td>20.93</td>\n",
       "    </tr>\n",
       "    <tr>\n",
       "      <th>14</th>\n",
       "      <td>std_og_mou_6</td>\n",
       "      <td>20.68</td>\n",
       "    </tr>\n",
       "    <tr>\n",
       "      <th>23</th>\n",
       "      <td>loc_ic_t2m_mou_7</td>\n",
       "      <td>19.95</td>\n",
       "    </tr>\n",
       "    <tr>\n",
       "      <th>34</th>\n",
       "      <td>total_ic_mou_7</td>\n",
       "      <td>19.94</td>\n",
       "    </tr>\n",
       "    <tr>\n",
       "      <th>11</th>\n",
       "      <td>std_og_t2t_mou_6</td>\n",
       "      <td>17.32</td>\n",
       "    </tr>\n",
       "    <tr>\n",
       "      <th>31</th>\n",
       "      <td>std_ic_t2m_mou_8</td>\n",
       "      <td>16.48</td>\n",
       "    </tr>\n",
       "    <tr>\n",
       "      <th>17</th>\n",
       "      <td>total_og_mou_6</td>\n",
       "      <td>16.09</td>\n",
       "    </tr>\n",
       "    <tr>\n",
       "      <th>43</th>\n",
       "      <td>count_rech_2g_7</td>\n",
       "      <td>15.68</td>\n",
       "    </tr>\n",
       "    <tr>\n",
       "      <th>47</th>\n",
       "      <td>sachet_2g_7</td>\n",
       "      <td>14.91</td>\n",
       "    </tr>\n",
       "    <tr>\n",
       "      <th>2</th>\n",
       "      <td>onnet_mou_6</td>\n",
       "      <td>14.82</td>\n",
       "    </tr>\n",
       "    <tr>\n",
       "      <th>13</th>\n",
       "      <td>std_og_t2m_mou_8</td>\n",
       "      <td>14.13</td>\n",
       "    </tr>\n",
       "    <tr>\n",
       "      <th>12</th>\n",
       "      <td>std_og_t2t_mou_8</td>\n",
       "      <td>14.07</td>\n",
       "    </tr>\n",
       "    <tr>\n",
       "      <th>6</th>\n",
       "      <td>loc_og_t2t_mou_8</td>\n",
       "      <td>13.66</td>\n",
       "    </tr>\n",
       "    <tr>\n",
       "      <th>41</th>\n",
       "      <td>total_rech_data_8</td>\n",
       "      <td>11.22</td>\n",
       "    </tr>\n",
       "    <tr>\n",
       "      <th>21</th>\n",
       "      <td>loc_ic_t2t_mou_8</td>\n",
       "      <td>9.60</td>\n",
       "    </tr>\n",
       "    <tr>\n",
       "      <th>48</th>\n",
       "      <td>sachet_2g_8</td>\n",
       "      <td>8.30</td>\n",
       "    </tr>\n",
       "    <tr>\n",
       "      <th>1</th>\n",
       "      <td>arpu_8</td>\n",
       "      <td>7.92</td>\n",
       "    </tr>\n",
       "    <tr>\n",
       "      <th>5</th>\n",
       "      <td>loc_og_t2t_mou_7</td>\n",
       "      <td>7.89</td>\n",
       "    </tr>\n",
       "    <tr>\n",
       "      <th>20</th>\n",
       "      <td>loc_ic_t2t_mou_6</td>\n",
       "      <td>7.19</td>\n",
       "    </tr>\n",
       "    <tr>\n",
       "      <th>3</th>\n",
       "      <td>offnet_mou_7</td>\n",
       "      <td>6.26</td>\n",
       "    </tr>\n",
       "    <tr>\n",
       "      <th>29</th>\n",
       "      <td>std_ic_t2t_mou_8</td>\n",
       "      <td>6.06</td>\n",
       "    </tr>\n",
       "    <tr>\n",
       "      <th>42</th>\n",
       "      <td>max_rech_data_8</td>\n",
       "      <td>4.33</td>\n",
       "    </tr>\n",
       "    <tr>\n",
       "      <th>39</th>\n",
       "      <td>total_rech_num_8</td>\n",
       "      <td>4.28</td>\n",
       "    </tr>\n",
       "    <tr>\n",
       "      <th>0</th>\n",
       "      <td>arpu_7</td>\n",
       "      <td>3.97</td>\n",
       "    </tr>\n",
       "    <tr>\n",
       "      <th>46</th>\n",
       "      <td>vol_3g_mb_8</td>\n",
       "      <td>3.80</td>\n",
       "    </tr>\n",
       "    <tr>\n",
       "      <th>30</th>\n",
       "      <td>std_ic_t2m_mou_7</td>\n",
       "      <td>3.42</td>\n",
       "    </tr>\n",
       "    <tr>\n",
       "      <th>38</th>\n",
       "      <td>total_rech_num_7</td>\n",
       "      <td>3.04</td>\n",
       "    </tr>\n",
       "    <tr>\n",
       "      <th>44</th>\n",
       "      <td>av_rech_amt_data_7</td>\n",
       "      <td>2.81</td>\n",
       "    </tr>\n",
       "    <tr>\n",
       "      <th>25</th>\n",
       "      <td>loc_ic_t2f_mou_8</td>\n",
       "      <td>2.28</td>\n",
       "    </tr>\n",
       "    <tr>\n",
       "      <th>40</th>\n",
       "      <td>last_day_rch_amt_8</td>\n",
       "      <td>1.83</td>\n",
       "    </tr>\n",
       "    <tr>\n",
       "      <th>45</th>\n",
       "      <td>vol_2g_mb_8</td>\n",
       "      <td>1.74</td>\n",
       "    </tr>\n",
       "    <tr>\n",
       "      <th>8</th>\n",
       "      <td>loc_og_t2f_mou_8</td>\n",
       "      <td>1.69</td>\n",
       "    </tr>\n",
       "    <tr>\n",
       "      <th>37</th>\n",
       "      <td>isd_ic_mou_8</td>\n",
       "      <td>1.55</td>\n",
       "    </tr>\n",
       "    <tr>\n",
       "      <th>32</th>\n",
       "      <td>std_ic_t2f_mou_8</td>\n",
       "      <td>1.55</td>\n",
       "    </tr>\n",
       "    <tr>\n",
       "      <th>4</th>\n",
       "      <td>roam_og_mou_8</td>\n",
       "      <td>1.51</td>\n",
       "    </tr>\n",
       "    <tr>\n",
       "      <th>49</th>\n",
       "      <td>aon</td>\n",
       "      <td>1.31</td>\n",
       "    </tr>\n",
       "    <tr>\n",
       "      <th>36</th>\n",
       "      <td>spl_ic_mou_8</td>\n",
       "      <td>1.09</td>\n",
       "    </tr>\n",
       "  </tbody>\n",
       "</table>\n",
       "</div>"
      ],
      "text/plain": [
       "              Features    VIF\n",
       "16        std_og_mou_8  76.61\n",
       "28        loc_ic_mou_8  72.22\n",
       "10        loc_og_mou_8  66.02\n",
       "19      total_og_mou_8  61.42\n",
       "18      total_og_mou_7  56.90\n",
       "15        std_og_mou_7  52.98\n",
       "26        loc_ic_mou_6  38.99\n",
       "27        loc_ic_mou_7  36.85\n",
       "35      total_ic_mou_8  33.66\n",
       "24    loc_ic_t2m_mou_8  32.74\n",
       "33        std_ic_mou_8  29.72\n",
       "7     loc_og_t2m_mou_8  24.79\n",
       "22    loc_ic_t2m_mou_6  24.31\n",
       "9         loc_og_mou_7  20.93\n",
       "14        std_og_mou_6  20.68\n",
       "23    loc_ic_t2m_mou_7  19.95\n",
       "34      total_ic_mou_7  19.94\n",
       "11    std_og_t2t_mou_6  17.32\n",
       "31    std_ic_t2m_mou_8  16.48\n",
       "17      total_og_mou_6  16.09\n",
       "43     count_rech_2g_7  15.68\n",
       "47         sachet_2g_7  14.91\n",
       "2          onnet_mou_6  14.82\n",
       "13    std_og_t2m_mou_8  14.13\n",
       "12    std_og_t2t_mou_8  14.07\n",
       "6     loc_og_t2t_mou_8  13.66\n",
       "41   total_rech_data_8  11.22\n",
       "21    loc_ic_t2t_mou_8   9.60\n",
       "48         sachet_2g_8   8.30\n",
       "1               arpu_8   7.92\n",
       "5     loc_og_t2t_mou_7   7.89\n",
       "20    loc_ic_t2t_mou_6   7.19\n",
       "3         offnet_mou_7   6.26\n",
       "29    std_ic_t2t_mou_8   6.06\n",
       "42     max_rech_data_8   4.33\n",
       "39    total_rech_num_8   4.28\n",
       "0               arpu_7   3.97\n",
       "46         vol_3g_mb_8   3.80\n",
       "30    std_ic_t2m_mou_7   3.42\n",
       "38    total_rech_num_7   3.04\n",
       "44  av_rech_amt_data_7   2.81\n",
       "25    loc_ic_t2f_mou_8   2.28\n",
       "40  last_day_rch_amt_8   1.83\n",
       "45         vol_2g_mb_8   1.74\n",
       "8     loc_og_t2f_mou_8   1.69\n",
       "37        isd_ic_mou_8   1.55\n",
       "32    std_ic_t2f_mou_8   1.55\n",
       "4        roam_og_mou_8   1.51\n",
       "49                 aon   1.31\n",
       "36        spl_ic_mou_8   1.09"
      ]
     },
     "execution_count": 101,
     "metadata": {},
     "output_type": "execute_result"
    }
   ],
   "source": [
    "# Create a dataframe that will contain the names of all the feature variables and their respective VIFs\n",
    "vif = pd.DataFrame()\n",
    "vif['Features'] = X_train[col].columns\n",
    "vif['VIF'] = [variance_inflation_factor(X_train[col].values, i) for i in range(X_train[col].shape[1])]\n",
    "vif['VIF'] = round(vif['VIF'], 2)\n",
    "vif = vif.sort_values(by = \"VIF\", ascending = False)\n",
    "vif"
   ]
  },
  {
   "cell_type": "code",
   "execution_count": 102,
   "metadata": {},
   "outputs": [],
   "source": [
    "logistic3 = LogisticRegression()\n",
    "rfe_logistic3 = RFE(logistic3, 20)\n",
    "rfe_logistic3 = rfe_logistic3.fit(X_train, y_train)"
   ]
  },
  {
   "cell_type": "code",
   "execution_count": 103,
   "metadata": {
    "scrolled": true
   },
   "outputs": [
    {
     "name": "stdout",
     "output_type": "stream",
     "text": [
      "Index(['arpu_7', 'loc_og_t2t_mou_8', 'loc_og_t2m_mou_8', 'loc_og_mou_8',\n",
      "       'std_og_t2t_mou_8', 'std_og_t2m_mou_8', 'std_og_mou_8',\n",
      "       'total_og_mou_8', 'loc_ic_t2t_mou_8', 'loc_ic_t2m_mou_8',\n",
      "       'loc_ic_t2f_mou_8', 'loc_ic_mou_8', 'std_ic_mou_8', 'total_ic_mou_8',\n",
      "       'spl_ic_mou_8', 'total_rech_num_8', 'last_day_rch_amt_8',\n",
      "       'max_rech_data_8', 'count_rech_2g_7', 'sachet_2g_7'],\n",
      "      dtype='object')\n"
     ]
    }
   ],
   "source": [
    "col = X_train.columns[rfe_logistic3.support_]\n",
    "print(col)"
   ]
  },
  {
   "cell_type": "code",
   "execution_count": 104,
   "metadata": {
    "scrolled": true
   },
   "outputs": [
    {
     "data": {
      "text/html": [
       "<table class=\"simpletable\">\n",
       "<caption>Generalized Linear Model Regression Results</caption>\n",
       "<tr>\n",
       "  <th>Dep. Variable:</th>           <td>y</td>        <th>  No. Observations:  </th>  <td> 38400</td> \n",
       "</tr>\n",
       "<tr>\n",
       "  <th>Model:</th>                  <td>GLM</td>       <th>  Df Residuals:      </th>  <td> 38379</td> \n",
       "</tr>\n",
       "<tr>\n",
       "  <th>Model Family:</th>        <td>Binomial</td>     <th>  Df Model:          </th>  <td>    20</td> \n",
       "</tr>\n",
       "<tr>\n",
       "  <th>Link Function:</th>         <td>logit</td>      <th>  Scale:             </th> <td>  1.0000</td>\n",
       "</tr>\n",
       "<tr>\n",
       "  <th>Method:</th>                <td>IRLS</td>       <th>  Log-Likelihood:    </th> <td> -14608.</td>\n",
       "</tr>\n",
       "<tr>\n",
       "  <th>Date:</th>            <td>Tue, 01 Sep 2020</td> <th>  Deviance:          </th> <td>  29216.</td>\n",
       "</tr>\n",
       "<tr>\n",
       "  <th>Time:</th>                <td>10:53:48</td>     <th>  Pearson chi2:      </th> <td>9.55e+04</td>\n",
       "</tr>\n",
       "<tr>\n",
       "  <th>No. Iterations:</th>          <td>7</td>        <th>                     </th>     <td> </td>   \n",
       "</tr>\n",
       "<tr>\n",
       "  <th>Covariance Type:</th>     <td>nonrobust</td>    <th>                     </th>     <td> </td>   \n",
       "</tr>\n",
       "</table>\n",
       "<table class=\"simpletable\">\n",
       "<tr>\n",
       "           <td></td>             <th>coef</th>     <th>std err</th>      <th>z</th>      <th>P>|z|</th>  <th>[0.025</th>    <th>0.975]</th>  \n",
       "</tr>\n",
       "<tr>\n",
       "  <th>const</th>              <td>   -1.8261</td> <td>    0.026</td> <td>  -70.828</td> <td> 0.000</td> <td>   -1.877</td> <td>   -1.776</td>\n",
       "</tr>\n",
       "<tr>\n",
       "  <th>arpu_7</th>             <td>    0.7016</td> <td>    0.019</td> <td>   36.285</td> <td> 0.000</td> <td>    0.664</td> <td>    0.739</td>\n",
       "</tr>\n",
       "<tr>\n",
       "  <th>loc_og_t2t_mou_8</th>   <td>   -0.9387</td> <td>    0.089</td> <td>  -10.536</td> <td> 0.000</td> <td>   -1.113</td> <td>   -0.764</td>\n",
       "</tr>\n",
       "<tr>\n",
       "  <th>loc_og_t2m_mou_8</th>   <td>   -1.5612</td> <td>    0.115</td> <td>  -13.569</td> <td> 0.000</td> <td>   -1.787</td> <td>   -1.336</td>\n",
       "</tr>\n",
       "<tr>\n",
       "  <th>loc_og_mou_8</th>       <td>    2.4905</td> <td>    0.190</td> <td>   13.097</td> <td> 0.000</td> <td>    2.118</td> <td>    2.863</td>\n",
       "</tr>\n",
       "<tr>\n",
       "  <th>std_og_t2t_mou_8</th>   <td>   -0.8408</td> <td>    0.063</td> <td>  -13.262</td> <td> 0.000</td> <td>   -0.965</td> <td>   -0.717</td>\n",
       "</tr>\n",
       "<tr>\n",
       "  <th>std_og_t2m_mou_8</th>   <td>   -0.7708</td> <td>    0.063</td> <td>  -12.262</td> <td> 0.000</td> <td>   -0.894</td> <td>   -0.648</td>\n",
       "</tr>\n",
       "<tr>\n",
       "  <th>std_og_mou_8</th>       <td>    3.0553</td> <td>    0.212</td> <td>   14.427</td> <td> 0.000</td> <td>    2.640</td> <td>    3.470</td>\n",
       "</tr>\n",
       "<tr>\n",
       "  <th>total_og_mou_8</th>     <td>   -2.6445</td> <td>    0.180</td> <td>  -14.697</td> <td> 0.000</td> <td>   -2.997</td> <td>   -2.292</td>\n",
       "</tr>\n",
       "<tr>\n",
       "  <th>loc_ic_t2t_mou_8</th>   <td>   -0.7827</td> <td>    0.068</td> <td>  -11.480</td> <td> 0.000</td> <td>   -0.916</td> <td>   -0.649</td>\n",
       "</tr>\n",
       "<tr>\n",
       "  <th>loc_ic_t2m_mou_8</th>   <td>   -1.4589</td> <td>    0.103</td> <td>  -14.172</td> <td> 0.000</td> <td>   -1.661</td> <td>   -1.257</td>\n",
       "</tr>\n",
       "<tr>\n",
       "  <th>loc_ic_t2f_mou_8</th>   <td>   -0.6476</td> <td>    0.037</td> <td>  -17.552</td> <td> 0.000</td> <td>   -0.720</td> <td>   -0.575</td>\n",
       "</tr>\n",
       "<tr>\n",
       "  <th>loc_ic_mou_8</th>       <td>    3.1435</td> <td>    0.170</td> <td>   18.507</td> <td> 0.000</td> <td>    2.811</td> <td>    3.476</td>\n",
       "</tr>\n",
       "<tr>\n",
       "  <th>std_ic_mou_8</th>       <td>    0.4519</td> <td>    0.042</td> <td>   10.803</td> <td> 0.000</td> <td>    0.370</td> <td>    0.534</td>\n",
       "</tr>\n",
       "<tr>\n",
       "  <th>total_ic_mou_8</th>     <td>   -2.1213</td> <td>    0.118</td> <td>  -17.930</td> <td> 0.000</td> <td>   -2.353</td> <td>   -1.889</td>\n",
       "</tr>\n",
       "<tr>\n",
       "  <th>spl_ic_mou_8</th>       <td>   -0.5329</td> <td>    0.028</td> <td>  -19.272</td> <td> 0.000</td> <td>   -0.587</td> <td>   -0.479</td>\n",
       "</tr>\n",
       "<tr>\n",
       "  <th>total_rech_num_8</th>   <td>   -0.5690</td> <td>    0.021</td> <td>  -26.684</td> <td> 0.000</td> <td>   -0.611</td> <td>   -0.527</td>\n",
       "</tr>\n",
       "<tr>\n",
       "  <th>last_day_rch_amt_8</th> <td>   -0.6977</td> <td>    0.021</td> <td>  -33.518</td> <td> 0.000</td> <td>   -0.738</td> <td>   -0.657</td>\n",
       "</tr>\n",
       "<tr>\n",
       "  <th>max_rech_data_8</th>    <td>   -0.7230</td> <td>    0.023</td> <td>  -31.665</td> <td> 0.000</td> <td>   -0.768</td> <td>   -0.678</td>\n",
       "</tr>\n",
       "<tr>\n",
       "  <th>count_rech_2g_7</th>    <td>   -0.6861</td> <td>    0.069</td> <td>   -9.934</td> <td> 0.000</td> <td>   -0.821</td> <td>   -0.551</td>\n",
       "</tr>\n",
       "<tr>\n",
       "  <th>sachet_2g_7</th>        <td>    0.5563</td> <td>    0.068</td> <td>    8.175</td> <td> 0.000</td> <td>    0.423</td> <td>    0.690</td>\n",
       "</tr>\n",
       "</table>"
      ],
      "text/plain": [
       "<class 'statsmodels.iolib.summary.Summary'>\n",
       "\"\"\"\n",
       "                 Generalized Linear Model Regression Results                  \n",
       "==============================================================================\n",
       "Dep. Variable:                      y   No. Observations:                38400\n",
       "Model:                            GLM   Df Residuals:                    38379\n",
       "Model Family:                Binomial   Df Model:                           20\n",
       "Link Function:                  logit   Scale:                          1.0000\n",
       "Method:                          IRLS   Log-Likelihood:                -14608.\n",
       "Date:                Tue, 01 Sep 2020   Deviance:                       29216.\n",
       "Time:                        10:53:48   Pearson chi2:                 9.55e+04\n",
       "No. Iterations:                     7                                         \n",
       "Covariance Type:            nonrobust                                         \n",
       "======================================================================================\n",
       "                         coef    std err          z      P>|z|      [0.025      0.975]\n",
       "--------------------------------------------------------------------------------------\n",
       "const                 -1.8261      0.026    -70.828      0.000      -1.877      -1.776\n",
       "arpu_7                 0.7016      0.019     36.285      0.000       0.664       0.739\n",
       "loc_og_t2t_mou_8      -0.9387      0.089    -10.536      0.000      -1.113      -0.764\n",
       "loc_og_t2m_mou_8      -1.5612      0.115    -13.569      0.000      -1.787      -1.336\n",
       "loc_og_mou_8           2.4905      0.190     13.097      0.000       2.118       2.863\n",
       "std_og_t2t_mou_8      -0.8408      0.063    -13.262      0.000      -0.965      -0.717\n",
       "std_og_t2m_mou_8      -0.7708      0.063    -12.262      0.000      -0.894      -0.648\n",
       "std_og_mou_8           3.0553      0.212     14.427      0.000       2.640       3.470\n",
       "total_og_mou_8        -2.6445      0.180    -14.697      0.000      -2.997      -2.292\n",
       "loc_ic_t2t_mou_8      -0.7827      0.068    -11.480      0.000      -0.916      -0.649\n",
       "loc_ic_t2m_mou_8      -1.4589      0.103    -14.172      0.000      -1.661      -1.257\n",
       "loc_ic_t2f_mou_8      -0.6476      0.037    -17.552      0.000      -0.720      -0.575\n",
       "loc_ic_mou_8           3.1435      0.170     18.507      0.000       2.811       3.476\n",
       "std_ic_mou_8           0.4519      0.042     10.803      0.000       0.370       0.534\n",
       "total_ic_mou_8        -2.1213      0.118    -17.930      0.000      -2.353      -1.889\n",
       "spl_ic_mou_8          -0.5329      0.028    -19.272      0.000      -0.587      -0.479\n",
       "total_rech_num_8      -0.5690      0.021    -26.684      0.000      -0.611      -0.527\n",
       "last_day_rch_amt_8    -0.6977      0.021    -33.518      0.000      -0.738      -0.657\n",
       "max_rech_data_8       -0.7230      0.023    -31.665      0.000      -0.768      -0.678\n",
       "count_rech_2g_7       -0.6861      0.069     -9.934      0.000      -0.821      -0.551\n",
       "sachet_2g_7            0.5563      0.068      8.175      0.000       0.423       0.690\n",
       "======================================================================================\n",
       "\"\"\""
      ]
     },
     "execution_count": 104,
     "metadata": {},
     "output_type": "execute_result"
    }
   ],
   "source": [
    "X_train_sm = sm.add_constant(X_train[col])\n",
    "logistic4 = sm.GLM(y_train, X_train_sm, family = sm.families.Binomial())\n",
    "model4 = logistic4.fit()\n",
    "model4.summary()"
   ]
  },
  {
   "cell_type": "code",
   "execution_count": 105,
   "metadata": {
    "scrolled": true
   },
   "outputs": [
    {
     "data": {
      "text/html": [
       "<div>\n",
       "<style scoped>\n",
       "    .dataframe tbody tr th:only-of-type {\n",
       "        vertical-align: middle;\n",
       "    }\n",
       "\n",
       "    .dataframe tbody tr th {\n",
       "        vertical-align: top;\n",
       "    }\n",
       "\n",
       "    .dataframe thead th {\n",
       "        text-align: right;\n",
       "    }\n",
       "</style>\n",
       "<table border=\"1\" class=\"dataframe\">\n",
       "  <thead>\n",
       "    <tr style=\"text-align: right;\">\n",
       "      <th></th>\n",
       "      <th>Features</th>\n",
       "      <th>VIF</th>\n",
       "    </tr>\n",
       "  </thead>\n",
       "  <tbody>\n",
       "    <tr>\n",
       "      <th>6</th>\n",
       "      <td>std_og_mou_8</td>\n",
       "      <td>64.21</td>\n",
       "    </tr>\n",
       "    <tr>\n",
       "      <th>3</th>\n",
       "      <td>loc_og_mou_8</td>\n",
       "      <td>57.84</td>\n",
       "    </tr>\n",
       "    <tr>\n",
       "      <th>11</th>\n",
       "      <td>loc_ic_mou_8</td>\n",
       "      <td>54.43</td>\n",
       "    </tr>\n",
       "    <tr>\n",
       "      <th>7</th>\n",
       "      <td>total_og_mou_8</td>\n",
       "      <td>42.13</td>\n",
       "    </tr>\n",
       "    <tr>\n",
       "      <th>9</th>\n",
       "      <td>loc_ic_t2m_mou_8</td>\n",
       "      <td>23.76</td>\n",
       "    </tr>\n",
       "    <tr>\n",
       "      <th>2</th>\n",
       "      <td>loc_og_t2m_mou_8</td>\n",
       "      <td>22.72</td>\n",
       "    </tr>\n",
       "    <tr>\n",
       "      <th>13</th>\n",
       "      <td>total_ic_mou_8</td>\n",
       "      <td>19.19</td>\n",
       "    </tr>\n",
       "    <tr>\n",
       "      <th>18</th>\n",
       "      <td>count_rech_2g_7</td>\n",
       "      <td>13.97</td>\n",
       "    </tr>\n",
       "    <tr>\n",
       "      <th>19</th>\n",
       "      <td>sachet_2g_7</td>\n",
       "      <td>13.62</td>\n",
       "    </tr>\n",
       "    <tr>\n",
       "      <th>4</th>\n",
       "      <td>std_og_t2t_mou_8</td>\n",
       "      <td>13.19</td>\n",
       "    </tr>\n",
       "    <tr>\n",
       "      <th>5</th>\n",
       "      <td>std_og_t2m_mou_8</td>\n",
       "      <td>12.61</td>\n",
       "    </tr>\n",
       "    <tr>\n",
       "      <th>1</th>\n",
       "      <td>loc_og_t2t_mou_8</td>\n",
       "      <td>10.25</td>\n",
       "    </tr>\n",
       "    <tr>\n",
       "      <th>8</th>\n",
       "      <td>loc_ic_t2t_mou_8</td>\n",
       "      <td>7.99</td>\n",
       "    </tr>\n",
       "    <tr>\n",
       "      <th>12</th>\n",
       "      <td>std_ic_mou_8</td>\n",
       "      <td>3.01</td>\n",
       "    </tr>\n",
       "    <tr>\n",
       "      <th>10</th>\n",
       "      <td>loc_ic_t2f_mou_8</td>\n",
       "      <td>1.94</td>\n",
       "    </tr>\n",
       "    <tr>\n",
       "      <th>15</th>\n",
       "      <td>total_rech_num_8</td>\n",
       "      <td>1.84</td>\n",
       "    </tr>\n",
       "    <tr>\n",
       "      <th>16</th>\n",
       "      <td>last_day_rch_amt_8</td>\n",
       "      <td>1.53</td>\n",
       "    </tr>\n",
       "    <tr>\n",
       "      <th>17</th>\n",
       "      <td>max_rech_data_8</td>\n",
       "      <td>1.42</td>\n",
       "    </tr>\n",
       "    <tr>\n",
       "      <th>0</th>\n",
       "      <td>arpu_7</td>\n",
       "      <td>1.32</td>\n",
       "    </tr>\n",
       "    <tr>\n",
       "      <th>14</th>\n",
       "      <td>spl_ic_mou_8</td>\n",
       "      <td>1.07</td>\n",
       "    </tr>\n",
       "  </tbody>\n",
       "</table>\n",
       "</div>"
      ],
      "text/plain": [
       "              Features    VIF\n",
       "6         std_og_mou_8  64.21\n",
       "3         loc_og_mou_8  57.84\n",
       "11        loc_ic_mou_8  54.43\n",
       "7       total_og_mou_8  42.13\n",
       "9     loc_ic_t2m_mou_8  23.76\n",
       "2     loc_og_t2m_mou_8  22.72\n",
       "13      total_ic_mou_8  19.19\n",
       "18     count_rech_2g_7  13.97\n",
       "19         sachet_2g_7  13.62\n",
       "4     std_og_t2t_mou_8  13.19\n",
       "5     std_og_t2m_mou_8  12.61\n",
       "1     loc_og_t2t_mou_8  10.25\n",
       "8     loc_ic_t2t_mou_8   7.99\n",
       "12        std_ic_mou_8   3.01\n",
       "10    loc_ic_t2f_mou_8   1.94\n",
       "15    total_rech_num_8   1.84\n",
       "16  last_day_rch_amt_8   1.53\n",
       "17     max_rech_data_8   1.42\n",
       "0               arpu_7   1.32\n",
       "14        spl_ic_mou_8   1.07"
      ]
     },
     "execution_count": 105,
     "metadata": {},
     "output_type": "execute_result"
    }
   ],
   "source": [
    "# Create a dataframe that will contain the names of all the feature variables and their respective VIFs\n",
    "vif = pd.DataFrame()\n",
    "vif['Features'] = X_train[col].columns\n",
    "vif['VIF'] = [variance_inflation_factor(X_train[col].values, i) for i in range(X_train[col].shape[1])]\n",
    "vif['VIF'] = round(vif['VIF'], 2)\n",
    "vif = vif.sort_values(by = \"VIF\", ascending = False)\n",
    "vif"
   ]
  },
  {
   "cell_type": "code",
   "execution_count": 106,
   "metadata": {},
   "outputs": [
    {
     "data": {
      "text/plain": [
       "29172    0.094557\n",
       "9013     0.063160\n",
       "8741     0.081252\n",
       "30680    0.948372\n",
       "43716    0.734511\n",
       "17901    0.698748\n",
       "52619    0.541255\n",
       "dtype: float64"
      ]
     },
     "execution_count": 106,
     "metadata": {},
     "output_type": "execute_result"
    }
   ],
   "source": [
    "# Getting the predicted probabilities\n",
    "y_train_pred = model4.predict(X_train_sm)\n",
    "y_train_pred[:7]"
   ]
  },
  {
   "cell_type": "code",
   "execution_count": 107,
   "metadata": {},
   "outputs": [
    {
     "data": {
      "text/plain": [
       "array([0.09455664, 0.06315962, 0.08125246, 0.94837161, 0.73451085,\n",
       "       0.69874803, 0.54125487, 0.22597399, 0.01605662, 0.90588884])"
      ]
     },
     "execution_count": 107,
     "metadata": {},
     "output_type": "execute_result"
    }
   ],
   "source": [
    "y_train_pred = y_train_pred.values.reshape(-1)\n",
    "y_train_pred[:10]"
   ]
  },
  {
   "cell_type": "markdown",
   "metadata": {},
   "source": [
    "##### Creating a dataframe with the actual churn flag and the predicted probabilities"
   ]
  },
  {
   "cell_type": "code",
   "execution_count": 108,
   "metadata": {},
   "outputs": [
    {
     "data": {
      "text/html": [
       "<div>\n",
       "<style scoped>\n",
       "    .dataframe tbody tr th:only-of-type {\n",
       "        vertical-align: middle;\n",
       "    }\n",
       "\n",
       "    .dataframe tbody tr th {\n",
       "        vertical-align: top;\n",
       "    }\n",
       "\n",
       "    .dataframe thead th {\n",
       "        text-align: right;\n",
       "    }\n",
       "</style>\n",
       "<table border=\"1\" class=\"dataframe\">\n",
       "  <thead>\n",
       "    <tr style=\"text-align: right;\">\n",
       "      <th></th>\n",
       "      <th>Churn</th>\n",
       "      <th>Churn_Prob</th>\n",
       "      <th>ID</th>\n",
       "    </tr>\n",
       "  </thead>\n",
       "  <tbody>\n",
       "    <tr>\n",
       "      <th>0</th>\n",
       "      <td>0</td>\n",
       "      <td>0.094557</td>\n",
       "      <td>0</td>\n",
       "    </tr>\n",
       "    <tr>\n",
       "      <th>1</th>\n",
       "      <td>0</td>\n",
       "      <td>0.063160</td>\n",
       "      <td>0</td>\n",
       "    </tr>\n",
       "    <tr>\n",
       "      <th>2</th>\n",
       "      <td>0</td>\n",
       "      <td>0.081252</td>\n",
       "      <td>0</td>\n",
       "    </tr>\n",
       "    <tr>\n",
       "      <th>3</th>\n",
       "      <td>1</td>\n",
       "      <td>0.948372</td>\n",
       "      <td>1</td>\n",
       "    </tr>\n",
       "    <tr>\n",
       "      <th>4</th>\n",
       "      <td>1</td>\n",
       "      <td>0.734511</td>\n",
       "      <td>1</td>\n",
       "    </tr>\n",
       "  </tbody>\n",
       "</table>\n",
       "</div>"
      ],
      "text/plain": [
       "   Churn  Churn_Prob  ID\n",
       "0      0    0.094557   0\n",
       "1      0    0.063160   0\n",
       "2      0    0.081252   0\n",
       "3      1    0.948372   1\n",
       "4      1    0.734511   1"
      ]
     },
     "execution_count": 108,
     "metadata": {},
     "output_type": "execute_result"
    }
   ],
   "source": [
    "y_train_pred_final = pd.DataFrame({'Churn':y_train, 'Churn_Prob':y_train_pred})\n",
    "y_train_pred_final['ID'] = y_train\n",
    "y_train_pred_final.head()"
   ]
  },
  {
   "cell_type": "markdown",
   "metadata": {},
   "source": [
    "##### Creating new column 'predicted' with 1 if Churn_Prob > 0.5 else 0"
   ]
  },
  {
   "cell_type": "code",
   "execution_count": 109,
   "metadata": {},
   "outputs": [
    {
     "data": {
      "text/html": [
       "<div>\n",
       "<style scoped>\n",
       "    .dataframe tbody tr th:only-of-type {\n",
       "        vertical-align: middle;\n",
       "    }\n",
       "\n",
       "    .dataframe tbody tr th {\n",
       "        vertical-align: top;\n",
       "    }\n",
       "\n",
       "    .dataframe thead th {\n",
       "        text-align: right;\n",
       "    }\n",
       "</style>\n",
       "<table border=\"1\" class=\"dataframe\">\n",
       "  <thead>\n",
       "    <tr style=\"text-align: right;\">\n",
       "      <th></th>\n",
       "      <th>Churn</th>\n",
       "      <th>Churn_Prob</th>\n",
       "      <th>ID</th>\n",
       "      <th>predicted</th>\n",
       "    </tr>\n",
       "  </thead>\n",
       "  <tbody>\n",
       "    <tr>\n",
       "      <th>0</th>\n",
       "      <td>0</td>\n",
       "      <td>0.094557</td>\n",
       "      <td>0</td>\n",
       "      <td>0</td>\n",
       "    </tr>\n",
       "    <tr>\n",
       "      <th>1</th>\n",
       "      <td>0</td>\n",
       "      <td>0.063160</td>\n",
       "      <td>0</td>\n",
       "      <td>0</td>\n",
       "    </tr>\n",
       "    <tr>\n",
       "      <th>2</th>\n",
       "      <td>0</td>\n",
       "      <td>0.081252</td>\n",
       "      <td>0</td>\n",
       "      <td>0</td>\n",
       "    </tr>\n",
       "    <tr>\n",
       "      <th>3</th>\n",
       "      <td>1</td>\n",
       "      <td>0.948372</td>\n",
       "      <td>1</td>\n",
       "      <td>1</td>\n",
       "    </tr>\n",
       "    <tr>\n",
       "      <th>4</th>\n",
       "      <td>1</td>\n",
       "      <td>0.734511</td>\n",
       "      <td>1</td>\n",
       "      <td>1</td>\n",
       "    </tr>\n",
       "  </tbody>\n",
       "</table>\n",
       "</div>"
      ],
      "text/plain": [
       "   Churn  Churn_Prob  ID  predicted\n",
       "0      0    0.094557   0          0\n",
       "1      0    0.063160   0          0\n",
       "2      0    0.081252   0          0\n",
       "3      1    0.948372   1          1\n",
       "4      1    0.734511   1          1"
      ]
     },
     "execution_count": 109,
     "metadata": {},
     "output_type": "execute_result"
    }
   ],
   "source": [
    "y_train_pred_final['predicted'] = y_train_pred_final.Churn_Prob.map(lambda x: 1 if x > 0.5 else 0)\n",
    "\n",
    "# Let's see the head\n",
    "y_train_pred_final.head()"
   ]
  },
  {
   "cell_type": "code",
   "execution_count": 110,
   "metadata": {},
   "outputs": [],
   "source": [
    "from sklearn import metrics"
   ]
  },
  {
   "cell_type": "code",
   "execution_count": 111,
   "metadata": {},
   "outputs": [
    {
     "name": "stdout",
     "output_type": "stream",
     "text": [
      "[[15952  3214]\n",
      " [ 2865 16369]]\n"
     ]
    }
   ],
   "source": [
    "# Confusion matrix \n",
    "confusion = metrics.confusion_matrix(y_train_pred_final.Churn, y_train_pred_final.predicted )\n",
    "print(confusion)"
   ]
  },
  {
   "cell_type": "code",
   "execution_count": 112,
   "metadata": {},
   "outputs": [
    {
     "name": "stdout",
     "output_type": "stream",
     "text": [
      "Accuracy: 0.8416927083333333\n"
     ]
    }
   ],
   "source": [
    "# overall accuracy.\n",
    "accuracy_log = metrics.accuracy_score(y_train_pred_final.Churn, y_train_pred_final.predicted)\n",
    "print(\"Accuracy: {}\".format(accuracy_log))"
   ]
  },
  {
   "cell_type": "code",
   "execution_count": 113,
   "metadata": {},
   "outputs": [],
   "source": [
    "TP = confusion[1,1] # true positive \n",
    "TN = confusion[0,0] # true negatives\n",
    "FP = confusion[0,1] # false positives\n",
    "FN = confusion[1,0] # false negatives"
   ]
  },
  {
   "cell_type": "code",
   "execution_count": 114,
   "metadata": {},
   "outputs": [
    {
     "data": {
      "text/plain": [
       "0.8510450244358948"
      ]
     },
     "execution_count": 114,
     "metadata": {},
     "output_type": "execute_result"
    }
   ],
   "source": [
    "# sensitivity\n",
    "TP / float(TP+FN)"
   ]
  },
  {
   "cell_type": "code",
   "execution_count": 115,
   "metadata": {},
   "outputs": [
    {
     "data": {
      "text/plain": [
       "0.8323072106855891"
      ]
     },
     "execution_count": 115,
     "metadata": {},
     "output_type": "execute_result"
    }
   ],
   "source": [
    "# specificity\n",
    "TN / float(TN+FP)"
   ]
  },
  {
   "cell_type": "markdown",
   "metadata": {},
   "source": [
    "### ROC Curve Plotting"
   ]
  },
  {
   "cell_type": "code",
   "execution_count": 116,
   "metadata": {},
   "outputs": [],
   "source": [
    "def draw_roc( actual, probs ):\n",
    "    fpr, tpr, thresholds = metrics.roc_curve( actual, probs,\n",
    "                                              drop_intermediate = False )\n",
    "    auc_score = metrics.roc_auc_score( actual, probs )\n",
    "    plt.figure(figsize=(5, 5))\n",
    "    plt.plot( fpr, tpr, label='ROC curve (area = %0.2f)' % auc_score )\n",
    "    plt.plot([0, 1], [0, 1], 'k--')\n",
    "    plt.xlim([0.0, 1.0])\n",
    "    plt.ylim([0.0, 1.05])\n",
    "    plt.xlabel('False Positive Rate or [1 - True Negative Rate]')\n",
    "    plt.ylabel('True Positive Rate')\n",
    "    plt.title('Receiver operating characteristic example')\n",
    "    plt.legend(loc=\"lower right\")\n",
    "    plt.show()\n",
    "\n",
    "    return None"
   ]
  },
  {
   "cell_type": "code",
   "execution_count": 117,
   "metadata": {},
   "outputs": [],
   "source": [
    "fpr, tpr, thresholds = metrics.roc_curve( y_train_pred_final.Churn, y_train_pred_final.Churn_Prob, drop_intermediate = False )"
   ]
  },
  {
   "cell_type": "code",
   "execution_count": 118,
   "metadata": {},
   "outputs": [
    {
     "data": {
      "image/png": "[encoded data removed]",
      "text/plain": [
       "<Figure size 360x360 with 1 Axes>"
      ]
     },
     "metadata": {
      "needs_background": "light"
     },
     "output_type": "display_data"
    }
   ],
   "source": [
    "draw_roc(y_train_pred_final.Churn, y_train_pred_final.Churn_Prob)"
   ]
  },
  {
   "cell_type": "markdown",
   "metadata": {},
   "source": [
    "### Finding the Optimal cutoff point for the churn value"
   ]
  },
  {
   "cell_type": "code",
   "execution_count": 119,
   "metadata": {},
   "outputs": [
    {
     "data": {
      "text/html": [
       "<div>\n",
       "<style scoped>\n",
       "    .dataframe tbody tr th:only-of-type {\n",
       "        vertical-align: middle;\n",
       "    }\n",
       "\n",
       "    .dataframe tbody tr th {\n",
       "        vertical-align: top;\n",
       "    }\n",
       "\n",
       "    .dataframe thead th {\n",
       "        text-align: right;\n",
       "    }\n",
       "</style>\n",
       "<table border=\"1\" class=\"dataframe\">\n",
       "  <thead>\n",
       "    <tr style=\"text-align: right;\">\n",
       "      <th></th>\n",
       "      <th>Churn</th>\n",
       "      <th>Churn_Prob</th>\n",
       "      <th>ID</th>\n",
       "      <th>predicted</th>\n",
       "      <th>0.0</th>\n",
       "      <th>0.1</th>\n",
       "      <th>0.2</th>\n",
       "      <th>0.3</th>\n",
       "      <th>0.4</th>\n",
       "      <th>0.5</th>\n",
       "      <th>0.6</th>\n",
       "      <th>0.7</th>\n",
       "      <th>0.8</th>\n",
       "      <th>0.9</th>\n",
       "    </tr>\n",
       "  </thead>\n",
       "  <tbody>\n",
       "    <tr>\n",
       "      <th>0</th>\n",
       "      <td>0</td>\n",
       "      <td>0.094557</td>\n",
       "      <td>0</td>\n",
       "      <td>0</td>\n",
       "      <td>1</td>\n",
       "      <td>0</td>\n",
       "      <td>0</td>\n",
       "      <td>0</td>\n",
       "      <td>0</td>\n",
       "      <td>0</td>\n",
       "      <td>0</td>\n",
       "      <td>0</td>\n",
       "      <td>0</td>\n",
       "      <td>0</td>\n",
       "    </tr>\n",
       "    <tr>\n",
       "      <th>1</th>\n",
       "      <td>0</td>\n",
       "      <td>0.063160</td>\n",
       "      <td>0</td>\n",
       "      <td>0</td>\n",
       "      <td>1</td>\n",
       "      <td>0</td>\n",
       "      <td>0</td>\n",
       "      <td>0</td>\n",
       "      <td>0</td>\n",
       "      <td>0</td>\n",
       "      <td>0</td>\n",
       "      <td>0</td>\n",
       "      <td>0</td>\n",
       "      <td>0</td>\n",
       "    </tr>\n",
       "    <tr>\n",
       "      <th>2</th>\n",
       "      <td>0</td>\n",
       "      <td>0.081252</td>\n",
       "      <td>0</td>\n",
       "      <td>0</td>\n",
       "      <td>1</td>\n",
       "      <td>0</td>\n",
       "      <td>0</td>\n",
       "      <td>0</td>\n",
       "      <td>0</td>\n",
       "      <td>0</td>\n",
       "      <td>0</td>\n",
       "      <td>0</td>\n",
       "      <td>0</td>\n",
       "      <td>0</td>\n",
       "    </tr>\n",
       "    <tr>\n",
       "      <th>3</th>\n",
       "      <td>1</td>\n",
       "      <td>0.948372</td>\n",
       "      <td>1</td>\n",
       "      <td>1</td>\n",
       "      <td>1</td>\n",
       "      <td>1</td>\n",
       "      <td>1</td>\n",
       "      <td>1</td>\n",
       "      <td>1</td>\n",
       "      <td>1</td>\n",
       "      <td>1</td>\n",
       "      <td>1</td>\n",
       "      <td>1</td>\n",
       "      <td>1</td>\n",
       "    </tr>\n",
       "    <tr>\n",
       "      <th>4</th>\n",
       "      <td>1</td>\n",
       "      <td>0.734511</td>\n",
       "      <td>1</td>\n",
       "      <td>1</td>\n",
       "      <td>1</td>\n",
       "      <td>1</td>\n",
       "      <td>1</td>\n",
       "      <td>1</td>\n",
       "      <td>1</td>\n",
       "      <td>1</td>\n",
       "      <td>1</td>\n",
       "      <td>1</td>\n",
       "      <td>0</td>\n",
       "      <td>0</td>\n",
       "    </tr>\n",
       "  </tbody>\n",
       "</table>\n",
       "</div>"
      ],
      "text/plain": [
       "   Churn  Churn_Prob  ID  predicted  0.0  0.1  0.2  0.3  0.4  0.5  0.6  0.7  \\\n",
       "0      0    0.094557   0          0    1    0    0    0    0    0    0    0   \n",
       "1      0    0.063160   0          0    1    0    0    0    0    0    0    0   \n",
       "2      0    0.081252   0          0    1    0    0    0    0    0    0    0   \n",
       "3      1    0.948372   1          1    1    1    1    1    1    1    1    1   \n",
       "4      1    0.734511   1          1    1    1    1    1    1    1    1    1   \n",
       "\n",
       "   0.8  0.9  \n",
       "0    0    0  \n",
       "1    0    0  \n",
       "2    0    0  \n",
       "3    1    1  \n",
       "4    0    0  "
      ]
     },
     "execution_count": 119,
     "metadata": {},
     "output_type": "execute_result"
    }
   ],
   "source": [
    "numbers = [float(x)/10 for x in range(10)]\n",
    "for i in numbers:\n",
    "    y_train_pred_final[i]= y_train_pred_final.Churn_Prob.map(lambda x: 1 if x > i else 0)\n",
    "y_train_pred_final.head()"
   ]
  },
  {
   "cell_type": "code",
   "execution_count": 120,
   "metadata": {},
   "outputs": [
    {
     "name": "stdout",
     "output_type": "stream",
     "text": [
      "     prob  accuracy     sensi     speci\n",
      "0.0   0.0  0.500885  1.000000  0.000000\n",
      "0.1   0.1  0.703255  0.974680  0.430867\n",
      "0.2   0.2  0.766927  0.948061  0.585151\n",
      "0.3   0.3  0.805130  0.919154  0.690702\n",
      "0.4   0.4  0.829271  0.888323  0.770009\n",
      "0.5   0.5  0.841693  0.851045  0.832307\n",
      "0.6   0.6  0.843516  0.806229  0.880935\n",
      "0.7   0.7  0.832109  0.744255  0.920275\n",
      "0.8   0.8  0.797682  0.643340  0.952572\n",
      "0.9   0.9  0.681797  0.382500  0.982156\n"
     ]
    }
   ],
   "source": [
    "cutoff_df = pd.DataFrame( columns = ['prob','accuracy','sensi','speci'])\n",
    "from sklearn.metrics import confusion_matrix\n",
    "\n",
    "# TP = confusion[1,1] # true positive \n",
    "# TN = confusion[0,0] # true negatives\n",
    "# FP = confusion[0,1] # false positives\n",
    "# FN = confusion[1,0] # false negatives\n",
    "\n",
    "num = [0.0,0.1,0.2,0.3,0.4,0.5,0.6,0.7,0.8,0.9]\n",
    "for i in num:\n",
    "    cm1 = metrics.confusion_matrix(y_train_pred_final.Churn, y_train_pred_final[i] )\n",
    "    total1=sum(sum(cm1))\n",
    "    accuracy = (cm1[0,0]+cm1[1,1])/total1\n",
    "    \n",
    "    speci = cm1[0,0]/(cm1[0,0]+cm1[0,1])\n",
    "    sensi = cm1[1,1]/(cm1[1,0]+cm1[1,1])\n",
    "    cutoff_df.loc[i] =[ i ,accuracy,sensi,speci]\n",
    "print(cutoff_df)"
   ]
  },
  {
   "cell_type": "code",
   "execution_count": 121,
   "metadata": {
    "scrolled": true
   },
   "outputs": [
    {
     "data": {
      "image/png": "[encoded data removed]",
      "text/plain": [
       "<Figure size 432x288 with 1 Axes>"
      ]
     },
     "metadata": {
      "needs_background": "light"
     },
     "output_type": "display_data"
    }
   ],
   "source": [
    "# Plottign the tradeoff graph between all the metrics\n",
    "cutoff_df.plot.line(x='prob', y=['accuracy','sensi','speci'])\n",
    "plt.show()"
   ]
  },
  {
   "cell_type": "markdown",
   "metadata": {},
   "source": [
    "- Seems like our threshold of 0.5 is fine for sensitivity and specificity"
   ]
  },
  {
   "cell_type": "markdown",
   "metadata": {},
   "source": [
    "### Precision & Recall calculations"
   ]
  },
  {
   "cell_type": "code",
   "execution_count": 122,
   "metadata": {
    "scrolled": true
   },
   "outputs": [
    {
     "data": {
      "text/plain": [
       "array([[15952,  3214],\n",
       "       [ 2865, 16369]], dtype=int64)"
      ]
     },
     "execution_count": 122,
     "metadata": {},
     "output_type": "execute_result"
    }
   ],
   "source": [
    "confusion = metrics.confusion_matrix(y_train_pred_final.Churn, y_train_pred_final.predicted )\n",
    "confusion"
   ]
  },
  {
   "cell_type": "markdown",
   "metadata": {},
   "source": [
    "#### Formula for Precision: TP/TP+FP"
   ]
  },
  {
   "cell_type": "code",
   "execution_count": 123,
   "metadata": {},
   "outputs": [
    {
     "name": "stdout",
     "output_type": "stream",
     "text": [
      "Precision: 0.835878057498851\n"
     ]
    }
   ],
   "source": [
    "precision = confusion[1,1]/(confusion[0,1]+confusion[1,1])\n",
    "print(\"Precision: {}\".format(precision))"
   ]
  },
  {
   "cell_type": "markdown",
   "metadata": {},
   "source": [
    "#### Formula for recall: TP/TP+FN"
   ]
  },
  {
   "cell_type": "code",
   "execution_count": 124,
   "metadata": {},
   "outputs": [
    {
     "name": "stdout",
     "output_type": "stream",
     "text": [
      "Recall: 0.8510450244358948\n"
     ]
    }
   ],
   "source": [
    "recall_log = confusion[1,1]/(confusion[1,0]+confusion[1,1])\n",
    "print(\"Recall: {}\".format(recall_log))"
   ]
  },
  {
   "cell_type": "markdown",
   "metadata": {},
   "source": [
    "#### F score calculation"
   ]
  },
  {
   "cell_type": "markdown",
   "metadata": {},
   "source": [
    "- (2 × precision × recall)/(precision + recall)"
   ]
  },
  {
   "cell_type": "code",
   "execution_count": 125,
   "metadata": {},
   "outputs": [
    {
     "name": "stdout",
     "output_type": "stream",
     "text": [
      "F Score: 0.8433933585800036\n"
     ]
    }
   ],
   "source": [
    "f_score = (2*precision*recall_log)/(precision+recall_log)\n",
    "print(\"F Score: {}\".format(f_score))"
   ]
  },
  {
   "cell_type": "markdown",
   "metadata": {},
   "source": [
    "#### Precision & Recall tradeoff graph plottin"
   ]
  },
  {
   "cell_type": "code",
   "execution_count": 126,
   "metadata": {},
   "outputs": [],
   "source": [
    "from sklearn.metrics import precision_recall_curve"
   ]
  },
  {
   "cell_type": "code",
   "execution_count": 127,
   "metadata": {},
   "outputs": [],
   "source": [
    "p, r, thresholds = precision_recall_curve(y_train_pred_final.Churn, y_train_pred_final.Churn_Prob)"
   ]
  },
  {
   "cell_type": "code",
   "execution_count": 128,
   "metadata": {},
   "outputs": [
    {
     "data": {
      "image/png": "[encoded data removed]",
      "text/plain": [
       "<Figure size 432x288 with 1 Axes>"
      ]
     },
     "metadata": {
      "needs_background": "light"
     },
     "output_type": "display_data"
    }
   ],
   "source": [
    "plt.plot(thresholds, p[:-1], \"g-\")\n",
    "plt.plot(thresholds, r[:-1], \"r-\")\n",
    "plt.show()"
   ]
  },
  {
   "cell_type": "markdown",
   "metadata": {},
   "source": [
    "- Looks like all our metrics i.e sensitivity, specificity, precision & recall performs good at 0.5 threshold"
   ]
  },
  {
   "cell_type": "markdown",
   "metadata": {},
   "source": [
    "#### Accuracy and Recall printed below"
   ]
  },
  {
   "cell_type": "code",
   "execution_count": 129,
   "metadata": {},
   "outputs": [
    {
     "name": "stdout",
     "output_type": "stream",
     "text": [
      "Accuracy: 0.8416927083333333\n"
     ]
    }
   ],
   "source": [
    "accuracy = metrics.accuracy_score(y_train_pred_final.Churn, y_train_pred_final.predicted) \n",
    "print(\"Accuracy: {}\".format(metrics.accuracy_score(y_train_pred_final.Churn, y_train_pred_final.predicted)))"
   ]
  },
  {
   "cell_type": "code",
   "execution_count": 130,
   "metadata": {},
   "outputs": [
    {
     "name": "stdout",
     "output_type": "stream",
     "text": [
      "Recall: 0.835878057498851\n"
     ]
    }
   ],
   "source": [
    "recall = confusion[1,1]/(confusion[0,1]+confusion[1,1]) \n",
    "print(\"Recall: {}\".format(confusion[1,1]/(confusion[0,1]+confusion[1,1])))"
   ]
  },
  {
   "cell_type": "code",
   "execution_count": 131,
   "metadata": {},
   "outputs": [
    {
     "data": {
      "text/html": [
       "<div>\n",
       "<style scoped>\n",
       "    .dataframe tbody tr th:only-of-type {\n",
       "        vertical-align: middle;\n",
       "    }\n",
       "\n",
       "    .dataframe tbody tr th {\n",
       "        vertical-align: top;\n",
       "    }\n",
       "\n",
       "    .dataframe thead th {\n",
       "        text-align: right;\n",
       "    }\n",
       "</style>\n",
       "<table border=\"1\" class=\"dataframe\">\n",
       "  <thead>\n",
       "    <tr style=\"text-align: right;\">\n",
       "      <th></th>\n",
       "      <th>Model</th>\n",
       "      <th>Accuracy</th>\n",
       "      <th>Recall</th>\n",
       "    </tr>\n",
       "  </thead>\n",
       "  <tbody>\n",
       "    <tr>\n",
       "      <th>1</th>\n",
       "      <td>Logistic Regression</td>\n",
       "      <td>84.200000</td>\n",
       "      <td>85.170000</td>\n",
       "    </tr>\n",
       "    <tr>\n",
       "      <th>2</th>\n",
       "      <td>Decision Tree</td>\n",
       "      <td>83.000000</td>\n",
       "      <td>87.000000</td>\n",
       "    </tr>\n",
       "    <tr>\n",
       "      <th>3</th>\n",
       "      <td>Random Forest</td>\n",
       "      <td>84.000000</td>\n",
       "      <td>83.000000</td>\n",
       "    </tr>\n",
       "    <tr>\n",
       "      <th>4</th>\n",
       "      <td>Logistic Regression Intrepretable</td>\n",
       "      <td>0.841693</td>\n",
       "      <td>0.835878</td>\n",
       "    </tr>\n",
       "  </tbody>\n",
       "</table>\n",
       "</div>"
      ],
      "text/plain": [
       "                               Model   Accuracy     Recall\n",
       "1                Logistic Regression  84.200000  85.170000\n",
       "2                      Decision Tree  83.000000  87.000000\n",
       "3                      Random Forest  84.000000  83.000000\n",
       "4  Logistic Regression Intrepretable   0.841693   0.835878"
      ]
     },
     "execution_count": 131,
     "metadata": {},
     "output_type": "execute_result"
    }
   ],
   "source": [
    "performance.loc[4] = ['Logistic Regression Intrepretable', accuracy, recall]\n",
    "performance"
   ]
  },
  {
   "cell_type": "code",
   "execution_count": null,
   "metadata": {},
   "outputs": [],
   "source": []
  }
 ],
 "metadata": {
  "kernelspec": {
   "display_name": "Python 3",
   "language": "python",
   "name": "python3"
  },
  "language_info": {
   "codemirror_mode": {
    "name": "ipython",
    "version": 3
   },
   "file_extension": ".py",
   "mimetype": "text/x-python",
   "name": "python",
   "nbconvert_exporter": "python",
   "pygments_lexer": "ipython3",
   "version": "3.6.5"
  }
 },
 "nbformat": 4,
 "nbformat_minor": 4
}
